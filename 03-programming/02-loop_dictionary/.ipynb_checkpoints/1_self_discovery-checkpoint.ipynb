{
 "cells": [
  {
   "cell_type": "markdown",
   "metadata": {},
   "source": [
    "## Practice problem\n",
    "The code below loads a dictionary with 2010 NHL season-team information. Specifically, the number of games played, Goals scored for and allowed, and the number of wins and losses. Use for-loops statements to append the following values to the dictionary:\n",
    "* Winning percentage: WP\n",
    "* Goals for squared: GF2, $GF2 = GoalsFor^2$\n",
    "* Goals allowed squared: GA2,  $GA2 = GoalsAllowed^2$\n",
    "* Expected winning percentage: EWP, where $$EWP = \\frac{GoalsFor^2}{GoalsFor^2 + GoalsAllowed^2}$$\n",
    "* Sort the dictionary items in terms of expected winning percentage in descending order"
   ]
  },
  {
   "cell_type": "code",
   "execution_count": 10,
   "metadata": {},
   "outputs": [],
   "source": [
    "import json\n",
    "with open('season_team_stats.json', 'r') as f:\n",
    "     teams_dict = json.load(f)\n",
    "        "
   ]
  }
 ],
 "metadata": {
  "kernelspec": {
   "display_name": "Python 3",
   "language": "python",
   "name": "python3"
  },
  "language_info": {
   "codemirror_mode": {
    "name": "ipython",
    "version": 3
   },
   "file_extension": ".py",
   "mimetype": "text/x-python",
   "name": "python",
   "nbconvert_exporter": "python",
   "pygments_lexer": "ipython3",
   "version": "3.6.3"
  }
 },
 "nbformat": 4,
 "nbformat_minor": 2
}
