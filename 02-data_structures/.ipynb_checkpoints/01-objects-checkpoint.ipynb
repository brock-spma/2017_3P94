{
 "cells": [
  {
   "cell_type": "markdown",
   "metadata": {
    "nbpresent": {
     "id": "34714d7a-26b0-4174-87cc-58bf1cd8a796"
    },
    "slideshow": {
     "slide_type": "slide"
    }
   },
   "source": [
    "### Python \n",
    "\n",
    "* general-purpose programming language\n",
    "  * Sets Python apart from “Domain Specific Languages” languages like R \n",
    "  * serve a specific purpose – like statistics – and work for a specific audience\n",
    "* easy for humans to read\n",
    "* minimize the amount of time required to write code\n"
   ]
  },
  {
   "cell_type": "markdown",
   "metadata": {
    "nbpresent": {
     "id": "522cd48f-b7ab-48df-ac53-316f5a9632ff"
    },
    "slideshow": {
     "slide_type": "slide"
    }
   },
   "source": [
    "### The Zen Of Python\n",
    "\n",
    "* a collection of 20 software principles that influences the design of Python Programming "
   ]
  },
  {
   "cell_type": "code",
   "execution_count": 25,
   "metadata": {
    "nbpresent": {
     "id": "7e85a470-711b-4905-ae17-d32e615585df"
    },
    "slideshow": {
     "slide_type": "slide"
    }
   },
   "outputs": [],
   "source": [
    "\n",
    "import this"
   ]
  },
  {
   "cell_type": "markdown",
   "metadata": {
    "nbpresent": {
     "id": "97a560d4-2518-45c6-906c-fd12b0b8ecee"
    },
    "slideshow": {
     "slide_type": "slide"
    }
   },
   "source": [
    "# Variables\n",
    "\n",
    "* A name that is used to denote something or a value is called a variable\n",
    "* Variables can be declared and values can be assigned to it as follows,"
   ]
  },
  {
   "cell_type": "code",
   "execution_count": 26,
   "metadata": {
    "collapsed": true,
    "nbpresent": {
     "id": "8e2ac08e-7bad-414d-b3e3-228fcdc58b22"
    },
    "slideshow": {
     "slide_type": "-"
    }
   },
   "outputs": [],
   "source": [
    "x = 2\n",
    "y = 5\n",
    "xy = 'Hey'"
   ]
  },
  {
   "cell_type": "code",
   "execution_count": 27,
   "metadata": {
    "nbpresent": {
     "id": "50e9225d-8f86-411e-9417-2f7dedafad8b"
    },
    "slideshow": {
     "slide_type": "slide"
    }
   },
   "outputs": [
    {
     "name": "stdout",
     "output_type": "stream",
     "text": [
      "7 Hey\n"
     ]
    }
   ],
   "source": [
    "print x+y, xy"
   ]
  },
  {
   "cell_type": "markdown",
   "metadata": {
    "nbpresent": {
     "id": "5d9bb1de-3a28-4465-9332-b9fbfa3fdfe0"
    },
    "slideshow": {
     "slide_type": "-"
    }
   },
   "source": [
    "Multiple variables can be assigned with the same value."
   ]
  },
  {
   "cell_type": "code",
   "execution_count": 28,
   "metadata": {
    "collapsed": true,
    "nbpresent": {
     "id": "e6b5bf45-9fa9-4aa1-9324-a43bbec73d12"
    },
    "slideshow": {
     "slide_type": "slide"
    }
   },
   "outputs": [],
   "source": [
    "x = y = 1"
   ]
  },
  {
   "cell_type": "code",
   "execution_count": 29,
   "metadata": {
    "nbpresent": {
     "id": "947c0da8-ca9f-4f38-a6d6-4c2aa9ab0b12"
    },
    "slideshow": {
     "slide_type": "-"
    }
   },
   "outputs": [
    {
     "name": "stdout",
     "output_type": "stream",
     "text": [
      "1 1\n"
     ]
    }
   ],
   "source": [
    "print x,y"
   ]
  },
  {
   "cell_type": "markdown",
   "metadata": {
    "nbpresent": {
     "id": "7dae534f-0cc6-4dc0-b1d6-ab814b196209"
    },
    "slideshow": {
     "slide_type": "slide"
    }
   },
   "source": [
    "# Arithmetic Operators\n",
    "\n",
    "| Symbol | Task Performed |\n",
    "|----|---|\n",
    "| +  | Addition |\n",
    "| -  | Subtraction |\n",
    "| /  | division |\n",
    "| %  | mod |\n",
    "| *  | multiplication |\n",
    "| //  | floor division |\n",
    "| **  | to the power of |"
   ]
  },
  {
   "cell_type": "code",
   "execution_count": 30,
   "metadata": {
    "nbpresent": {
     "id": "292f3903-d974-4ac8-9701-57f6b05e730e"
    },
    "slideshow": {
     "slide_type": "slide"
    }
   },
   "outputs": [
    {
     "data": {
      "text/plain": [
       "3"
      ]
     },
     "execution_count": 30,
     "metadata": {},
     "output_type": "execute_result"
    }
   ],
   "source": [
    "1+2"
   ]
  },
  {
   "cell_type": "code",
   "execution_count": 31,
   "metadata": {
    "nbpresent": {
     "id": "1c4a5994-0955-492a-b1ea-2e63607baa36"
    },
    "slideshow": {
     "slide_type": "subslide"
    }
   },
   "outputs": [
    {
     "data": {
      "text/plain": [
       "1"
      ]
     },
     "execution_count": 31,
     "metadata": {},
     "output_type": "execute_result"
    }
   ],
   "source": [
    "2-1"
   ]
  },
  {
   "cell_type": "code",
   "execution_count": 32,
   "metadata": {
    "nbpresent": {
     "id": "3a7edcb4-a0e3-4287-9434-48ea75f40b4c"
    },
    "slideshow": {
     "slide_type": "fragment"
    }
   },
   "outputs": [
    {
     "data": {
      "text/plain": [
       "2"
      ]
     },
     "execution_count": 32,
     "metadata": {},
     "output_type": "execute_result"
    }
   ],
   "source": [
    "1*2"
   ]
  },
  {
   "cell_type": "code",
   "execution_count": 33,
   "metadata": {
    "nbpresent": {
     "id": "2e8a8086-9961-43ad-ba92-ad89c692e08c"
    },
    "slideshow": {
     "slide_type": "subslide"
    }
   },
   "outputs": [
    {
     "data": {
      "text/plain": [
       "0"
      ]
     },
     "execution_count": 33,
     "metadata": {},
     "output_type": "execute_result"
    }
   ],
   "source": [
    "1/2"
   ]
  },
  {
   "cell_type": "markdown",
   "metadata": {
    "nbpresent": {
     "id": "91d5b292-5fc8-4177-aaad-806e2b7da431"
    },
    "slideshow": {
     "slide_type": "-"
    }
   },
   "source": [
    "0? This is because both the numerator and denominator are integers but the result is a float value hence an integer value is returned. By changing either the numerator or the denominator to float, correct answer can be obtained."
   ]
  },
  {
   "cell_type": "code",
   "execution_count": 34,
   "metadata": {
    "nbpresent": {
     "id": "02f3d01e-ff09-42cf-b147-e39d1db35e63"
    }
   },
   "outputs": [
    {
     "data": {
      "text/plain": [
       "0.5"
      ]
     },
     "execution_count": 34,
     "metadata": {},
     "output_type": "execute_result"
    }
   ],
   "source": [
    "1/2.0"
   ]
  },
  {
   "cell_type": "markdown",
   "metadata": {
    "nbpresent": {
     "id": "4d25b914-9d57-4a29-b66e-b7cf96c13c03"
    }
   },
   "source": [
    "Floor division is nothing but converting the result so obtained to the nearest integer."
   ]
  },
  {
   "cell_type": "code",
   "execution_count": 35,
   "metadata": {
    "nbpresent": {
     "id": "0eb3f6c9-08b4-432c-b66c-79069867bcde"
    }
   },
   "outputs": [
    {
     "data": {
      "text/plain": [
       "1.0"
      ]
     },
     "execution_count": 35,
     "metadata": {},
     "output_type": "execute_result"
    }
   ],
   "source": [
    "2.8//2.0"
   ]
  },
  {
   "cell_type": "markdown",
   "metadata": {
    "nbpresent": {
     "id": "16eb619f-2719-4fac-b023-6c534e069470"
    }
   },
   "source": [
    "## Relational Operators"
   ]
  },
  {
   "cell_type": "markdown",
   "metadata": {
    "nbpresent": {
     "id": "126c965a-02c5-491a-90b3-735e06f65848"
    }
   },
   "source": [
    "| Symbol | Task Performed |\n",
    "|----|---|\n",
    "| == | True, if it is equal |\n",
    "| !=  | True, if not equal to |\n",
    "| < | less than |\n",
    "| > | greater than |\n",
    "| <=  | less than or equal to |\n",
    "| >=  | greater than or equal to |"
   ]
  },
  {
   "cell_type": "code",
   "execution_count": 36,
   "metadata": {
    "collapsed": true,
    "nbpresent": {
     "id": "176d658f-b99a-4a3c-8d70-f736f8c09a93"
    }
   },
   "outputs": [],
   "source": [
    "z = 1"
   ]
  },
  {
   "cell_type": "code",
   "execution_count": 37,
   "metadata": {
    "nbpresent": {
     "id": "aa5cf227-ad34-4306-a20b-54cce90e65a7"
    }
   },
   "outputs": [
    {
     "data": {
      "text/plain": [
       "True"
      ]
     },
     "execution_count": 37,
     "metadata": {},
     "output_type": "execute_result"
    }
   ],
   "source": [
    "z == 1"
   ]
  },
  {
   "cell_type": "code",
   "execution_count": 38,
   "metadata": {
    "nbpresent": {
     "id": "3ec041ef-edf7-4d8e-a24e-2670fff120ba"
    }
   },
   "outputs": [
    {
     "data": {
      "text/plain": [
       "False"
      ]
     },
     "execution_count": 38,
     "metadata": {},
     "output_type": "execute_result"
    }
   ],
   "source": [
    "z > 1"
   ]
  },
  {
   "cell_type": "code",
   "execution_count": 39,
   "metadata": {
    "nbpresent": {
     "id": "56fe5a1f-58bb-40c4-8f42-ffdcda683dcd"
    }
   },
   "outputs": [
    {
     "data": {
      "text/plain": [
       "'010'"
      ]
     },
     "execution_count": 39,
     "metadata": {},
     "output_type": "execute_result"
    }
   ],
   "source": [
    "oct(8)"
   ]
  },
  {
   "cell_type": "markdown",
   "metadata": {
    "nbpresent": {
     "id": "008ea780-bbf8-4fa8-9c2e-381057f4f3a7"
    }
   },
   "source": [
    "# Other operators\n",
    "\n",
    "| Symbol | Task Performed |\n",
    "|----|---|\n",
    "| **int()** | converts object to integer|\n",
    "| **str()** | converts object to string |\n",
    "| **bin()** | converts object to binary |\n",
    "| **float()** | converts object to float or decimal|\n",
    "\n",
    "Other built-in fuctions: https://docs.python.org/2/library/functions.html"
   ]
  },
  {
   "cell_type": "code",
   "execution_count": 40,
   "metadata": {
    "nbpresent": {
     "id": "f8b9bf07-1a11-451a-9f3f-8de81878b5e6"
    }
   },
   "outputs": [
    {
     "name": "stdout",
     "output_type": "stream",
     "text": [
      "7\n",
      "7\n"
     ]
    }
   ],
   "source": [
    "print int(7.7)\n",
    "print int('7')"
   ]
  },
  {
   "cell_type": "markdown",
   "metadata": {
    "nbpresent": {
     "id": "2e3ae7b3-8f9a-4323-8101-9f5cee42a83c"
    }
   },
   "source": [
    "**round( )** function rounds the input value to a specified number of places or to the nearest integer. "
   ]
  },
  {
   "cell_type": "code",
   "execution_count": 41,
   "metadata": {
    "nbpresent": {
     "id": "67c1e17c-e08d-4cbb-ab4d-0e026a7eb652"
    },
    "scrolled": false
   },
   "outputs": [
    {
     "name": "stdout",
     "output_type": "stream",
     "text": [
      "6.0\n",
      "4.56\n"
     ]
    }
   ],
   "source": [
    "print round(5.6231) \n",
    "print round(4.55892, 2)"
   ]
  },
  {
   "cell_type": "markdown",
   "metadata": {
    "nbpresent": {
     "id": "f5fde16e-3836-4451-b209-210aa8b6564a"
    }
   },
   "source": [
    "**complex( )** is used to define a complex number and **abs( )** outputs the absolute value of the same."
   ]
  },
  {
   "cell_type": "markdown",
   "metadata": {
    "nbpresent": {
     "id": "0d15748a-ce69-487d-815e-274053b3038a"
    }
   },
   "source": [
    "**divmod(x,y)** outputs the quotient and the remainder in a tuple(you will be learning about it in the further chapters) in the format (quotient, remainder). "
   ]
  },
  {
   "cell_type": "code",
   "execution_count": 42,
   "metadata": {
    "nbpresent": {
     "id": "0fe45dae-82a7-41ff-8118-f7335fc73018"
    }
   },
   "outputs": [
    {
     "data": {
      "text/plain": [
       "(4, 1)"
      ]
     },
     "execution_count": 42,
     "metadata": {},
     "output_type": "execute_result"
    }
   ],
   "source": [
    "divmod(9,2)"
   ]
  },
  {
   "cell_type": "markdown",
   "metadata": {
    "nbpresent": {
     "id": "2daa6844-df30-4645-8c46-94c7a3b1e798"
    }
   },
   "source": [
    "**isinstance( )** returns True, if the first argument is an instance of that class. Multiple classes can also be checked at once."
   ]
  },
  {
   "cell_type": "code",
   "execution_count": 43,
   "metadata": {
    "nbpresent": {
     "id": "733d29f4-f2ef-4f69-b7a2-12f648e0e4c8"
    }
   },
   "outputs": [
    {
     "name": "stdout",
     "output_type": "stream",
     "text": [
      "True\n",
      "False\n",
      "True\n"
     ]
    }
   ],
   "source": [
    "print isinstance(1, int)\n",
    "print isinstance(1.0,int)\n",
    "print isinstance(1.0,(int,float))"
   ]
  },
  {
   "cell_type": "markdown",
   "metadata": {
    "nbpresent": {
     "id": "776eb236-5844-4206-b938-63fd9ea3d44d"
    }
   },
   "source": [
    "**cmp(x,y)**\n",
    "* Compare the two objects x and y and return an integer according to the outcome\n",
    "\n",
    "\n",
    "|x ? y|Output|\n",
    "|---|---|\n",
    "| x < y | -1 |\n",
    "| x == y | 0 |\n",
    "| x > y | 1 |"
   ]
  },
  {
   "cell_type": "code",
   "execution_count": 44,
   "metadata": {
    "nbpresent": {
     "id": "418644ca-2fbe-4970-9c8c-156032374947"
    }
   },
   "outputs": [
    {
     "name": "stdout",
     "output_type": "stream",
     "text": [
      "-1\n",
      "1\n",
      "0\n"
     ]
    }
   ],
   "source": [
    "print cmp(1,2)\n",
    "print cmp(2,1)\n",
    "print cmp(2,2)"
   ]
  },
  {
   "cell_type": "markdown",
   "metadata": {
    "nbpresent": {
     "id": "2f702393-a9dc-4a54-8487-3a380413e838"
    }
   },
   "source": [
    "**pow(x,y,z)** can be used to find the power $x^y$ also the mod of the resulting value with the third specified number can be found i.e. : ($x^y$ % z)."
   ]
  },
  {
   "cell_type": "code",
   "execution_count": 45,
   "metadata": {
    "nbpresent": {
     "id": "f4d4a8ed-c284-483a-a9e5-ae2f69f68faf"
    }
   },
   "outputs": [
    {
     "name": "stdout",
     "output_type": "stream",
     "text": [
      "27\n",
      "2\n"
     ]
    }
   ],
   "source": [
    "print pow(3,3)\n",
    "print pow(3,3,5)"
   ]
  },
  {
   "cell_type": "markdown",
   "metadata": {
    "nbpresent": {
     "id": "50b38b91-ec7a-4049-97bf-549d2911fe32"
    }
   },
   "source": [
    "**range( )** function outputs the integers of the specified range. It can also be used to generate a series by specifying the difference between the two numbers within a particular range. The elements are returned in a list (will be discussing in detail later.)"
   ]
  },
  {
   "cell_type": "code",
   "execution_count": 46,
   "metadata": {
    "nbpresent": {
     "id": "d798f12b-51db-472d-a7b7-627386e7588e"
    }
   },
   "outputs": [
    {
     "name": "stdout",
     "output_type": "stream",
     "text": [
      "[0, 1, 2]\n",
      "[2, 3, 4, 5, 6, 7, 8]\n",
      "[2, 10, 18, 26]\n"
     ]
    }
   ],
   "source": [
    "print range(3)\n",
    "print range(2,9)\n",
    "print range(2,27,8)"
   ]
  },
  {
   "cell_type": "markdown",
   "metadata": {
    "nbpresent": {
     "id": "17b36e4e-cd6c-4686-8d3e-3802c31a12a4"
    }
   },
   "source": [
    "## Accepting User Inputs"
   ]
  },
  {
   "cell_type": "markdown",
   "metadata": {
    "nbpresent": {
     "id": "3b3e48a6-405a-41d0-8e26-78a18b8acf70"
    }
   },
   "source": [
    "**raw_input( )** accepts input and stores it as a string. Hence, if the user inputs a integer, the code should convert the string to an integer and then proceed."
   ]
  },
  {
   "cell_type": "code",
   "execution_count": 47,
   "metadata": {
    "nbpresent": {
     "id": "3d27de11-43fa-44d6-b898-31447b9e151b"
    }
   },
   "outputs": [],
   "source": [
    "abc = raw_input(\"Type something here and it will be stored in variable abc \\t\")"
   ]
  },
  {
   "cell_type": "code",
   "execution_count": 48,
   "metadata": {
    "nbpresent": {
     "id": "2b1b6ee9-f1a1-49ea-93dd-4d85edb67a20"
    }
   },
   "outputs": [
    {
     "ename": "NameError",
     "evalue": "name 'abc' is not defined",
     "output_type": "error",
     "traceback": [
      "\u001b[1;31m---------------------------------------------------------------------------\u001b[0m",
      "\u001b[1;31mNameError\u001b[0m                                 Traceback (most recent call last)",
      "\u001b[1;32m<ipython-input-48-0bee89b07a24>\u001b[0m in \u001b[0;36m<module>\u001b[1;34m()\u001b[0m\n\u001b[1;32m----> 1\u001b[1;33m \u001b[0mabc\u001b[0m\u001b[1;33m\u001b[0m\u001b[0m\n\u001b[0m",
      "\u001b[1;31mNameError\u001b[0m: name 'abc' is not defined"
     ]
    }
   ],
   "source": [
    "abc"
   ]
  },
  {
   "cell_type": "code",
   "execution_count": null,
   "metadata": {
    "nbpresent": {
     "id": "9a0b561c-f81e-4dd0-a181-a61b50138874"
    }
   },
   "outputs": [],
   "source": [
    "type(abc)"
   ]
  },
  {
   "cell_type": "markdown",
   "metadata": {
    "nbpresent": {
     "id": "6c30d903-0c17-488c-a390-0f5fe36031f1"
    }
   },
   "source": [
    "**input( )**, this is used only for accepting only integer inputs."
   ]
  },
  {
   "cell_type": "code",
   "execution_count": null,
   "metadata": {
    "nbpresent": {
     "id": "c048cf09-858b-4abc-b156-4b13ea577d96"
    }
   },
   "outputs": [],
   "source": [
    "abc1 =  input(\"Only integer can be stored in variable abc \\t\")"
   ]
  },
  {
   "cell_type": "code",
   "execution_count": null,
   "metadata": {
    "nbpresent": {
     "id": "2d435019-6d9a-42a2-b3da-8e65cccabb73"
    }
   },
   "outputs": [],
   "source": [
    "abc1"
   ]
  },
  {
   "cell_type": "code",
   "execution_count": null,
   "metadata": {
    "nbpresent": {
     "id": "042a19df-07a0-4646-83a7-baa1f16c77dd"
    }
   },
   "outputs": [],
   "source": [
    "type(abc1)"
   ]
  },
  {
   "cell_type": "markdown",
   "metadata": {
    "nbpresent": {
     "id": "77648e2b-fdac-4330-ad5b-2d61c2854ffc"
    }
   },
   "source": [
    "Note that **type( )** returns the format or the type of a variable or a number"
   ]
  },
  {
   "cell_type": "code",
   "execution_count": null,
   "metadata": {
    "collapsed": true
   },
   "outputs": [],
   "source": []
  }
 ],
 "metadata": {
  "kernelspec": {
   "display_name": "Python [default]",
   "language": "python",
   "name": "python2"
  },
  "language_info": {
   "codemirror_mode": {
    "name": "ipython",
    "version": 2
   },
   "file_extension": ".py",
   "mimetype": "text/x-python",
   "name": "python",
   "nbconvert_exporter": "python",
   "pygments_lexer": "ipython2",
   "version": "2.7.14"
  },
  "nbpresent": {
   "slides": {
    "01310698-3d33-450e-8795-fc0830b45695": {
     "id": "01310698-3d33-450e-8795-fc0830b45695",
     "prev": "1b767ddf-3a20-428f-9fd6-44cb94554d99",
     "regions": {
      "8a0bb7da-22c8-4109-af0c-1f58cebc5cc3": {
       "attrs": {
        "height": 0.8,
        "width": 0.8,
        "x": 0.1,
        "y": 0.1
       },
       "content": {
        "cell": "3ec041ef-edf7-4d8e-a24e-2670fff120ba",
        "part": "whole"
       },
       "id": "8a0bb7da-22c8-4109-af0c-1f58cebc5cc3"
      }
     }
    },
    "03d6e3dd-0f39-435b-88f6-0323d43efb17": {
     "id": "03d6e3dd-0f39-435b-88f6-0323d43efb17",
     "prev": "cdbb28aa-aa23-4abf-b47c-d562221c9d13",
     "regions": {
      "2ef657af-a05a-4562-8b4d-567ee836f052": {
       "attrs": {
        "height": 0.8,
        "width": 0.8,
        "x": 0.1,
        "y": 0.1
       },
       "content": {
        "cell": "008ea780-bbf8-4fa8-9c2e-381057f4f3a7",
        "part": "whole"
       },
       "id": "2ef657af-a05a-4562-8b4d-567ee836f052"
      }
     }
    },
    "047b95bc-e55d-44ea-97d9-84ed9496c162": {
     "id": "047b95bc-e55d-44ea-97d9-84ed9496c162",
     "prev": "b03a5474-4ea7-4d5a-86cd-6f7161371bd4",
     "regions": {
      "2676fa2d-8dd4-4964-b8e4-ff2ddba8a616": {
       "attrs": {
        "height": 0.8,
        "width": 0.8,
        "x": 0.1,
        "y": 0.1
       },
       "content": {
        "cell": "3d27de11-43fa-44d6-b898-31447b9e151b",
        "part": "whole"
       },
       "id": "2676fa2d-8dd4-4964-b8e4-ff2ddba8a616"
      }
     }
    },
    "049cf31d-4625-419f-8404-8ec5ac63dcb8": {
     "id": "049cf31d-4625-419f-8404-8ec5ac63dcb8",
     "prev": "082a0bc9-dc5d-4fd7-89b1-37962b168700",
     "regions": {
      "778c4a91-369a-4a34-8629-2339d05fd8d1": {
       "attrs": {
        "height": 0.8,
        "width": 0.8,
        "x": 0.1,
        "y": 0.1
       },
       "content": {
        "cell": "7dae534f-0cc6-4dc0-b1d6-ab814b196209",
        "part": "whole"
       },
       "id": "778c4a91-369a-4a34-8629-2339d05fd8d1"
      }
     }
    },
    "082a0bc9-dc5d-4fd7-89b1-37962b168700": {
     "id": "082a0bc9-dc5d-4fd7-89b1-37962b168700",
     "prev": "d0b59ea3-127e-426d-b355-f2b18755398f",
     "regions": {
      "16668a53-707d-43fa-9a9f-b086c08f9571": {
       "attrs": {
        "height": 0.8,
        "width": 0.8,
        "x": 0.1,
        "y": 0.1
       },
       "content": {
        "cell": "586b8eca-8826-44c6-b1c9-eba8c083ac96",
        "part": "whole"
       },
       "id": "16668a53-707d-43fa-9a9f-b086c08f9571"
      }
     }
    },
    "0de6108e-a64d-4fd2-a834-e0edd91728de": {
     "id": "0de6108e-a64d-4fd2-a834-e0edd91728de",
     "prev": "d7c24517-b41f-46a5-b941-5e02c3cd4910",
     "regions": {
      "6718bb4e-37db-47ed-86c4-523c8a79df22": {
       "attrs": {
        "height": 0.8,
        "width": 0.8,
        "x": 0.1,
        "y": 0.1
       },
       "content": {
        "cell": "9a0b561c-f81e-4dd0-a181-a61b50138874",
        "part": "whole"
       },
       "id": "6718bb4e-37db-47ed-86c4-523c8a79df22"
      }
     }
    },
    "12887eac-71fb-43fc-b17f-fa8b202a3e23": {
     "id": "12887eac-71fb-43fc-b17f-fa8b202a3e23",
     "prev": "ea8251da-4900-46aa-8c5e-8dcd5331dff3",
     "regions": {
      "b3948189-64a7-407e-9e36-883b71830dbc": {
       "attrs": {
        "height": 0.8,
        "width": 0.8,
        "x": 0.1,
        "y": 0.1
       },
       "content": {
        "cell": "17b36e4e-cd6c-4686-8d3e-3802c31a12a4",
        "part": "whole"
       },
       "id": "b3948189-64a7-407e-9e36-883b71830dbc"
      }
     }
    },
    "19af0ef9-6747-45f3-9682-a2f4dcdfff5d": {
     "id": "19af0ef9-6747-45f3-9682-a2f4dcdfff5d",
     "prev": "03d6e3dd-0f39-435b-88f6-0323d43efb17",
     "regions": {
      "7d19a054-5571-4885-baf8-500df7e02130": {
       "attrs": {
        "height": 0.8,
        "width": 0.8,
        "x": 0.1,
        "y": 0.1
       },
       "content": {
        "cell": "f8b9bf07-1a11-451a-9f3f-8de81878b5e6",
        "part": "whole"
       },
       "id": "7d19a054-5571-4885-baf8-500df7e02130"
      }
     }
    },
    "1b767ddf-3a20-428f-9fd6-44cb94554d99": {
     "id": "1b767ddf-3a20-428f-9fd6-44cb94554d99",
     "prev": "24cbcac2-7539-4afb-b53a-023467130666",
     "regions": {
      "b3bd571f-ae80-4378-848b-a1379ba2f544": {
       "attrs": {
        "height": 0.8,
        "width": 0.8,
        "x": 0.1,
        "y": 0.1
       },
       "content": {
        "cell": "aa5cf227-ad34-4306-a20b-54cce90e65a7",
        "part": "whole"
       },
       "id": "b3bd571f-ae80-4378-848b-a1379ba2f544"
      }
     }
    },
    "24cbcac2-7539-4afb-b53a-023467130666": {
     "id": "24cbcac2-7539-4afb-b53a-023467130666",
     "prev": "4c0df52d-a756-469f-b9b5-77724d2efffb",
     "regions": {
      "a1d9054d-654f-40f8-bb75-d969b1533917": {
       "attrs": {
        "height": 0.8,
        "width": 0.8,
        "x": 0.1,
        "y": 0.1
       },
       "content": {
        "cell": "176d658f-b99a-4a3c-8d70-f736f8c09a93",
        "part": "whole"
       },
       "id": "a1d9054d-654f-40f8-bb75-d969b1533917"
      }
     }
    },
    "32ffb79c-f900-45e3-b457-4be7747c1265": {
     "id": "32ffb79c-f900-45e3-b457-4be7747c1265",
     "prev": "d79fdacf-33d3-4c6f-bdad-25b3538669ea",
     "regions": {
      "6721a780-002f-4dce-9dde-323312bad46b": {
       "attrs": {
        "height": 0.8,
        "width": 0.8,
        "x": 0.1,
        "y": 0.1
       },
       "content": {
        "cell": "7e85a470-711b-4905-ae17-d32e615585df",
        "part": "whole"
       },
       "id": "6721a780-002f-4dce-9dde-323312bad46b"
      }
     }
    },
    "41f10a2a-1b71-4c8e-a86d-79ed7c5e8504": {
     "id": "41f10a2a-1b71-4c8e-a86d-79ed7c5e8504",
     "prev": "87e600f1-6f15-4ab9-a2d2-5a2ca8ee2cda",
     "regions": {
      "b4f7fbeb-2625-440b-bbaf-92749ff8153d": {
       "attrs": {
        "height": 0.8,
        "width": 0.8,
        "x": 0.1,
        "y": 0.1
       },
       "content": {
        "cell": "8e2ac08e-7bad-414d-b3e3-228fcdc58b22",
        "part": "whole"
       },
       "id": "b4f7fbeb-2625-440b-bbaf-92749ff8153d"
      }
     }
    },
    "4c0df52d-a756-469f-b9b5-77724d2efffb": {
     "id": "4c0df52d-a756-469f-b9b5-77724d2efffb",
     "prev": "4d5ae972-7cb4-4b3b-8d24-f2cd73d368b9",
     "regions": {
      "5fa4bae6-b9db-4d2a-a07f-8da7cfb7cdca": {
       "attrs": {
        "height": 0.8,
        "width": 0.8,
        "x": 0.1,
        "y": 0.1
       },
       "content": {
        "cell": "126c965a-02c5-491a-90b3-735e06f65848",
        "part": "whole"
       },
       "id": "5fa4bae6-b9db-4d2a-a07f-8da7cfb7cdca"
      }
     }
    },
    "4cfc2011-f328-435d-bc6f-1ed38fc1b03c": {
     "id": "4cfc2011-f328-435d-bc6f-1ed38fc1b03c",
     "prev": "95ebc3d7-3002-4593-90d6-8bd6dad246a4",
     "regions": {
      "f2ca140f-cef9-4542-9b03-ee1d0c7a067e": {
       "attrs": {
        "height": 0.8,
        "width": 0.8,
        "x": 0.1,
        "y": 0.1
       },
       "content": {
        "cell": "4d25b914-9d57-4a29-b66e-b7cf96c13c03",
        "part": "whole"
       },
       "id": "f2ca140f-cef9-4542-9b03-ee1d0c7a067e"
      }
     }
    },
    "4d5ae972-7cb4-4b3b-8d24-f2cd73d368b9": {
     "id": "4d5ae972-7cb4-4b3b-8d24-f2cd73d368b9",
     "prev": "90a42bb0-846d-4774-91dc-b13eab2fa516",
     "regions": {
      "412f6e6f-a3b4-47a3-872e-b6e7242d050b": {
       "attrs": {
        "height": 0.8,
        "width": 0.8,
        "x": 0.1,
        "y": 0.1
       },
       "content": {
        "cell": "16eb619f-2719-4fac-b023-6c534e069470",
        "part": "whole"
       },
       "id": "412f6e6f-a3b4-47a3-872e-b6e7242d050b"
      }
     }
    },
    "54bcf7f5-cd89-4951-9cb2-85aadc21f46a": {
     "id": "54bcf7f5-cd89-4951-9cb2-85aadc21f46a",
     "prev": "b22d8622-cb4c-4fb8-9b06-af004b80ad23",
     "regions": {
      "2daa0b0e-ae0a-4d8f-b388-d413b00f5676": {
       "attrs": {
        "height": 0.8,
        "width": 0.8,
        "x": 0.1,
        "y": 0.1
       },
       "content": {
        "cell": "0fe45dae-82a7-41ff-8118-f7335fc73018",
        "part": "whole"
       },
       "id": "2daa0b0e-ae0a-4d8f-b388-d413b00f5676"
      }
     }
    },
    "5609d785-6a70-4a31-8d2a-46fd31cf2d85": {
     "id": "5609d785-6a70-4a31-8d2a-46fd31cf2d85",
     "prev": "a3f02cc6-ee60-41a1-a7f0-1e7427228d49",
     "regions": {
      "d5eefc83-b68a-41ae-9486-3712a125fd39": {
       "attrs": {
        "height": 0.8,
        "width": 0.8,
        "x": 0.1,
        "y": 0.1
       },
       "content": {
        "cell": "1c4a5994-0955-492a-b1ea-2e63607baa36",
        "part": "whole"
       },
       "id": "d5eefc83-b68a-41ae-9486-3712a125fd39"
      }
     }
    },
    "65abdae9-4e79-405f-9f94-faaf4ea58704": {
     "id": "65abdae9-4e79-405f-9f94-faaf4ea58704",
     "prev": "bec0fbc1-5db2-46a0-9f21-139924a6abc9",
     "regions": {
      "3fab7319-2db5-4ce8-ad5b-900bf3feb619": {
       "attrs": {
        "height": 0.8,
        "width": 0.8,
        "x": 0.1,
        "y": 0.1
       },
       "content": {
        "cell": "042a19df-07a0-4646-83a7-baa1f16c77dd",
        "part": "whole"
       },
       "id": "3fab7319-2db5-4ce8-ad5b-900bf3feb619"
      }
     }
    },
    "6693710f-d736-4411-92ee-8cd938001010": {
     "id": "6693710f-d736-4411-92ee-8cd938001010",
     "prev": "cdf0ddb4-9121-4478-a069-3b0a4db68dbe",
     "regions": {
      "a5e68b35-6ce0-47f7-bc87-e396f39b4822": {
       "attrs": {
        "height": 0.8,
        "width": 0.8,
        "x": 0.1,
        "y": 0.1
       },
       "content": {
        "cell": "2e8a8086-9961-43ad-ba92-ad89c692e08c",
        "part": "whole"
       },
       "id": "a5e68b35-6ce0-47f7-bc87-e396f39b4822"
      }
     }
    },
    "72d02837-0186-4fce-aea0-399c194ee3cf": {
     "id": "72d02837-0186-4fce-aea0-399c194ee3cf",
     "prev": "a2175972-37ae-4748-89d9-ffa64397b1c0",
     "regions": {
      "c00073da-638f-41b8-871f-b7980ee91ccc": {
       "attrs": {
        "height": 0.8,
        "width": 0.8,
        "x": 0.1,
        "y": 0.1
       },
       "content": {
        "cell": "c048cf09-858b-4abc-b156-4b13ea577d96",
        "part": "whole"
       },
       "id": "c00073da-638f-41b8-871f-b7980ee91ccc"
      }
     }
    },
    "79fb9b6b-55b7-4cfc-a3b3-4002ef8f7eda": {
     "id": "79fb9b6b-55b7-4cfc-a3b3-4002ef8f7eda",
     "prev": "ac45a554-f4b1-4613-8cad-7a651ebf2d57",
     "regions": {
      "40927933-561d-44e9-adba-d7d648614cce": {
       "attrs": {
        "height": 0.8,
        "width": 0.8,
        "x": 0.1,
        "y": 0.1
       },
       "content": {
        "cell": "e6b5bf45-9fa9-4aa1-9324-a43bbec73d12",
        "part": "whole"
       },
       "id": "40927933-561d-44e9-adba-d7d648614cce"
      }
     }
    },
    "867530cf-466f-4608-bd62-66ea0361f674": {
     "id": "867530cf-466f-4608-bd62-66ea0361f674",
     "prev": "9d15e2d2-7694-4210-9d3f-6983976347a6",
     "regions": {
      "ef057522-8456-42d9-ac6a-78d0da58b006": {
       "attrs": {
        "height": 0.8,
        "width": 0.8,
        "x": 0.1,
        "y": 0.1
       },
       "content": {
        "cell": "733d29f4-f2ef-4f69-b7a2-12f648e0e4c8",
        "part": "whole"
       },
       "id": "ef057522-8456-42d9-ac6a-78d0da58b006"
      }
     }
    },
    "87e600f1-6f15-4ab9-a2d2-5a2ca8ee2cda": {
     "id": "87e600f1-6f15-4ab9-a2d2-5a2ca8ee2cda",
     "prev": "b5bce9b2-6601-459d-ac9d-785042f009ad",
     "regions": {
      "6e9ca022-3c4c-4420-ba25-591198bfede8": {
       "attrs": {
        "height": 0.8,
        "width": 0.8,
        "x": 0.1,
        "y": 0.1
       },
       "content": {
        "cell": "da778cbd-8959-4cf4-bfbc-c90c856108d4",
        "part": "whole"
       },
       "id": "6e9ca022-3c4c-4420-ba25-591198bfede8"
      }
     }
    },
    "887e78ca-67bc-462d-b764-b874b97902a6": {
     "id": "887e78ca-67bc-462d-b764-b874b97902a6",
     "prev": "41f10a2a-1b71-4c8e-a86d-79ed7c5e8504",
     "regions": {
      "4b83bfd6-b3f3-4dd5-a0c7-0d19db6bab07": {
       "attrs": {
        "height": 0.8,
        "width": 0.8,
        "x": 0.1,
        "y": 0.1
       },
       "content": {
        "cell": "50e9225d-8f86-411e-9417-2f7dedafad8b",
        "part": "whole"
       },
       "id": "4b83bfd6-b3f3-4dd5-a0c7-0d19db6bab07"
      }
     }
    },
    "90a42bb0-846d-4774-91dc-b13eab2fa516": {
     "id": "90a42bb0-846d-4774-91dc-b13eab2fa516",
     "prev": "4cfc2011-f328-435d-bc6f-1ed38fc1b03c",
     "regions": {
      "19285703-3031-41a6-85b7-ba9d57bb0168": {
       "attrs": {
        "height": 0.8,
        "width": 0.8,
        "x": 0.1,
        "y": 0.1
       },
       "content": {
        "cell": "0eb3f6c9-08b4-432c-b66c-79069867bcde",
        "part": "whole"
       },
       "id": "19285703-3031-41a6-85b7-ba9d57bb0168"
      }
     }
    },
    "95ebc3d7-3002-4593-90d6-8bd6dad246a4": {
     "id": "95ebc3d7-3002-4593-90d6-8bd6dad246a4",
     "prev": "fe2c542d-a6db-4c39-beac-dfab834b1bab",
     "regions": {
      "e2ff48cf-716b-4199-8e5f-32d9f5c11254": {
       "attrs": {
        "height": 0.8,
        "width": 0.8,
        "x": 0.1,
        "y": 0.1
       },
       "content": {
        "cell": "02f3d01e-ff09-42cf-b147-e39d1db35e63",
        "part": "whole"
       },
       "id": "e2ff48cf-716b-4199-8e5f-32d9f5c11254"
      }
     }
    },
    "9a9a7fb8-76c2-41a4-9d0c-cf3a7cdcb7d2": {
     "id": "9a9a7fb8-76c2-41a4-9d0c-cf3a7cdcb7d2",
     "prev": "a3787470-efc1-4bd3-88e7-c3664b1b4141",
     "regions": {
      "6f15dd3a-154c-4f54-b426-fa5029433069": {
       "attrs": {
        "height": 0.8,
        "width": 0.8,
        "x": 0.1,
        "y": 0.1
       },
       "content": {
        "cell": "f5fde16e-3836-4451-b209-210aa8b6564a",
        "part": "whole"
       },
       "id": "6f15dd3a-154c-4f54-b426-fa5029433069"
      }
     }
    },
    "9d15e2d2-7694-4210-9d3f-6983976347a6": {
     "id": "9d15e2d2-7694-4210-9d3f-6983976347a6",
     "prev": "54bcf7f5-cd89-4951-9cb2-85aadc21f46a",
     "regions": {
      "0a65c078-38ad-451e-b55f-92079c6b8427": {
       "attrs": {
        "height": 0.8,
        "width": 0.8,
        "x": 0.1,
        "y": 0.1
       },
       "content": {
        "cell": "2daa6844-df30-4645-8c46-94c7a3b1e798",
        "part": "whole"
       },
       "id": "0a65c078-38ad-451e-b55f-92079c6b8427"
      }
     }
    },
    "a2175972-37ae-4748-89d9-ffa64397b1c0": {
     "id": "a2175972-37ae-4748-89d9-ffa64397b1c0",
     "prev": "0de6108e-a64d-4fd2-a834-e0edd91728de",
     "regions": {
      "acab1a1a-4e3d-4fe8-8698-f8fe0bfe02fe": {
       "attrs": {
        "height": 0.8,
        "width": 0.8,
        "x": 0.1,
        "y": 0.1
       },
       "content": {
        "cell": "6c30d903-0c17-488c-a390-0f5fe36031f1",
        "part": "whole"
       },
       "id": "acab1a1a-4e3d-4fe8-8698-f8fe0bfe02fe"
      }
     }
    },
    "a3787470-efc1-4bd3-88e7-c3664b1b4141": {
     "id": "a3787470-efc1-4bd3-88e7-c3664b1b4141",
     "prev": "e33cd471-c38f-40d5-9ef8-eb34bd66572a",
     "regions": {
      "563bf2b9-ffc5-416d-97c7-4783f38d38a5": {
       "attrs": {
        "height": 0.8,
        "width": 0.8,
        "x": 0.1,
        "y": 0.1
       },
       "content": {
        "cell": "67c1e17c-e08d-4cbb-ab4d-0e026a7eb652",
        "part": "whole"
       },
       "id": "563bf2b9-ffc5-416d-97c7-4783f38d38a5"
      }
     }
    },
    "a3f02cc6-ee60-41a1-a7f0-1e7427228d49": {
     "id": "a3f02cc6-ee60-41a1-a7f0-1e7427228d49",
     "prev": "049cf31d-4625-419f-8404-8ec5ac63dcb8",
     "regions": {
      "882fe21e-b704-44a0-89cf-3867899112e3": {
       "attrs": {
        "height": 0.8,
        "width": 0.8,
        "x": 0.1,
        "y": 0.1
       },
       "content": {
        "cell": "292f3903-d974-4ac8-9701-57f6b05e730e",
        "part": "whole"
       },
       "id": "882fe21e-b704-44a0-89cf-3867899112e3"
      }
     }
    },
    "ac45a554-f4b1-4613-8cad-7a651ebf2d57": {
     "id": "ac45a554-f4b1-4613-8cad-7a651ebf2d57",
     "prev": "887e78ca-67bc-462d-b764-b874b97902a6",
     "regions": {
      "f2ec1d5c-4603-4ef7-a930-4f6928aab588": {
       "attrs": {
        "height": 0.8,
        "width": 0.8,
        "x": 0.1,
        "y": 0.1
       },
       "content": {
        "cell": "5d9bb1de-3a28-4465-9332-b9fbfa3fdfe0",
        "part": "whole"
       },
       "id": "f2ec1d5c-4603-4ef7-a930-4f6928aab588"
      }
     }
    },
    "ac7a334b-aa85-4a1a-b036-9174cc0a34b6": {
     "id": "ac7a334b-aa85-4a1a-b036-9174cc0a34b6",
     "prev": "e24451af-7e03-4ac0-9eef-f8c3696af095",
     "regions": {
      "5962c6ab-e573-4fd6-90a3-ff58224350b6": {
       "attrs": {
        "height": 0.8,
        "width": 0.8,
        "x": 0.1,
        "y": 0.1
       },
       "content": {
        "cell": "50b38b91-ec7a-4049-97bf-549d2911fe32",
        "part": "whole"
       },
       "id": "5962c6ab-e573-4fd6-90a3-ff58224350b6"
      }
     }
    },
    "b03a5474-4ea7-4d5a-86cd-6f7161371bd4": {
     "id": "b03a5474-4ea7-4d5a-86cd-6f7161371bd4",
     "prev": "12887eac-71fb-43fc-b17f-fa8b202a3e23",
     "regions": {
      "514eb524-44a3-44d7-a802-d7efdeb1cb69": {
       "attrs": {
        "height": 0.8,
        "width": 0.8,
        "x": 0.1,
        "y": 0.1
       },
       "content": {
        "cell": "3b3e48a6-405a-41d0-8e26-78a18b8acf70",
        "part": "whole"
       },
       "id": "514eb524-44a3-44d7-a802-d7efdeb1cb69"
      }
     }
    },
    "b22d8622-cb4c-4fb8-9b06-af004b80ad23": {
     "id": "b22d8622-cb4c-4fb8-9b06-af004b80ad23",
     "prev": "9a9a7fb8-76c2-41a4-9d0c-cf3a7cdcb7d2",
     "regions": {
      "0d57082f-fa28-41c9-a967-f362f0273cea": {
       "attrs": {
        "height": 0.8,
        "width": 0.8,
        "x": 0.1,
        "y": 0.1
       },
       "content": {
        "cell": "0d15748a-ce69-487d-815e-274053b3038a",
        "part": "whole"
       },
       "id": "0d57082f-fa28-41c9-a967-f362f0273cea"
      }
     }
    },
    "b4070cfa-c950-416d-8ff4-e3330ba48008": {
     "id": "b4070cfa-c950-416d-8ff4-e3330ba48008",
     "prev": "fc01af4d-0cd7-48c0-970e-13c99f17a75e",
     "regions": {
      "3a8d5064-80d7-40c7-83e9-c12b939e7016": {
       "attrs": {
        "height": 0.8,
        "width": 0.8,
        "x": 0.1,
        "y": 0.1
       },
       "content": {
        "cell": "2f702393-a9dc-4a54-8487-3a380413e838",
        "part": "whole"
       },
       "id": "3a8d5064-80d7-40c7-83e9-c12b939e7016"
      }
     }
    },
    "b5bce9b2-6601-459d-ac9d-785042f009ad": {
     "id": "b5bce9b2-6601-459d-ac9d-785042f009ad",
     "prev": "32ffb79c-f900-45e3-b457-4be7747c1265",
     "regions": {
      "48335e3c-31fd-495a-8862-d27ccb260608": {
       "attrs": {
        "height": 0.8,
        "width": 0.8,
        "x": 0.1,
        "y": 0.1
       },
       "content": {
        "cell": "97a560d4-2518-45c6-906c-fd12b0b8ecee",
        "part": "whole"
       },
       "id": "48335e3c-31fd-495a-8862-d27ccb260608"
      }
     }
    },
    "bec0fbc1-5db2-46a0-9f21-139924a6abc9": {
     "id": "bec0fbc1-5db2-46a0-9f21-139924a6abc9",
     "prev": "72d02837-0186-4fce-aea0-399c194ee3cf",
     "regions": {
      "c7675411-dc63-4ad5-822e-f1d377c0701d": {
       "attrs": {
        "height": 0.8,
        "width": 0.8,
        "x": 0.1,
        "y": 0.1
       },
       "content": {
        "cell": "2d435019-6d9a-42a2-b3da-8e65cccabb73",
        "part": "whole"
       },
       "id": "c7675411-dc63-4ad5-822e-f1d377c0701d"
      }
     }
    },
    "bff8fa7b-a305-411e-8667-82b49c846f74": {
     "id": "bff8fa7b-a305-411e-8667-82b49c846f74",
     "prev": "65abdae9-4e79-405f-9f94-faaf4ea58704",
     "regions": {
      "2fcdee2e-8bb3-4f35-91d9-84caa0f7b120": {
       "attrs": {
        "height": 0.8,
        "width": 0.8,
        "x": 0.1,
        "y": 0.1
       },
       "content": {
        "cell": "77648e2b-fdac-4330-ad5b-2d61c2854ffc",
        "part": "whole"
       },
       "id": "2fcdee2e-8bb3-4f35-91d9-84caa0f7b120"
      }
     }
    },
    "cdbb28aa-aa23-4abf-b47c-d562221c9d13": {
     "id": "cdbb28aa-aa23-4abf-b47c-d562221c9d13",
     "prev": "01310698-3d33-450e-8795-fc0830b45695",
     "regions": {
      "69e066c1-ff2f-4c2b-b51e-6d0f9e4dda5b": {
       "attrs": {
        "height": 0.8,
        "width": 0.8,
        "x": 0.1,
        "y": 0.1
       },
       "content": {
        "cell": "56fe5a1f-58bb-40c4-8f42-ffdcda683dcd",
        "part": "whole"
       },
       "id": "69e066c1-ff2f-4c2b-b51e-6d0f9e4dda5b"
      }
     }
    },
    "cdf0ddb4-9121-4478-a069-3b0a4db68dbe": {
     "id": "cdf0ddb4-9121-4478-a069-3b0a4db68dbe",
     "prev": "5609d785-6a70-4a31-8d2a-46fd31cf2d85",
     "regions": {
      "fc5d54d3-95a1-4631-941f-efd75e8cc50e": {
       "attrs": {
        "height": 0.8,
        "width": 0.8,
        "x": 0.1,
        "y": 0.1
       },
       "content": {
        "cell": "3a7edcb4-a0e3-4287-9434-48ea75f40b4c",
        "part": "whole"
       },
       "id": "fc5d54d3-95a1-4631-941f-efd75e8cc50e"
      }
     }
    },
    "d0b59ea3-127e-426d-b355-f2b18755398f": {
     "id": "d0b59ea3-127e-426d-b355-f2b18755398f",
     "prev": "79fb9b6b-55b7-4cfc-a3b3-4002ef8f7eda",
     "regions": {
      "566c4d47-9491-4830-8dde-d4db229e7170": {
       "attrs": {
        "height": 0.8,
        "width": 0.8,
        "x": 0.1,
        "y": 0.1
       },
       "content": {
        "cell": "947c0da8-ca9f-4f38-a6d6-4c2aa9ab0b12",
        "part": "whole"
       },
       "id": "566c4d47-9491-4830-8dde-d4db229e7170"
      }
     }
    },
    "d79fdacf-33d3-4c6f-bdad-25b3538669ea": {
     "id": "d79fdacf-33d3-4c6f-bdad-25b3538669ea",
     "prev": "e65a9cca-1ff6-48e1-8511-37f5d1d4d1f0",
     "regions": {
      "81c59d92-209e-4d94-b822-fb811fa5d52b": {
       "attrs": {
        "height": 0.8,
        "width": 0.8,
        "x": 0.1,
        "y": 0.1
       },
       "content": {
        "cell": "522cd48f-b7ab-48df-ac53-316f5a9632ff",
        "part": "whole"
       },
       "id": "81c59d92-209e-4d94-b822-fb811fa5d52b"
      }
     }
    },
    "d7c24517-b41f-46a5-b941-5e02c3cd4910": {
     "id": "d7c24517-b41f-46a5-b941-5e02c3cd4910",
     "prev": "047b95bc-e55d-44ea-97d9-84ed9496c162",
     "regions": {
      "0eaa767b-10d3-4a63-bd64-03a5b868b156": {
       "attrs": {
        "height": 0.8,
        "width": 0.8,
        "x": 0.1,
        "y": 0.1
       },
       "content": {
        "cell": "2b1b6ee9-f1a1-49ea-93dd-4d85edb67a20",
        "part": "whole"
       },
       "id": "0eaa767b-10d3-4a63-bd64-03a5b868b156"
      }
     }
    },
    "d8c55397-9c58-4b5c-a42b-4abd13320eac": {
     "id": "d8c55397-9c58-4b5c-a42b-4abd13320eac",
     "prev": null,
     "regions": {
      "43884c52-7911-4d5f-a02a-c112a0cffc28": {
       "attrs": {
        "height": 0.8,
        "width": 0.8,
        "x": 0.1,
        "y": 0.1
       },
       "content": {
        "cell": "b2e96a70-88fc-415e-b0a9-a1bf0547b3d4",
        "part": "whole"
       },
       "id": "43884c52-7911-4d5f-a02a-c112a0cffc28"
      }
     }
    },
    "dac90c3a-fe8a-46ba-8539-e003194517bb": {
     "id": "dac90c3a-fe8a-46ba-8539-e003194517bb",
     "prev": "867530cf-466f-4608-bd62-66ea0361f674",
     "regions": {
      "7cb5ce34-05cc-4af1-929a-4d41e3fce999": {
       "attrs": {
        "height": 0.8,
        "width": 0.8,
        "x": 0.1,
        "y": 0.1
       },
       "content": {
        "cell": "776eb236-5844-4206-b938-63fd9ea3d44d",
        "part": "whole"
       },
       "id": "7cb5ce34-05cc-4af1-929a-4d41e3fce999"
      }
     }
    },
    "e24451af-7e03-4ac0-9eef-f8c3696af095": {
     "id": "e24451af-7e03-4ac0-9eef-f8c3696af095",
     "prev": "b4070cfa-c950-416d-8ff4-e3330ba48008",
     "regions": {
      "c2edf382-934e-4010-8ea5-22df966643ae": {
       "attrs": {
        "height": 0.8,
        "width": 0.8,
        "x": 0.1,
        "y": 0.1
       },
       "content": {
        "cell": "f4d4a8ed-c284-483a-a9e5-ae2f69f68faf",
        "part": "whole"
       },
       "id": "c2edf382-934e-4010-8ea5-22df966643ae"
      }
     }
    },
    "e33cd471-c38f-40d5-9ef8-eb34bd66572a": {
     "id": "e33cd471-c38f-40d5-9ef8-eb34bd66572a",
     "prev": "19af0ef9-6747-45f3-9682-a2f4dcdfff5d",
     "regions": {
      "43175ee3-7442-4be9-ac1f-f29728f17af7": {
       "attrs": {
        "height": 0.8,
        "width": 0.8,
        "x": 0.1,
        "y": 0.1
       },
       "content": {
        "cell": "2e3ae7b3-8f9a-4323-8101-9f5cee42a83c",
        "part": "whole"
       },
       "id": "43175ee3-7442-4be9-ac1f-f29728f17af7"
      }
     }
    },
    "e65a9cca-1ff6-48e1-8511-37f5d1d4d1f0": {
     "id": "e65a9cca-1ff6-48e1-8511-37f5d1d4d1f0",
     "prev": "d8c55397-9c58-4b5c-a42b-4abd13320eac",
     "regions": {
      "60d79860-c136-4e27-b916-0dce7d37a6b7": {
       "attrs": {
        "height": 0.8,
        "width": 0.8,
        "x": 0.1,
        "y": 0.1
       },
       "content": {
        "cell": "34714d7a-26b0-4174-87cc-58bf1cd8a796",
        "part": "whole"
       },
       "id": "60d79860-c136-4e27-b916-0dce7d37a6b7"
      }
     }
    },
    "ea8251da-4900-46aa-8c5e-8dcd5331dff3": {
     "id": "ea8251da-4900-46aa-8c5e-8dcd5331dff3",
     "prev": "ac7a334b-aa85-4a1a-b036-9174cc0a34b6",
     "regions": {
      "c6c313f7-3ed9-43b8-9a61-0d8bd8456b3c": {
       "attrs": {
        "height": 0.8,
        "width": 0.8,
        "x": 0.1,
        "y": 0.1
       },
       "content": {
        "cell": "d798f12b-51db-472d-a7b7-627386e7588e",
        "part": "whole"
       },
       "id": "c6c313f7-3ed9-43b8-9a61-0d8bd8456b3c"
      }
     }
    },
    "fc01af4d-0cd7-48c0-970e-13c99f17a75e": {
     "id": "fc01af4d-0cd7-48c0-970e-13c99f17a75e",
     "prev": "dac90c3a-fe8a-46ba-8539-e003194517bb",
     "regions": {
      "4b246fcd-184c-49e4-83fb-5024987f10b5": {
       "attrs": {
        "height": 0.8,
        "width": 0.8,
        "x": 0.1,
        "y": 0.1
       },
       "content": {
        "cell": "418644ca-2fbe-4970-9c8c-156032374947",
        "part": "whole"
       },
       "id": "4b246fcd-184c-49e4-83fb-5024987f10b5"
      }
     }
    },
    "fe2c542d-a6db-4c39-beac-dfab834b1bab": {
     "id": "fe2c542d-a6db-4c39-beac-dfab834b1bab",
     "prev": "6693710f-d736-4411-92ee-8cd938001010",
     "regions": {
      "5d7d8611-1443-4f37-b282-cbc1436eb83e": {
       "attrs": {
        "height": 0.8,
        "width": 0.8,
        "x": 0.1,
        "y": 0.1
       },
       "content": {
        "cell": "91d5b292-5fc8-4177-aaad-806e2b7da431",
        "part": "whole"
       },
       "id": "5d7d8611-1443-4f37-b282-cbc1436eb83e"
      }
     }
    }
   },
   "themes": {}
  }
 },
 "nbformat": 4,
 "nbformat_minor": 1
}
