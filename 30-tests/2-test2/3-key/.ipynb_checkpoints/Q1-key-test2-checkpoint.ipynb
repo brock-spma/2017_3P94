{
 "cells": [
  {
   "cell_type": "markdown",
   "metadata": {},
   "source": [
    "# Instructions\n",
    "\n",
    "* Use the following json file of NHL live data to answer the following questions."
   ]
  },
  {
   "cell_type": "code",
   "execution_count": 21,
   "metadata": {},
   "outputs": [
    {
     "data": {
      "text/plain": [
       "dict_keys(['copyright', 'gamePk', 'link', 'metaData', 'gameData', 'liveData'])"
      ]
     },
     "execution_count": 21,
     "metadata": {},
     "output_type": "execute_result"
    }
   ],
   "source": [
    "import json\n",
    "import pandas\n",
    "import numpy\n",
    "\n",
    "with open('NHL2016020001.json', 'r') as f:\n",
    "     gm_dict = json.load(f)\n",
    "        \n",
    "gm_dict.keys()"
   ]
  },
  {
   "cell_type": "markdown",
   "metadata": {},
   "source": [
    "## Part 1\n",
    "1. Extract the game number (i.e., pk) and game date (i.e., dateTime).\n",
    "* Create a function that returns the triCode of the home and away teams to a dictionary.\n",
    "* Store the game number (i.e., pk), game date (i.e., dateTime), triCode, and designation (i.e. home or away) in a dataframe with season-game-team observations. The dataframe should have 4 columns and 2 rows."
   ]
  },
  {
   "cell_type": "markdown",
   "metadata": {},
   "source": [
    "## Create funtion: game_team"
   ]
  },
  {
   "cell_type": "code",
   "execution_count": 22,
   "metadata": {},
   "outputs": [],
   "source": [
    "def get_game_team(designation):\n",
    "    \"\"\"Function to obtain:\n",
    "    game number, game date, triCode\n",
    "    \"\"\"\n",
    "    gamePk = gm_dict['gamePk']\n",
    "    dateTime = gm_dict['gameData']['datetime']['dateTime']\n",
    "    triCode = gm_dict['gameData']['teams'][designation]['triCode']\n",
    "    temp = {designation: {'gamePk': gamePk, 'dateTime': dateTime, 'triCode': triCode}}\n",
    "    return(temp)"
   ]
  },
  {
   "cell_type": "markdown",
   "metadata": {},
   "source": [
    "# Update dictionary\n",
    "* Implement function to update game_team dictionary with data "
   ]
  },
  {
   "cell_type": "code",
   "execution_count": 23,
   "metadata": {},
   "outputs": [
    {
     "data": {
      "text/plain": [
       "{'away': {'dateTime': '2016-10-12T23:00:00Z',\n",
       "  'gamePk': 2016020001,\n",
       "  'triCode': 'TOR'},\n",
       " 'home': {'dateTime': '2016-10-12T23:00:00Z',\n",
       "  'gamePk': 2016020001,\n",
       "  'triCode': 'OTT'}}"
      ]
     },
     "execution_count": 23,
     "metadata": {},
     "output_type": "execute_result"
    }
   ],
   "source": [
    "game_team = dict()\n",
    "game_team.update(get_game_team('home'))\n",
    "game_team.update(get_game_team('away'))\n",
    "game_team"
   ]
  },
  {
   "cell_type": "markdown",
   "metadata": {},
   "source": [
    "## Convert dictionary to dataframe"
   ]
  },
  {
   "cell_type": "code",
   "execution_count": 24,
   "metadata": {},
   "outputs": [
    {
     "data": {
      "text/html": [
       "<div>\n",
       "<style>\n",
       "    .dataframe thead tr:only-child th {\n",
       "        text-align: right;\n",
       "    }\n",
       "\n",
       "    .dataframe thead th {\n",
       "        text-align: left;\n",
       "    }\n",
       "\n",
       "    .dataframe tbody tr th {\n",
       "        vertical-align: top;\n",
       "    }\n",
       "</style>\n",
       "<table border=\"1\" class=\"dataframe\">\n",
       "  <thead>\n",
       "    <tr style=\"text-align: right;\">\n",
       "      <th></th>\n",
       "      <th>designation</th>\n",
       "      <th>gamePk</th>\n",
       "      <th>dateTime</th>\n",
       "      <th>triCode</th>\n",
       "    </tr>\n",
       "  </thead>\n",
       "  <tbody>\n",
       "    <tr>\n",
       "      <th>0</th>\n",
       "      <td>away</td>\n",
       "      <td>2016020001</td>\n",
       "      <td>2016-10-12T23:00:00Z</td>\n",
       "      <td>TOR</td>\n",
       "    </tr>\n",
       "    <tr>\n",
       "      <th>1</th>\n",
       "      <td>home</td>\n",
       "      <td>2016020001</td>\n",
       "      <td>2016-10-12T23:00:00Z</td>\n",
       "      <td>OTT</td>\n",
       "    </tr>\n",
       "  </tbody>\n",
       "</table>\n",
       "</div>"
      ],
      "text/plain": [
       "  designation      gamePk              dateTime triCode\n",
       "0        away  2016020001  2016-10-12T23:00:00Z     TOR\n",
       "1        home  2016020001  2016-10-12T23:00:00Z     OTT"
      ]
     },
     "execution_count": 24,
     "metadata": {},
     "output_type": "execute_result"
    }
   ],
   "source": [
    "d1 = pandas.DataFrame.from_dict(game_team, orient='index')\n",
    "d1 = d1.reset_index()\n",
    "d1 = d1.rename(columns={'index': 'designation'})\n",
    "d1.head()"
   ]
  },
  {
   "cell_type": "markdown",
   "metadata": {},
   "source": [
    "## Part 2\n",
    "1. Create a function that returns the following player information to a dictionary.\n",
    "    * id, fullName, rosterStatus, and their current team's triCode.\n",
    "* Use the dictionary and a for loop to collect the information for players.\n",
    "* Convert the dictionary to a dataframe with player observations. The dataframe should have 4 columns and many rows (one row for each player)."
   ]
  },
  {
   "cell_type": "markdown",
   "metadata": {},
   "source": [
    "## Create function: get_player_info"
   ]
  },
  {
   "cell_type": "code",
   "execution_count": 25,
   "metadata": {},
   "outputs": [
    {
     "data": {
      "text/plain": [
       "{'ID8474709': {'fullName': 'Matt Martin',\n",
       "  'rosterStatus': 'Y',\n",
       "  'triCode': 'TOR'}}"
      ]
     },
     "execution_count": 25,
     "metadata": {},
     "output_type": "execute_result"
    }
   ],
   "source": [
    "def get_player_info(ID):\n",
    "    fullName = gm_dict['gameData']['players'][ID]['fullName']\n",
    "    rosterStatus = gm_dict['gameData']['players'][ID]['rosterStatus']\n",
    "    try: \n",
    "        triCode = gm_dict['gameData']['players'][ID]['currentTeam']['triCode']\n",
    "    except:\n",
    "        triCode = 'na'\n",
    "    temp = {ID: {'fullName': fullName, 'rosterStatus': rosterStatus, 'triCode': triCode}}\n",
    "    return(temp)\n",
    "\n",
    "get_player_info('ID8474709')"
   ]
  },
  {
   "cell_type": "markdown",
   "metadata": {},
   "source": [
    "# Update dictionary\n",
    "* Obtain playerID list\n",
    "* Update get_player_info with player information data"
   ]
  },
  {
   "cell_type": "code",
   "execution_count": 26,
   "metadata": {},
   "outputs": [],
   "source": [
    "player = {}\n",
    "playerids = gm_dict['gameData']['players']\n",
    "for playerid in playerids:\n",
    "    player.update(get_player_info(playerid))"
   ]
  },
  {
   "cell_type": "markdown",
   "metadata": {},
   "source": [
    "## Convert dictionary to dataframe"
   ]
  },
  {
   "cell_type": "code",
   "execution_count": 27,
   "metadata": {},
   "outputs": [
    {
     "data": {
      "text/html": [
       "<div>\n",
       "<style>\n",
       "    .dataframe thead tr:only-child th {\n",
       "        text-align: right;\n",
       "    }\n",
       "\n",
       "    .dataframe thead th {\n",
       "        text-align: left;\n",
       "    }\n",
       "\n",
       "    .dataframe tbody tr th {\n",
       "        vertical-align: top;\n",
       "    }\n",
       "</style>\n",
       "<table border=\"1\" class=\"dataframe\">\n",
       "  <thead>\n",
       "    <tr style=\"text-align: right;\">\n",
       "      <th></th>\n",
       "      <th>playerID</th>\n",
       "      <th>fullName</th>\n",
       "      <th>rosterStatus</th>\n",
       "      <th>triCode</th>\n",
       "    </tr>\n",
       "  </thead>\n",
       "  <tbody>\n",
       "    <tr>\n",
       "      <th>0</th>\n",
       "      <td>ID8467493</td>\n",
       "      <td>Chris Neil</td>\n",
       "      <td>Y</td>\n",
       "      <td>na</td>\n",
       "    </tr>\n",
       "    <tr>\n",
       "      <th>1</th>\n",
       "      <td>ID8467950</td>\n",
       "      <td>Craig Anderson</td>\n",
       "      <td>Y</td>\n",
       "      <td>OTT</td>\n",
       "    </tr>\n",
       "    <tr>\n",
       "      <th>2</th>\n",
       "      <td>ID8467967</td>\n",
       "      <td>Chris Kelly</td>\n",
       "      <td>N</td>\n",
       "      <td>na</td>\n",
       "    </tr>\n",
       "    <tr>\n",
       "      <th>3</th>\n",
       "      <td>ID8470599</td>\n",
       "      <td>Milan Michalek</td>\n",
       "      <td>N</td>\n",
       "      <td>na</td>\n",
       "    </tr>\n",
       "    <tr>\n",
       "      <th>4</th>\n",
       "      <td>ID8470602</td>\n",
       "      <td>Dion Phaneuf</td>\n",
       "      <td>Y</td>\n",
       "      <td>OTT</td>\n",
       "    </tr>\n",
       "  </tbody>\n",
       "</table>\n",
       "</div>"
      ],
      "text/plain": [
       "    playerID        fullName rosterStatus triCode\n",
       "0  ID8467493      Chris Neil            Y      na\n",
       "1  ID8467950  Craig Anderson            Y     OTT\n",
       "2  ID8467967     Chris Kelly            N      na\n",
       "3  ID8470599  Milan Michalek            N      na\n",
       "4  ID8470602    Dion Phaneuf            Y     OTT"
      ]
     },
     "execution_count": 27,
     "metadata": {},
     "output_type": "execute_result"
    }
   ],
   "source": [
    "d2 = pandas.DataFrame.from_dict(player, orient='index')\n",
    "d2 = d2.reset_index()\n",
    "d2 = d2.rename(columns={'index': 'playerID'})\n",
    "d2.head()"
   ]
  },
  {
   "cell_type": "markdown",
   "metadata": {},
   "source": [
    "## Part 3\n",
    "1. Create a new dataframe that merges the game-team and player dataframes based on the team triCode. The new dataframe should have game-team-player observations."
   ]
  },
  {
   "cell_type": "markdown",
   "metadata": {},
   "source": [
    "## Merge game-team and player dataframe"
   ]
  },
  {
   "cell_type": "code",
   "execution_count": 28,
   "metadata": {},
   "outputs": [],
   "source": [
    "d3 = pandas.merge(d1, d2, on='triCode')\n",
    "d3 = d3[['gamePk', 'dateTime', 'triCode', 'playerID', 'playerID', 'rosterStatus']]"
   ]
  },
  {
   "cell_type": "code",
   "execution_count": 29,
   "metadata": {},
   "outputs": [
    {
     "data": {
      "text/html": [
       "<div>\n",
       "<style>\n",
       "    .dataframe thead tr:only-child th {\n",
       "        text-align: right;\n",
       "    }\n",
       "\n",
       "    .dataframe thead th {\n",
       "        text-align: left;\n",
       "    }\n",
       "\n",
       "    .dataframe tbody tr th {\n",
       "        vertical-align: top;\n",
       "    }\n",
       "</style>\n",
       "<table border=\"1\" class=\"dataframe\">\n",
       "  <thead>\n",
       "    <tr style=\"text-align: right;\">\n",
       "      <th></th>\n",
       "      <th>gamePk</th>\n",
       "      <th>dateTime</th>\n",
       "      <th>triCode</th>\n",
       "      <th>playerID</th>\n",
       "      <th>playerID</th>\n",
       "      <th>rosterStatus</th>\n",
       "    </tr>\n",
       "  </thead>\n",
       "  <tbody>\n",
       "    <tr>\n",
       "      <th>0</th>\n",
       "      <td>2016020001</td>\n",
       "      <td>2016-10-12T23:00:00Z</td>\n",
       "      <td>TOR</td>\n",
       "      <td>ID8471392</td>\n",
       "      <td>ID8471392</td>\n",
       "      <td>Y</td>\n",
       "    </tr>\n",
       "    <tr>\n",
       "      <th>1</th>\n",
       "      <td>2016020001</td>\n",
       "      <td>2016-10-12T23:00:00Z</td>\n",
       "      <td>TOR</td>\n",
       "      <td>ID8473463</td>\n",
       "      <td>ID8473463</td>\n",
       "      <td>Y</td>\n",
       "    </tr>\n",
       "    <tr>\n",
       "      <th>2</th>\n",
       "      <td>2016020001</td>\n",
       "      <td>2016-10-12T23:00:00Z</td>\n",
       "      <td>TOR</td>\n",
       "      <td>ID8474037</td>\n",
       "      <td>ID8474037</td>\n",
       "      <td>Y</td>\n",
       "    </tr>\n",
       "    <tr>\n",
       "      <th>3</th>\n",
       "      <td>2016020001</td>\n",
       "      <td>2016-10-12T23:00:00Z</td>\n",
       "      <td>TOR</td>\n",
       "      <td>ID8474581</td>\n",
       "      <td>ID8474581</td>\n",
       "      <td>Y</td>\n",
       "    </tr>\n",
       "    <tr>\n",
       "      <th>4</th>\n",
       "      <td>2016020001</td>\n",
       "      <td>2016-10-12T23:00:00Z</td>\n",
       "      <td>TOR</td>\n",
       "      <td>ID8474709</td>\n",
       "      <td>ID8474709</td>\n",
       "      <td>Y</td>\n",
       "    </tr>\n",
       "  </tbody>\n",
       "</table>\n",
       "</div>"
      ],
      "text/plain": [
       "       gamePk              dateTime triCode   playerID   playerID rosterStatus\n",
       "0  2016020001  2016-10-12T23:00:00Z     TOR  ID8471392  ID8471392            Y\n",
       "1  2016020001  2016-10-12T23:00:00Z     TOR  ID8473463  ID8473463            Y\n",
       "2  2016020001  2016-10-12T23:00:00Z     TOR  ID8474037  ID8474037            Y\n",
       "3  2016020001  2016-10-12T23:00:00Z     TOR  ID8474581  ID8474581            Y\n",
       "4  2016020001  2016-10-12T23:00:00Z     TOR  ID8474709  ID8474709            Y"
      ]
     },
     "execution_count": 29,
     "metadata": {},
     "output_type": "execute_result"
    }
   ],
   "source": [
    "d3.head()"
   ]
  },
  {
   "cell_type": "code",
   "execution_count": 30,
   "metadata": {},
   "outputs": [
    {
     "data": {
      "text/html": [
       "<div>\n",
       "<style>\n",
       "    .dataframe thead tr:only-child th {\n",
       "        text-align: right;\n",
       "    }\n",
       "\n",
       "    .dataframe thead th {\n",
       "        text-align: left;\n",
       "    }\n",
       "\n",
       "    .dataframe tbody tr th {\n",
       "        vertical-align: top;\n",
       "    }\n",
       "</style>\n",
       "<table border=\"1\" class=\"dataframe\">\n",
       "  <thead>\n",
       "    <tr style=\"text-align: right;\">\n",
       "      <th></th>\n",
       "      <th>gamePk</th>\n",
       "      <th>dateTime</th>\n",
       "      <th>triCode</th>\n",
       "      <th>playerID</th>\n",
       "      <th>playerID</th>\n",
       "      <th>rosterStatus</th>\n",
       "    </tr>\n",
       "  </thead>\n",
       "  <tbody>\n",
       "    <tr>\n",
       "      <th>27</th>\n",
       "      <td>2016020001</td>\n",
       "      <td>2016-10-12T23:00:00Z</td>\n",
       "      <td>OTT</td>\n",
       "      <td>ID8475913</td>\n",
       "      <td>ID8475913</td>\n",
       "      <td>Y</td>\n",
       "    </tr>\n",
       "    <tr>\n",
       "      <th>28</th>\n",
       "      <td>2016020001</td>\n",
       "      <td>2016-10-12T23:00:00Z</td>\n",
       "      <td>OTT</td>\n",
       "      <td>ID8476288</td>\n",
       "      <td>ID8476288</td>\n",
       "      <td>Y</td>\n",
       "    </tr>\n",
       "    <tr>\n",
       "      <th>29</th>\n",
       "      <td>2016020001</td>\n",
       "      <td>2016-10-12T23:00:00Z</td>\n",
       "      <td>OTT</td>\n",
       "      <td>ID8476419</td>\n",
       "      <td>ID8476419</td>\n",
       "      <td>Y</td>\n",
       "    </tr>\n",
       "    <tr>\n",
       "      <th>30</th>\n",
       "      <td>2016020001</td>\n",
       "      <td>2016-10-12T23:00:00Z</td>\n",
       "      <td>OTT</td>\n",
       "      <td>ID8476879</td>\n",
       "      <td>ID8476879</td>\n",
       "      <td>Y</td>\n",
       "    </tr>\n",
       "    <tr>\n",
       "      <th>31</th>\n",
       "      <td>2016020001</td>\n",
       "      <td>2016-10-12T23:00:00Z</td>\n",
       "      <td>OTT</td>\n",
       "      <td>ID8478469</td>\n",
       "      <td>ID8478469</td>\n",
       "      <td>N</td>\n",
       "    </tr>\n",
       "  </tbody>\n",
       "</table>\n",
       "</div>"
      ],
      "text/plain": [
       "        gamePk              dateTime triCode   playerID   playerID  \\\n",
       "27  2016020001  2016-10-12T23:00:00Z     OTT  ID8475913  ID8475913   \n",
       "28  2016020001  2016-10-12T23:00:00Z     OTT  ID8476288  ID8476288   \n",
       "29  2016020001  2016-10-12T23:00:00Z     OTT  ID8476419  ID8476419   \n",
       "30  2016020001  2016-10-12T23:00:00Z     OTT  ID8476879  ID8476879   \n",
       "31  2016020001  2016-10-12T23:00:00Z     OTT  ID8478469  ID8478469   \n",
       "\n",
       "   rosterStatus  \n",
       "27            Y  \n",
       "28            Y  \n",
       "29            Y  \n",
       "30            Y  \n",
       "31            N  "
      ]
     },
     "execution_count": 30,
     "metadata": {},
     "output_type": "execute_result"
    }
   ],
   "source": [
    "d3.tail()"
   ]
  }
 ],
 "metadata": {
  "kernelspec": {
   "display_name": "Python 3",
   "language": "python",
   "name": "python3"
  },
  "language_info": {
   "codemirror_mode": {
    "name": "ipython",
    "version": 3
   },
   "file_extension": ".py",
   "mimetype": "text/x-python",
   "name": "python",
   "nbconvert_exporter": "python",
   "pygments_lexer": "ipython3",
   "version": "3.6.3"
  }
 },
 "nbformat": 4,
 "nbformat_minor": 2
}
