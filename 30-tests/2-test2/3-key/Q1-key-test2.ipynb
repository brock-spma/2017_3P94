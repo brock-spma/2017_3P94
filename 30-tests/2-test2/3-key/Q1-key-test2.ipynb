{
 "cells": [
  {
   "cell_type": "markdown",
   "metadata": {},
   "source": [
    "# Instructions\n",
    "\n",
    "* Use the following json file of NHL live data to answer the following questions."
   ]
  },
  {
   "cell_type": "code",
   "execution_count": 3,
   "metadata": {},
   "outputs": [
    {
     "data": {
      "text/plain": [
       "dict_keys(['copyright', 'gamePk', 'link', 'metaData', 'gameData', 'liveData'])"
      ]
     },
     "execution_count": 3,
     "metadata": {},
     "output_type": "execute_result"
    }
   ],
   "source": [
    "import json\n",
    "import pandas\n",
    "import numpy\n",
    "\n",
    "with open('NHL2016020001.json', 'r') as f:\n",
    "     gm_dict = json.load(f)\n",
    "        \n",
    "gm_dict.keys()"
   ]
  },
  {
   "cell_type": "markdown",
   "metadata": {},
   "source": [
    "## Part 1\n",
    "1. Extract the game number (i.e., pk) and game date (i.e., dateTime).\n",
    "* Create a function that returns the triCode of the home and away teams to a dictionary.\n",
    "* Store the game number (i.e., pk), game date (i.e., dateTime), triCode, and designation (i.e. home or away) in a dataframe with season-game-team observations. The dataframe should have 4 columns and 2 rows."
   ]
  },
  {
   "cell_type": "markdown",
   "metadata": {},
   "source": [
    "## Part 2\n",
    "1. Create a function that returns the following player information to a dictionary.\n",
    "    * id, fullName, rosterStatus, and their current team's triCode.\n",
    "* Use the dictionary and a for loop to collect the information for players.\n",
    "* Convert the dictionary to a dataframe with player observations. The dataframe should have 4 columns and many rows (one row for each player)."
   ]
  },
  {
   "cell_type": "markdown",
   "metadata": {},
   "source": [
    "## Part 3\n",
    "1. Create a new dataframe that merges the game-team and player dataframes based on the team triCode. The new dataframe should have game-team-player observations."
   ]
  }
 ],
 "metadata": {
  "kernelspec": {
   "display_name": "Python 3",
   "language": "python",
   "name": "python3"
  },
  "language_info": {
   "codemirror_mode": {
    "name": "ipython",
    "version": 3
   },
   "file_extension": ".py",
   "mimetype": "text/x-python",
   "name": "python",
   "nbconvert_exporter": "python",
   "pygments_lexer": "ipython3",
   "version": "3.6.3"
  }
 },
 "nbformat": 4,
 "nbformat_minor": 2
}
