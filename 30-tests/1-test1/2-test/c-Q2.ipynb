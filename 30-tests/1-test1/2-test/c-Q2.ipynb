{
 "cells": [
  {
   "cell_type": "markdown",
   "metadata": {},
   "source": [
    "## Question 2\n",
    "\n",
    "* Create a dictionary that contains the following NHL teams as keys: TOR, MTL, OTT\n",
    "* Display the dictionary keys\n",
    "* Add GF and GA to denote goals for and goals allowed as nested keys within teams\n",
    "* Obtain each team's 2016 regular season goals for and goals allowed from the Internet and update the GF and GA values across teams\n",
    "* Display the GF and GA dictionary values\n",
    "* Use the dictionary keys to display the number of MTL GF and GA\n",
    "* Use the dictionary update function to add the team VAN and the number of goals for and goals allowed\n",
    "* Write a for loop to update the dictionary with each team's computed goals differential (i.e., GD = GF - GA)\n",
    "* Display the entire dictionary keys (i.e., TOR, MTL, OTT, VAN) and values (i.e., GF, GA, GD)"
   ]
  }
 ],
 "metadata": {
  "kernelspec": {
   "display_name": "Python 3",
   "language": "python",
   "name": "python3"
  },
  "language_info": {
   "codemirror_mode": {
    "name": "ipython",
    "version": 3
   },
   "file_extension": ".py",
   "mimetype": "text/x-python",
   "name": "python",
   "nbconvert_exporter": "python",
   "pygments_lexer": "ipython3",
   "version": "3.6.2"
  }
 },
 "nbformat": 4,
 "nbformat_minor": 2
}
