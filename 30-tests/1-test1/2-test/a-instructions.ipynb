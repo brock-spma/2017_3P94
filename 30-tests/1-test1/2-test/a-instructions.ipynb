{
 "cells": [
  {
   "cell_type": "markdown",
   "metadata": {},
   "source": [
    "# Instructions\n",
    "* The test will be available for download at 12:30 from https://github.com/brockspma/3P94_2017\n",
    "* Use Python and Jupyter Notebook to complete each question\n",
    "* Include code documentation to explain your work\n",
    "* Answer each question in a separate Jupyter Notebook\n",
    "* Upload Jupyter Notebook files to Sakai (under assignments) to submit solutions\n",
    "* Internet and course notes are permitted \n",
    "* Ensure all of your code runs before submission: restart the Kernel, clear all output, and rull all cells before uploading your submission"
   ]
  }
 ],
 "metadata": {
  "kernelspec": {
   "display_name": "Python 3",
   "language": "python",
   "name": "python3"
  },
  "language_info": {
   "codemirror_mode": {
    "name": "ipython",
    "version": 3
   },
   "file_extension": ".py",
   "mimetype": "text/x-python",
   "name": "python",
   "nbconvert_exporter": "python",
   "pygments_lexer": "ipython3",
   "version": "3.6.3"
  }
 },
 "nbformat": 4,
 "nbformat_minor": 2
}
