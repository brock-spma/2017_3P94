{
 "cells": [
  {
   "cell_type": "markdown",
   "metadata": {},
   "source": [
    "# Question 1\n",
    "\n",
    "* Create a list called teams that contains the following three NHL teams: TOR, MTL, OTT\n",
    "* Sort the list in ascending order\n",
    "* Use the index to identify the second element (i.e., team) \n",
    "* Slice the list to identify the second and third elements (i.e., teams)\n",
    "* Develop a for loop that prints each team in the list "
   ]
  }
 ],
 "metadata": {
  "kernelspec": {
   "display_name": "Python 3",
   "language": "python",
   "name": "python3"
  },
  "language_info": {
   "codemirror_mode": {
    "name": "ipython",
    "version": 3
   },
   "file_extension": ".py",
   "mimetype": "text/x-python",
   "name": "python",
   "nbconvert_exporter": "python",
   "pygments_lexer": "ipython3",
   "version": "3.6.3"
  }
 },
 "nbformat": 4,
 "nbformat_minor": 2
}
