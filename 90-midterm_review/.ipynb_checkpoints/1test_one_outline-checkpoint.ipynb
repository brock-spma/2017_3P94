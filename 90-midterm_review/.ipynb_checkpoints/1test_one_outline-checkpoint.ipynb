{
 "cells": [
  {
   "cell_type": "markdown",
   "metadata": {},
   "source": [
    "# Test 1\n",
    "## Administration\n",
    "* February 28, 2018\n",
    "* In-class\n",
    "* Resources permitted: class notes and Internet\n",
    "* Collaboration is not permitted\n",
    "* Format: Short answer\n",
    "* Platform: Python 3 and Jupyter Notebook\n"
   ]
  },
  {
   "cell_type": "markdown",
   "metadata": {},
   "source": [
    "## Topics\n",
    "* Version control\n",
    "* Interactive development environments\n",
    "* Information Systems\n",
    "* Data Science \n",
    "* Python fundamentals\n",
    "* Data structures\n",
    "* Control-flow"
   ]
  },
  {
   "cell_type": "markdown",
   "metadata": {},
   "source": [
    "## Objectives \n",
    "* Demonstrate ability to obtain resources from version control systems (i.e. GitHub)\n",
    "* Demonstrate ability to effectively use Jupyter Notebook (i.e., import modules, markdown, code(\n",
    "* Implement effective and well-structured python code\n",
    "* Integrate Python operators into code\n",
    "* Knowledge of Information Systems and articulate its relevance to Sport Management\n",
    "* Demonstrate Knowledge of Data Science field and articulate its relevance to Sport Management\n",
    "* Understand the structure of Python\n",
    "* Manipulate python objects to write purposeful Python scripts\n",
    "* Identify various data structures\n",
    "* Demonstrate knowledge of data structure attributes\n",
    "* Understand and implement indexing\n",
    "* Effectively write control-flow scripts "
   ]
  },
  {
   "cell_type": "code",
   "execution_count": null,
   "metadata": {
    "format": "column"
   },
   "outputs": [],
   "source": []
  }
 ],
 "metadata": {
  "kernelspec": {
   "display_name": "Python 3",
   "language": "python",
   "name": "python3"
  },
  "language_info": {
   "codemirror_mode": {
    "name": "ipython",
    "version": 3
   },
   "file_extension": ".py",
   "mimetype": "text/x-python",
   "name": "python",
   "nbconvert_exporter": "python",
   "pygments_lexer": "ipython3",
   "version": "3.6.3"
  }
 },
 "nbformat": 4,
 "nbformat_minor": 2
}
