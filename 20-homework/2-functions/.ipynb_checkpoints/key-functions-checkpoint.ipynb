{
 "cells": [
  {
   "cell_type": "markdown",
   "metadata": {
    "slideshow": {
     "slide_type": "slide"
    }
   },
   "source": [
    "# Functions: homework assignment"
   ]
  },
  {
   "cell_type": "markdown",
   "metadata": {
    "slideshow": {
     "slide_type": "slide"
    }
   },
   "source": [
    "## Instructions\n",
    "* Develop functions to execute the following commands or calculate the following values\n",
    "* First, derive the require commands for a specific case\n",
    "* Then, create a function to generalize the commands\n",
    "* Use dictionary below as input arguments "
   ]
  },
  {
   "cell_type": "markdown",
   "metadata": {},
   "source": [
    "### Part I\n",
    "* Create a function that returns the team name, winning percentage, and expected winning percentage values\n",
    "* Return the values to a dictionary"
   ]
  },
  {
   "cell_type": "markdown",
   "metadata": {},
   "source": [
    "### Part II\n",
    "* Create an empty dictionary called PERF to denote team performance\n",
    "* Create a for loop to pass each team values as arguements into the function\n",
    "* Append the returned values to the PERF dictionary\n",
    "* The final PERF dictionary should contain the all team names, their winning percentage and expected winning percentage values\n"
   ]
  },
  {
   "cell_type": "code",
   "execution_count": 1,
   "metadata": {},
   "outputs": [],
   "source": [
    "import os\n",
    "import sys\n",
    "import pandas\n",
    "import numpy\n",
    "pandas.set_option('display.notebook_repr_html', True)\n",
    "pandas.set_option('display.max_columns', 30)\n",
    "pandas.set_option('display.max_rows', 25)"
   ]
  },
  {
   "cell_type": "markdown",
   "metadata": {},
   "source": [
    "## Source data\n",
    "* Dictionary"
   ]
  },
  {
   "cell_type": "code",
   "execution_count": 2,
   "metadata": {},
   "outputs": [
    {
     "data": {
      "text/plain": [
       "dict_keys(['ANA', 'ATL', 'BOS', 'BUF', 'CAR', 'CBJ', 'CGY', 'CHI', 'COL', 'DAL', 'DET', 'EDM', 'FLA', 'LA', 'MIN', 'MTL', 'NJ', 'NSH', 'NYI', 'NYR', 'OTT', 'PHI', 'PHX', 'PIT', 'SJ', 'STL', 'TB', 'TOR', 'VAN', 'WSH'])"
      ]
     },
     "execution_count": 2,
     "metadata": {},
     "output_type": "execute_result"
    }
   ],
   "source": [
    "dd = pandas.read_csv('NHL_season_team_goals.csv', index_col='Team')\n",
    "dd = dd.to_dict(orient='index')\n",
    "dd.keys()"
   ]
  },
  {
   "cell_type": "markdown",
   "metadata": {},
   "source": [
    "## Solutions"
   ]
  },
  {
   "cell_type": "markdown",
   "metadata": {},
   "source": [
    "### Part I\n",
    "* Create a function that returns the team name, winning percentage, and expected winning percentage values\n",
    "* Return the values to a dictionary"
   ]
  },
  {
   "cell_type": "markdown",
   "metadata": {},
   "source": [
    "Function that returns a dictionary of each team's winning percentage and expected winning percentage"
   ]
  },
  {
   "cell_type": "code",
   "execution_count": 16,
   "metadata": {},
   "outputs": [],
   "source": [
    "def get_team_info(_team):\n",
    "    \"\"\"Return a dictionary of one team's \n",
    "    winning percentage and expected winning percentage\"\"\"\n",
    "    team = _team\n",
    "    wins = dd.get(_team)['Wins']\n",
    "    gp = dd.get(_team)['GamesPlayed']\n",
    "    gf = dd.get(_team)['GoalsFor']\n",
    "    ga = dd.get(_team)['GoalsAllowed']\n",
    "    WP = format(wins/gp, '.4f')\n",
    "    EWP = format(gf / (gf + ga), '.4f')\n",
    "    metrics = {'WP': WP, 'EWP': EWP}\n",
    "    return({team: metrics})"
   ]
  },
  {
   "cell_type": "markdown",
   "metadata": {},
   "source": [
    "### Part II\n",
    "* Create an empty dictionary called PERF to denote team performance\n",
    "* Create a for loop to pass each team values as arguements into the function\n",
    "* Append the returned values to the PERF dictionary\n",
    "* The final PERF dictionary should contain the all team names, their winning percentage and expected winning percentage values\n"
   ]
  },
  {
   "cell_type": "markdown",
   "metadata": {},
   "source": [
    "For loop that assemble dictionary of all team's winning percentage and expected winning percentage"
   ]
  },
  {
   "cell_type": "code",
   "execution_count": 18,
   "metadata": {},
   "outputs": [
    {
     "data": {
      "text/plain": [
       "{'ANA': {'EWP': '0.5021', 'WP': '0.5732'},\n",
       " 'ATL': {'EWP': '0.4542', 'WP': '0.4146'},\n",
       " 'BOS': {'EWP': '0.5635', 'WP': '0.5610'},\n",
       " 'BUF': {'EWP': '0.5128', 'WP': '0.5244'},\n",
       " 'CAR': {'EWP': '0.4968', 'WP': '0.4878'},\n",
       " 'CBJ': {'EWP': '0.4565', 'WP': '0.4146'},\n",
       " 'CGY': {'EWP': '0.5117', 'WP': '0.5000'},\n",
       " 'CHI': {'EWP': '0.5339', 'WP': '0.5366'},\n",
       " 'COL': {'EWP': '0.4350', 'WP': '0.3659'},\n",
       " 'DAL': {'EWP': '0.4955', 'WP': '0.5122'},\n",
       " 'DET': {'EWP': '0.5202', 'WP': '0.5732'},\n",
       " 'EDM': {'EWP': '0.4235', 'WP': '0.3049'},\n",
       " 'FLA': {'EWP': '0.4625', 'WP': '0.3659'},\n",
       " 'LA': {'EWP': '0.5160', 'WP': '0.5488'},\n",
       " 'MIN': {'EWP': '0.4710', 'WP': '0.4756'},\n",
       " 'MTL': {'EWP': '0.5084', 'WP': '0.5366'},\n",
       " 'NJ': {'EWP': '0.4524', 'WP': '0.4634'},\n",
       " 'NSH': {'EWP': '0.5285', 'WP': '0.5366'},\n",
       " 'NYI': {'EWP': '0.4658', 'WP': '0.3659'},\n",
       " 'NYR': {'EWP': '0.5346', 'WP': '0.5366'},\n",
       " 'OTT': {'EWP': '0.4368', 'WP': '0.3902'},\n",
       " 'PHI': {'EWP': '0.5424', 'WP': '0.5732'},\n",
       " 'PHX': {'EWP': '0.5067', 'WP': '0.5244'},\n",
       " 'PIT': {'EWP': '0.5377', 'WP': '0.5976'},\n",
       " 'SJ': {'EWP': '0.5388', 'WP': '0.5854'},\n",
       " 'STL': {'EWP': '0.5086', 'WP': '0.4634'},\n",
       " 'TB': {'EWP': '0.5074', 'WP': '0.5610'},\n",
       " 'TOR': {'EWP': '0.4651', 'WP': '0.4512'},\n",
       " 'VAN': {'EWP': '0.5890', 'WP': '0.6707'},\n",
       " 'WSH': {'EWP': '0.5341', 'WP': '0.5854'}}"
      ]
     },
     "execution_count": 18,
     "metadata": {},
     "output_type": "execute_result"
    }
   ],
   "source": [
    "PERF = {}\n",
    "for team in dd.keys():\n",
    "    temp = get_team_info(team)\n",
    "    PERF.update(temp)\n",
    "    \n",
    "PERF"
   ]
  }
 ],
 "metadata": {
  "kernelspec": {
   "display_name": "Python 3",
   "language": "python",
   "name": "python3"
  },
  "language_info": {
   "codemirror_mode": {
    "name": "ipython",
    "version": 3
   },
   "file_extension": ".py",
   "mimetype": "text/x-python",
   "name": "python",
   "nbconvert_exporter": "python",
   "pygments_lexer": "ipython3",
   "version": "3.6.3"
  }
 },
 "nbformat": 4,
 "nbformat_minor": 2
}
