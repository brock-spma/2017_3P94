{
 "cells": [
  {
   "cell_type": "markdown",
   "metadata": {
    "slideshow": {
     "slide_type": "slide"
    }
   },
   "source": [
    "# Functions: homework assignment"
   ]
  },
  {
   "cell_type": "markdown",
   "metadata": {
    "slideshow": {
     "slide_type": "slide"
    }
   },
   "source": [
    "## Instructions\n",
    "* Develop functions to execute the following commands or calculate the following values\n",
    "* First, derive the require commands for a specific case\n",
    "* Then, create a function to generalize the commands\n",
    "* Use dictionary below as input arguments "
   ]
  },
  {
   "cell_type": "markdown",
   "metadata": {},
   "source": [
    "### Part I\n",
    "* Create a function that returns the team name, winning percentage, and expected winning percentage values\n",
    "* Return the values to a dictionary"
   ]
  },
  {
   "cell_type": "markdown",
   "metadata": {},
   "source": [
    "### Part II\n",
    "* Create an empty dictionary called PERF to denote team performance\n",
    "* Create a for loop to pass each team values as arguements into the function\n",
    "* Append the returned values to the PERF dictionary\n",
    "* The final PERF dictionary should contain the all team names, their winning percentage and expected winning percentage values\n"
   ]
  },
  {
   "cell_type": "code",
   "execution_count": 1,
   "metadata": {},
   "outputs": [],
   "source": [
    "import os\n",
    "import sys\n",
    "import pandas\n",
    "import numpy\n",
    "pandas.set_option('display.notebook_repr_html', True)\n",
    "pandas.set_option('display.max_columns', 30)\n",
    "pandas.set_option('display.max_rows', 25)"
   ]
  },
  {
   "cell_type": "markdown",
   "metadata": {},
   "source": [
    "## Source data\n",
    "* Dictionary"
   ]
  },
  {
   "cell_type": "code",
   "execution_count": 2,
   "metadata": {},
   "outputs": [
    {
     "name": "stdout",
     "output_type": "stream",
     "text": [
      "dict_keys(['ANA', 'ATL', 'BOS', 'BUF', 'CAR', 'CBJ', 'CGY', 'CHI', 'COL', 'DAL', 'DET', 'EDM', 'FLA', 'LA', 'MIN', 'MTL', 'NJ', 'NSH', 'NYI', 'NYR', 'OTT', 'PHI', 'PHX', 'PIT', 'SJ', 'STL', 'TB', 'TOR', 'VAN', 'WSH'])\n"
     ]
    },
    {
     "data": {
      "text/plain": [
       "{'GamesPlayed': 82,\n",
       " 'GoalsAllowed': 233,\n",
       " 'GoalsFor': 235,\n",
       " 'Losses': 35,\n",
       " 'Wins': 47}"
      ]
     },
     "execution_count": 2,
     "metadata": {},
     "output_type": "execute_result"
    }
   ],
   "source": [
    "dd = pandas.read_csv('NHL_season_team_goals.csv', index_col='Team')\n",
    "dd = dd.to_dict(orient='index')\n",
    "print(dd.keys())\n",
    "dd.get('ANA')"
   ]
  },
  {
   "cell_type": "code",
   "execution_count": null,
   "metadata": {},
   "outputs": [],
   "source": []
  }
 ],
 "metadata": {
  "kernelspec": {
   "display_name": "Python 3",
   "language": "python",
   "name": "python3"
  },
  "language_info": {
   "codemirror_mode": {
    "name": "ipython",
    "version": 3
   },
   "file_extension": ".py",
   "mimetype": "text/x-python",
   "name": "python",
   "nbconvert_exporter": "python",
   "pygments_lexer": "ipython3",
   "version": "3.6.3"
  }
 },
 "nbformat": 4,
 "nbformat_minor": 2
}
