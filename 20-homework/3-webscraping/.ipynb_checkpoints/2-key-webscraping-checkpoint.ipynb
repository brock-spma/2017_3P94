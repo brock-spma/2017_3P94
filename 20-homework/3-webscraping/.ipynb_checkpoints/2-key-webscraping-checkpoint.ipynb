{
 "cells": [
  {
   "cell_type": "markdown",
   "metadata": {},
   "source": [
    "# Homework: part two\n",
    "* Collect NBA schedule data from ESPN.com for all NBA teams from 2002-2017"
   ]
  },
  {
   "cell_type": "code",
   "execution_count": null,
   "metadata": {},
   "outputs": [],
   "source": [
    "import pandas \n",
    "import requests\n",
    "from bs4 import BeautifulSoup\n",
    "from urllib.request import urlopen"
   ]
  },
  {
   "cell_type": "markdown",
   "metadata": {},
   "source": [
    "Execute part one to obtain team abbreviations"
   ]
  },
  {
   "cell_type": "code",
   "execution_count": null,
   "metadata": {},
   "outputs": [
    {
     "name": "stdout",
     "output_type": "stream",
     "text": [
      "['bos', 'bkn', 'nyk', 'phi', 'tor', 'gsw', 'lac', 'lal', 'pho', 'sac', 'chi', 'cle', 'det', 'ind', 'mil', 'dal', 'hou', 'mem', 'nor', 'sas', 'atl', 'cha', 'mia', 'orl', 'was', 'den', 'min', 'okc', 'por', 'uth']\n",
      "Number of game:  82\n",
      "bos\n",
      "bkn\n",
      "nyk\n",
      "phi\n",
      "tor\n",
      "gsw\n",
      "lac\n",
      "lal\n",
      "pho\n",
      "sac\n",
      "chi\n",
      "cle\n",
      "det\n",
      "ind\n",
      "mil\n",
      "dal\n",
      "hou\n"
     ]
    }
   ],
   "source": [
    "%run 1-key-webscraping.ipynb"
   ]
  },
  {
   "cell_type": "code",
   "execution_count": null,
   "metadata": {},
   "outputs": [],
   "source": [
    "print(dic_team['abv'])"
   ]
  },
  {
   "cell_type": "code",
   "execution_count": null,
   "metadata": {},
   "outputs": [],
   "source": [
    "BASE = 'http://www.espn.com/nba/team/schedule/_/name/'\n",
    "\n",
    "season = []\n",
    "team = []\n",
    "date = []\n",
    "opponent = []\n",
    "score = []\n",
    "points = []\n",
    "rebounds = []\n",
    "assists = []\n",
    "\n",
    "_year = range(2002, 2018)\n",
    "for YEAR in _year:\n",
    "    for TEAM in dic_team['abv']:\n",
    "        \n",
    "        BASE_URL = BASE + TEAM + '/year/' + str(YEAR)\n",
    "        URL = BASE_URL\n",
    "        \n",
    "        print(YEAR, TEAM, BASE_URL)\n",
    "\n",
    "        r = requests.get(URL)\n",
    "        soup = BeautifulSoup(r.text, 'lxml')\n",
    "        table = soup.table\n",
    "        \n",
    "        try:\n",
    "            rows = table.find_all('tr')\n",
    "            for row in rows[1:]:\n",
    "\n",
    "                if len(row)==7:\n",
    "                    season.append(YEAR)\n",
    "                    team.append(TEAM)\n",
    "                    td = row.find_all('td')\n",
    "                    date.append(td[0].text)\n",
    "                    points.append(td[4].text)\n",
    "                    rebounds.append(td[5].text)\n",
    "                    assists.append(td[6].text)\n",
    "\n",
    "                    try:\n",
    "                        _opponent = row.find('li', class_=\"team-name\")\n",
    "                        opponent.append(_opponent.text)\n",
    "                    except:\n",
    "                        opponent.append('Opponent')\n",
    "\n",
    "                    try:\n",
    "                        _score = row.find('li', class_=\"score\")\n",
    "                        score.append(_score.text)\n",
    "                    except:\n",
    "                        score.append('Score')\n",
    "        except:\n",
    "            print('No data available')\n",
    "\n",
    "dic_schedule = {'season': season, \n",
    "                    'team': team,\n",
    "                    'date': date, \n",
    "                    'opponent': opponent, \n",
    "                    'score': score, \n",
    "                    'points': points, \n",
    "                    'rebounds': rebounds, \n",
    "                    'assists': assists}\n",
    "dic_schedule.keys()"
   ]
  },
  {
   "cell_type": "markdown",
   "metadata": {},
   "source": [
    "Convert dictionary to dataframe"
   ]
  },
  {
   "cell_type": "code",
   "execution_count": null,
   "metadata": {},
   "outputs": [],
   "source": [
    "ds = pandas.DataFrame(dic_schedule)\n",
    "ds = ds[['season', 'team', 'date', 'opponent', 'score', 'points', 'rebounds', 'assists']]\n",
    "ds = ds[ds.opponent!='Opponent'] # drop column header observations\n",
    "print('Number of game: ', len(ds))\n",
    "ds.head()"
   ]
  },
  {
   "cell_type": "code",
   "execution_count": null,
   "metadata": {},
   "outputs": [],
   "source": [
    "ds.tail()"
   ]
  },
  {
   "cell_type": "markdown",
   "metadata": {},
   "source": [
    "Done"
   ]
  }
 ],
 "metadata": {
  "kernelspec": {
   "display_name": "Python 3",
   "language": "python",
   "name": "python3"
  },
  "language_info": {
   "codemirror_mode": {
    "name": "ipython",
    "version": 3
   },
   "file_extension": ".py",
   "mimetype": "text/x-python",
   "name": "python",
   "nbconvert_exporter": "python",
   "pygments_lexer": "ipython3",
   "version": "3.6.3"
  }
 },
 "nbformat": 4,
 "nbformat_minor": 2
}
