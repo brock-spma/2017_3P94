{
 "cells": [
  {
   "cell_type": "markdown",
   "metadata": {},
   "source": [
    "# Homework: part one\n",
    "* Collect NBA schedule data from ESPN.com for all NBA teams for the 2017 season"
   ]
  },
  {
   "cell_type": "markdown",
   "metadata": {},
   "source": [
    "## Solution"
   ]
  },
  {
   "cell_type": "code",
   "execution_count": 1,
   "metadata": {},
   "outputs": [],
   "source": [
    "import pandas \n",
    "import requests\n",
    "from bs4 import BeautifulSoup\n",
    "from urllib.request import urlopen"
   ]
  },
  {
   "cell_type": "markdown",
   "metadata": {},
   "source": [
    "### Get team abbreviations from main webpage"
   ]
  },
  {
   "cell_type": "code",
   "execution_count": 2,
   "metadata": {},
   "outputs": [
    {
     "data": {
      "text/plain": [
       "dict_keys(['team', 'home', 'stats', 'schedule', 'roster', 'depth'])"
      ]
     },
     "execution_count": 2,
     "metadata": {},
     "output_type": "execute_result"
    }
   ],
   "source": [
    "url = 'http://espn.go.com/nba/teams'\n",
    "r = requests.get(url)\n",
    "\n",
    "soup = BeautifulSoup(r.text, 'lxml')\n",
    "tables = soup.find_all('ul', class_='medium-logos')\n",
    "\n",
    "team = []\n",
    "home = []\n",
    "stats = []\n",
    "schedule = []\n",
    "roster = []\n",
    "depth = []\n",
    "\n",
    "for table in tables:\n",
    "    lis = table.find_all('li')\n",
    "    for li in lis:\n",
    "        # team names and base url\n",
    "        a1 = li.find('a', class_='bi')\n",
    "        team.append(a1.text) # team names \n",
    "        home.append(a1['href']) # base url\n",
    "        \n",
    "        # get stats \n",
    "        a1 = li.find('a', text='Stats') \n",
    "        stats.append(a1['href'])\n",
    "        \n",
    "        # get schedule \n",
    "        a1 = li.find('a', text='Schedule') \n",
    "        schedule.append(a1['href'])\n",
    "\n",
    "        # get roster\n",
    "        a1 = li.find('a', text='Roster')\n",
    "        roster.append(a1['href'])\n",
    "\n",
    "        # get depth chart\n",
    "        a1 = li.find('a', text='Depth Chart') \n",
    "        depth.append(a1['href'])\n",
    "\n",
    "        dic_team = {'team': team, 'home': home, 'stats': stats, 'schedule': schedule, 'roster': roster, 'depth': depth}\n",
    "\n",
    "dic_team.keys()"
   ]
  },
  {
   "cell_type": "markdown",
   "metadata": {},
   "source": [
    "### Obtain team abbreviations"
   ]
  },
  {
   "cell_type": "code",
   "execution_count": 3,
   "metadata": {},
   "outputs": [
    {
     "name": "stdout",
     "output_type": "stream",
     "text": [
      "['bos', 'bkn', 'nyk', 'phi', 'tor', 'gsw', 'lac', 'lal', 'pho', 'sac', 'chi', 'cle', 'det', 'ind', 'mil', 'dal', 'hou', 'mem', 'nor', 'sas', 'atl', 'cha', 'mia', 'orl', 'was', 'den', 'min', 'okc', 'por', 'uth']\n"
     ]
    }
   ],
   "source": [
    "abv = []\n",
    "list_url = dic_team['stats']\n",
    "for url in list_url:\n",
    "    temp = url.split('=')[1]\n",
    "    abv.append(temp)\n",
    "    \n",
    "temp_dict = {'abv': abv}\n",
    "dic_team.update(temp_dict); del temp_dict\n",
    "print(dic_team['abv'])"
   ]
  },
  {
   "cell_type": "markdown",
   "metadata": {},
   "source": [
    "### Collect schedule for one team: Boston"
   ]
  },
  {
   "cell_type": "code",
   "execution_count": 4,
   "metadata": {},
   "outputs": [
    {
     "data": {
      "text/plain": [
       "dict_keys(['season', 'team', 'date', 'opponent', 'score', 'points', 'rebounds', 'assists'])"
      ]
     },
     "execution_count": 4,
     "metadata": {},
     "output_type": "execute_result"
    }
   ],
   "source": [
    "BASE = 'http://www.espn.com/nba/team/schedule/_/name/'\n",
    "TEAM = 'bos'\n",
    "\n",
    "season = []\n",
    "team = []\n",
    "date = []\n",
    "opponent = []\n",
    "score = []\n",
    "points = []\n",
    "rebounds = []\n",
    "assists = []\n",
    "\n",
    "YEAR = 2017\n",
    "BASE_URL = BASE + TEAM + '/year/' + str(YEAR)\n",
    "URL = BASE_URL\n",
    "\n",
    "r = requests.get(URL)\n",
    "soup = BeautifulSoup(r.text, 'lxml')\n",
    "table = soup.table\n",
    "rows = table.find_all('tr')\n",
    "\n",
    "for row in rows[1:]:\n",
    "\n",
    "    if len(row)==7:\n",
    "        season.append(YEAR)\n",
    "        team.append(TEAM)\n",
    "        td = row.find_all('td')\n",
    "        date.append(td[0].text)\n",
    "        points.append(td[4].text)\n",
    "        rebounds.append(td[5].text)\n",
    "        assists.append(td[6].text)\n",
    "\n",
    "        try:\n",
    "            _opponent = row.find('li', class_=\"team-name\")\n",
    "            opponent.append(_opponent.text)\n",
    "        except:\n",
    "            opponent.append('Opponent')\n",
    "\n",
    "        try:\n",
    "            _score = row.find('li', class_=\"score\")\n",
    "            score.append(_score.text)\n",
    "        except:\n",
    "            score.append('Score')\n",
    "\n",
    "dic_schedule = {'season': season, \n",
    "                'team': team,\n",
    "                'date': date, \n",
    "                'opponent': opponent, \n",
    "                'score': score, \n",
    "                'points': points, \n",
    "                'rebounds': rebounds, \n",
    "                'assists': assists}\n",
    "dic_schedule.keys()"
   ]
  },
  {
   "cell_type": "markdown",
   "metadata": {},
   "source": [
    "Convert dictionary to dataframe"
   ]
  },
  {
   "cell_type": "code",
   "execution_count": 5,
   "metadata": {},
   "outputs": [
    {
     "name": "stdout",
     "output_type": "stream",
     "text": [
      "Number of game:  82\n"
     ]
    },
    {
     "data": {
      "text/html": [
       "<div>\n",
       "<style>\n",
       "    .dataframe thead tr:only-child th {\n",
       "        text-align: right;\n",
       "    }\n",
       "\n",
       "    .dataframe thead th {\n",
       "        text-align: left;\n",
       "    }\n",
       "\n",
       "    .dataframe tbody tr th {\n",
       "        vertical-align: top;\n",
       "    }\n",
       "</style>\n",
       "<table border=\"1\" class=\"dataframe\">\n",
       "  <thead>\n",
       "    <tr style=\"text-align: right;\">\n",
       "      <th></th>\n",
       "      <th>season</th>\n",
       "      <th>team</th>\n",
       "      <th>date</th>\n",
       "      <th>opponent</th>\n",
       "      <th>score</th>\n",
       "      <th>points</th>\n",
       "      <th>rebounds</th>\n",
       "      <th>assists</th>\n",
       "    </tr>\n",
       "  </thead>\n",
       "  <tbody>\n",
       "    <tr>\n",
       "      <th>1</th>\n",
       "      <td>2017</td>\n",
       "      <td>bos</td>\n",
       "      <td>Wed, Oct 26</td>\n",
       "      <td>Brooklyn</td>\n",
       "      <td>122-117</td>\n",
       "      <td>I. Thomas 25</td>\n",
       "      <td>J. Hamilton 10</td>\n",
       "      <td>I. Thomas 8</td>\n",
       "    </tr>\n",
       "    <tr>\n",
       "      <th>2</th>\n",
       "      <td>2017</td>\n",
       "      <td>bos</td>\n",
       "      <td>Thu, Oct 27</td>\n",
       "      <td>Chicago</td>\n",
       "      <td>105-99</td>\n",
       "      <td>I. Thomas 25</td>\n",
       "      <td>T. Gibson 10</td>\n",
       "      <td>R. Rondo 9</td>\n",
       "    </tr>\n",
       "    <tr>\n",
       "      <th>3</th>\n",
       "      <td>2017</td>\n",
       "      <td>bos</td>\n",
       "      <td>Sat, Oct 29</td>\n",
       "      <td>Charlotte</td>\n",
       "      <td>104-98</td>\n",
       "      <td>A. Bradley 31</td>\n",
       "      <td>A. Bradley 11</td>\n",
       "      <td>I. Thomas 7</td>\n",
       "    </tr>\n",
       "    <tr>\n",
       "      <th>5</th>\n",
       "      <td>2017</td>\n",
       "      <td>bos</td>\n",
       "      <td>Wed, Nov 2</td>\n",
       "      <td>Chicago</td>\n",
       "      <td>107-100</td>\n",
       "      <td>A. Johnson 23</td>\n",
       "      <td>R. Rondo 9</td>\n",
       "      <td>I. Thomas 10</td>\n",
       "    </tr>\n",
       "    <tr>\n",
       "      <th>6</th>\n",
       "      <td>2017</td>\n",
       "      <td>bos</td>\n",
       "      <td>Thu, Nov 3</td>\n",
       "      <td>Cleveland</td>\n",
       "      <td>128-122</td>\n",
       "      <td>L. James 30</td>\n",
       "      <td>T. Thompson 14</td>\n",
       "      <td>L. James 12</td>\n",
       "    </tr>\n",
       "  </tbody>\n",
       "</table>\n",
       "</div>"
      ],
      "text/plain": [
       "   season team         date   opponent    score         points  \\\n",
       "1    2017  bos  Wed, Oct 26   Brooklyn  122-117   I. Thomas 25   \n",
       "2    2017  bos  Thu, Oct 27    Chicago   105-99   I. Thomas 25   \n",
       "3    2017  bos  Sat, Oct 29  Charlotte   104-98  A. Bradley 31   \n",
       "5    2017  bos   Wed, Nov 2    Chicago  107-100  A. Johnson 23   \n",
       "6    2017  bos   Thu, Nov 3  Cleveland  128-122    L. James 30   \n",
       "\n",
       "         rebounds       assists  \n",
       "1  J. Hamilton 10   I. Thomas 8  \n",
       "2    T. Gibson 10    R. Rondo 9  \n",
       "3   A. Bradley 11   I. Thomas 7  \n",
       "5      R. Rondo 9  I. Thomas 10  \n",
       "6  T. Thompson 14   L. James 12  "
      ]
     },
     "execution_count": 5,
     "metadata": {},
     "output_type": "execute_result"
    }
   ],
   "source": [
    "ds = pandas.DataFrame(dic_schedule)\n",
    "ds = ds[['season', 'team', 'date', 'opponent', 'score', 'points', 'rebounds', 'assists']]\n",
    "ds = ds[ds.opponent!='Opponent'] # drop column header observations\n",
    "print('Number of game: ', len(ds))\n",
    "ds.head()"
   ]
  },
  {
   "cell_type": "markdown",
   "metadata": {},
   "source": [
    "### Collect schedule for all teams"
   ]
  },
  {
   "cell_type": "code",
   "execution_count": 7,
   "metadata": {},
   "outputs": [
    {
     "name": "stdout",
     "output_type": "stream",
     "text": [
      "bos\n",
      "bkn\n",
      "nyk\n",
      "phi\n",
      "tor\n",
      "gsw\n",
      "lac\n",
      "lal\n",
      "pho\n",
      "sac\n",
      "chi\n",
      "cle\n",
      "det\n",
      "ind\n",
      "mil\n",
      "dal\n",
      "hou\n",
      "mem\n",
      "nor\n",
      "sas\n",
      "atl\n",
      "cha\n",
      "mia\n",
      "orl\n",
      "was\n",
      "den\n",
      "min\n",
      "okc\n",
      "por\n",
      "uth\n"
     ]
    },
    {
     "data": {
      "text/plain": [
       "dict_keys(['season', 'team', 'date', 'opponent', 'score', 'points', 'rebounds', 'assists'])"
      ]
     },
     "execution_count": 7,
     "metadata": {},
     "output_type": "execute_result"
    }
   ],
   "source": [
    "BASE = 'http://www.espn.com/nba/team/schedule/_/name/'\n",
    "\n",
    "season = []\n",
    "team = []\n",
    "date = []\n",
    "opponent = []\n",
    "score = []\n",
    "points = []\n",
    "rebounds = []\n",
    "assists = []\n",
    "\n",
    "YEAR = 2017\n",
    "for TEAM in dic_team['abv']:\n",
    "    print(TEAM)\n",
    "    BASE_URL = BASE + TEAM + '/year/' + str(YEAR)\n",
    "    URL = BASE_URL\n",
    "\n",
    "    r = requests.get(URL)\n",
    "    soup = BeautifulSoup(r.text, 'lxml')\n",
    "    table = soup.table\n",
    "    rows = table.find_all('tr')\n",
    "\n",
    "    for row in rows[1:]:\n",
    "\n",
    "        if len(row)==7:\n",
    "            season.append(YEAR)\n",
    "            team.append(TEAM)\n",
    "            td = row.find_all('td')\n",
    "            date.append(td[0].text)\n",
    "            points.append(td[4].text)\n",
    "            rebounds.append(td[5].text)\n",
    "            assists.append(td[6].text)\n",
    "\n",
    "            try:\n",
    "                _opponent = row.find('li', class_=\"team-name\")\n",
    "                opponent.append(_opponent.text)\n",
    "            except:\n",
    "                opponent.append('Opponent')\n",
    "\n",
    "            try:\n",
    "                _score = row.find('li', class_=\"score\")\n",
    "                score.append(_score.text)\n",
    "            except:\n",
    "                score.append('Score')\n",
    "\n",
    "dic_schedule = {'season': season, \n",
    "                    'team': team,\n",
    "                    'date': date, \n",
    "                    'opponent': opponent, \n",
    "                    'score': score, \n",
    "                    'points': points, \n",
    "                    'rebounds': rebounds, \n",
    "                    'assists': assists}\n",
    "dic_schedule.keys()"
   ]
  },
  {
   "cell_type": "markdown",
   "metadata": {},
   "source": [
    "Convert dictionary to dataframe"
   ]
  },
  {
   "cell_type": "code",
   "execution_count": null,
   "metadata": {},
   "outputs": [],
   "source": [
    "ds = pandas.DataFrame(dic_schedule)\n",
    "ds = ds[['season', 'team', 'date', 'opponent', 'score', 'points', 'rebounds', 'assists']]\n",
    "ds = ds[ds.opponent!='Opponent'] # drop column header observations\n",
    "print('Number of game: ', len(ds))\n",
    "ds.head()"
   ]
  },
  {
   "cell_type": "code",
   "execution_count": null,
   "metadata": {},
   "outputs": [],
   "source": [
    "ds.tail()"
   ]
  },
  {
   "cell_type": "code",
   "execution_count": null,
   "metadata": {},
   "outputs": [],
   "source": []
  }
 ],
 "metadata": {
  "kernelspec": {
   "display_name": "Python 3",
   "language": "python",
   "name": "python3"
  },
  "language_info": {
   "codemirror_mode": {
    "name": "ipython",
    "version": 3
   },
   "file_extension": ".py",
   "mimetype": "text/x-python",
   "name": "python",
   "nbconvert_exporter": "python",
   "pygments_lexer": "ipython3",
   "version": "3.6.3"
  }
 },
 "nbformat": 4,
 "nbformat_minor": 2
}
