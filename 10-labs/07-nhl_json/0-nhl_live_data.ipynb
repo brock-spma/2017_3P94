{
 "cells": [
  {
   "cell_type": "markdown",
   "metadata": {},
   "source": [
    "# NHL live play by play\n",
    "* http://statsapi.web.nhl.com/api/v1/game/2016020001/feed/live"
   ]
  },
  {
   "cell_type": "markdown",
   "metadata": {},
   "source": [
    "## Create dataframes with the following units of observations:\n",
    "* Box scores: season-game-team\n",
    "* Game roster: season-game-team-player\n",
    "* Player information: player\n",
    "* Play-by-play: season-game-play\n",
    "\n",
    "## Process\n",
    "* Create data architecture\n",
    "* Obtain data\n",
    "* Write functions and loops to store extracted data to python data structures (e.g., dictionary)\n",
    "* Write for loops to extract content on similarly structured webpages\n",
    "* Convert to dataframe"
   ]
  },
  {
   "cell_type": "code",
   "execution_count": 9,
   "metadata": {},
   "outputs": [],
   "source": [
    "import json\n",
    "\n",
    "with open('NHL2016020001.json', 'r') as f:\n",
    "     gm_dict = json.load(f)"
   ]
  },
  {
   "cell_type": "code",
   "execution_count": 10,
   "metadata": {},
   "outputs": [
    {
     "data": {
      "text/plain": [
       "dict_keys(['copyright', 'gamePk', 'link', 'metaData', 'gameData', 'liveData'])"
      ]
     },
     "execution_count": 10,
     "metadata": {},
     "output_type": "execute_result"
    }
   ],
   "source": [
    "gm_dict.keys()"
   ]
  }
 ],
 "metadata": {
  "kernelspec": {
   "display_name": "Python 3",
   "language": "python",
   "name": "python3"
  },
  "language_info": {
   "codemirror_mode": {
    "name": "ipython",
    "version": 3
   },
   "file_extension": ".py",
   "mimetype": "text/x-python",
   "name": "python",
   "nbconvert_exporter": "python",
   "pygments_lexer": "ipython3",
   "version": "3.6.3"
  }
 },
 "nbformat": 4,
 "nbformat_minor": 2
}
