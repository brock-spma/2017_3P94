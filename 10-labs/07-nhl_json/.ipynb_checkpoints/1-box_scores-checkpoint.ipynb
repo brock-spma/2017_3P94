{
 "cells": [
  {
   "cell_type": "markdown",
   "metadata": {},
   "source": [
    "## NHL live in-game data\n",
    "\n",
    "## Box scores\n",
    "* season-game-team information"
   ]
  },
  {
   "cell_type": "code",
   "execution_count": 1,
   "metadata": {},
   "outputs": [
    {
     "data": {
      "text/plain": [
       "dict_keys(['copyright', 'gamePk', 'link', 'metaData', 'gameData', 'liveData'])"
      ]
     },
     "execution_count": 1,
     "metadata": {},
     "output_type": "execute_result"
    }
   ],
   "source": [
    "import json\n",
    "import pandas\n",
    "import numpy\n",
    "\n",
    "with open('NHL2016020001.json', 'r') as f:\n",
    "     gm_dict = json.load(f)\n",
    "gm_dict.keys()"
   ]
  },
  {
   "cell_type": "markdown",
   "metadata": {},
   "source": [
    "### Data architecture\n",
    "* seaon-game\n",
    "* season-game-team"
   ]
  },
  {
   "cell_type": "markdown",
   "metadata": {},
   "source": [
    "### Season-game"
   ]
  },
  {
   "cell_type": "code",
   "execution_count": 2,
   "metadata": {},
   "outputs": [
    {
     "data": {
      "text/plain": [
       "dict_keys(['game', 'datetime', 'status', 'teams', 'players', 'venue'])"
      ]
     },
     "execution_count": 2,
     "metadata": {},
     "output_type": "execute_result"
    }
   ],
   "source": [
    "gameData = gm_dict.get('gameData')\n",
    "gameData.keys()"
   ]
  },
  {
   "cell_type": "code",
   "execution_count": 3,
   "metadata": {},
   "outputs": [
    {
     "data": {
      "text/plain": [
       "{'pk': 2016020001, 'season': '20162017', 'type': 'R'}"
      ]
     },
     "execution_count": 3,
     "metadata": {},
     "output_type": "execute_result"
    }
   ],
   "source": [
    "game = gameData['game']\n",
    "game"
   ]
  },
  {
   "cell_type": "code",
   "execution_count": 4,
   "metadata": {},
   "outputs": [
    {
     "data": {
      "text/plain": [
       "{'dateTime': '2016-10-12T23:00:00Z', 'endDateTime': '2016-10-13T01:56:40Z'}"
      ]
     },
     "execution_count": 4,
     "metadata": {},
     "output_type": "execute_result"
    }
   ],
   "source": [
    "datetime =  gameData['datetime']\n",
    "datetime"
   ]
  },
  {
   "cell_type": "markdown",
   "metadata": {},
   "source": [
    "### Season-game-team"
   ]
  },
  {
   "cell_type": "code",
   "execution_count": 5,
   "metadata": {},
   "outputs": [
    {
     "data": {
      "text/plain": [
       "dict_keys(['away', 'home'])"
      ]
     },
     "execution_count": 5,
     "metadata": {},
     "output_type": "execute_result"
    }
   ],
   "source": [
    "teams = gameData['teams']\n",
    "teams.keys()"
   ]
  },
  {
   "cell_type": "markdown",
   "metadata": {},
   "source": [
    "Function to obtain team identification"
   ]
  },
  {
   "cell_type": "code",
   "execution_count": 6,
   "metadata": {},
   "outputs": [],
   "source": [
    "def get_team_info(designation):\n",
    "    team = dict()\n",
    "    team.update({'shortName': teams[designation]['shortName']})\n",
    "#     team.update({'id': teams[designation]['id']})\n",
    "    return(team)"
   ]
  },
  {
   "cell_type": "code",
   "execution_count": 7,
   "metadata": {},
   "outputs": [
    {
     "data": {
      "text/plain": [
       "{'shortName': 'Ottawa'}"
      ]
     },
     "execution_count": 7,
     "metadata": {},
     "output_type": "execute_result"
    }
   ],
   "source": [
    "get_team_info('home')"
   ]
  },
  {
   "cell_type": "code",
   "execution_count": 8,
   "metadata": {},
   "outputs": [
    {
     "data": {
      "text/plain": [
       "{'shortName': 'Toronto'}"
      ]
     },
     "execution_count": 8,
     "metadata": {},
     "output_type": "execute_result"
    }
   ],
   "source": [
    "get_team_info('away')"
   ]
  },
  {
   "cell_type": "markdown",
   "metadata": {},
   "source": [
    "Function to obtain team-game stats"
   ]
  },
  {
   "cell_type": "code",
   "execution_count": 9,
   "metadata": {},
   "outputs": [],
   "source": [
    "def get_team_stats(designation):\n",
    "    stats = dict()\n",
    "    temp = gm_dict['liveData']['boxscore']['teams'][designation]['teamStats']['teamSkaterStats']\n",
    "    stats.update(temp)\n",
    "    return(stats)"
   ]
  },
  {
   "cell_type": "code",
   "execution_count": 10,
   "metadata": {},
   "outputs": [
    {
     "data": {
      "text/plain": [
       "{'blocked': 25,\n",
       " 'faceOffWinPercentage': '48.5',\n",
       " 'giveaways': 11,\n",
       " 'goals': 5,\n",
       " 'hits': 30,\n",
       " 'pim': 15,\n",
       " 'powerPlayGoals': 0.0,\n",
       " 'powerPlayOpportunities': 2.0,\n",
       " 'powerPlayPercentage': '0.0',\n",
       " 'shots': 30,\n",
       " 'takeaways': 6}"
      ]
     },
     "execution_count": 10,
     "metadata": {},
     "output_type": "execute_result"
    }
   ],
   "source": [
    "get_team_stats('home')"
   ]
  },
  {
   "cell_type": "markdown",
   "metadata": {},
   "source": [
    "Create dictionary: game-team "
   ]
  },
  {
   "cell_type": "code",
   "execution_count": 11,
   "metadata": {},
   "outputs": [
    {
     "data": {
      "text/plain": [
       "{'blocked': 25,\n",
       " 'dateTime': '2016-10-12T23:00:00Z',\n",
       " 'endDateTime': '2016-10-13T01:56:40Z',\n",
       " 'faceOffWinPercentage': '48.5',\n",
       " 'giveaways': 11,\n",
       " 'goals': 5,\n",
       " 'hits': 30,\n",
       " 'pim': 15,\n",
       " 'pk': 2016020001,\n",
       " 'powerPlayGoals': 0.0,\n",
       " 'powerPlayOpportunities': 2.0,\n",
       " 'powerPlayPercentage': '0.0',\n",
       " 'season': '20162017',\n",
       " 'shortName': 'Ottawa',\n",
       " 'shots': 30,\n",
       " 'takeaways': 6,\n",
       " 'type': 'R'}"
      ]
     },
     "execution_count": 11,
     "metadata": {},
     "output_type": "execute_result"
    }
   ],
   "source": [
    "_H = dict()\n",
    "_H.update(game)\n",
    "_H.update(datetime)\n",
    "_H.update(get_team_info('home'))\n",
    "_H.update(get_team_stats('home'))\n",
    "_H"
   ]
  },
  {
   "cell_type": "code",
   "execution_count": 12,
   "metadata": {},
   "outputs": [
    {
     "data": {
      "text/html": [
       "<div>\n",
       "<style>\n",
       "    .dataframe thead tr:only-child th {\n",
       "        text-align: right;\n",
       "    }\n",
       "\n",
       "    .dataframe thead th {\n",
       "        text-align: left;\n",
       "    }\n",
       "\n",
       "    .dataframe tbody tr th {\n",
       "        vertical-align: top;\n",
       "    }\n",
       "</style>\n",
       "<table border=\"1\" class=\"dataframe\">\n",
       "  <thead>\n",
       "    <tr style=\"text-align: right;\">\n",
       "      <th></th>\n",
       "      <th>blocked</th>\n",
       "      <th>dateTime</th>\n",
       "      <th>endDateTime</th>\n",
       "      <th>faceOffWinPercentage</th>\n",
       "      <th>giveaways</th>\n",
       "      <th>goals</th>\n",
       "      <th>hits</th>\n",
       "      <th>pim</th>\n",
       "      <th>pk</th>\n",
       "      <th>powerPlayGoals</th>\n",
       "      <th>powerPlayOpportunities</th>\n",
       "      <th>powerPlayPercentage</th>\n",
       "      <th>season</th>\n",
       "      <th>shortName</th>\n",
       "      <th>shots</th>\n",
       "      <th>takeaways</th>\n",
       "      <th>type</th>\n",
       "    </tr>\n",
       "  </thead>\n",
       "  <tbody>\n",
       "    <tr>\n",
       "      <th>0</th>\n",
       "      <td>25</td>\n",
       "      <td>2016-10-12T23:00:00Z</td>\n",
       "      <td>2016-10-13T01:56:40Z</td>\n",
       "      <td>48.5</td>\n",
       "      <td>11</td>\n",
       "      <td>5</td>\n",
       "      <td>30</td>\n",
       "      <td>15</td>\n",
       "      <td>2016020001</td>\n",
       "      <td>0.0</td>\n",
       "      <td>2.0</td>\n",
       "      <td>0.0</td>\n",
       "      <td>20162017</td>\n",
       "      <td>Ottawa</td>\n",
       "      <td>30</td>\n",
       "      <td>6</td>\n",
       "      <td>R</td>\n",
       "    </tr>\n",
       "  </tbody>\n",
       "</table>\n",
       "</div>"
      ],
      "text/plain": [
       "   blocked              dateTime           endDateTime faceOffWinPercentage  \\\n",
       "0       25  2016-10-12T23:00:00Z  2016-10-13T01:56:40Z                 48.5   \n",
       "\n",
       "   giveaways  goals  hits  pim          pk  powerPlayGoals  \\\n",
       "0         11      5    30   15  2016020001             0.0   \n",
       "\n",
       "   powerPlayOpportunities powerPlayPercentage    season shortName  shots  \\\n",
       "0                     2.0                 0.0  20162017    Ottawa     30   \n",
       "\n",
       "   takeaways type  \n",
       "0          6    R  "
      ]
     },
     "execution_count": 12,
     "metadata": {},
     "output_type": "execute_result"
    }
   ],
   "source": [
    "dh = pandas.DataFrame.from_dict([_H])\n",
    "dh"
   ]
  },
  {
   "cell_type": "markdown",
   "metadata": {},
   "source": [
    "Function to create dictionary: game-team "
   ]
  },
  {
   "cell_type": "code",
   "execution_count": 13,
   "metadata": {},
   "outputs": [],
   "source": [
    "def build_game_team(designation):\n",
    "    _D = dict()\n",
    "    _D.update(game)\n",
    "    _D.update(datetime)\n",
    "    _D.update(get_team_info(designation))\n",
    "    _D.update(get_team_stats(designation))\n",
    "    return({designation: _D})"
   ]
  },
  {
   "cell_type": "code",
   "execution_count": 14,
   "metadata": {},
   "outputs": [
    {
     "data": {
      "text/plain": [
       "{'home': {'blocked': 25,\n",
       "  'dateTime': '2016-10-12T23:00:00Z',\n",
       "  'endDateTime': '2016-10-13T01:56:40Z',\n",
       "  'faceOffWinPercentage': '48.5',\n",
       "  'giveaways': 11,\n",
       "  'goals': 5,\n",
       "  'hits': 30,\n",
       "  'pim': 15,\n",
       "  'pk': 2016020001,\n",
       "  'powerPlayGoals': 0.0,\n",
       "  'powerPlayOpportunities': 2.0,\n",
       "  'powerPlayPercentage': '0.0',\n",
       "  'season': '20162017',\n",
       "  'shortName': 'Ottawa',\n",
       "  'shots': 30,\n",
       "  'takeaways': 6,\n",
       "  'type': 'R'}}"
      ]
     },
     "execution_count": 14,
     "metadata": {},
     "output_type": "execute_result"
    }
   ],
   "source": [
    "hg = build_game_team('home')\n",
    "hg"
   ]
  },
  {
   "cell_type": "code",
   "execution_count": 15,
   "metadata": {},
   "outputs": [
    {
     "data": {
      "text/plain": [
       "{'away': {'blocked': 9,\n",
       "  'dateTime': '2016-10-12T23:00:00Z',\n",
       "  'endDateTime': '2016-10-13T01:56:40Z',\n",
       "  'faceOffWinPercentage': '51.5',\n",
       "  'giveaways': 6,\n",
       "  'goals': 4,\n",
       "  'hits': 21,\n",
       "  'pim': 11,\n",
       "  'pk': 2016020001,\n",
       "  'powerPlayGoals': 0.0,\n",
       "  'powerPlayOpportunities': 4.0,\n",
       "  'powerPlayPercentage': '0.0',\n",
       "  'season': '20162017',\n",
       "  'shortName': 'Toronto',\n",
       "  'shots': 38,\n",
       "  'takeaways': 8,\n",
       "  'type': 'R'}}"
      ]
     },
     "execution_count": 15,
     "metadata": {},
     "output_type": "execute_result"
    }
   ],
   "source": [
    "ag = build_game_team('away')\n",
    "ag"
   ]
  },
  {
   "cell_type": "markdown",
   "metadata": {},
   "source": [
    "Convert dictionary to dataframe"
   ]
  },
  {
   "cell_type": "code",
   "execution_count": 16,
   "metadata": {},
   "outputs": [
    {
     "ename": "NameError",
     "evalue": "name 'hf' is not defined",
     "output_type": "error",
     "traceback": [
      "\u001b[1;31m---------------------------------------------------------------------------\u001b[0m",
      "\u001b[1;31mNameError\u001b[0m                                 Traceback (most recent call last)",
      "\u001b[1;32m<ipython-input-16-ce6105c9a9b4>\u001b[0m in \u001b[0;36m<module>\u001b[1;34m()\u001b[0m\n\u001b[1;32m----> 1\u001b[1;33m \u001b[0mdh\u001b[0m \u001b[1;33m=\u001b[0m \u001b[0mpandas\u001b[0m\u001b[1;33m.\u001b[0m\u001b[0mDataFrame\u001b[0m\u001b[1;33m.\u001b[0m\u001b[0mfrom_dict\u001b[0m\u001b[1;33m(\u001b[0m\u001b[0mhf\u001b[0m\u001b[1;33m,\u001b[0m \u001b[0morient\u001b[0m\u001b[1;33m=\u001b[0m\u001b[1;34m'index'\u001b[0m\u001b[1;33m)\u001b[0m\u001b[1;33m\u001b[0m\u001b[0m\n\u001b[0m\u001b[0;32m      2\u001b[0m \u001b[0mdh\u001b[0m\u001b[1;33m\u001b[0m\u001b[0m\n",
      "\u001b[1;31mNameError\u001b[0m: name 'hf' is not defined"
     ]
    }
   ],
   "source": [
    "dh = pandas.DataFrame.from_dict(hf, orient='index')\n",
    "dh"
   ]
  },
  {
   "cell_type": "markdown",
   "metadata": {},
   "source": [
    "Create dictionary: game-team (home and away)"
   ]
  },
  {
   "cell_type": "code",
   "execution_count": null,
   "metadata": {},
   "outputs": [],
   "source": [
    "_G = dict()\n",
    "_G.update(build_game_team('home'))\n",
    "_G.update(build_game_team('away'))\n",
    "_G"
   ]
  },
  {
   "cell_type": "markdown",
   "metadata": {},
   "source": [
    "Convert dictionary to dataframe\n",
    "* set keys as index"
   ]
  },
  {
   "cell_type": "code",
   "execution_count": null,
   "metadata": {},
   "outputs": [],
   "source": [
    "dg = pandas.DataFrame.from_dict(_G, orient='index')\n",
    "dg.head()"
   ]
  }
 ],
 "metadata": {
  "kernelspec": {
   "display_name": "Python 3",
   "language": "python",
   "name": "python3"
  },
  "language_info": {
   "codemirror_mode": {
    "name": "ipython",
    "version": 3
   },
   "file_extension": ".py",
   "mimetype": "text/x-python",
   "name": "python",
   "nbconvert_exporter": "python",
   "pygments_lexer": "ipython3",
   "version": "3.6.3"
  }
 },
 "nbformat": 4,
 "nbformat_minor": 2
}
