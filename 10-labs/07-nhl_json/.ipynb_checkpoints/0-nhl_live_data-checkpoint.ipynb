{
 "cells": [
  {
   "cell_type": "markdown",
   "metadata": {},
   "source": [
    "# NHL live play by play\n",
    "* http://statsapi.web.nhl.com/api/v1/game/2016020001/feed/live"
   ]
  },
  {
   "cell_type": "markdown",
   "metadata": {},
   "source": [
    "## Create dataframes with the following units of observations:\n",
    "* Box scores: season-game-team\n",
    "* Play-by-play: season-game-play\n",
    "* Game Roster: season-game-team-player\n",
    "* Player information: player\n",
    "\n",
    "\n",
    "## Process\n",
    "* Create data architecture\n",
    "* Obtain data\n",
    "* Write functions and loops to store extracted data to python data structures (e.g., dictionary)\n",
    "* Write for loops to extract content on similarly structured webpages\n",
    "* Convert to dataframe"
   ]
  },
  {
   "cell_type": "code",
   "execution_count": 2,
   "metadata": {},
   "outputs": [],
   "source": [
    "import json\n",
    "\n",
    "with open('NHL2016020001.json', 'r') as f:\n",
    "     gm_dict = json.load(f)"
   ]
  },
  {
   "cell_type": "code",
   "execution_count": 3,
   "metadata": {},
   "outputs": [
    {
     "data": {
      "text/plain": [
       "dict_keys(['copyright', 'gamePk', 'link', 'metaData', 'gameData', 'liveData'])"
      ]
     },
     "execution_count": 3,
     "metadata": {},
     "output_type": "execute_result"
    }
   ],
   "source": [
    "gm_dict.keys()"
   ]
  },
  {
   "cell_type": "code",
   "execution_count": 20,
   "metadata": {},
   "outputs": [],
   "source": [
    "# import pandas\n",
    "# from pandas.io.json import json_normalize \n",
    "\n",
    "# json_normalize(gm_dict, )"
   ]
  },
  {
   "cell_type": "code",
   "execution_count": 21,
   "metadata": {},
   "outputs": [],
   "source": [
    "# n = normalize.nested_to_record(gm_dict)\n",
    "# n"
   ]
  },
  {
   "cell_type": "code",
   "execution_count": 22,
   "metadata": {},
   "outputs": [
    {
     "data": {
      "text/html": [
       "<div>\n",
       "<style>\n",
       "    .dataframe thead tr:only-child th {\n",
       "        text-align: right;\n",
       "    }\n",
       "\n",
       "    .dataframe thead th {\n",
       "        text-align: left;\n",
       "    }\n",
       "\n",
       "    .dataframe tbody tr th {\n",
       "        vertical-align: top;\n",
       "    }\n",
       "</style>\n",
       "<table border=\"1\" class=\"dataframe\">\n",
       "  <thead>\n",
       "    <tr style=\"text-align: right;\">\n",
       "      <th></th>\n",
       "      <th>copyright</th>\n",
       "      <th>gameData.datetime.dateTime</th>\n",
       "      <th>gameData.datetime.endDateTime</th>\n",
       "      <th>gameData.game.pk</th>\n",
       "      <th>gameData.game.season</th>\n",
       "      <th>gameData.game.type</th>\n",
       "      <th>gameData.players.ID8467493.active</th>\n",
       "      <th>gameData.players.ID8467493.birthCity</th>\n",
       "      <th>gameData.players.ID8467493.birthCountry</th>\n",
       "      <th>gameData.players.ID8467493.birthDate</th>\n",
       "      <th>...</th>\n",
       "      <th>liveData.plays.currentPlay.about.periodType</th>\n",
       "      <th>liveData.plays.currentPlay.result.description</th>\n",
       "      <th>liveData.plays.currentPlay.result.event</th>\n",
       "      <th>liveData.plays.currentPlay.result.eventCode</th>\n",
       "      <th>liveData.plays.currentPlay.result.eventTypeId</th>\n",
       "      <th>liveData.plays.penaltyPlays</th>\n",
       "      <th>liveData.plays.playsByPeriod</th>\n",
       "      <th>liveData.plays.scoringPlays</th>\n",
       "      <th>metaData.timeStamp</th>\n",
       "      <th>metaData.wait</th>\n",
       "    </tr>\n",
       "  </thead>\n",
       "  <tbody>\n",
       "    <tr>\n",
       "      <th>0</th>\n",
       "      <td>NHL and the NHL Shield are registered trademar...</td>\n",
       "      <td>2016-10-12T23:00:00Z</td>\n",
       "      <td>2016-10-13T01:56:40Z</td>\n",
       "      <td>2016020001</td>\n",
       "      <td>20162017</td>\n",
       "      <td>R</td>\n",
       "      <td>False</td>\n",
       "      <td>Flesherton</td>\n",
       "      <td>CAN</td>\n",
       "      <td>1979-06-18</td>\n",
       "      <td>...</td>\n",
       "      <td>OVERTIME</td>\n",
       "      <td>Game End</td>\n",
       "      <td>Game End</td>\n",
       "      <td>OTT881</td>\n",
       "      <td>GAME_END</td>\n",
       "      <td>[74, 75, 85, 102, 133, 134, 144, 163, 187, 260]</td>\n",
       "      <td>[{'startIndex': 0, 'plays': [0, 1, 2, 3, 4, 5,...</td>\n",
       "      <td>[43, 61, 71, 80, 132, 229, 239, 280, 354]</td>\n",
       "      <td>20170920_083438</td>\n",
       "      <td>10</td>\n",
       "    </tr>\n",
       "  </tbody>\n",
       "</table>\n",
       "<p>1 rows × 2519 columns</p>\n",
       "</div>"
      ],
      "text/plain": [
       "                                           copyright  \\\n",
       "0  NHL and the NHL Shield are registered trademar...   \n",
       "\n",
       "  gameData.datetime.dateTime gameData.datetime.endDateTime  gameData.game.pk  \\\n",
       "0       2016-10-12T23:00:00Z          2016-10-13T01:56:40Z        2016020001   \n",
       "\n",
       "  gameData.game.season gameData.game.type  gameData.players.ID8467493.active  \\\n",
       "0             20162017                  R                              False   \n",
       "\n",
       "  gameData.players.ID8467493.birthCity  \\\n",
       "0                           Flesherton   \n",
       "\n",
       "  gameData.players.ID8467493.birthCountry  \\\n",
       "0                                     CAN   \n",
       "\n",
       "  gameData.players.ID8467493.birthDate      ...       \\\n",
       "0                           1979-06-18      ...        \n",
       "\n",
       "  liveData.plays.currentPlay.about.periodType  \\\n",
       "0                                    OVERTIME   \n",
       "\n",
       "  liveData.plays.currentPlay.result.description  \\\n",
       "0                                      Game End   \n",
       "\n",
       "  liveData.plays.currentPlay.result.event  \\\n",
       "0                                Game End   \n",
       "\n",
       "  liveData.plays.currentPlay.result.eventCode  \\\n",
       "0                                      OTT881   \n",
       "\n",
       "   liveData.plays.currentPlay.result.eventTypeId  \\\n",
       "0                                       GAME_END   \n",
       "\n",
       "                       liveData.plays.penaltyPlays  \\\n",
       "0  [74, 75, 85, 102, 133, 134, 144, 163, 187, 260]   \n",
       "\n",
       "                        liveData.plays.playsByPeriod  \\\n",
       "0  [{'startIndex': 0, 'plays': [0, 1, 2, 3, 4, 5,...   \n",
       "\n",
       "                 liveData.plays.scoringPlays metaData.timeStamp metaData.wait  \n",
       "0  [43, 61, 71, 80, 132, 229, 239, 280, 354]    20170920_083438            10  \n",
       "\n",
       "[1 rows x 2519 columns]"
      ]
     },
     "execution_count": 22,
     "metadata": {},
     "output_type": "execute_result"
    }
   ],
   "source": [
    "normalize.json_normalize(gm_dict)"
   ]
  },
  {
   "cell_type": "markdown",
   "metadata": {},
   "source": []
  }
 ],
 "metadata": {
  "kernelspec": {
   "display_name": "Python 3",
   "language": "python",
   "name": "python3"
  },
  "language_info": {
   "codemirror_mode": {
    "name": "ipython",
    "version": 3
   },
   "file_extension": ".py",
   "mimetype": "text/x-python",
   "name": "python",
   "nbconvert_exporter": "python",
   "pygments_lexer": "ipython3",
   "version": "3.6.3"
  }
 },
 "nbformat": 4,
 "nbformat_minor": 2
}
