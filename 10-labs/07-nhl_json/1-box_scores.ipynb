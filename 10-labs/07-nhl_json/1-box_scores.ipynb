{
 "cells": [
  {
   "cell_type": "markdown",
   "metadata": {
    "extensions": {
     "jupyter_dashboards": {
      "version": 1,
      "views": {
       "grid_default": {
        "col": 0,
        "height": 6,
        "hidden": false,
        "row": 0,
        "width": 12
       },
       "report_default": {}
      }
     }
    }
   },
   "source": [
    "## NHL live in-game data\n",
    "\n",
    "## Box scores\n",
    "* season-game-team information"
   ]
  },
  {
   "cell_type": "code",
   "execution_count": 33,
   "metadata": {
    "extensions": {
     "jupyter_dashboards": {
      "version": 1,
      "views": {
       "grid_default": {
        "col": 0,
        "height": 4,
        "hidden": false,
        "row": 6,
        "width": 4
       },
       "report_default": {}
      }
     }
    }
   },
   "outputs": [
    {
     "data": {
      "text/plain": [
       "dict_keys(['copyright', 'gamePk', 'link', 'metaData', 'gameData', 'liveData'])"
      ]
     },
     "execution_count": 33,
     "metadata": {},
     "output_type": "execute_result"
    }
   ],
   "source": [
    "import json\n",
    "import pandas\n",
    "import numpy\n",
    "\n",
    "with open('NHL2016020001.json', 'r') as f:\n",
    "     gm_dict = json.load(f)\n",
    "gm_dict.keys()"
   ]
  },
  {
   "cell_type": "markdown",
   "metadata": {
    "extensions": {
     "jupyter_dashboards": {
      "version": 1,
      "views": {
       "grid_default": {
        "col": 4,
        "height": 4,
        "hidden": false,
        "row": 6,
        "width": 4
       },
       "report_default": {}
      }
     }
    }
   },
   "source": [
    "### Data architecture\n",
    "* seaon-game\n",
    "* season-game-team"
   ]
  },
  {
   "cell_type": "markdown",
   "metadata": {
    "extensions": {
     "jupyter_dashboards": {
      "version": 1,
      "views": {
       "grid_default": {
        "col": 8,
        "height": 4,
        "hidden": false,
        "row": 6,
        "width": 4
       },
       "report_default": {}
      }
     }
    }
   },
   "source": [
    "### Season-game"
   ]
  },
  {
   "cell_type": "code",
   "execution_count": 34,
   "metadata": {
    "extensions": {
     "jupyter_dashboards": {
      "version": 1,
      "views": {
       "grid_default": {
        "col": 0,
        "height": 4,
        "hidden": false,
        "row": 10,
        "width": 4
       },
       "report_default": {}
      }
     }
    }
   },
   "outputs": [
    {
     "data": {
      "text/plain": [
       "dict_keys(['game', 'datetime', 'status', 'teams', 'players', 'venue'])"
      ]
     },
     "execution_count": 34,
     "metadata": {},
     "output_type": "execute_result"
    }
   ],
   "source": [
    "gameData = gm_dict.get('gameData')\n",
    "gameData.keys()"
   ]
  },
  {
   "cell_type": "code",
   "execution_count": 35,
   "metadata": {
    "extensions": {
     "jupyter_dashboards": {
      "version": 1,
      "views": {
       "grid_default": {
        "col": 4,
        "height": 4,
        "hidden": false,
        "row": 10,
        "width": 4
       },
       "report_default": {}
      }
     }
    }
   },
   "outputs": [
    {
     "data": {
      "text/plain": [
       "{'pk': 2016020001, 'season': '20162017', 'type': 'R'}"
      ]
     },
     "execution_count": 35,
     "metadata": {},
     "output_type": "execute_result"
    }
   ],
   "source": [
    "game = gameData['game']\n",
    "game"
   ]
  },
  {
   "cell_type": "code",
   "execution_count": 36,
   "metadata": {
    "extensions": {
     "jupyter_dashboards": {
      "version": 1,
      "views": {
       "grid_default": {
        "col": 8,
        "height": 4,
        "hidden": false,
        "row": 10,
        "width": 4
       },
       "report_default": {}
      }
     }
    }
   },
   "outputs": [
    {
     "data": {
      "text/plain": [
       "{'dateTime': '2016-10-12T23:00:00Z', 'endDateTime': '2016-10-13T01:56:40Z'}"
      ]
     },
     "execution_count": 36,
     "metadata": {},
     "output_type": "execute_result"
    }
   ],
   "source": [
    "datetime =  gameData['datetime']\n",
    "datetime"
   ]
  },
  {
   "cell_type": "markdown",
   "metadata": {
    "extensions": {
     "jupyter_dashboards": {
      "version": 1,
      "views": {
       "grid_default": {
        "col": 0,
        "height": 4,
        "hidden": false,
        "row": 14,
        "width": 4
       },
       "report_default": {}
      }
     }
    }
   },
   "source": [
    "### Season-game-team"
   ]
  },
  {
   "cell_type": "code",
   "execution_count": 37,
   "metadata": {
    "extensions": {
     "jupyter_dashboards": {
      "version": 1,
      "views": {
       "grid_default": {
        "col": 4,
        "height": 4,
        "hidden": false,
        "row": 14,
        "width": 4
       },
       "report_default": {}
      }
     }
    }
   },
   "outputs": [
    {
     "data": {
      "text/plain": [
       "dict_keys(['away', 'home'])"
      ]
     },
     "execution_count": 37,
     "metadata": {},
     "output_type": "execute_result"
    }
   ],
   "source": [
    "teams = gameData['teams']\n",
    "teams.keys()"
   ]
  },
  {
   "cell_type": "markdown",
   "metadata": {
    "extensions": {
     "jupyter_dashboards": {
      "version": 1,
      "views": {
       "grid_default": {
        "col": 8,
        "height": 4,
        "hidden": false,
        "row": 14,
        "width": 4
       },
       "report_default": {}
      }
     }
    }
   },
   "source": [
    "Function to obtain team identification"
   ]
  },
  {
   "cell_type": "code",
   "execution_count": 38,
   "metadata": {
    "extensions": {
     "jupyter_dashboards": {
      "version": 1,
      "views": {
       "grid_default": {
        "hidden": true
       },
       "report_default": {}
      }
     }
    }
   },
   "outputs": [],
   "source": [
    "def get_team_info(designation):\n",
    "    team = dict()\n",
    "    team.update({'shortName': teams[designation]['shortName']})\n",
    "#     team.update({'id': teams[designation]['id']})\n",
    "    return(team)"
   ]
  },
  {
   "cell_type": "code",
   "execution_count": 39,
   "metadata": {
    "extensions": {
     "jupyter_dashboards": {
      "version": 1,
      "views": {
       "grid_default": {
        "col": 0,
        "height": 4,
        "hidden": false,
        "row": 18,
        "width": 4
       },
       "report_default": {}
      }
     }
    }
   },
   "outputs": [
    {
     "data": {
      "text/plain": [
       "{'shortName': 'Ottawa'}"
      ]
     },
     "execution_count": 39,
     "metadata": {},
     "output_type": "execute_result"
    }
   ],
   "source": [
    "get_team_info('home')"
   ]
  },
  {
   "cell_type": "code",
   "execution_count": 40,
   "metadata": {
    "extensions": {
     "jupyter_dashboards": {
      "version": 1,
      "views": {
       "grid_default": {
        "col": 4,
        "height": 4,
        "hidden": false,
        "row": 18,
        "width": 4
       },
       "report_default": {}
      }
     }
    }
   },
   "outputs": [
    {
     "data": {
      "text/plain": [
       "{'shortName': 'Toronto'}"
      ]
     },
     "execution_count": 40,
     "metadata": {},
     "output_type": "execute_result"
    }
   ],
   "source": [
    "get_team_info('away')"
   ]
  },
  {
   "cell_type": "markdown",
   "metadata": {
    "extensions": {
     "jupyter_dashboards": {
      "version": 1,
      "views": {
       "grid_default": {
        "col": 8,
        "height": 4,
        "hidden": false,
        "row": 18,
        "width": 4
       },
       "report_default": {}
      }
     }
    }
   },
   "source": [
    "Function to obtain team-game stats"
   ]
  },
  {
   "cell_type": "code",
   "execution_count": 41,
   "metadata": {
    "extensions": {
     "jupyter_dashboards": {
      "version": 1,
      "views": {
       "grid_default": {
        "hidden": true
       },
       "report_default": {}
      }
     }
    }
   },
   "outputs": [],
   "source": [
    "def get_team_stats(designation):\n",
    "    stats = dict()\n",
    "    temp = gm_dict['liveData']['boxscore']['teams'][designation]['teamStats']['teamSkaterStats']\n",
    "    stats.update(temp)\n",
    "    return(stats)"
   ]
  },
  {
   "cell_type": "code",
   "execution_count": 42,
   "metadata": {
    "extensions": {
     "jupyter_dashboards": {
      "version": 1,
      "views": {
       "grid_default": {
        "col": 0,
        "height": 8,
        "hidden": false,
        "row": 22,
        "width": 4
       },
       "report_default": {}
      }
     }
    }
   },
   "outputs": [
    {
     "data": {
      "text/plain": [
       "{'blocked': 25,\n",
       " 'faceOffWinPercentage': '48.5',\n",
       " 'giveaways': 11,\n",
       " 'goals': 5,\n",
       " 'hits': 30,\n",
       " 'pim': 15,\n",
       " 'powerPlayGoals': 0.0,\n",
       " 'powerPlayOpportunities': 2.0,\n",
       " 'powerPlayPercentage': '0.0',\n",
       " 'shots': 30,\n",
       " 'takeaways': 6}"
      ]
     },
     "execution_count": 42,
     "metadata": {},
     "output_type": "execute_result"
    }
   ],
   "source": [
    "get_team_stats('home')"
   ]
  },
  {
   "cell_type": "markdown",
   "metadata": {
    "extensions": {
     "jupyter_dashboards": {
      "version": 1,
      "views": {
       "grid_default": {
        "col": 4,
        "height": 4,
        "hidden": false,
        "row": 22,
        "width": 4
       },
       "report_default": {}
      }
     }
    }
   },
   "source": [
    "Create dictionary: game-team "
   ]
  },
  {
   "cell_type": "code",
   "execution_count": 43,
   "metadata": {
    "extensions": {
     "jupyter_dashboards": {
      "version": 1,
      "views": {
       "grid_default": {
        "col": 8,
        "height": 11,
        "hidden": false,
        "row": 22,
        "width": 4
       },
       "report_default": {}
      }
     }
    }
   },
   "outputs": [
    {
     "data": {
      "text/plain": [
       "{'blocked': 25,\n",
       " 'dateTime': '2016-10-12T23:00:00Z',\n",
       " 'endDateTime': '2016-10-13T01:56:40Z',\n",
       " 'faceOffWinPercentage': '48.5',\n",
       " 'giveaways': 11,\n",
       " 'goals': 5,\n",
       " 'hits': 30,\n",
       " 'pim': 15,\n",
       " 'pk': 2016020001,\n",
       " 'powerPlayGoals': 0.0,\n",
       " 'powerPlayOpportunities': 2.0,\n",
       " 'powerPlayPercentage': '0.0',\n",
       " 'season': '20162017',\n",
       " 'shortName': 'Ottawa',\n",
       " 'shots': 30,\n",
       " 'takeaways': 6,\n",
       " 'type': 'R'}"
      ]
     },
     "execution_count": 43,
     "metadata": {},
     "output_type": "execute_result"
    }
   ],
   "source": [
    "_H = dict()\n",
    "_H.update(game)\n",
    "_H.update(datetime)\n",
    "_H.update(get_team_info('home'))\n",
    "_H.update(get_team_stats('home'))\n",
    "_H"
   ]
  },
  {
   "cell_type": "code",
   "execution_count": 44,
   "metadata": {
    "extensions": {
     "jupyter_dashboards": {
      "version": 1,
      "views": {
       "grid_default": {
        "col": 0,
        "height": 4,
        "hidden": false,
        "row": 33,
        "width": 12
       },
       "report_default": {}
      }
     }
    }
   },
   "outputs": [
    {
     "data": {
      "text/html": [
       "<div>\n",
       "<style>\n",
       "    .dataframe thead tr:only-child th {\n",
       "        text-align: right;\n",
       "    }\n",
       "\n",
       "    .dataframe thead th {\n",
       "        text-align: left;\n",
       "    }\n",
       "\n",
       "    .dataframe tbody tr th {\n",
       "        vertical-align: top;\n",
       "    }\n",
       "</style>\n",
       "<table border=\"1\" class=\"dataframe\">\n",
       "  <thead>\n",
       "    <tr style=\"text-align: right;\">\n",
       "      <th></th>\n",
       "      <th>blocked</th>\n",
       "      <th>dateTime</th>\n",
       "      <th>endDateTime</th>\n",
       "      <th>faceOffWinPercentage</th>\n",
       "      <th>giveaways</th>\n",
       "      <th>goals</th>\n",
       "      <th>hits</th>\n",
       "      <th>pim</th>\n",
       "      <th>pk</th>\n",
       "      <th>powerPlayGoals</th>\n",
       "      <th>powerPlayOpportunities</th>\n",
       "      <th>powerPlayPercentage</th>\n",
       "      <th>season</th>\n",
       "      <th>shortName</th>\n",
       "      <th>shots</th>\n",
       "      <th>takeaways</th>\n",
       "      <th>type</th>\n",
       "    </tr>\n",
       "  </thead>\n",
       "  <tbody>\n",
       "    <tr>\n",
       "      <th>0</th>\n",
       "      <td>25</td>\n",
       "      <td>2016-10-12T23:00:00Z</td>\n",
       "      <td>2016-10-13T01:56:40Z</td>\n",
       "      <td>48.5</td>\n",
       "      <td>11</td>\n",
       "      <td>5</td>\n",
       "      <td>30</td>\n",
       "      <td>15</td>\n",
       "      <td>2016020001</td>\n",
       "      <td>0.0</td>\n",
       "      <td>2.0</td>\n",
       "      <td>0.0</td>\n",
       "      <td>20162017</td>\n",
       "      <td>Ottawa</td>\n",
       "      <td>30</td>\n",
       "      <td>6</td>\n",
       "      <td>R</td>\n",
       "    </tr>\n",
       "  </tbody>\n",
       "</table>\n",
       "</div>"
      ],
      "text/plain": [
       "   blocked              dateTime           endDateTime faceOffWinPercentage  \\\n",
       "0       25  2016-10-12T23:00:00Z  2016-10-13T01:56:40Z                 48.5   \n",
       "\n",
       "   giveaways  goals  hits  pim          pk  powerPlayGoals  \\\n",
       "0         11      5    30   15  2016020001             0.0   \n",
       "\n",
       "   powerPlayOpportunities powerPlayPercentage    season shortName  shots  \\\n",
       "0                     2.0                 0.0  20162017    Ottawa     30   \n",
       "\n",
       "   takeaways type  \n",
       "0          6    R  "
      ]
     },
     "execution_count": 44,
     "metadata": {},
     "output_type": "execute_result"
    }
   ],
   "source": [
    "dh = pandas.DataFrame.from_dict([_H])\n",
    "dh"
   ]
  },
  {
   "cell_type": "markdown",
   "metadata": {
    "extensions": {
     "jupyter_dashboards": {
      "version": 1,
      "views": {
       "grid_default": {
        "col": 4,
        "height": 4,
        "hidden": false,
        "row": 26,
        "width": 4
       },
       "report_default": {}
      }
     }
    }
   },
   "source": [
    "Function to create dictionary: game-team "
   ]
  },
  {
   "cell_type": "code",
   "execution_count": 45,
   "metadata": {
    "extensions": {
     "jupyter_dashboards": {
      "version": 1,
      "views": {
       "grid_default": {
        "hidden": true
       },
       "report_default": {}
      }
     }
    }
   },
   "outputs": [],
   "source": [
    "def build_game_team(designation):\n",
    "    _D = dict()\n",
    "    _D.update(game)\n",
    "    _D.update(datetime)\n",
    "    _D.update(get_team_info(designation))\n",
    "    _D.update(get_team_stats(designation))\n",
    "    return({designation: _D})"
   ]
  },
  {
   "cell_type": "code",
   "execution_count": 46,
   "metadata": {
    "extensions": {
     "jupyter_dashboards": {
      "version": 1,
      "views": {
       "grid_default": {
        "col": 0,
        "height": 11,
        "hidden": false,
        "row": 37,
        "width": 4
       },
       "report_default": {}
      }
     }
    }
   },
   "outputs": [
    {
     "data": {
      "text/plain": [
       "{'home': {'blocked': 25,\n",
       "  'dateTime': '2016-10-12T23:00:00Z',\n",
       "  'endDateTime': '2016-10-13T01:56:40Z',\n",
       "  'faceOffWinPercentage': '48.5',\n",
       "  'giveaways': 11,\n",
       "  'goals': 5,\n",
       "  'hits': 30,\n",
       "  'pim': 15,\n",
       "  'pk': 2016020001,\n",
       "  'powerPlayGoals': 0.0,\n",
       "  'powerPlayOpportunities': 2.0,\n",
       "  'powerPlayPercentage': '0.0',\n",
       "  'season': '20162017',\n",
       "  'shortName': 'Ottawa',\n",
       "  'shots': 30,\n",
       "  'takeaways': 6,\n",
       "  'type': 'R'}}"
      ]
     },
     "execution_count": 46,
     "metadata": {},
     "output_type": "execute_result"
    }
   ],
   "source": [
    "hg = build_game_team('home')\n",
    "hg"
   ]
  },
  {
   "cell_type": "code",
   "execution_count": 47,
   "metadata": {
    "extensions": {
     "jupyter_dashboards": {
      "version": 1,
      "views": {
       "grid_default": {
        "col": 4,
        "height": 11,
        "hidden": false,
        "row": 37,
        "width": 4
       },
       "report_default": {}
      }
     }
    }
   },
   "outputs": [
    {
     "data": {
      "text/plain": [
       "{'away': {'blocked': 9,\n",
       "  'dateTime': '2016-10-12T23:00:00Z',\n",
       "  'endDateTime': '2016-10-13T01:56:40Z',\n",
       "  'faceOffWinPercentage': '51.5',\n",
       "  'giveaways': 6,\n",
       "  'goals': 4,\n",
       "  'hits': 21,\n",
       "  'pim': 11,\n",
       "  'pk': 2016020001,\n",
       "  'powerPlayGoals': 0.0,\n",
       "  'powerPlayOpportunities': 4.0,\n",
       "  'powerPlayPercentage': '0.0',\n",
       "  'season': '20162017',\n",
       "  'shortName': 'Toronto',\n",
       "  'shots': 38,\n",
       "  'takeaways': 8,\n",
       "  'type': 'R'}}"
      ]
     },
     "execution_count": 47,
     "metadata": {},
     "output_type": "execute_result"
    }
   ],
   "source": [
    "ag = build_game_team('away')\n",
    "ag"
   ]
  },
  {
   "cell_type": "markdown",
   "metadata": {
    "extensions": {
     "jupyter_dashboards": {
      "version": 1,
      "views": {
       "grid_default": {
        "col": 8,
        "height": 4,
        "hidden": false,
        "row": 37,
        "width": 4
       },
       "report_default": {}
      }
     }
    }
   },
   "source": [
    "Convert dictionary to dataframe"
   ]
  },
  {
   "cell_type": "code",
   "execution_count": 49,
   "metadata": {
    "extensions": {
     "jupyter_dashboards": {
      "version": 1,
      "views": {
       "grid_default": {
        "hidden": true
       },
       "report_default": {}
      }
     }
    }
   },
   "outputs": [
    {
     "data": {
      "text/html": [
       "<div>\n",
       "<style>\n",
       "    .dataframe thead tr:only-child th {\n",
       "        text-align: right;\n",
       "    }\n",
       "\n",
       "    .dataframe thead th {\n",
       "        text-align: left;\n",
       "    }\n",
       "\n",
       "    .dataframe tbody tr th {\n",
       "        vertical-align: top;\n",
       "    }\n",
       "</style>\n",
       "<table border=\"1\" class=\"dataframe\">\n",
       "  <thead>\n",
       "    <tr style=\"text-align: right;\">\n",
       "      <th></th>\n",
       "      <th>pk</th>\n",
       "      <th>season</th>\n",
       "      <th>type</th>\n",
       "      <th>dateTime</th>\n",
       "      <th>endDateTime</th>\n",
       "      <th>shortName</th>\n",
       "      <th>goals</th>\n",
       "      <th>pim</th>\n",
       "      <th>shots</th>\n",
       "      <th>powerPlayPercentage</th>\n",
       "      <th>powerPlayGoals</th>\n",
       "      <th>powerPlayOpportunities</th>\n",
       "      <th>faceOffWinPercentage</th>\n",
       "      <th>blocked</th>\n",
       "      <th>takeaways</th>\n",
       "      <th>giveaways</th>\n",
       "      <th>hits</th>\n",
       "    </tr>\n",
       "  </thead>\n",
       "  <tbody>\n",
       "    <tr>\n",
       "      <th>home</th>\n",
       "      <td>2016020001</td>\n",
       "      <td>20162017</td>\n",
       "      <td>R</td>\n",
       "      <td>2016-10-12T23:00:00Z</td>\n",
       "      <td>2016-10-13T01:56:40Z</td>\n",
       "      <td>Ottawa</td>\n",
       "      <td>5</td>\n",
       "      <td>15</td>\n",
       "      <td>30</td>\n",
       "      <td>0.0</td>\n",
       "      <td>0.0</td>\n",
       "      <td>2.0</td>\n",
       "      <td>48.5</td>\n",
       "      <td>25</td>\n",
       "      <td>6</td>\n",
       "      <td>11</td>\n",
       "      <td>30</td>\n",
       "    </tr>\n",
       "  </tbody>\n",
       "</table>\n",
       "</div>"
      ],
      "text/plain": [
       "              pk    season type              dateTime           endDateTime  \\\n",
       "home  2016020001  20162017    R  2016-10-12T23:00:00Z  2016-10-13T01:56:40Z   \n",
       "\n",
       "     shortName  goals  pim  shots powerPlayPercentage  powerPlayGoals  \\\n",
       "home    Ottawa      5   15     30                 0.0             0.0   \n",
       "\n",
       "      powerPlayOpportunities faceOffWinPercentage  blocked  takeaways  \\\n",
       "home                     2.0                 48.5       25          6   \n",
       "\n",
       "      giveaways  hits  \n",
       "home         11    30  "
      ]
     },
     "execution_count": 49,
     "metadata": {},
     "output_type": "execute_result"
    }
   ],
   "source": [
    "dh = pandas.DataFrame.from_dict(hg, orient='index')\n",
    "dh"
   ]
  },
  {
   "cell_type": "markdown",
   "metadata": {
    "extensions": {
     "jupyter_dashboards": {
      "version": 1,
      "views": {
       "grid_default": {
        "col": 8,
        "height": 4,
        "hidden": false,
        "row": 41,
        "width": 4
       },
       "report_default": {}
      }
     }
    }
   },
   "source": [
    "Create dictionary: game-team (home and away)"
   ]
  },
  {
   "cell_type": "code",
   "execution_count": 50,
   "metadata": {
    "extensions": {
     "jupyter_dashboards": {
      "version": 1,
      "views": {
       "grid_default": {
        "hidden": true
       },
       "report_default": {}
      }
     }
    }
   },
   "outputs": [
    {
     "data": {
      "text/plain": [
       "{'away': {'blocked': 9,\n",
       "  'dateTime': '2016-10-12T23:00:00Z',\n",
       "  'endDateTime': '2016-10-13T01:56:40Z',\n",
       "  'faceOffWinPercentage': '51.5',\n",
       "  'giveaways': 6,\n",
       "  'goals': 4,\n",
       "  'hits': 21,\n",
       "  'pim': 11,\n",
       "  'pk': 2016020001,\n",
       "  'powerPlayGoals': 0.0,\n",
       "  'powerPlayOpportunities': 4.0,\n",
       "  'powerPlayPercentage': '0.0',\n",
       "  'season': '20162017',\n",
       "  'shortName': 'Toronto',\n",
       "  'shots': 38,\n",
       "  'takeaways': 8,\n",
       "  'type': 'R'},\n",
       " 'home': {'blocked': 25,\n",
       "  'dateTime': '2016-10-12T23:00:00Z',\n",
       "  'endDateTime': '2016-10-13T01:56:40Z',\n",
       "  'faceOffWinPercentage': '48.5',\n",
       "  'giveaways': 11,\n",
       "  'goals': 5,\n",
       "  'hits': 30,\n",
       "  'pim': 15,\n",
       "  'pk': 2016020001,\n",
       "  'powerPlayGoals': 0.0,\n",
       "  'powerPlayOpportunities': 2.0,\n",
       "  'powerPlayPercentage': '0.0',\n",
       "  'season': '20162017',\n",
       "  'shortName': 'Ottawa',\n",
       "  'shots': 30,\n",
       "  'takeaways': 6,\n",
       "  'type': 'R'}}"
      ]
     },
     "execution_count": 50,
     "metadata": {},
     "output_type": "execute_result"
    }
   ],
   "source": [
    "_G = dict()\n",
    "_G.update(build_game_team('home'))\n",
    "_G.update(build_game_team('away'))\n",
    "_G"
   ]
  },
  {
   "cell_type": "markdown",
   "metadata": {
    "extensions": {
     "jupyter_dashboards": {
      "version": 1,
      "views": {
       "grid_default": {
        "col": 8,
        "height": 4,
        "hidden": false,
        "row": 45,
        "width": 4
       },
       "report_default": {}
      }
     }
    }
   },
   "source": [
    "Convert dictionary to dataframe\n",
    "* set keys as index"
   ]
  },
  {
   "cell_type": "code",
   "execution_count": 51,
   "metadata": {
    "extensions": {
     "jupyter_dashboards": {
      "version": 1,
      "views": {
       "grid_default": {
        "hidden": true
       },
       "report_default": {}
      }
     }
    }
   },
   "outputs": [
    {
     "data": {
      "text/html": [
       "<div>\n",
       "<style>\n",
       "    .dataframe thead tr:only-child th {\n",
       "        text-align: right;\n",
       "    }\n",
       "\n",
       "    .dataframe thead th {\n",
       "        text-align: left;\n",
       "    }\n",
       "\n",
       "    .dataframe tbody tr th {\n",
       "        vertical-align: top;\n",
       "    }\n",
       "</style>\n",
       "<table border=\"1\" class=\"dataframe\">\n",
       "  <thead>\n",
       "    <tr style=\"text-align: right;\">\n",
       "      <th></th>\n",
       "      <th>pk</th>\n",
       "      <th>season</th>\n",
       "      <th>type</th>\n",
       "      <th>dateTime</th>\n",
       "      <th>endDateTime</th>\n",
       "      <th>shortName</th>\n",
       "      <th>goals</th>\n",
       "      <th>pim</th>\n",
       "      <th>shots</th>\n",
       "      <th>powerPlayPercentage</th>\n",
       "      <th>powerPlayGoals</th>\n",
       "      <th>powerPlayOpportunities</th>\n",
       "      <th>faceOffWinPercentage</th>\n",
       "      <th>blocked</th>\n",
       "      <th>takeaways</th>\n",
       "      <th>giveaways</th>\n",
       "      <th>hits</th>\n",
       "    </tr>\n",
       "  </thead>\n",
       "  <tbody>\n",
       "    <tr>\n",
       "      <th>away</th>\n",
       "      <td>2016020001</td>\n",
       "      <td>20162017</td>\n",
       "      <td>R</td>\n",
       "      <td>2016-10-12T23:00:00Z</td>\n",
       "      <td>2016-10-13T01:56:40Z</td>\n",
       "      <td>Toronto</td>\n",
       "      <td>4</td>\n",
       "      <td>11</td>\n",
       "      <td>38</td>\n",
       "      <td>0.0</td>\n",
       "      <td>0.0</td>\n",
       "      <td>4.0</td>\n",
       "      <td>51.5</td>\n",
       "      <td>9</td>\n",
       "      <td>8</td>\n",
       "      <td>6</td>\n",
       "      <td>21</td>\n",
       "    </tr>\n",
       "    <tr>\n",
       "      <th>home</th>\n",
       "      <td>2016020001</td>\n",
       "      <td>20162017</td>\n",
       "      <td>R</td>\n",
       "      <td>2016-10-12T23:00:00Z</td>\n",
       "      <td>2016-10-13T01:56:40Z</td>\n",
       "      <td>Ottawa</td>\n",
       "      <td>5</td>\n",
       "      <td>15</td>\n",
       "      <td>30</td>\n",
       "      <td>0.0</td>\n",
       "      <td>0.0</td>\n",
       "      <td>2.0</td>\n",
       "      <td>48.5</td>\n",
       "      <td>25</td>\n",
       "      <td>6</td>\n",
       "      <td>11</td>\n",
       "      <td>30</td>\n",
       "    </tr>\n",
       "  </tbody>\n",
       "</table>\n",
       "</div>"
      ],
      "text/plain": [
       "              pk    season type              dateTime           endDateTime  \\\n",
       "away  2016020001  20162017    R  2016-10-12T23:00:00Z  2016-10-13T01:56:40Z   \n",
       "home  2016020001  20162017    R  2016-10-12T23:00:00Z  2016-10-13T01:56:40Z   \n",
       "\n",
       "     shortName  goals  pim  shots powerPlayPercentage  powerPlayGoals  \\\n",
       "away   Toronto      4   11     38                 0.0             0.0   \n",
       "home    Ottawa      5   15     30                 0.0             0.0   \n",
       "\n",
       "      powerPlayOpportunities faceOffWinPercentage  blocked  takeaways  \\\n",
       "away                     4.0                 51.5        9          8   \n",
       "home                     2.0                 48.5       25          6   \n",
       "\n",
       "      giveaways  hits  \n",
       "away          6    21  \n",
       "home         11    30  "
      ]
     },
     "execution_count": 51,
     "metadata": {},
     "output_type": "execute_result"
    }
   ],
   "source": [
    "dg = pandas.DataFrame.from_dict(_G, orient='index')\n",
    "dg.head()"
   ]
  },
  {
   "cell_type": "code",
   "execution_count": null,
   "metadata": {},
   "outputs": [],
   "source": []
  }
 ],
 "metadata": {
  "extensions": {
   "jupyter_dashboards": {
    "activeView": "grid_default",
    "version": 1,
    "views": {
     "grid_default": {
      "cellMargin": 10,
      "defaultCellHeight": 20,
      "maxColumns": 12,
      "name": "grid",
      "type": "grid"
     },
     "report_default": {
      "name": "report",
      "type": "report"
     }
    }
   }
  },
  "kernelspec": {
   "display_name": "Python 3",
   "language": "python",
   "name": "python3"
  },
  "language_info": {
   "codemirror_mode": {
    "name": "ipython",
    "version": 3
   },
   "file_extension": ".py",
   "mimetype": "text/x-python",
   "name": "python",
   "nbconvert_exporter": "python",
   "pygments_lexer": "ipython3",
   "version": "3.6.3"
  },
  "latex_envs": {
   "LaTeX_envs_menu_present": true,
   "autocomplete": true,
   "bibliofile": "biblio.bib",
   "cite_by": "apalike",
   "current_citInitial": 1,
   "eqLabelWithNumbers": true,
   "eqNumInitial": 1,
   "hotkeys": {
    "equation": "Ctrl-E",
    "itemize": "Ctrl-I"
   },
   "labels_anchors": false,
   "latex_user_defs": false,
   "report_style_numbering": false,
   "user_envs_cfg": false
  },
  "toc": {
   "nav_menu": {},
   "number_sections": true,
   "sideBar": true,
   "skip_h1_title": false,
   "title_cell": "Table of Contents",
   "title_sidebar": "Contents",
   "toc_cell": false,
   "toc_position": {},
   "toc_section_display": true,
   "toc_window_display": true
  }
 },
 "nbformat": 4,
 "nbformat_minor": 2
}
