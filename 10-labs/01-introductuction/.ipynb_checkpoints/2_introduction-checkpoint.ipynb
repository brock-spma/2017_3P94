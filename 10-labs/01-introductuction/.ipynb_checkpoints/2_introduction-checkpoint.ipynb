{
 "cells": [
  {
   "cell_type": "code",
   "execution_count": 4,
   "metadata": {
    "slideshow": {
     "slide_type": "skip"
    }
   },
   "outputs": [
    {
     "data": {
      "text/plain": [
       "{'height': 300,\n",
       " 'scroll': True,\n",
       " 'start_slideshow_at': 'selected',\n",
       " 'theme': 'serif',\n",
       " 'transition': 'zoom',\n",
       " 'width': 800}"
      ]
     },
     "execution_count": 4,
     "metadata": {},
     "output_type": "execute_result"
    }
   ],
   "source": [
    "from notebook.services.config import ConfigManager\n",
    "cm = ConfigManager()\n",
    "\n",
    "cm.update('livereveal', {\n",
    "              'width': 800,\n",
    "              'height': 300,\n",
    "              'scroll': True,\n",
    "})"
   ]
  },
  {
   "cell_type": "markdown",
   "metadata": {
    "slideshow": {
     "slide_type": "slide"
    }
   },
   "source": [
    "## Information Systems for Sports Analytics\n",
    "\n",
    "* Sports analytics\n",
    "* Information systems\n",
    "* Data science"
   ]
  },
  {
   "cell_type": "markdown",
   "metadata": {
    "slideshow": {
     "slide_type": "slide"
    }
   },
   "source": [
    "## Sports analytics\n",
    "\n",
    "Analytical process that involves:\n",
    "1. Collect data \n",
    "2. Analyze data \n",
    "3. Communicate results"
   ]
  },
  {
   "cell_type": "markdown",
   "metadata": {
    "slideshow": {
     "slide_type": "slide"
    }
   },
   "source": [
    "## Information systems\n",
    "\n",
    "* Organized system for the collection, organization, storage and communication of information\n",
    "* Study of complementary networks that people and organizations use to collect, filter, process, create and distribute data\n"
   ]
  },
  {
   "cell_type": "markdown",
   "metadata": {
    "slideshow": {
     "slide_type": "slide"
    }
   },
   "source": [
    "## Data science\n",
    "\n",
    "* An interdisciplinary field of scientific methods, processes, and systems to extract knowledge or insights from data\n",
    "* Data science is a concept to unify statistics, data analysis and their related methods to understand and analyze actual phenomena with data.\n",
    "* Employs techniques and theories drawn from many fields within the broad areas of mathematics, statistics, information science, and computer science\n",
    "  * Machine learning, classification, cluster analysis, data mining, databases, and visualization."
   ]
  },
  {
   "cell_type": "markdown",
   "metadata": {
    "slideshow": {
     "slide_type": "slide"
    }
   },
   "source": [
    "## Computer programming\n",
    "\n",
    "Sequence of instructions to perform a computation\n",
    "  * e.g., mathematical formula, searching and replacing text in a document, executing other programs\n",
    "\n",
    "Program components\n",
    "* input\n",
    "  * Get data from the keyboard, a file, or some other device.\n",
    "* output\n",
    "  * Display data on the screen or send data to a file or other device.\n",
    "* math\n",
    "  * Perform basic mathematical operations like addition and multiplication.\n",
    "* conditional execution\n",
    "  * Check for certain conditions and execute the appropriate sequence of statements.\n",
    "* repetition\n",
    "  * Perform some action repeatedly, usually with some variation. * Low-level \n"
   ]
  },
  {
   "cell_type": "markdown",
   "metadata": {
    "slideshow": {
     "slide_type": "slide"
    }
   },
   "source": [
    "## Tyes of programming languages\n",
    "\n",
    "low-level languages\n",
    "* Computers execute programs written low-level languages\n",
    "* can run on only one kind of computer\n",
    "\n",
    "High-level languages\n",
    "* Python, C, C++, Perl, and Java\n",
    "* programs written in a high-level language have to be processed before they can run\n",
    "* Disadvantage: processing time\n",
    "* Easier to write program scripts, run on different computers with little modifications\n"
   ]
  },
  {
   "cell_type": "markdown",
   "metadata": {
    "slideshow": {
     "slide_type": "slide"
    }
   },
   "source": [
    "## Information systems and programming challenges\n",
    "\n",
    "* Information systems contain multiple computer programs\n",
    "* Programs often conflict with one another\n",
    "* Information systems execture programs in isolated environments\n",
    "  * Servers, virtual machines, containers, virtual environments"
   ]
  },
  {
   "cell_type": "markdown",
   "metadata": {
    "slideshow": {
     "slide_type": "slide"
    }
   },
   "source": [
    "## Python\n",
    "\n",
    "* High-level interpreted language\n",
    "* Programs are executed by an interpreter\n",
    "  * command-line mode\n",
    "  * script mode"
   ]
  },
  {
   "cell_type": "markdown",
   "metadata": {
    "slideshow": {
     "slide_type": "slide"
    }
   },
   "source": [
    "## Command-line mode"
   ]
  },
  {
   "cell_type": "code",
   "execution_count": 2,
   "metadata": {},
   "outputs": [
    {
     "data": {
      "text/plain": [
       "2"
      ]
     },
     "execution_count": 2,
     "metadata": {},
     "output_type": "execute_result"
    }
   ],
   "source": [
    "1 + 1"
   ]
  },
  {
   "cell_type": "markdown",
   "metadata": {
    "slideshow": {
     "slide_type": "slide"
    }
   },
   "source": [
    "## Script mode"
   ]
  },
  {
   "cell_type": "code",
   "execution_count": 3,
   "metadata": {
    "slideshow": {
     "slide_type": "-"
    }
   },
   "outputs": [
    {
     "name": "stdout",
     "output_type": "stream",
     "text": [
      "start simple script\n",
      "2\n",
      "end simple script\n"
     ]
    }
   ],
   "source": [
    "# %load simple_script\n",
    "print(\"start simple script\")\n",
    "dt = 1 + 1\n",
    "print(dt)\n",
    "print(\"end simple script\")"
   ]
  },
  {
   "cell_type": "markdown",
   "metadata": {
    "slideshow": {
     "slide_type": "slide"
    }
   },
   "source": [
    "## Anaconda \n",
    "\n",
    "an open source distribution of the Python and R programming languages\n",
    "* intended for large-scale data processing, predictive analytics, and scientific computing \n",
    "* aims to simplify package management and deployment\n",
    "\n",
    "Managing environments\n",
    "* Conda: package manager\n",
    "* create, export, list, remove and update environments that have different versions of Python and/or packages\n",
    "* https://conda.io/docs/user-guide/tasks/manage-environments.html\n"
   ]
  },
  {
   "cell_type": "markdown",
   "metadata": {
    "slideshow": {
     "slide_type": "slide"
    }
   },
   "source": [
    "## Integrated development environment\n",
    "\n",
    "* software application that provides comprehensive facilities to computer programmers for software development\n",
    "* contains a code editor, a compiler or interpreter and a debugger that the developer accesses through a single graphical user interface (GUI)\n",
    "* a standalone application, or it may be included as part of one or more existing and compatible applications\n",
    "  * e.g., Notepad++, Visual Studio, PyCharm, Jupyter Notebook"
   ]
  },
  {
   "cell_type": "markdown",
   "metadata": {
    "slideshow": {
     "slide_type": "slide"
    }
   },
   "source": [
    "## Jupyter Notebook\n",
    "* an open-source web application to create and share documents\n",
    "  * live code, equations, visualizations and narrative text. \n",
    "* Uses include: \n",
    "  * data cleaning, transformation, numerical simulation, statistical modeling, data visualization, machine learning, etc...\n",
    "* Enables seamless integration of information systems components\n",
    "  * Organized system for the collection, organization, storage and communication of information\n",
    "    Study of complementary networks that people and organizations use to collect, filter, process, create and distribute data\n",
    "  * https://demo.bokehplots.com/apps/movies\n"
   ]
  }
 ],
 "metadata": {
  "anaconda-cloud": {},
  "celltoolbar": "Slideshow",
  "kernelspec": {
   "display_name": "Python [conda env:4P94pythagorean]",
   "language": "python",
   "name": "conda-env-4P94pythagorean-py"
  },
  "language_info": {
   "codemirror_mode": {
    "name": "ipython",
    "version": 3
   },
   "file_extension": ".py",
   "mimetype": "text/x-python",
   "name": "python",
   "nbconvert_exporter": "python",
   "pygments_lexer": "ipython3",
   "version": "3.6.3"
  }
 },
 "nbformat": 4,
 "nbformat_minor": 2
}
