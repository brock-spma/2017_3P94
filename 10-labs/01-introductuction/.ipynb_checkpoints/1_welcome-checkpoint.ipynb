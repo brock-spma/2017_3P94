{
 "cells": [
  {
   "cell_type": "markdown",
   "metadata": {
    "slideshow": {
     "slide_type": "slide"
    }
   },
   "source": [
    "## SPMA 3P94 Information Systems for Sports Analytics\n",
    "\n",
    "Class time: \t\tMonday and Wednesday, 12:30 - 2:00\n",
    "Class room: \t\tMCJ 201\n"
   ]
  },
  {
   "cell_type": "markdown",
   "metadata": {
    "slideshow": {
     "slide_type": "slide"
    }
   },
   "source": [
    "### Course readings Course communications\n",
    "\n",
    "Sakai\n",
    "\n",
    "Slack\n",
    "* https://spma3p94.slack.com\n",
    "* https://join.slack.com/t/spma3p94/signup \n",
    "     \n",
    "GitHub\n",
    "* https://github.com/brock-spma/2017_3P94\n"
   ]
  },
  {
   "cell_type": "markdown",
   "metadata": {
    "slideshow": {
     "slide_type": "slide"
    }
   },
   "source": [
    "### Course readings\n",
    "\n",
    "Downey, Allen, Jeffrey Elkner, and Chris Meyers. How to Think Like a Computer Scientist: Learning with Python 2nd Edition, Version 2.2.23. Green Tea Press, 2002\n",
    "* http://greenteapress.com/wp/think-python-2e/\n",
    "* http://greenteapress.com/thinkpython2/html/index.html\n",
    "* https://github.com/AllenDowney/ThinkPython2\n",
    "\n",
    "Data Analysis in Python\n",
    "* http://www.data-analysis-in-python.org/\n"
   ]
  },
  {
   "cell_type": "markdown",
   "metadata": {
    "slideshow": {
     "slide_type": "slide"
    }
   },
   "source": [
    "### Required Software\n",
    "\n",
    "Python: programming language\n",
    "Jupyter Notebook: interactive computing environment\n",
    "    https://www.anaconda.com/download\n",
    "\n",
    "Git: version control system\n",
    "     https://git-scm.com/downloads"
   ]
  },
  {
   "cell_type": "markdown",
   "metadata": {
    "slideshow": {
     "slide_type": "slide"
    }
   },
   "source": [
    "## Grade composition:\n",
    "\n",
    "Evaluation Component\n",
    "* Quizzes 40 percent\n",
    "* Test 1  30 percent\n",
    "* Test 2  30 percent"
   ]
  },
  {
   "cell_type": "markdown",
   "metadata": {
    "slideshow": {
     "slide_type": "slide"
    }
   },
   "source": [
    "First Python program: Hello world"
   ]
  },
  {
   "cell_type": "code",
   "execution_count": 1,
   "metadata": {
    "slideshow": {
     "slide_type": "-"
    }
   },
   "outputs": [
    {
     "name": "stdout",
     "output_type": "stream",
     "text": [
      "Hello world\n"
     ]
    }
   ],
   "source": [
    "print('Hello world')"
   ]
  }
 ],
 "metadata": {
  "anaconda-cloud": {},
  "celltoolbar": "Slideshow",
  "kernelspec": {
   "display_name": "Python [default]",
   "language": "python",
   "name": "python3"
  },
  "language_info": {
   "codemirror_mode": {
    "name": "ipython",
    "version": 3
   },
   "file_extension": ".py",
   "mimetype": "text/x-python",
   "name": "python",
   "nbconvert_exporter": "python",
   "pygments_lexer": "ipython3",
   "version": "3.6.3"
  }
 },
 "nbformat": 4,
 "nbformat_minor": 2
}
