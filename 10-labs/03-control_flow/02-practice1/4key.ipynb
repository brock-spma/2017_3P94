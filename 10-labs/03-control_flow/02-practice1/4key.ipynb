{
 "cells": [
  {
   "cell_type": "markdown",
   "metadata": {},
   "source": [
    "## Practice problem\n",
    "The code below loads a dictionary with 2010 NHL season-team information. Specifically, the number of games played, Goals scored for and allowed, and the number of wins and losses. Use for-loops statements to append the following values to the dictionary:\n",
    "* Winning percentage: WP\n",
    "* Goals for squared: GF2, $GF2 = GoalsFor^2$\n",
    "* Goals allowed squared: GA2,  $GA2 = GoalsAllowed^2$\n",
    "* Expected winning percentage: EWP, where $$EWP = \\frac{GoalsFor^2}{GoalsFor^2 + GoalsAllowed^2}$$\n",
    "* Sort the dictionary items in terms of expected winning percentage in descending order"
   ]
  },
  {
   "cell_type": "code",
   "execution_count": null,
   "metadata": {},
   "outputs": [],
   "source": [
    "%reset -f \n",
    "import json\n",
    "with open('season_team_stats.json', 'r') as f:\n",
    "     teams_dict = json.load(f)\n"
   ]
  },
  {
   "cell_type": "code",
   "execution_count": null,
   "metadata": {},
   "outputs": [],
   "source": [
    "# create a working dictionary with two teams"
   ]
  },
  {
   "cell_type": "code",
   "execution_count": null,
   "metadata": {},
   "outputs": [],
   "source": [
    "# copy teams dictioary\n",
    "work_dict = teams_dict.copy()"
   ]
  },
  {
   "cell_type": "code",
   "execution_count": null,
   "metadata": {},
   "outputs": [],
   "source": [
    "# Loop to compute winning percentage\n",
    "for team in work_dict:\n",
    "    print('Start of loop for ', team)\n",
    "    WINS = work_dict[team]['Wins']\n",
    "    GP   = work_dict[team]['GamesPlayed']\n",
    "    WP   = WINS / GP\n",
    "    work_dict[team]['WinPercent'] = round(WP, 2)\n",
    "    print('End of loop for ', team)\n",
    "print('Compled loop')"
   ]
  },
  {
   "cell_type": "code",
   "execution_count": null,
   "metadata": {},
   "outputs": [],
   "source": [
    "work_dict"
   ]
  },
  {
   "cell_type": "code",
   "execution_count": null,
   "metadata": {},
   "outputs": [],
   "source": [
    "# Loop to compute winning percentage and expected winning percentage\n",
    "for team in work_dict:\n",
    "    print('Start of loop for ', team)\n",
    "    WINS = work_dict[team]['Wins']\n",
    "    GP   = work_dict[team]['GamesPlayed']\n",
    "    WP   = WINS / GP\n",
    "    work_dict[team]['WinPercent'] = round(WP, 2)\n",
    "    \n",
    "    GF2 = work_dict[team]['GoalsFor']\n",
    "    GA2 = work_dict[team]['GoalsAllowed']\n",
    "    EWP = GF2 / (GF2 + GA2)  \n",
    "    work_dict[team]['ExpectedWinPercent'] = round(EWP, 2)\n",
    "    print('End of loop for ', team)\n",
    "print('Compled loop')"
   ]
  },
  {
   "cell_type": "code",
   "execution_count": null,
   "metadata": {},
   "outputs": [],
   "source": [
    "work_dict"
   ]
  },
  {
   "cell_type": "code",
   "execution_count": null,
   "metadata": {},
   "outputs": [],
   "source": []
  },
  {
   "cell_type": "code",
   "execution_count": null,
   "metadata": {},
   "outputs": [],
   "source": []
  }
 ],
 "metadata": {
  "kernelspec": {
   "display_name": "Python 3",
   "language": "python",
   "name": "python3"
  },
  "language_info": {
   "codemirror_mode": {
    "name": "ipython",
    "version": 3
   },
   "file_extension": ".py",
   "mimetype": "text/x-python",
   "name": "python",
   "nbconvert_exporter": "python",
   "pygments_lexer": "ipython3",
   "version": "3.6.3"
  }
 },
 "nbformat": 4,
 "nbformat_minor": 2
}
