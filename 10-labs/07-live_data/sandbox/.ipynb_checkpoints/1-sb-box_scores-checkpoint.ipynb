{
 "cells": [
  {
   "cell_type": "markdown",
   "metadata": {},
   "source": [
    "## NHL live in-game data\n",
    "\n",
    "## Box scores\n",
    "* season-game-team information"
   ]
  },
  {
   "cell_type": "code",
   "execution_count": 21,
   "metadata": {},
   "outputs": [],
   "source": [
    "import json\n",
    "import pandas\n",
    "import numpy\n",
    "\n",
    "with open('NHL2016020001.json', 'r') as f:\n",
    "     gm_dict = json.load(f)"
   ]
  },
  {
   "cell_type": "code",
   "execution_count": 22,
   "metadata": {},
   "outputs": [
    {
     "data": {
      "text/plain": [
       "dict_keys(['copyright', 'gamePk', 'link', 'metaData', 'gameData', 'liveData'])"
      ]
     },
     "execution_count": 22,
     "metadata": {},
     "output_type": "execute_result"
    }
   ],
   "source": [
    "gm_dict.keys()"
   ]
  },
  {
   "cell_type": "markdown",
   "metadata": {},
   "source": [
    "### Data architecture\n"
   ]
  },
  {
   "cell_type": "code",
   "execution_count": 3,
   "metadata": {},
   "outputs": [],
   "source": [
    "_date = []\n",
    "_season = []\n",
    "_game = []\n",
    "_team = []\n",
    "_gf = []\n",
    "_ga = []"
   ]
  },
  {
   "cell_type": "markdown",
   "metadata": {},
   "source": [
    "### Obtain data"
   ]
  },
  {
   "cell_type": "markdown",
   "metadata": {},
   "source": [
    "### Level 0"
   ]
  },
  {
   "cell_type": "code",
   "execution_count": 28,
   "metadata": {},
   "outputs": [
    {
     "data": {
      "text/plain": [
       "dict_keys(['copyright', 'gamePk', 'link', 'metaData', 'gameData', 'liveData'])"
      ]
     },
     "execution_count": 28,
     "metadata": {},
     "output_type": "execute_result"
    }
   ],
   "source": [
    "gm_dict.keys()"
   ]
  },
  {
   "cell_type": "markdown",
   "metadata": {},
   "source": [
    "### Level 1"
   ]
  },
  {
   "cell_type": "code",
   "execution_count": 29,
   "metadata": {},
   "outputs": [
    {
     "data": {
      "text/plain": [
       "2016020001"
      ]
     },
     "execution_count": 29,
     "metadata": {},
     "output_type": "execute_result"
    }
   ],
   "source": [
    "gamePk = gm_dict['gamePk']\n",
    "gamePk"
   ]
  },
  {
   "cell_type": "code",
   "execution_count": 30,
   "metadata": {},
   "outputs": [
    {
     "data": {
      "text/plain": [
       "dict_keys(['game', 'datetime', 'status', 'teams', 'players', 'venue'])"
      ]
     },
     "execution_count": 30,
     "metadata": {},
     "output_type": "execute_result"
    }
   ],
   "source": [
    "gameData = gm_dict.get('gameData')\n",
    "gameData.keys()"
   ]
  },
  {
   "cell_type": "code",
   "execution_count": 57,
   "metadata": {},
   "outputs": [
    {
     "data": {
      "text/plain": [
       "{'pk': 2016020001, 'season': '20162017', 'type': 'R'}"
      ]
     },
     "execution_count": 57,
     "metadata": {},
     "output_type": "execute_result"
    }
   ],
   "source": [
    "gameData['game']"
   ]
  },
  {
   "cell_type": "code",
   "execution_count": 31,
   "metadata": {},
   "outputs": [
    {
     "data": {
      "text/plain": [
       "dict_keys(['plays', 'linescore', 'boxscore', 'decisions'])"
      ]
     },
     "execution_count": 31,
     "metadata": {},
     "output_type": "execute_result"
    }
   ],
   "source": [
    "liveData = gm_dict.get('liveData')\n",
    "liveData.keys()"
   ]
  },
  {
   "cell_type": "markdown",
   "metadata": {},
   "source": [
    "### Level 2: game"
   ]
  },
  {
   "cell_type": "code",
   "execution_count": 33,
   "metadata": {},
   "outputs": [
    {
     "data": {
      "text/plain": [
       "{'pk': 2016020001, 'season': '20162017', 'type': 'R'}"
      ]
     },
     "execution_count": 33,
     "metadata": {},
     "output_type": "execute_result"
    }
   ],
   "source": [
    "game = gameData['game']\n",
    "game"
   ]
  },
  {
   "cell_type": "code",
   "execution_count": 35,
   "metadata": {},
   "outputs": [
    {
     "data": {
      "text/plain": [
       "2016020001"
      ]
     },
     "execution_count": 35,
     "metadata": {},
     "output_type": "execute_result"
    }
   ],
   "source": [
    "_game = gameData['game']['pk']\n",
    "_game"
   ]
  },
  {
   "cell_type": "code",
   "execution_count": 36,
   "metadata": {},
   "outputs": [
    {
     "data": {
      "text/plain": [
       "'2016-10-12T23:00:00Z'"
      ]
     },
     "execution_count": 36,
     "metadata": {},
     "output_type": "execute_result"
    }
   ],
   "source": [
    "_date = gameData['datetime']['dateTime']\n",
    "_date"
   ]
  },
  {
   "cell_type": "code",
   "execution_count": 37,
   "metadata": {},
   "outputs": [
    {
     "data": {
      "text/plain": [
       "{'dateTime': '2016-10-12T23:00:00Z', 'endDateTime': '2016-10-13T01:56:40Z'}"
      ]
     },
     "execution_count": 37,
     "metadata": {},
     "output_type": "execute_result"
    }
   ],
   "source": [
    "gameData['datetime']"
   ]
  },
  {
   "cell_type": "code",
   "execution_count": 38,
   "metadata": {},
   "outputs": [
    {
     "data": {
      "text/plain": [
       "{'abstractGameState': 'Final',\n",
       " 'codedGameState': '7',\n",
       " 'detailedState': 'Final',\n",
       " 'startTimeTBD': False,\n",
       " 'statusCode': '7'}"
      ]
     },
     "execution_count": 38,
     "metadata": {},
     "output_type": "execute_result"
    }
   ],
   "source": [
    "gameData['status']"
   ]
  },
  {
   "cell_type": "markdown",
   "metadata": {},
   "source": [
    "### Level 2: teams"
   ]
  },
  {
   "cell_type": "code",
   "execution_count": 59,
   "metadata": {},
   "outputs": [
    {
     "data": {
      "text/plain": [
       "{'away': {'abbreviation': 'TOR',\n",
       "  'active': True,\n",
       "  'conference': {'id': 6, 'link': '/api/v1/conferences/6', 'name': 'Eastern'},\n",
       "  'division': {'id': 17, 'link': '/api/v1/divisions/17', 'name': 'Atlantic'},\n",
       "  'firstYearOfPlay': '1926',\n",
       "  'franchise': {'franchiseId': 5,\n",
       "   'link': '/api/v1/franchises/5',\n",
       "   'teamName': 'Maple Leafs'},\n",
       "  'franchiseId': 5,\n",
       "  'id': 10,\n",
       "  'link': '/api/v1/teams/10',\n",
       "  'locationName': 'Toronto',\n",
       "  'name': 'Toronto Maple Leafs',\n",
       "  'officialSiteUrl': 'http://www.mapleleafs.com',\n",
       "  'shortName': 'Toronto',\n",
       "  'teamName': 'Maple Leafs',\n",
       "  'triCode': 'TOR',\n",
       "  'venue': {'city': 'Toronto',\n",
       "   'link': '/api/v1/venues/null',\n",
       "   'name': 'Air Canada Centre',\n",
       "   'timeZone': {'id': 'America/Toronto', 'offset': -5, 'tz': 'EST'}}},\n",
       " 'home': {'abbreviation': 'OTT',\n",
       "  'active': True,\n",
       "  'conference': {'id': 6, 'link': '/api/v1/conferences/6', 'name': 'Eastern'},\n",
       "  'division': {'id': 17, 'link': '/api/v1/divisions/17', 'name': 'Atlantic'},\n",
       "  'firstYearOfPlay': '1992',\n",
       "  'franchise': {'franchiseId': 30,\n",
       "   'link': '/api/v1/franchises/30',\n",
       "   'teamName': 'Senators'},\n",
       "  'franchiseId': 30,\n",
       "  'id': 9,\n",
       "  'link': '/api/v1/teams/9',\n",
       "  'locationName': 'Ottawa',\n",
       "  'name': 'Ottawa Senators',\n",
       "  'officialSiteUrl': 'http://www.ottawasenators.com',\n",
       "  'shortName': 'Ottawa',\n",
       "  'teamName': 'Senators',\n",
       "  'triCode': 'OTT',\n",
       "  'venue': {'city': 'Ottawa',\n",
       "   'link': '/api/v1/venues/null',\n",
       "   'name': 'Canadian Tire Centre',\n",
       "   'timeZone': {'id': 'America/New_York', 'offset': -5, 'tz': 'EST'}}}}"
      ]
     },
     "execution_count": 59,
     "metadata": {},
     "output_type": "execute_result"
    }
   ],
   "source": [
    "teams = gameData['teams']\n",
    "teams"
   ]
  },
  {
   "cell_type": "code",
   "execution_count": 60,
   "metadata": {},
   "outputs": [
    {
     "data": {
      "text/plain": [
       "{'id': 9, 'shortName': 'Ottawa'}"
      ]
     },
     "execution_count": 60,
     "metadata": {},
     "output_type": "execute_result"
    }
   ],
   "source": [
    "# create dictionary with relevant information\n",
    "\n",
    "my_team = dict()\n",
    "my_team.update({'shortName': teams['home']['shortName']})\n",
    "my_team.update({'id': teams['home']['id']})\n",
    "my_team"
   ]
  },
  {
   "cell_type": "code",
   "execution_count": 79,
   "metadata": {},
   "outputs": [],
   "source": [
    "# Function to obtain team identification\n",
    "def get_team_info(designation):\n",
    "    temp = dict()\n",
    "    temp.update({'shortName': teams[designation]['shortName']})\n",
    "    temp.update({'id': teams[designation]['id']})\n",
    "    return(temp)"
   ]
  },
  {
   "cell_type": "code",
   "execution_count": 66,
   "metadata": {},
   "outputs": [
    {
     "data": {
      "text/plain": [
       "{'id': 9, 'shortName': 'Ottawa'}"
      ]
     },
     "execution_count": 66,
     "metadata": {},
     "output_type": "execute_result"
    }
   ],
   "source": [
    "get_team_info('home')"
   ]
  },
  {
   "cell_type": "code",
   "execution_count": 67,
   "metadata": {},
   "outputs": [
    {
     "data": {
      "text/plain": [
       "{'id': 10, 'shortName': 'Toronto'}"
      ]
     },
     "execution_count": 67,
     "metadata": {},
     "output_type": "execute_result"
    }
   ],
   "source": [
    "get_team_info('away')"
   ]
  },
  {
   "cell_type": "code",
   "execution_count": 68,
   "metadata": {},
   "outputs": [
    {
     "data": {
      "text/plain": [
       "dict_keys(['ID8474709', 'ID8470602', 'ID8467950', 'ID8477939', 'ID8467493', 'ID8475913', 'ID8475716', 'ID8470760', 'ID8471436', 'ID8476941', 'ID8474884', 'ID8471676', 'ID8479318', 'ID8475321', 'ID8475883', 'ID8474250', 'ID8476477', 'ID8473463', 'ID8476495', 'ID8475180', 'ID8467967', 'ID8471768', 'ID8476879', 'ID8473544', 'ID8476419', 'ID8474037', 'ID8475786', 'ID8476853', 'ID8474697', 'ID8475227', 'ID8474578', 'ID8470599', 'ID8477015', 'ID8479458', 'ID8476288', 'ID8471392', 'ID8478469', 'ID8476302', 'ID8474068', 'ID8475098', 'ID8474581', 'ID8478483', 'ID8475172'])"
      ]
     },
     "execution_count": 68,
     "metadata": {},
     "output_type": "execute_result"
    }
   ],
   "source": [
    "gameData['players'].keys()"
   ]
  },
  {
   "cell_type": "code",
   "execution_count": 20,
   "metadata": {},
   "outputs": [
    {
     "data": {
      "text/plain": [
       "{'link': '/api/v1/venues/null', 'name': 'Canadian Tire Centre'}"
      ]
     },
     "execution_count": 20,
     "metadata": {},
     "output_type": "execute_result"
    }
   ],
   "source": [
    "gameData['venue']"
   ]
  },
  {
   "cell_type": "markdown",
   "metadata": {},
   "source": [
    "### Level 2: Live data"
   ]
  },
  {
   "cell_type": "code",
   "execution_count": 47,
   "metadata": {},
   "outputs": [
    {
     "data": {
      "text/plain": [
       "dict_keys(['plays', 'linescore', 'boxscore', 'decisions'])"
      ]
     },
     "execution_count": 47,
     "metadata": {},
     "output_type": "execute_result"
    }
   ],
   "source": [
    "liveData = gm_dict.get('liveData')\n",
    "liveData.keys()"
   ]
  },
  {
   "cell_type": "markdown",
   "metadata": {},
   "source": [
    "### Level 2.1: Box score"
   ]
  },
  {
   "cell_type": "code",
   "execution_count": 50,
   "metadata": {},
   "outputs": [
    {
     "data": {
      "text/plain": [
       "dict_keys(['teams', 'officials'])"
      ]
     },
     "execution_count": 50,
     "metadata": {},
     "output_type": "execute_result"
    }
   ],
   "source": [
    "boxscore = liveData.get('boxscore')\n",
    "boxscore.keys()"
   ]
  },
  {
   "cell_type": "code",
   "execution_count": 53,
   "metadata": {},
   "outputs": [
    {
     "data": {
      "text/plain": [
       "dict_keys(['team', 'teamStats', 'players', 'goalies', 'skaters', 'onIce', 'onIcePlus', 'scratches', 'penaltyBox', 'coaches'])"
      ]
     },
     "execution_count": 53,
     "metadata": {},
     "output_type": "execute_result"
    }
   ],
   "source": [
    "liveData = gm_dict.get('liveData')\n",
    "boxscore = liveData.get('boxscore')\n",
    "home = boxscore.get('teams')['home']\n",
    "home.keys()"
   ]
  },
  {
   "cell_type": "code",
   "execution_count": 54,
   "metadata": {},
   "outputs": [
    {
     "data": {
      "text/plain": [
       "{'abbreviation': 'OTT',\n",
       " 'id': 9,\n",
       " 'link': '/api/v1/teams/9',\n",
       " 'name': 'Ottawa Senators',\n",
       " 'triCode': 'OTT'}"
      ]
     },
     "execution_count": 54,
     "metadata": {},
     "output_type": "execute_result"
    }
   ],
   "source": [
    "home['team']"
   ]
  },
  {
   "cell_type": "code",
   "execution_count": 55,
   "metadata": {},
   "outputs": [
    {
     "data": {
      "text/plain": [
       "{'teamSkaterStats': {'blocked': 25,\n",
       "  'faceOffWinPercentage': '48.5',\n",
       "  'giveaways': 11,\n",
       "  'goals': 5,\n",
       "  'hits': 30,\n",
       "  'pim': 15,\n",
       "  'powerPlayGoals': 0.0,\n",
       "  'powerPlayOpportunities': 2.0,\n",
       "  'powerPlayPercentage': '0.0',\n",
       "  'shots': 30,\n",
       "  'takeaways': 6}}"
      ]
     },
     "execution_count": 55,
     "metadata": {},
     "output_type": "execute_result"
    }
   ],
   "source": [
    "home['teamStats']"
   ]
  },
  {
   "cell_type": "code",
   "execution_count": 78,
   "metadata": {},
   "outputs": [],
   "source": [
    "# function to obtain team-game stats\n",
    "def get_team_stats(designation):\n",
    "    stats = dict()\n",
    "    temp = gm_dict['liveData']['boxscore']['teams'][designation]['teamStats']['teamSkaterStats']\n",
    "    stats.update(temp)\n",
    "    return(stats)"
   ]
  },
  {
   "cell_type": "code",
   "execution_count": 76,
   "metadata": {},
   "outputs": [
    {
     "data": {
      "text/plain": [
       "{'blocked': 25,\n",
       " 'faceOffWinPercentage': '48.5',\n",
       " 'giveaways': 11,\n",
       " 'goals': 5,\n",
       " 'hits': 30,\n",
       " 'pim': 15,\n",
       " 'powerPlayGoals': 0.0,\n",
       " 'powerPlayOpportunities': 2.0,\n",
       " 'powerPlayPercentage': '0.0',\n",
       " 'shots': 30,\n",
       " 'takeaways': 6}"
      ]
     },
     "execution_count": 76,
     "metadata": {},
     "output_type": "execute_result"
    }
   ],
   "source": [
    "get_team_stats('home')"
   ]
  },
  {
   "cell_type": "code",
   "execution_count": 77,
   "metadata": {},
   "outputs": [
    {
     "data": {
      "text/plain": [
       "{'blocked': 9,\n",
       " 'faceOffWinPercentage': '51.5',\n",
       " 'giveaways': 6,\n",
       " 'goals': 4,\n",
       " 'hits': 21,\n",
       " 'pim': 11,\n",
       " 'powerPlayGoals': 0.0,\n",
       " 'powerPlayOpportunities': 4.0,\n",
       " 'powerPlayPercentage': '0.0',\n",
       " 'shots': 38,\n",
       " 'takeaways': 8}"
      ]
     },
     "execution_count": 77,
     "metadata": {},
     "output_type": "execute_result"
    }
   ],
   "source": [
    "get_team_stats('away')"
   ]
  },
  {
   "cell_type": "code",
   "execution_count": null,
   "metadata": {},
   "outputs": [],
   "source": []
  }
 ],
 "metadata": {
  "kernelspec": {
   "display_name": "Python 3",
   "language": "python",
   "name": "python3"
  },
  "language_info": {
   "codemirror_mode": {
    "name": "ipython",
    "version": 3
   },
   "file_extension": ".py",
   "mimetype": "text/x-python",
   "name": "python",
   "nbconvert_exporter": "python",
   "pygments_lexer": "ipython3",
   "version": "3.6.3"
  }
 },
 "nbformat": 4,
 "nbformat_minor": 2
}
