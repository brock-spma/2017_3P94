{
 "cells": [
  {
   "cell_type": "markdown",
   "metadata": {},
   "source": [
    "# Web Scraping: NBA team information from espn\n",
    "\n",
    "## Production script\n",
    "* Based on sandbox\n"
   ]
  },
  {
   "cell_type": "code",
   "execution_count": 21,
   "metadata": {},
   "outputs": [],
   "source": [
    "import os\n",
    "import pandas \n",
    "import requests\n",
    "from bs4 import BeautifulSoup\n",
    "from urllib.request import urlopen"
   ]
  },
  {
   "cell_type": "code",
   "execution_count": 22,
   "metadata": {},
   "outputs": [],
   "source": [
    "url = 'http://espn.go.com/nba/teams'"
   ]
  },
  {
   "cell_type": "code",
   "execution_count": 23,
   "metadata": {},
   "outputs": [],
   "source": [
    "r = requests.get(url)\n",
    "\n",
    "soup = BeautifulSoup(r.text, 'lxml')\n",
    "tables = soup.find_all('ul', class_='medium-logos')"
   ]
  },
  {
   "cell_type": "code",
   "execution_count": 24,
   "metadata": {},
   "outputs": [],
   "source": [
    "team = []\n",
    "url = []\n",
    "stats = []\n",
    "schedule = []\n",
    "roster = []\n",
    "depth = []\n",
    "\n",
    "for table in tables:\n",
    "    lis = table.find_all('li')\n",
    "    for li in lis:\n",
    "        # team names and base url\n",
    "        a1 = li.find('a', class_='bi')\n",
    "        team.append(a1.text) # team names \n",
    "        url.append(a1['href']) # base url\n",
    "        \n",
    "        # get stats \n",
    "        a1 = li.find('a', text='Stats') \n",
    "        stats.append(a1['href'])\n",
    "        \n",
    "        # get schedule \n",
    "        a1 = li.find('a', text='Schedule') \n",
    "        schedule.append(a1['href'])\n",
    "\n",
    "        # get roster\n",
    "        a1 = li.find('a', text='Roster')\n",
    "        roster.append(a1['href'])\n",
    "\n",
    "        # get depth chart\n",
    "        a1 = li.find('a', text='Depth Chart') \n",
    "        depth.append(a1['href'])"
   ]
  },
  {
   "cell_type": "markdown",
   "metadata": {},
   "source": [
    "### Save to dictionary"
   ]
  },
  {
   "cell_type": "code",
   "execution_count": 25,
   "metadata": {},
   "outputs": [
    {
     "data": {
      "text/plain": [
       "dict_keys(['team', 'url', 'stats', 'schedule', 'roster', 'depth'])"
      ]
     },
     "execution_count": 25,
     "metadata": {},
     "output_type": "execute_result"
    }
   ],
   "source": [
    "dic = {'team': team, 'url': url, 'stats': stats, 'schedule': schedule, 'roster': roster, 'depth': depth}\n",
    "dic.keys()"
   ]
  },
  {
   "cell_type": "markdown",
   "metadata": {},
   "source": [
    "### Convert dictionary to dataframe"
   ]
  },
  {
   "cell_type": "code",
   "execution_count": 26,
   "metadata": {},
   "outputs": [
    {
     "data": {
      "text/html": [
       "<div>\n",
       "<style>\n",
       "    .dataframe thead tr:only-child th {\n",
       "        text-align: right;\n",
       "    }\n",
       "\n",
       "    .dataframe thead th {\n",
       "        text-align: left;\n",
       "    }\n",
       "\n",
       "    .dataframe tbody tr th {\n",
       "        vertical-align: top;\n",
       "    }\n",
       "</style>\n",
       "<table border=\"1\" class=\"dataframe\">\n",
       "  <thead>\n",
       "    <tr style=\"text-align: right;\">\n",
       "      <th></th>\n",
       "      <th>team</th>\n",
       "      <th>url</th>\n",
       "      <th>stats</th>\n",
       "      <th>schedule</th>\n",
       "      <th>roster</th>\n",
       "      <th>depth</th>\n",
       "    </tr>\n",
       "  </thead>\n",
       "  <tbody>\n",
       "    <tr>\n",
       "      <th>0</th>\n",
       "      <td>Boston Celtics</td>\n",
       "      <td>http://www.espn.com/nba/team/_/name/bos/boston...</td>\n",
       "      <td>/nba/teams/stats?team=bos</td>\n",
       "      <td>/nba/teams/schedule?team=bos</td>\n",
       "      <td>/nba/teams/roster?team=bos</td>\n",
       "      <td>/nba/teams/depth?team=bos</td>\n",
       "    </tr>\n",
       "    <tr>\n",
       "      <th>1</th>\n",
       "      <td>Brooklyn Nets</td>\n",
       "      <td>http://www.espn.com/nba/team/_/name/bkn/brookl...</td>\n",
       "      <td>/nba/teams/stats?team=bkn</td>\n",
       "      <td>/nba/teams/schedule?team=bkn</td>\n",
       "      <td>/nba/teams/roster?team=bkn</td>\n",
       "      <td>/nba/teams/depth?team=bkn</td>\n",
       "    </tr>\n",
       "    <tr>\n",
       "      <th>2</th>\n",
       "      <td>New York Knicks</td>\n",
       "      <td>http://www.espn.com/nba/team/_/name/ny/new-yor...</td>\n",
       "      <td>/nba/teams/stats?team=nyk</td>\n",
       "      <td>/nba/teams/schedule?team=nyk</td>\n",
       "      <td>/nba/teams/roster?team=nyk</td>\n",
       "      <td>/nba/teams/depth?team=nyk</td>\n",
       "    </tr>\n",
       "    <tr>\n",
       "      <th>3</th>\n",
       "      <td>Philadelphia 76ers</td>\n",
       "      <td>http://www.espn.com/nba/team/_/name/phi/philad...</td>\n",
       "      <td>/nba/teams/stats?team=phi</td>\n",
       "      <td>/nba/teams/schedule?team=phi</td>\n",
       "      <td>/nba/teams/roster?team=phi</td>\n",
       "      <td>/nba/teams/depth?team=phi</td>\n",
       "    </tr>\n",
       "    <tr>\n",
       "      <th>4</th>\n",
       "      <td>Toronto Raptors</td>\n",
       "      <td>http://www.espn.com/nba/team/_/name/tor/toront...</td>\n",
       "      <td>/nba/teams/stats?team=tor</td>\n",
       "      <td>/nba/teams/schedule?team=tor</td>\n",
       "      <td>/nba/teams/roster?team=tor</td>\n",
       "      <td>/nba/teams/depth?team=tor</td>\n",
       "    </tr>\n",
       "  </tbody>\n",
       "</table>\n",
       "</div>"
      ],
      "text/plain": [
       "                 team                                                url  \\\n",
       "0      Boston Celtics  http://www.espn.com/nba/team/_/name/bos/boston...   \n",
       "1       Brooklyn Nets  http://www.espn.com/nba/team/_/name/bkn/brookl...   \n",
       "2     New York Knicks  http://www.espn.com/nba/team/_/name/ny/new-yor...   \n",
       "3  Philadelphia 76ers  http://www.espn.com/nba/team/_/name/phi/philad...   \n",
       "4     Toronto Raptors  http://www.espn.com/nba/team/_/name/tor/toront...   \n",
       "\n",
       "                       stats                      schedule  \\\n",
       "0  /nba/teams/stats?team=bos  /nba/teams/schedule?team=bos   \n",
       "1  /nba/teams/stats?team=bkn  /nba/teams/schedule?team=bkn   \n",
       "2  /nba/teams/stats?team=nyk  /nba/teams/schedule?team=nyk   \n",
       "3  /nba/teams/stats?team=phi  /nba/teams/schedule?team=phi   \n",
       "4  /nba/teams/stats?team=tor  /nba/teams/schedule?team=tor   \n",
       "\n",
       "                       roster                      depth  \n",
       "0  /nba/teams/roster?team=bos  /nba/teams/depth?team=bos  \n",
       "1  /nba/teams/roster?team=bkn  /nba/teams/depth?team=bkn  \n",
       "2  /nba/teams/roster?team=nyk  /nba/teams/depth?team=nyk  \n",
       "3  /nba/teams/roster?team=phi  /nba/teams/depth?team=phi  \n",
       "4  /nba/teams/roster?team=tor  /nba/teams/depth?team=tor  "
      ]
     },
     "execution_count": 26,
     "metadata": {},
     "output_type": "execute_result"
    }
   ],
   "source": [
    "dt = pandas.DataFrame(dic)\n",
    "dt = dt[['team', 'url', 'stats', 'schedule', 'roster', 'depth']]\n",
    "dt.head()"
   ]
  }
 ],
 "metadata": {
  "kernelspec": {
   "display_name": "Python 3",
   "language": "python",
   "name": "python3"
  },
  "language_info": {
   "codemirror_mode": {
    "name": "ipython",
    "version": 3
   },
   "file_extension": ".py",
   "mimetype": "text/x-python",
   "name": "python",
   "nbconvert_exporter": "python",
   "pygments_lexer": "ipython3",
   "version": "3.6.3"
  }
 },
 "nbformat": 4,
 "nbformat_minor": 2
}
