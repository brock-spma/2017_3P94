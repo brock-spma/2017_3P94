{
 "cells": [
  {
   "cell_type": "markdown",
   "metadata": {},
   "source": [
    "# Web scraping\n",
    "\n",
    "* Data scientists often require data stored on webpages\n",
    "* Web scraping techniques can be implemented to systematically collect and store data for analysis purposes\n",
    "* Beautiful Soup is a Python library for pulling data out of HTML and XML files\n",
    "* Documentation: https://www.crummy.com/software/BeautifulSoup/bs4/doc/"
   ]
  },
  {
   "cell_type": "markdown",
   "metadata": {},
   "source": [
    "## Process\n",
    "\n",
    "1. Obtain webpage url\n",
    "* Save webpage contents to file or in a python object\n",
    "* Convert webpage contents to soup\n",
    "* Use Beautiful Soup functions to extract data from soup via html tags\n",
    "* Write functions and loops to store extracted data to python data structures (e.g., dictionary)\n",
    "* Write for loops to extract content on similarly structured webpages"
   ]
  },
  {
   "cell_type": "markdown",
   "metadata": {},
   "source": [
    "## Example\n",
    "* Extract NBA team information from espn.com\n",
    "* [ESPN NBA teams](http://espn.go.com/nba/teams)"
   ]
  },
  {
   "cell_type": "code",
   "execution_count": 1,
   "metadata": {},
   "outputs": [],
   "source": [
    "# from IPython.display import HTML\n",
    "# HTML(url='http://espn.go.com/nba/teams')"
   ]
  },
  {
   "cell_type": "code",
   "execution_count": 2,
   "metadata": {},
   "outputs": [],
   "source": [
    "import pandas \n",
    "import requests\n",
    "from bs4 import BeautifulSoup\n",
    "from urllib.request import urlopen"
   ]
  },
  {
   "cell_type": "markdown",
   "metadata": {},
   "source": [
    "Read url and store webpage data"
   ]
  },
  {
   "cell_type": "code",
   "execution_count": 3,
   "metadata": {},
   "outputs": [],
   "source": [
    "url = 'http://espn.go.com/nba/teams'"
   ]
  },
  {
   "cell_type": "code",
   "execution_count": 4,
   "metadata": {},
   "outputs": [
    {
     "data": {
      "text/plain": [
       "200"
      ]
     },
     "execution_count": 4,
     "metadata": {},
     "output_type": "execute_result"
    }
   ],
   "source": [
    "r = requests.get(url)\n",
    "r.status_code"
   ]
  },
  {
   "cell_type": "markdown",
   "metadata": {},
   "source": [
    "Convert webpage to soup"
   ]
  },
  {
   "cell_type": "code",
   "execution_count": 5,
   "metadata": {},
   "outputs": [],
   "source": [
    "soup = BeautifulSoup(r.text, 'lxml')"
   ]
  },
  {
   "cell_type": "markdown",
   "metadata": {},
   "source": [
    "Examine soup\n",
    "* Identify classes and tags of information of interest"
   ]
  },
  {
   "cell_type": "code",
   "execution_count": 6,
   "metadata": {},
   "outputs": [
    {
     "name": "stdout",
     "output_type": "stream",
     "text": [
      "<!DOCTYPE html>\n",
      "<html xmlns:fb=\"http://www.facebook.com/2008/fbml\">\n",
      " <head>\n",
      "  <script src=\"http://cdn.espn.com/sports/optimizely.js\">\n",
      "  </script>\n",
      "  <meta charset=\"utf-8\"/>\n",
      "  <meta content=\"IE=edge,chrome=1\" http-equiv=\"X-UA-Compatible\"/>\n",
      "  <link href=\"http://a.espncdn.com/favicon.ico\" mask=\"\" rel=\"icon\" sizes=\"any\"/>\n",
      "  <meta content=\"#CC0000\" name=\"theme-color\"/>\n",
      "  <script type=\"text/javascript\">\n",
      "   if(true && navigator && navigator.userAgent.toLowerCase().indexOf(\"teamstream\") >= 0) {\n",
      "        window.location = 'http://m.espn.com/mobilecache/general/apps/sc';\n",
      "    }\n",
      "  </script>\n",
      "  <script>\n",
      "   (function(){function r(a){a=a.replace(/[\\[]/,\"\\\\[\").replace(/[\\]]/,\"\\\\]\");var c=new RegExp(\"[\\\\?&]\"+a+\"=([^&#]*)\"),b=c.exec(location.search);return b==null?\"\":decodeURIComponent(b[1].replace(/\\+/g,\" \"));}var p=navigator.userAgent,o=window.location,l=document.cookie,f=document.referrer,n=(f===\"\"||f.indexOf(\"www.espn.com\")!==-1),d=(n)?\"http://m.espn.com/nba/teams?src=desktop\":\"http://m.espn.com/nba/teams?src=desktop&rand=ref~%7B%22ref%22%3A%22\"+encodeURIComponent(f)+\"%22%7D\",i=(p.match(/iPad/i)||(p.match(/Android/i)&&!p.match(/Mobile/i))||p.match(/RIM Tablet/i)||p.match(/Silk/i)),k=(p.match(/Mobile/i)||p.match(/Mini/i)),g=o.href.match(/src=mobile/i),q=l.indexOf(\"iphone_redirect=false\")>-1,e=l.indexOf(\"iphone_redirect=true\")>-1,j=r(\"addata\"),h=r(\"ex_cid\"),m=r(\"rand\");if(j!=\"\"){d+=\"&addata=\"+j;}if(h!=\"\"){d+=\"&ex_cid=\"+h;}if(m===\"beta\"){d+=\"&rand=beta\";}if(i){document.documentElement.className+=\" tablet \";if((!p.match(/iPad/i)||e)&&!q){o.href=d;}}else{if(k&&!q&&!g){o.href=d;}}})();\n",
      "  </script>\n",
      "  <title>\n",
      "   NBA Basketball Teams - National Basketball Association - ESPN\n",
      "  </title>\n",
      "  <meta content=\"xuj1ODRluWa0frM-BjIr_aSHoUC7HB5C1MgmYAM_GkA\" name=\"google-site-verification\"/>\n",
      "  <meta content=\"B1FEB7C682C46C8FCDA3130F3D18AC28\" name=\"msvalidate.01\"/>\n",
      "  <meta content=\"noodp\" name=\"googlebot\"/>\n",
      "  <meta content=\"index, follow\" name=\"robots\"/>\n",
      "  <meta content=\"NBA Basketball Teams - National Basketball Association\" name=\"description\"/>\n",
      "  <meta content=\"nba teams, basketball teams, nba basketball teams\" name=\"keywords\"/>\n",
      "  <meta content=\"116656161708917\" property=\"fb:app_id\"/>\n",
      "  <meta content=\"ESPN.com\" property=\"og:site_name\"/>\n",
      "  <!--\n",
      "<PageMap>\n",
      "\t<DataObject type=\"document\">\n",
      "\t\t<Attribute name=\"title\">NBA Basketball Teams - National Basketball Association</Attribute>\n",
      "\t</DataObject>\n",
      "</PageMap>\n",
      "-->\n",
      "  <link href=\"http://www.espn.com/nba/teams\" rel=\"canonical\"/>\n",
      "  <script>\n",
      "   var _sf_startpt=(new Date()).getTime();\n",
      "  </script>\n",
      "  <link href=\"http://a.espncdn.com/search/opensearch.xml\" rel=\"search\" title=\"ESPN Search\" type=\"application/opensearchdescription+xml\"/>\n",
      "  <link charset=\"utf-8\" href=\"http://a.espncdn.com/combiner/c/201501211964?css=global_reset.r1.css,base.r237.css,modules.r465_2.css,global_header.r44.css,header_topbar.r1.css,modules/global_nav.r54.css,modules/insider_enhanced.r1.css,modules/mem/mem.r12.1.css,modules/mem/mem_espn360.r8.4.css,modules/mem/skirmish.r8.css,modules/twin.r1.css,modules/facebook/button.r2.css,universal_overlay/universal_overlay.css,universal_overlay/media_overlay.css,universal_overlay/video_overlay.css,universal_overlay/photo_overlay.css,universal_overlay/dyk_overlay.css,fonts/bentonsans.css,fonts/bentonsansmedium.css\" media=\"screen\" rel=\"stylesheet\" type=\"text/css\"/>\n",
      "  <link charset=\"utf-8\" href=\"http://a.espncdn.com/combiner/c/201508060924?css=sprites/teamlogos.r19.css\" media=\"screen\" rel=\"stylesheet\" type=\"text/css\"/>\n",
      "  <link charset=\"utf-8\" href=\"http://a.espncdn.com/combiner/c/20120509325?css=modules/master_tables_09.r3.css\" media=\"screen\" rel=\"stylesheet\" type=\"text/css\"/>\n",
      "  <link href=\"http://a.espncdn.com/prod/styles/video/2.15.0/espn-web-player-bundle.css\" rel=\"stylesheet\"/>\n",
      "  <script src=\"http://widgets.outbrain.com/outbrain.js\">\n",
      "  </script>\n",
      "  <script type=\"text/javascript\">\n",
      "   var _vrq = _vrq || [];\n",
      " _vrq.push(['id', 489]);\n",
      " _vrq.push(['automate', false]);\n",
      " _vrq.push(['track', function(){}]);\n",
      " (function(d, a){var s = d.createElement(a),x = d.getElementsByTagName(a)[0];\n",
      "s.async = true;\n",
      "s.src = 'http://a.visualrevenue.com/vrs.js';\n",
      " x.parentNode.insertBefore(s, x);})(document, 'script');\n",
      "  </script>\n",
      "  <script src=\"http://a.espncdn.com/legacy/desktop/1.0.47/js/espn-critical.js\" type=\"text/javascript\">\n",
      "  </script>\n",
      "  <script type=\"text/javascript\">\n",
      "   window.s_account = \"wdgespcom\";\n",
      "if( typeof s_omni === \"undefined\" && typeof window.setReportSuite === \"function\") {\n",
      "window.s_account = window.setReportSuite( \"wdgespcom\" );\n",
      "}\n",
      "  </script>\n",
      "  <script>\n",
      "   espn.core.navVersion = 'a';\n",
      "  </script>\n",
      "  <script>\n",
      "   var ad_site=\"espn.us.com.nba\",ad_zone=\"nbateams\",ad_kvps=\"pgtyp=nbateams;sp=nba;nav=true;\",ad_swid=\"\",ad_counter=1,ad_ord=Math.floor(9999999999*Math.random()),ad_seg=\"\",ad_mnr=-1<document.cookie.indexOf(\"grif=1\")?\"t\":\"f\",ad_ref=\"other\",ad_sp=\"nba\",ad_pgtyp=\"nbateams\",ad_pgn=\"\",ref=document.referrer,refsMap={\"facebook.com\":\"facebook\",\"twitter.com|t.co\":\"twitter\",\"plus.url.google.com|plus.google.com\":\"googl\n"
     ]
    }
   ],
   "source": [
    "print(soup.prettify()[0:5000])"
   ]
  },
  {
   "cell_type": "markdown",
   "metadata": {},
   "source": [
    "Implement Beautiful Soup functions to store class/tag specific information"
   ]
  },
  {
   "cell_type": "code",
   "execution_count": 7,
   "metadata": {},
   "outputs": [],
   "source": [
    "tables = soup.find_all('ul', class_='medium-logos')"
   ]
  },
  {
   "cell_type": "code",
   "execution_count": 8,
   "metadata": {},
   "outputs": [
    {
     "name": "stdout",
     "output_type": "stream",
     "text": [
      "Number of objects:  19\n"
     ]
    }
   ],
   "source": [
    "uls = soup.find_all('ul')\n",
    "print('Number of objects: ', len(uls))"
   ]
  },
  {
   "cell_type": "markdown",
   "metadata": {},
   "source": [
    "Display the first object"
   ]
  },
  {
   "cell_type": "code",
   "execution_count": 9,
   "metadata": {},
   "outputs": [
    {
     "name": "stdout",
     "output_type": "stream",
     "text": [
      "<ul class=\"medium-logos\">\n",
      " <li class=\"first\">\n",
      "  <div class=\"logo-nba-medium\">\n",
      "   <img src=\"http://a.espncdn.com/combiner/i?img=/i/teamlogos/nba/500/Bos.png?w=48&amp;h=48&amp;transparent=true\"/>\n",
      "   <h5>\n",
      "    <a class=\"bi\" href=\"http://www.espn.com/nba/team/_/name/bos/boston-celtics\">\n",
      "     Boston Celtics\n",
      "    </a>\n",
      "   </h5>\n",
      "   <span>\n",
      "    <a href=\"/nba/teams/stats?team=bos\">\n",
      "     Stats\n",
      "    </a>\n",
      "    |\n",
      "    <a href=\"/nba/teams/schedule?team=bos\">\n",
      "     Schedule\n",
      "    </a>\n",
      "    |\n",
      "    <a href=\"/nba/teams/roster?team=bos\">\n",
      "     Roster\n",
      "    </a>\n",
      "    |\n",
      "    <a href=\"/nba/teams/depth?team=bos\">\n",
      "     Depth Chart\n",
      "    </a>\n",
      "   </span>\n",
      "  </div>\n",
      " </li>\n",
      " <li class=\"alt\">\n",
      "  <div class=\"logo-nba-medium\">\n",
      "   <img src=\"http://a.espncdn.com/combiner/i?img=/i/teamlogos/nba/500/BKN.png?w=48&amp;h=48&amp;transparent=true\"/>\n",
      "   <h5>\n",
      "    <a class=\"bi\" href=\"http://www.espn.com/nba/team/_/name/bkn/brooklyn-nets\">\n",
      "     Brooklyn Nets\n",
      "    </a>\n",
      "   </h5>\n",
      "   <span>\n",
      "    <a href=\"/nba/teams/stats?team=bkn\">\n",
      "     Stats\n",
      "    </a>\n",
      "    |\n",
      "    <a href=\"/nba/teams/schedule?team=bkn\">\n",
      "     Schedule\n",
      "    </a>\n",
      "    |\n",
      "    <a href=\"/nba/teams/roster?team=bkn\">\n",
      "     Roster\n",
      "    </a>\n",
      "    |\n",
      "    <a href=\"/nba/teams/depth?team=bkn\">\n",
      "     Depth Chart\n",
      "    </a>\n",
      "   </span>\n",
      "  </div>\n",
      " </li>\n",
      " <li class=\"\">\n",
      "  <div class=\"logo-nba-medium\">\n",
      "   <img src=\"http://a.espncdn.com/combiner/i?img=/i/teamlogos/nba/500/NY.png?w=48&amp;h=48&amp;transparent=true\"/>\n",
      "   <h5>\n",
      "    <a class=\"bi\" href=\"http://www.espn.com/nba/team/_/name/ny/new-york-knicks\">\n",
      "     New York Knicks\n",
      "    </a>\n",
      "   </h5>\n",
      "   <span>\n",
      "    <a href=\"/nba/teams/stats?team=nyk\">\n",
      "     Stats\n",
      "    </a>\n",
      "    |\n",
      "    <a href=\"/nba/teams/schedule?team=nyk\">\n",
      "     Schedule\n",
      "    </a>\n",
      "    |\n",
      "    <a href=\"/nba/teams/roster?team=nyk\">\n",
      "     Roster\n",
      "    </a>\n",
      "    |\n",
      "    <a href=\"/nba/teams/depth?team=nyk\">\n",
      "     Depth Chart\n",
      "    </a>\n",
      "   </span>\n",
      "  </div>\n",
      " </li>\n",
      " <li class=\"alt\">\n",
      "  <div class=\"logo-nba-medium\">\n",
      "   <img src=\"http://a.espncdn.com/combiner/i?img=/i/teamlogos/nba/500/Phi.png?w=48&amp;h=48&amp;transparent=true\"/>\n",
      "   <h5>\n",
      "    <a class=\"bi\" href=\"http://www.espn.com/nba/team/_/name/phi/philadelphia-76ers\">\n",
      "     Philadelphia 76ers\n",
      "    </a>\n",
      "   </h5>\n",
      "   <span>\n",
      "    <a href=\"/nba/teams/stats?team=phi\">\n",
      "     Stats\n",
      "    </a>\n",
      "    |\n",
      "    <a href=\"/nba/teams/schedule?team=phi\">\n",
      "     Schedule\n",
      "    </a>\n",
      "    |\n",
      "    <a href=\"/nba/teams/roster?team=phi\">\n",
      "     Roster\n",
      "    </a>\n",
      "    |\n",
      "    <a href=\"/nba/teams/depth?team=phi\">\n",
      "     Depth Chart\n",
      "    </a>\n",
      "   </span>\n",
      "  </div>\n",
      " </li>\n",
      " <li class=\"last\">\n",
      "  <div class=\"logo-nba-medium\">\n",
      "   <img src=\"http://a.espncdn.com/combiner/i?img=/i/teamlogos/nba/500/Tor.png?w=48&amp;h=48&amp;transparent=true\"/>\n",
      "   <h5>\n",
      "    <a class=\"bi\" href=\"http://www.espn.com/nba/team/_/name/tor/toronto-raptors\">\n",
      "     Toronto Raptors\n",
      "    </a>\n",
      "   </h5>\n",
      "   <span>\n",
      "    <a href=\"/nba/teams/stats?team=tor\">\n",
      "     Stats\n",
      "    </a>\n",
      "    |\n",
      "    <a href=\"/nba/teams/schedule?team=tor\">\n",
      "     Schedule\n",
      "    </a>\n",
      "    |\n",
      "    <a href=\"/nba/teams/roster?team=tor\">\n",
      "     Roster\n",
      "    </a>\n",
      "    |\n",
      "    <a href=\"/nba/teams/depth?team=tor\">\n",
      "     Depth Chart\n",
      "    </a>\n",
      "   </span>\n",
      "  </div>\n",
      " </li>\n",
      "</ul>\n"
     ]
    }
   ],
   "source": [
    "ul = uls[0]\n",
    "print(ul.prettify())"
   ]
  },
  {
   "cell_type": "markdown",
   "metadata": {},
   "source": [
    "Continue to implement Beautful Soup functions to save relevent information"
   ]
  },
  {
   "cell_type": "code",
   "execution_count": 10,
   "metadata": {},
   "outputs": [
    {
     "data": {
      "text/plain": [
       "<li class=\"first\"><div class=\"logo-nba-medium\"><img src=\"http://a.espncdn.com/combiner/i?img=/i/teamlogos/nba/500/Bos.png?w=48&amp;h=48&amp;transparent=true\"/><h5><a class=\"bi\" href=\"http://www.espn.com/nba/team/_/name/bos/boston-celtics\">Boston Celtics</a></h5><span><a href=\"/nba/teams/stats?team=bos\">Stats</a> | <a href=\"/nba/teams/schedule?team=bos\">Schedule</a> | <a href=\"/nba/teams/roster?team=bos\">Roster</a> | <a href=\"/nba/teams/depth?team=bos\">Depth Chart</a></span></div></li>"
      ]
     },
     "execution_count": 10,
     "metadata": {},
     "output_type": "execute_result"
    }
   ],
   "source": [
    "li = ul.find('li')\n",
    "li"
   ]
  },
  {
   "cell_type": "code",
   "execution_count": 112,
   "metadata": {},
   "outputs": [
    {
     "data": {
      "text/plain": [
       "<a class=\"bi\" href=\"http://www.espn.com/nba/team/_/name/bos/boston-celtics\">Boston Celtics</a>"
      ]
     },
     "execution_count": 112,
     "metadata": {},
     "output_type": "execute_result"
    }
   ],
   "source": [
    "a = li.h5.a\n",
    "a"
   ]
  },
  {
   "cell_type": "code",
   "execution_count": 113,
   "metadata": {},
   "outputs": [
    {
     "data": {
      "text/plain": [
       "'http://www.espn.com/nba/team/_/name/bos/boston-celtics'"
      ]
     },
     "execution_count": 113,
     "metadata": {},
     "output_type": "execute_result"
    }
   ],
   "source": [
    "a['href']"
   ]
  },
  {
   "cell_type": "code",
   "execution_count": 114,
   "metadata": {},
   "outputs": [
    {
     "data": {
      "text/plain": [
       "'Boston Celtics'"
      ]
     },
     "execution_count": 114,
     "metadata": {},
     "output_type": "execute_result"
    }
   ],
   "source": [
    "a.text"
   ]
  },
  {
   "cell_type": "code",
   "execution_count": 115,
   "metadata": {},
   "outputs": [
    {
     "data": {
      "text/plain": [
       "'http://www.espn.com/nba/team/_/name/bos/boston-celtics'"
      ]
     },
     "execution_count": 115,
     "metadata": {},
     "output_type": "execute_result"
    }
   ],
   "source": [
    "a0 = li.find('a', class_='bi')\n",
    "a0.get('href')"
   ]
  },
  {
   "cell_type": "code",
   "execution_count": 116,
   "metadata": {},
   "outputs": [
    {
     "data": {
      "text/plain": [
       "[<a href=\"/nba/teams/stats?team=bos\">Stats</a>]"
      ]
     },
     "execution_count": 116,
     "metadata": {},
     "output_type": "execute_result"
    }
   ],
   "source": [
    "a1 = li.find_all('a', text='Stats')\n",
    "a1"
   ]
  },
  {
   "cell_type": "code",
   "execution_count": 117,
   "metadata": {},
   "outputs": [
    {
     "data": {
      "text/plain": [
       "[<a href=\"/nba/teams/schedule?team=bos\">Schedule</a>]"
      ]
     },
     "execution_count": 117,
     "metadata": {},
     "output_type": "execute_result"
    }
   ],
   "source": [
    "a2 = li.find_all('a', text='Schedule')\n",
    "a2"
   ]
  },
  {
   "cell_type": "code",
   "execution_count": 118,
   "metadata": {},
   "outputs": [
    {
     "data": {
      "text/plain": [
       "[<a href=\"/nba/teams/roster?team=bos\">Roster</a>]"
      ]
     },
     "execution_count": 118,
     "metadata": {},
     "output_type": "execute_result"
    }
   ],
   "source": [
    "a3 = li.find_all('a', text='Roster')\n",
    "a3"
   ]
  },
  {
   "cell_type": "code",
   "execution_count": 119,
   "metadata": {},
   "outputs": [],
   "source": [
    "a4 = li.find_all('a', text='Depth Chart')"
   ]
  },
  {
   "cell_type": "code",
   "execution_count": null,
   "metadata": {},
   "outputs": [],
   "source": []
  },
  {
   "cell_type": "markdown",
   "metadata": {},
   "source": [
    "### Save webpage data in python data structures\n",
    "* Develop data storage architecture\n",
    "* Create empty data structures\n",
    "* Implement control flow processes to save data in data structures"
   ]
  },
  {
   "cell_type": "code",
   "execution_count": 120,
   "metadata": {},
   "outputs": [
    {
     "name": "stdout",
     "output_type": "stream",
     "text": [
      "...........................\n",
      "***************************\n",
      "...........................\n",
      "***************************\n",
      "...........................\n",
      "***************************\n",
      "...........................\n",
      "***************************\n",
      "...........................\n",
      "***************************\n",
      "...........................\n",
      "***************************\n"
     ]
    }
   ],
   "source": [
    "teams = []\n",
    "prefix_1 = []\n",
    "prefix_2 = []\n",
    "teams_urls = []\n",
    "for table in tables:\n",
    "    lis = table.find_all('li')\n",
    "    print('...........................')\n",
    "#     print(lis[:20])\n",
    "    print('***************************')\n"
   ]
  },
  {
   "cell_type": "code",
   "execution_count": 121,
   "metadata": {},
   "outputs": [],
   "source": [
    "team = []\n",
    "url = []\n",
    "stats = []\n",
    "schedule = []\n",
    "roster = []\n",
    "depth = []\n",
    "\n",
    "for table in tables:\n",
    "    lis = table.find_all('li')\n",
    "    for li in lis:\n",
    "        # team names and base url\n",
    "        a1 = li.find('a', class_='bi')\n",
    "        team.append(a1.text) # team names \n",
    "        url.append(a1['href']) # base url\n",
    "        \n",
    "        # get stats \n",
    "        a1 = li.find('a', text='Stats') \n",
    "        stats.append(a1['href'])\n",
    "        \n",
    "        # get schedule \n",
    "        a1 = li.find('a', text='Schedule') \n",
    "        schedule.append(a1['href'])\n",
    "\n",
    "        # get roster\n",
    "        a1 = li.find('a', text='Roster')\n",
    "        roster.append(a1['href'])\n",
    "\n",
    "        # get depth chart\n",
    "        a1 = li.find('a', text='Depth Chart') \n",
    "        depth.append(a1['href'])\n"
   ]
  },
  {
   "cell_type": "code",
   "execution_count": 123,
   "metadata": {},
   "outputs": [
    {
     "data": {
      "text/plain": [
       "{'depth': ['/nba/teams/depth?team=bos',\n",
       "  '/nba/teams/depth?team=bkn',\n",
       "  '/nba/teams/depth?team=nyk',\n",
       "  '/nba/teams/depth?team=phi',\n",
       "  '/nba/teams/depth?team=tor',\n",
       "  '/nba/teams/depth?team=gsw',\n",
       "  '/nba/teams/depth?team=lac',\n",
       "  '/nba/teams/depth?team=lal',\n",
       "  '/nba/teams/depth?team=pho',\n",
       "  '/nba/teams/depth?team=sac',\n",
       "  '/nba/teams/depth?team=chi',\n",
       "  '/nba/teams/depth?team=cle',\n",
       "  '/nba/teams/depth?team=det',\n",
       "  '/nba/teams/depth?team=ind',\n",
       "  '/nba/teams/depth?team=mil',\n",
       "  '/nba/teams/depth?team=dal',\n",
       "  '/nba/teams/depth?team=hou',\n",
       "  '/nba/teams/depth?team=mem',\n",
       "  '/nba/teams/depth?team=nor',\n",
       "  '/nba/teams/depth?team=sas',\n",
       "  '/nba/teams/depth?team=atl',\n",
       "  '/nba/teams/depth?team=cha',\n",
       "  '/nba/teams/depth?team=mia',\n",
       "  '/nba/teams/depth?team=orl',\n",
       "  '/nba/teams/depth?team=was',\n",
       "  '/nba/teams/depth?team=den',\n",
       "  '/nba/teams/depth?team=min',\n",
       "  '/nba/teams/depth?team=okc',\n",
       "  '/nba/teams/depth?team=por',\n",
       "  '/nba/teams/depth?team=uth'],\n",
       " 'roster': ['/nba/teams/roster?team=bos',\n",
       "  '/nba/teams/roster?team=bkn',\n",
       "  '/nba/teams/roster?team=nyk',\n",
       "  '/nba/teams/roster?team=phi',\n",
       "  '/nba/teams/roster?team=tor',\n",
       "  '/nba/teams/roster?team=gsw',\n",
       "  '/nba/teams/roster?team=lac',\n",
       "  '/nba/teams/roster?team=lal',\n",
       "  '/nba/teams/roster?team=pho',\n",
       "  '/nba/teams/roster?team=sac',\n",
       "  '/nba/teams/roster?team=chi',\n",
       "  '/nba/teams/roster?team=cle',\n",
       "  '/nba/teams/roster?team=det',\n",
       "  '/nba/teams/roster?team=ind',\n",
       "  '/nba/teams/roster?team=mil',\n",
       "  '/nba/teams/roster?team=dal',\n",
       "  '/nba/teams/roster?team=hou',\n",
       "  '/nba/teams/roster?team=mem',\n",
       "  '/nba/teams/roster?team=nor',\n",
       "  '/nba/teams/roster?team=sas',\n",
       "  '/nba/teams/roster?team=atl',\n",
       "  '/nba/teams/roster?team=cha',\n",
       "  '/nba/teams/roster?team=mia',\n",
       "  '/nba/teams/roster?team=orl',\n",
       "  '/nba/teams/roster?team=was',\n",
       "  '/nba/teams/roster?team=den',\n",
       "  '/nba/teams/roster?team=min',\n",
       "  '/nba/teams/roster?team=okc',\n",
       "  '/nba/teams/roster?team=por',\n",
       "  '/nba/teams/roster?team=uth'],\n",
       " 'schedule': ['/nba/teams/schedule?team=bos',\n",
       "  '/nba/teams/schedule?team=bkn',\n",
       "  '/nba/teams/schedule?team=nyk',\n",
       "  '/nba/teams/schedule?team=phi',\n",
       "  '/nba/teams/schedule?team=tor',\n",
       "  '/nba/teams/schedule?team=gsw',\n",
       "  '/nba/teams/schedule?team=lac',\n",
       "  '/nba/teams/schedule?team=lal',\n",
       "  '/nba/teams/schedule?team=pho',\n",
       "  '/nba/teams/schedule?team=sac',\n",
       "  '/nba/teams/schedule?team=chi',\n",
       "  '/nba/teams/schedule?team=cle',\n",
       "  '/nba/teams/schedule?team=det',\n",
       "  '/nba/teams/schedule?team=ind',\n",
       "  '/nba/teams/schedule?team=mil',\n",
       "  '/nba/teams/schedule?team=dal',\n",
       "  '/nba/teams/schedule?team=hou',\n",
       "  '/nba/teams/schedule?team=mem',\n",
       "  '/nba/teams/schedule?team=nor',\n",
       "  '/nba/teams/schedule?team=sas',\n",
       "  '/nba/teams/schedule?team=atl',\n",
       "  '/nba/teams/schedule?team=cha',\n",
       "  '/nba/teams/schedule?team=mia',\n",
       "  '/nba/teams/schedule?team=orl',\n",
       "  '/nba/teams/schedule?team=was',\n",
       "  '/nba/teams/schedule?team=den',\n",
       "  '/nba/teams/schedule?team=min',\n",
       "  '/nba/teams/schedule?team=okc',\n",
       "  '/nba/teams/schedule?team=por',\n",
       "  '/nba/teams/schedule?team=uth'],\n",
       " 'stats': ['/nba/teams/stats?team=bos',\n",
       "  '/nba/teams/stats?team=bkn',\n",
       "  '/nba/teams/stats?team=nyk',\n",
       "  '/nba/teams/stats?team=phi',\n",
       "  '/nba/teams/stats?team=tor',\n",
       "  '/nba/teams/stats?team=gsw',\n",
       "  '/nba/teams/stats?team=lac',\n",
       "  '/nba/teams/stats?team=lal',\n",
       "  '/nba/teams/stats?team=pho',\n",
       "  '/nba/teams/stats?team=sac',\n",
       "  '/nba/teams/stats?team=chi',\n",
       "  '/nba/teams/stats?team=cle',\n",
       "  '/nba/teams/stats?team=det',\n",
       "  '/nba/teams/stats?team=ind',\n",
       "  '/nba/teams/stats?team=mil',\n",
       "  '/nba/teams/stats?team=dal',\n",
       "  '/nba/teams/stats?team=hou',\n",
       "  '/nba/teams/stats?team=mem',\n",
       "  '/nba/teams/stats?team=nor',\n",
       "  '/nba/teams/stats?team=sas',\n",
       "  '/nba/teams/stats?team=atl',\n",
       "  '/nba/teams/stats?team=cha',\n",
       "  '/nba/teams/stats?team=mia',\n",
       "  '/nba/teams/stats?team=orl',\n",
       "  '/nba/teams/stats?team=was',\n",
       "  '/nba/teams/stats?team=den',\n",
       "  '/nba/teams/stats?team=min',\n",
       "  '/nba/teams/stats?team=okc',\n",
       "  '/nba/teams/stats?team=por',\n",
       "  '/nba/teams/stats?team=uth'],\n",
       " 'team': ['Boston Celtics',\n",
       "  'Brooklyn Nets',\n",
       "  'New York Knicks',\n",
       "  'Philadelphia 76ers',\n",
       "  'Toronto Raptors',\n",
       "  'Golden State Warriors',\n",
       "  'LA Clippers',\n",
       "  'Los Angeles Lakers',\n",
       "  'Phoenix Suns',\n",
       "  'Sacramento Kings',\n",
       "  'Chicago Bulls',\n",
       "  'Cleveland Cavaliers',\n",
       "  'Detroit Pistons',\n",
       "  'Indiana Pacers',\n",
       "  'Milwaukee Bucks',\n",
       "  'Dallas Mavericks',\n",
       "  'Houston Rockets',\n",
       "  'Memphis Grizzlies',\n",
       "  'New Orleans Pelicans',\n",
       "  'San Antonio Spurs',\n",
       "  'Atlanta Hawks',\n",
       "  'Charlotte Hornets',\n",
       "  'Miami Heat',\n",
       "  'Orlando Magic',\n",
       "  'Washington Wizards',\n",
       "  'Denver Nuggets',\n",
       "  'Minnesota Timberwolves',\n",
       "  'Oklahoma City Thunder',\n",
       "  'Portland Trail Blazers',\n",
       "  'Utah Jazz'],\n",
       " 'url': ['http://www.espn.com/nba/team/_/name/bos/boston-celtics',\n",
       "  'http://www.espn.com/nba/team/_/name/bkn/brooklyn-nets',\n",
       "  'http://www.espn.com/nba/team/_/name/ny/new-york-knicks',\n",
       "  'http://www.espn.com/nba/team/_/name/phi/philadelphia-76ers',\n",
       "  'http://www.espn.com/nba/team/_/name/tor/toronto-raptors',\n",
       "  'http://www.espn.com/nba/team/_/name/gs/golden-state-warriors',\n",
       "  'http://www.espn.com/nba/team/_/name/lac/la-clippers',\n",
       "  'http://www.espn.com/nba/team/_/name/lal/los-angeles-lakers',\n",
       "  'http://www.espn.com/nba/team/_/name/phx/phoenix-suns',\n",
       "  'http://www.espn.com/nba/team/_/name/sac/sacramento-kings',\n",
       "  'http://www.espn.com/nba/team/_/name/chi/chicago-bulls',\n",
       "  'http://www.espn.com/nba/team/_/name/cle/cleveland-cavaliers',\n",
       "  'http://www.espn.com/nba/team/_/name/det/detroit-pistons',\n",
       "  'http://www.espn.com/nba/team/_/name/ind/indiana-pacers',\n",
       "  'http://www.espn.com/nba/team/_/name/mil/milwaukee-bucks',\n",
       "  'http://www.espn.com/nba/team/_/name/dal/dallas-mavericks',\n",
       "  'http://www.espn.com/nba/team/_/name/hou/houston-rockets',\n",
       "  'http://www.espn.com/nba/team/_/name/mem/memphis-grizzlies',\n",
       "  'http://www.espn.com/nba/team/_/name/no/new-orleans-pelicans',\n",
       "  'http://www.espn.com/nba/team/_/name/sa/san-antonio-spurs',\n",
       "  'http://www.espn.com/nba/team/_/name/atl/atlanta-hawks',\n",
       "  'http://www.espn.com/nba/team/_/name/cha/charlotte-hornets',\n",
       "  'http://www.espn.com/nba/team/_/name/mia/miami-heat',\n",
       "  'http://www.espn.com/nba/team/_/name/orl/orlando-magic',\n",
       "  'http://www.espn.com/nba/team/_/name/wsh/washington-wizards',\n",
       "  'http://www.espn.com/nba/team/_/name/den/denver-nuggets',\n",
       "  'http://www.espn.com/nba/team/_/name/min/minnesota-timberwolves',\n",
       "  'http://www.espn.com/nba/team/_/name/okc/oklahoma-city-thunder',\n",
       "  'http://www.espn.com/nba/team/_/name/por/portland-trail-blazers',\n",
       "  'http://www.espn.com/nba/team/_/name/utah/utah-jazz']}"
      ]
     },
     "execution_count": 123,
     "metadata": {},
     "output_type": "execute_result"
    }
   ],
   "source": [
    "dic = {'team': team, 'url': url, 'stats': stats, 'schedule': schedule, 'roster': roster, 'depth': depth}\n",
    "dic"
   ]
  },
  {
   "cell_type": "code",
   "execution_count": 124,
   "metadata": {},
   "outputs": [
    {
     "data": {
      "text/html": [
       "<div>\n",
       "<style>\n",
       "    .dataframe thead tr:only-child th {\n",
       "        text-align: right;\n",
       "    }\n",
       "\n",
       "    .dataframe thead th {\n",
       "        text-align: left;\n",
       "    }\n",
       "\n",
       "    .dataframe tbody tr th {\n",
       "        vertical-align: top;\n",
       "    }\n",
       "</style>\n",
       "<table border=\"1\" class=\"dataframe\">\n",
       "  <thead>\n",
       "    <tr style=\"text-align: right;\">\n",
       "      <th></th>\n",
       "      <th>team</th>\n",
       "      <th>url</th>\n",
       "      <th>stats</th>\n",
       "      <th>schedule</th>\n",
       "      <th>roster</th>\n",
       "      <th>depth</th>\n",
       "    </tr>\n",
       "  </thead>\n",
       "  <tbody>\n",
       "    <tr>\n",
       "      <th>0</th>\n",
       "      <td>Boston Celtics</td>\n",
       "      <td>http://www.espn.com/nba/team/_/name/bos/boston...</td>\n",
       "      <td>/nba/teams/stats?team=bos</td>\n",
       "      <td>/nba/teams/schedule?team=bos</td>\n",
       "      <td>/nba/teams/roster?team=bos</td>\n",
       "      <td>/nba/teams/depth?team=bos</td>\n",
       "    </tr>\n",
       "    <tr>\n",
       "      <th>1</th>\n",
       "      <td>Brooklyn Nets</td>\n",
       "      <td>http://www.espn.com/nba/team/_/name/bkn/brookl...</td>\n",
       "      <td>/nba/teams/stats?team=bkn</td>\n",
       "      <td>/nba/teams/schedule?team=bkn</td>\n",
       "      <td>/nba/teams/roster?team=bkn</td>\n",
       "      <td>/nba/teams/depth?team=bkn</td>\n",
       "    </tr>\n",
       "    <tr>\n",
       "      <th>2</th>\n",
       "      <td>New York Knicks</td>\n",
       "      <td>http://www.espn.com/nba/team/_/name/ny/new-yor...</td>\n",
       "      <td>/nba/teams/stats?team=nyk</td>\n",
       "      <td>/nba/teams/schedule?team=nyk</td>\n",
       "      <td>/nba/teams/roster?team=nyk</td>\n",
       "      <td>/nba/teams/depth?team=nyk</td>\n",
       "    </tr>\n",
       "    <tr>\n",
       "      <th>3</th>\n",
       "      <td>Philadelphia 76ers</td>\n",
       "      <td>http://www.espn.com/nba/team/_/name/phi/philad...</td>\n",
       "      <td>/nba/teams/stats?team=phi</td>\n",
       "      <td>/nba/teams/schedule?team=phi</td>\n",
       "      <td>/nba/teams/roster?team=phi</td>\n",
       "      <td>/nba/teams/depth?team=phi</td>\n",
       "    </tr>\n",
       "    <tr>\n",
       "      <th>4</th>\n",
       "      <td>Toronto Raptors</td>\n",
       "      <td>http://www.espn.com/nba/team/_/name/tor/toront...</td>\n",
       "      <td>/nba/teams/stats?team=tor</td>\n",
       "      <td>/nba/teams/schedule?team=tor</td>\n",
       "      <td>/nba/teams/roster?team=tor</td>\n",
       "      <td>/nba/teams/depth?team=tor</td>\n",
       "    </tr>\n",
       "  </tbody>\n",
       "</table>\n",
       "</div>"
      ],
      "text/plain": [
       "                 team                                                url  \\\n",
       "0      Boston Celtics  http://www.espn.com/nba/team/_/name/bos/boston...   \n",
       "1       Brooklyn Nets  http://www.espn.com/nba/team/_/name/bkn/brookl...   \n",
       "2     New York Knicks  http://www.espn.com/nba/team/_/name/ny/new-yor...   \n",
       "3  Philadelphia 76ers  http://www.espn.com/nba/team/_/name/phi/philad...   \n",
       "4     Toronto Raptors  http://www.espn.com/nba/team/_/name/tor/toront...   \n",
       "\n",
       "                       stats                      schedule  \\\n",
       "0  /nba/teams/stats?team=bos  /nba/teams/schedule?team=bos   \n",
       "1  /nba/teams/stats?team=bkn  /nba/teams/schedule?team=bkn   \n",
       "2  /nba/teams/stats?team=nyk  /nba/teams/schedule?team=nyk   \n",
       "3  /nba/teams/stats?team=phi  /nba/teams/schedule?team=phi   \n",
       "4  /nba/teams/stats?team=tor  /nba/teams/schedule?team=tor   \n",
       "\n",
       "                       roster                      depth  \n",
       "0  /nba/teams/roster?team=bos  /nba/teams/depth?team=bos  \n",
       "1  /nba/teams/roster?team=bkn  /nba/teams/depth?team=bkn  \n",
       "2  /nba/teams/roster?team=nyk  /nba/teams/depth?team=nyk  \n",
       "3  /nba/teams/roster?team=phi  /nba/teams/depth?team=phi  \n",
       "4  /nba/teams/roster?team=tor  /nba/teams/depth?team=tor  "
      ]
     },
     "execution_count": 124,
     "metadata": {},
     "output_type": "execute_result"
    }
   ],
   "source": [
    "dt = pandas.DataFrame(dic)\n",
    "dt = dt[['team', 'url', 'stats', 'schedule', 'roster', 'depth']]\n",
    "dt.head()"
   ]
  },
  {
   "cell_type": "code",
   "execution_count": null,
   "metadata": {},
   "outputs": [],
   "source": []
  },
  {
   "cell_type": "code",
   "execution_count": null,
   "metadata": {},
   "outputs": [],
   "source": []
  }
 ],
 "metadata": {
  "kernelspec": {
   "display_name": "Python 3",
   "language": "python",
   "name": "python3"
  },
  "language_info": {
   "codemirror_mode": {
    "name": "ipython",
    "version": 3
   },
   "file_extension": ".py",
   "mimetype": "text/x-python",
   "name": "python",
   "nbconvert_exporter": "python",
   "pygments_lexer": "ipython3",
   "version": "3.6.3"
  }
 },
 "nbformat": 4,
 "nbformat_minor": 2
}
