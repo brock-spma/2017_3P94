{
 "cells": [
  {
   "cell_type": "markdown",
   "metadata": {},
   "source": [
    "# Collect NBA team information"
   ]
  },
  {
   "cell_type": "code",
   "execution_count": 1,
   "metadata": {},
   "outputs": [],
   "source": [
    "import pandas \n",
    "import requests\n",
    "from bs4 import BeautifulSoup\n",
    "from urllib.request import urlopen"
   ]
  },
  {
   "cell_type": "markdown",
   "metadata": {},
   "source": [
    "## Save relevant webpage information to dictionary"
   ]
  },
  {
   "cell_type": "code",
   "execution_count": 6,
   "metadata": {},
   "outputs": [
    {
     "data": {
      "text/plain": [
       "dict_keys(['team', 'home', 'stats', 'schedule', 'roster', 'depth'])"
      ]
     },
     "execution_count": 6,
     "metadata": {},
     "output_type": "execute_result"
    }
   ],
   "source": [
    "url = 'http://espn.go.com/nba/teams'\n",
    "r = requests.get(url)\n",
    "\n",
    "soup = BeautifulSoup(r.text, 'lxml')\n",
    "tables = soup.find_all('ul', class_='medium-logos')\n",
    "\n",
    "team = []\n",
    "home = []\n",
    "stats = []\n",
    "schedule = []\n",
    "roster = []\n",
    "depth = []\n",
    "\n",
    "for table in tables:\n",
    "    lis = table.find_all('li')\n",
    "    for li in lis:\n",
    "        # team names and base url\n",
    "        a1 = li.find('a', class_='bi')\n",
    "        team.append(a1.text) # team names \n",
    "        home.append(a1['href']) # base url\n",
    "        \n",
    "        # get stats \n",
    "        a1 = li.find('a', text='Stats') \n",
    "        stats.append(a1['href'])\n",
    "        \n",
    "        # get schedule \n",
    "        a1 = li.find('a', text='Schedule') \n",
    "        schedule.append(a1['href'])\n",
    "\n",
    "        # get roster\n",
    "        a1 = li.find('a', text='Roster')\n",
    "        roster.append(a1['href'])\n",
    "\n",
    "        # get depth chart\n",
    "        a1 = li.find('a', text='Depth Chart') \n",
    "        depth.append(a1['href'])\n",
    "\n",
    "        dic_team = {'team': team, 'home': home, 'stats': stats, 'schedule': schedule, 'roster': roster, 'depth': depth}\n",
    "\n",
    "dic_team.keys()"
   ]
  },
  {
   "cell_type": "markdown",
   "metadata": {},
   "source": [
    "### Obtain team abbreviations"
   ]
  },
  {
   "cell_type": "code",
   "execution_count": 7,
   "metadata": {},
   "outputs": [],
   "source": [
    "abv = []\n",
    "list_url = dic_team['stats']\n",
    "for url in list_url:\n",
    "    temp = url.split('=')[1]\n",
    "    abv.append(temp)\n",
    "    \n",
    "temp_dict = {'abv': abv}"
   ]
  },
  {
   "cell_type": "markdown",
   "metadata": {},
   "source": [
    "### Update main dictionary"
   ]
  },
  {
   "cell_type": "code",
   "execution_count": 8,
   "metadata": {},
   "outputs": [],
   "source": [
    "dic_team.update(temp_dict); del temp_dict"
   ]
  },
  {
   "cell_type": "markdown",
   "metadata": {},
   "source": [
    "### Convert dictionary to dataframe"
   ]
  },
  {
   "cell_type": "code",
   "execution_count": 9,
   "metadata": {},
   "outputs": [
    {
     "data": {
      "text/html": [
       "<div>\n",
       "<style>\n",
       "    .dataframe thead tr:only-child th {\n",
       "        text-align: right;\n",
       "    }\n",
       "\n",
       "    .dataframe thead th {\n",
       "        text-align: left;\n",
       "    }\n",
       "\n",
       "    .dataframe tbody tr th {\n",
       "        vertical-align: top;\n",
       "    }\n",
       "</style>\n",
       "<table border=\"1\" class=\"dataframe\">\n",
       "  <thead>\n",
       "    <tr style=\"text-align: right;\">\n",
       "      <th></th>\n",
       "      <th>team</th>\n",
       "      <th>home</th>\n",
       "      <th>stats</th>\n",
       "      <th>schedule</th>\n",
       "      <th>roster</th>\n",
       "      <th>depth</th>\n",
       "    </tr>\n",
       "  </thead>\n",
       "  <tbody>\n",
       "    <tr>\n",
       "      <th>bos</th>\n",
       "      <td>Boston Celtics</td>\n",
       "      <td>http://www.espn.com/nba/team/_/name/bos/boston...</td>\n",
       "      <td>/nba/teams/stats?team=bos</td>\n",
       "      <td>/nba/teams/schedule?team=bos</td>\n",
       "      <td>/nba/teams/roster?team=bos</td>\n",
       "      <td>/nba/teams/depth?team=bos</td>\n",
       "    </tr>\n",
       "    <tr>\n",
       "      <th>bkn</th>\n",
       "      <td>Brooklyn Nets</td>\n",
       "      <td>http://www.espn.com/nba/team/_/name/bkn/brookl...</td>\n",
       "      <td>/nba/teams/stats?team=bkn</td>\n",
       "      <td>/nba/teams/schedule?team=bkn</td>\n",
       "      <td>/nba/teams/roster?team=bkn</td>\n",
       "      <td>/nba/teams/depth?team=bkn</td>\n",
       "    </tr>\n",
       "    <tr>\n",
       "      <th>nyk</th>\n",
       "      <td>New York Knicks</td>\n",
       "      <td>http://www.espn.com/nba/team/_/name/ny/new-yor...</td>\n",
       "      <td>/nba/teams/stats?team=nyk</td>\n",
       "      <td>/nba/teams/schedule?team=nyk</td>\n",
       "      <td>/nba/teams/roster?team=nyk</td>\n",
       "      <td>/nba/teams/depth?team=nyk</td>\n",
       "    </tr>\n",
       "    <tr>\n",
       "      <th>phi</th>\n",
       "      <td>Philadelphia 76ers</td>\n",
       "      <td>http://www.espn.com/nba/team/_/name/phi/philad...</td>\n",
       "      <td>/nba/teams/stats?team=phi</td>\n",
       "      <td>/nba/teams/schedule?team=phi</td>\n",
       "      <td>/nba/teams/roster?team=phi</td>\n",
       "      <td>/nba/teams/depth?team=phi</td>\n",
       "    </tr>\n",
       "    <tr>\n",
       "      <th>tor</th>\n",
       "      <td>Toronto Raptors</td>\n",
       "      <td>http://www.espn.com/nba/team/_/name/tor/toront...</td>\n",
       "      <td>/nba/teams/stats?team=tor</td>\n",
       "      <td>/nba/teams/schedule?team=tor</td>\n",
       "      <td>/nba/teams/roster?team=tor</td>\n",
       "      <td>/nba/teams/depth?team=tor</td>\n",
       "    </tr>\n",
       "  </tbody>\n",
       "</table>\n",
       "</div>"
      ],
      "text/plain": [
       "                   team                                               home  \\\n",
       "bos      Boston Celtics  http://www.espn.com/nba/team/_/name/bos/boston...   \n",
       "bkn       Brooklyn Nets  http://www.espn.com/nba/team/_/name/bkn/brookl...   \n",
       "nyk     New York Knicks  http://www.espn.com/nba/team/_/name/ny/new-yor...   \n",
       "phi  Philadelphia 76ers  http://www.espn.com/nba/team/_/name/phi/philad...   \n",
       "tor     Toronto Raptors  http://www.espn.com/nba/team/_/name/tor/toront...   \n",
       "\n",
       "                         stats                      schedule  \\\n",
       "bos  /nba/teams/stats?team=bos  /nba/teams/schedule?team=bos   \n",
       "bkn  /nba/teams/stats?team=bkn  /nba/teams/schedule?team=bkn   \n",
       "nyk  /nba/teams/stats?team=nyk  /nba/teams/schedule?team=nyk   \n",
       "phi  /nba/teams/stats?team=phi  /nba/teams/schedule?team=phi   \n",
       "tor  /nba/teams/stats?team=tor  /nba/teams/schedule?team=tor   \n",
       "\n",
       "                         roster                      depth  \n",
       "bos  /nba/teams/roster?team=bos  /nba/teams/depth?team=bos  \n",
       "bkn  /nba/teams/roster?team=bkn  /nba/teams/depth?team=bkn  \n",
       "nyk  /nba/teams/roster?team=nyk  /nba/teams/depth?team=nyk  \n",
       "phi  /nba/teams/roster?team=phi  /nba/teams/depth?team=phi  \n",
       "tor  /nba/teams/roster?team=tor  /nba/teams/depth?team=tor  "
      ]
     },
     "execution_count": 9,
     "metadata": {},
     "output_type": "execute_result"
    }
   ],
   "source": [
    "dt = pandas.DataFrame(dic_team, index=abv)\n",
    "dt = dt[['team', 'home', 'stats', 'schedule', 'roster', 'depth']]\n",
    "dt.head()"
   ]
  },
  {
   "cell_type": "code",
   "execution_count": null,
   "metadata": {},
   "outputs": [],
   "source": []
  },
  {
   "cell_type": "code",
   "execution_count": null,
   "metadata": {},
   "outputs": [],
   "source": []
  }
 ],
 "metadata": {
  "kernelspec": {
   "display_name": "Python 3",
   "language": "python",
   "name": "python3"
  },
  "language_info": {
   "codemirror_mode": {
    "name": "ipython",
    "version": 3
   },
   "file_extension": ".py",
   "mimetype": "text/x-python",
   "name": "python",
   "nbconvert_exporter": "python",
   "pygments_lexer": "ipython3",
   "version": "3.6.3"
  }
 },
 "nbformat": 4,
 "nbformat_minor": 2
}
