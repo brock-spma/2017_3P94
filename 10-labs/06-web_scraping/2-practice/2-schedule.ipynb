{
 "cells": [
  {
   "cell_type": "markdown",
   "metadata": {},
   "source": [
    "# Collect NBA schedule information"
   ]
  },
  {
   "cell_type": "code",
   "execution_count": 81,
   "metadata": {},
   "outputs": [],
   "source": [
    "import os\n",
    "import pandas \n",
    "import requests\n",
    "from bs4 import BeautifulSoup\n",
    "from urllib.request import urlopen"
   ]
  },
  {
   "cell_type": "markdown",
   "metadata": {},
   "source": [
    "## Collect team information"
   ]
  },
  {
   "cell_type": "code",
   "execution_count": 82,
   "metadata": {},
   "outputs": [],
   "source": [
    "%run 1-teams.ipynb"
   ]
  },
  {
   "cell_type": "code",
   "execution_count": 83,
   "metadata": {},
   "outputs": [
    {
     "data": {
      "text/plain": [
       "dict_keys(['team', 'home', 'stats', 'schedule', 'roster', 'depth', 'abv'])"
      ]
     },
     "execution_count": 83,
     "metadata": {},
     "output_type": "execute_result"
    }
   ],
   "source": [
    "dic_team.keys()"
   ]
  },
  {
   "cell_type": "code",
   "execution_count": 84,
   "metadata": {},
   "outputs": [],
   "source": [
    "dt.head()\n",
    "DT = dt.copy()"
   ]
  },
  {
   "cell_type": "markdown",
   "metadata": {},
   "source": [
    "### Set url schema\n",
    "* home: http://www.espn.com/nba/team/_/name/bos/boston-celtics\n",
    "* schedule: http://www.espn.com/nba/team/schedule/_/name/bos/boston-celtics\n",
    "* /nba/teams/schedule?team=bos\n",
    "* add espn.com to status url"
   ]
  },
  {
   "cell_type": "code",
   "execution_count": 89,
   "metadata": {},
   "outputs": [
    {
     "data": {
      "text/html": [
       "<div>\n",
       "<style>\n",
       "    .dataframe thead tr:only-child th {\n",
       "        text-align: right;\n",
       "    }\n",
       "\n",
       "    .dataframe thead th {\n",
       "        text-align: left;\n",
       "    }\n",
       "\n",
       "    .dataframe tbody tr th {\n",
       "        vertical-align: top;\n",
       "    }\n",
       "</style>\n",
       "<table border=\"1\" class=\"dataframe\">\n",
       "  <thead>\n",
       "    <tr style=\"text-align: right;\">\n",
       "      <th></th>\n",
       "      <th>team</th>\n",
       "      <th>home</th>\n",
       "      <th>stats</th>\n",
       "      <th>schedule</th>\n",
       "      <th>roster</th>\n",
       "      <th>depth</th>\n",
       "    </tr>\n",
       "  </thead>\n",
       "  <tbody>\n",
       "    <tr>\n",
       "      <th>bos</th>\n",
       "      <td>Boston Celtics</td>\n",
       "      <td>http://www.espn.com/nba/team/_/name/bos/boston...</td>\n",
       "      <td>/nba/teams/stats?team=bos</td>\n",
       "      <td>http://www.espn.com/nba/team/schedule/_/name/b...</td>\n",
       "      <td>/nba/teams/roster?team=bos</td>\n",
       "      <td>/nba/teams/depth?team=bos</td>\n",
       "    </tr>\n",
       "    <tr>\n",
       "      <th>bkn</th>\n",
       "      <td>Brooklyn Nets</td>\n",
       "      <td>http://www.espn.com/nba/team/_/name/bkn/brookl...</td>\n",
       "      <td>/nba/teams/stats?team=bkn</td>\n",
       "      <td>http://www.espn.com/nba/team/schedule/_/name/b...</td>\n",
       "      <td>/nba/teams/roster?team=bkn</td>\n",
       "      <td>/nba/teams/depth?team=bkn</td>\n",
       "    </tr>\n",
       "    <tr>\n",
       "      <th>nyk</th>\n",
       "      <td>New York Knicks</td>\n",
       "      <td>http://www.espn.com/nba/team/_/name/ny/new-yor...</td>\n",
       "      <td>/nba/teams/stats?team=nyk</td>\n",
       "      <td>http://www.espn.com/nba/team/schedule/_/name/n...</td>\n",
       "      <td>/nba/teams/roster?team=nyk</td>\n",
       "      <td>/nba/teams/depth?team=nyk</td>\n",
       "    </tr>\n",
       "    <tr>\n",
       "      <th>phi</th>\n",
       "      <td>Philadelphia 76ers</td>\n",
       "      <td>http://www.espn.com/nba/team/_/name/phi/philad...</td>\n",
       "      <td>/nba/teams/stats?team=phi</td>\n",
       "      <td>http://www.espn.com/nba/team/schedule/_/name/p...</td>\n",
       "      <td>/nba/teams/roster?team=phi</td>\n",
       "      <td>/nba/teams/depth?team=phi</td>\n",
       "    </tr>\n",
       "    <tr>\n",
       "      <th>tor</th>\n",
       "      <td>Toronto Raptors</td>\n",
       "      <td>http://www.espn.com/nba/team/_/name/tor/toront...</td>\n",
       "      <td>/nba/teams/stats?team=tor</td>\n",
       "      <td>http://www.espn.com/nba/team/schedule/_/name/t...</td>\n",
       "      <td>/nba/teams/roster?team=tor</td>\n",
       "      <td>/nba/teams/depth?team=tor</td>\n",
       "    </tr>\n",
       "  </tbody>\n",
       "</table>\n",
       "</div>"
      ],
      "text/plain": [
       "                   team                                               home  \\\n",
       "bos      Boston Celtics  http://www.espn.com/nba/team/_/name/bos/boston...   \n",
       "bkn       Brooklyn Nets  http://www.espn.com/nba/team/_/name/bkn/brookl...   \n",
       "nyk     New York Knicks  http://www.espn.com/nba/team/_/name/ny/new-yor...   \n",
       "phi  Philadelphia 76ers  http://www.espn.com/nba/team/_/name/phi/philad...   \n",
       "tor     Toronto Raptors  http://www.espn.com/nba/team/_/name/tor/toront...   \n",
       "\n",
       "                         stats  \\\n",
       "bos  /nba/teams/stats?team=bos   \n",
       "bkn  /nba/teams/stats?team=bkn   \n",
       "nyk  /nba/teams/stats?team=nyk   \n",
       "phi  /nba/teams/stats?team=phi   \n",
       "tor  /nba/teams/stats?team=tor   \n",
       "\n",
       "                                              schedule  \\\n",
       "bos  http://www.espn.com/nba/team/schedule/_/name/b...   \n",
       "bkn  http://www.espn.com/nba/team/schedule/_/name/b...   \n",
       "nyk  http://www.espn.com/nba/team/schedule/_/name/n...   \n",
       "phi  http://www.espn.com/nba/team/schedule/_/name/p...   \n",
       "tor  http://www.espn.com/nba/team/schedule/_/name/t...   \n",
       "\n",
       "                         roster                      depth  \n",
       "bos  /nba/teams/roster?team=bos  /nba/teams/depth?team=bos  \n",
       "bkn  /nba/teams/roster?team=bkn  /nba/teams/depth?team=bkn  \n",
       "nyk  /nba/teams/roster?team=nyk  /nba/teams/depth?team=nyk  \n",
       "phi  /nba/teams/roster?team=phi  /nba/teams/depth?team=phi  \n",
       "tor  /nba/teams/roster?team=tor  /nba/teams/depth?team=tor  "
      ]
     },
     "execution_count": 89,
     "metadata": {},
     "output_type": "execute_result"
    }
   ],
   "source": [
    "DT['schedule'] = DT['home'].replace({'_': 'schedule/_'}, regex=True)\n",
    "DT.head()"
   ]
  },
  {
   "cell_type": "markdown",
   "metadata": {},
   "source": [
    "### Data collection\n",
    "1. Set global variables\n",
    "* Set data architecture\n",
    "* Loop through teams\n",
    "* Append team url information to schedule url\n",
    "* Collect schedule information\n",
    "* Store information in dictionary\n",
    "* Convert dictionary to dataframe\n",
    "* Convert dataframe to csv\n",
    "* Save csv to file"
   ]
  },
  {
   "cell_type": "code",
   "execution_count": 103,
   "metadata": {},
   "outputs": [],
   "source": [
    "URL = DT.schedule[0]\n",
    "# http://www.espn.com/nba/team/schedule/_/name/bos/boston-celtics    \n",
    "r = requests.get(URL)\n",
    "soup = BeautifulSoup(r.text, 'lxml')\n",
    "table = soup.table\n",
    "\n"
   ]
  },
  {
   "cell_type": "code",
   "execution_count": 121,
   "metadata": {},
   "outputs": [
    {
     "data": {
      "text/plain": [
       "[<td>OCTOBER</td>,\n",
       " <td>OPPONENT</td>,\n",
       " <td>RESULT</td>,\n",
       " <td>W-L</td>,\n",
       " <td align=\"left\" title=\"Points Leader\">HI POINTS</td>,\n",
       " <td align=\"left\" title=\"Rebounds Leader\">HI REBOUNDS</td>,\n",
       " <td align=\"left\" title=\"Assists Leader\">HI ASSISTS</td>]"
      ]
     },
     "execution_count": 121,
     "metadata": {},
     "output_type": "execute_result"
    }
   ],
   "source": [
    "row = table.find_all('tr')[1:][0]\n",
    "row.find_all('td')"
   ]
  },
  {
   "cell_type": "code",
   "execution_count": 122,
   "metadata": {},
   "outputs": [
    {
     "data": {
      "text/plain": [
       "[<td>Tue, Oct 17</td>,\n",
       " <td><ul class=\"game-schedule\"><li class=\"game-status\">@</li><li class=\"team-logo-small logo-nba-small\"><a href=\"http://www.espn.com/nba/team/_/name/cle/cleveland-cavaliers\"><img src=\"http://a.espncdn.com/combiner/i?img=/i/teamlogos/nba/500/scoreboard/Cle.png&amp;h=80&amp;w=80\"/></a></li><li class=\"team-name\"><a href=\"http://www.espn.com/nba/team/_/name/cle/cleveland-cavaliers\">Cleveland</a></li></ul></td>,\n",
       " <td><ul class=\"game-schedule\"><li class=\"game-status loss\"><span class=\"redfont\">L</span></li><li class=\"score\"><a href=\"//www.espn.com/nba/recap/_/id/400974437\">102-99</a></li></ul></td>,\n",
       " <td>0-1</td>,\n",
       " <td colspan=\"1\"><a href=\"http://www.espn.com/nba/player/_/id/1966/lebron-james\">L. James</a> 29</td>,\n",
       " <td colspan=\"1\"><a href=\"http://www.espn.com/nba/player/_/id/1966/lebron-james\">L. James</a> 16</td>,\n",
       " <td colspan=\"1\"><a href=\"http://www.espn.com/nba/player/_/id/6442/kyrie-irving\">K. Irving</a> 10</td>]"
      ]
     },
     "execution_count": 122,
     "metadata": {},
     "output_type": "execute_result"
    }
   ],
   "source": [
    "row = table.find_all('tr')[1:][1]\n",
    "row.find_all('td')"
   ]
  },
  {
   "cell_type": "code",
   "execution_count": 123,
   "metadata": {},
   "outputs": [
    {
     "data": {
      "text/plain": [
       "[<td>Wed, Oct 18</td>,\n",
       " <td><ul class=\"game-schedule\"><li class=\"game-status\">vs</li><li class=\"team-logo-small logo-nba-small\"><a href=\"http://www.espn.com/nba/team/_/name/mil/milwaukee-bucks\"><img src=\"http://a.espncdn.com/combiner/i?img=/i/teamlogos/nba/500/scoreboard/Mil.png&amp;h=80&amp;w=80\"/></a></li><li class=\"team-name\"><a href=\"http://www.espn.com/nba/team/_/name/mil/milwaukee-bucks\">Milwaukee</a></li></ul></td>,\n",
       " <td><ul class=\"game-schedule\"><li class=\"game-status loss\"><span class=\"redfont\">L</span></li><li class=\"score\"><a href=\"//www.espn.com/nba/recap/_/id/400974703\">108-100</a></li></ul></td>,\n",
       " <td>0-2</td>,\n",
       " <td colspan=\"1\"><a href=\"http://www.espn.com/nba/player/_/id/3032977/giannis-antetokounmpo\">G. Antetokounmpo</a> 37</td>,\n",
       " <td colspan=\"1\"><a href=\"http://www.espn.com/nba/player/_/id/3032977/giannis-antetokounmpo\">G. Antetokounmpo</a> 13</td>,\n",
       " <td colspan=\"1\"><a href=\"http://www.espn.com/nba/player/_/id/6609/khris-middleton\">K. Middleton</a> 6</td>]"
      ]
     },
     "execution_count": 123,
     "metadata": {},
     "output_type": "execute_result"
    }
   ],
   "source": [
    "row = table.find_all('tr')[1:][2]\n",
    "row.find_all('td')"
   ]
  },
  {
   "cell_type": "code",
   "execution_count": 146,
   "metadata": {},
   "outputs": [
    {
     "data": {
      "text/plain": [
       "<ul class=\"game-schedule\"><li class=\"game-status\">@</li><li class=\"team-logo-small logo-nba-small\"><a href=\"http://www.espn.com/nba/team/_/name/phi/philadelphia-76ers\"><img src=\"http://a.espncdn.com/combiner/i?img=/i/teamlogos/nba/500/scoreboard/Phi.png&amp;h=80&amp;w=80\"/></a></li><li class=\"team-name\"><a href=\"http://www.espn.com/nba/team/_/name/phi/philadelphia-76ers\">Philadelphia</a></li></ul>"
      ]
     },
     "execution_count": 146,
     "metadata": {},
     "output_type": "execute_result"
    }
   ],
   "source": [
    "row = table.find_all('tr')[1:][3]\n",
    "col = row.find_all('td')\n",
    "c = col[1]\n",
    "c.find('ul', class_='game-schedule')\n"
   ]
  },
  {
   "cell_type": "code",
   "execution_count": 149,
   "metadata": {},
   "outputs": [
    {
     "data": {
      "text/plain": [
       "'Philadelphia'"
      ]
     },
     "execution_count": 149,
     "metadata": {},
     "output_type": "execute_result"
    }
   ],
   "source": [
    "c.find('li', class_='team-name').text\n"
   ]
  },
  {
   "cell_type": "code",
   "execution_count": 100,
   "metadata": {},
   "outputs": [],
   "source": [
    "BASE_URL = DT.schedule\n",
    "\n",
    "for URL in BASE_URL[0:1]:\n",
    "    r = requests.get(URL)\n",
    "    soup = BeautifulSoup(r.text, 'lxml')\n",
    "    table = soup.table"
   ]
  },
  {
   "cell_type": "code",
   "execution_count": 102,
   "metadata": {},
   "outputs": [
    {
     "data": {
      "text/plain": [
       "{'date': [],\n",
       " 'home_team': [],\n",
       " 'home_team_score': [],\n",
       " 'id': [],\n",
       " 'visit_team': [],\n",
       " 'visit_team_score': []}"
      ]
     },
     "execution_count": 102,
     "metadata": {},
     "output_type": "execute_result"
    }
   ],
   "source": [
    "BASE_URL = DT.schedule\n",
    "\n",
    "match_id = []\n",
    "dates = []\n",
    "home_team = []\n",
    "home_team_score = []\n",
    "visit_team = []\n",
    "visit_team_score = []\n",
    "\n",
    "for URL in BASE_URL[0:4]:\n",
    "    r = requests.get(URL)\n",
    "    soup = BeautifulSoup(r.text, 'lxml')\n",
    "    table = soup.table\n",
    "\n",
    "    for row in table.find_all('tr')[1:]: # Remove header\n",
    "        columns = row.find_all('td')\n",
    "        try:\n",
    "            _home = True if columns[1].li.text == 'vs' else False\n",
    "            _other_team = columns[1].find_all('a')[1].text\n",
    "            _score = columns[2].a.text.split(' ')[0].split('-')\n",
    "            _won = True if columns[2].span.text == 'W' else False\n",
    "\n",
    "            match_id.append(columns[2].a['href'].split('?id=')[1])\n",
    "            home_team.append(_team if _home else _other_team)\n",
    "            visit_team.append(_team if not _home else _other_team)\n",
    "            d = datetime.strptime(columns[0].text, '%a, %b %d')\n",
    "            dates.append(date(year, d.month, d.day))\n",
    "\n",
    "            if _home:\n",
    "                if _won:\n",
    "                    home_team_score.append(_score[0])\n",
    "                    visit_team_score.append(_score[1])\n",
    "                else:\n",
    "                    home_team_score.append(_score[1])\n",
    "                    visit_team_score.append(_score[0])\n",
    "            else:\n",
    "                if _won:\n",
    "                    home_team_score.append(_score[1])\n",
    "                    visit_team_score.append(_score[0])\n",
    "                else:\n",
    "                    home_team_score.append(_score[0])\n",
    "                    visit_team_score.append(_score[1])\n",
    "        except Exception as e:\n",
    "            pass # Not all columns row are a match, is OK\n",
    "            # print(e)\n",
    "\n",
    "dic = {'id': match_id, 'date': dates, 'home_team': home_team, 'visit_team': visit_team,\n",
    "        'home_team_score': home_team_score, 'visit_team_score': visit_team_score}\n",
    "dic"
   ]
  },
  {
   "cell_type": "code",
   "execution_count": null,
   "metadata": {},
   "outputs": [],
   "source": [
    "match_id = []\n",
    "dates = []\n",
    "home_team = []\n",
    "home_team_score = []\n",
    "visit_team = []\n",
    "visit_team_score = []\n",
    "\n",
    "for URL in BASE_URL[0:4]:\n",
    "    r = requests.get(URL)\n",
    "    soup = BeautifulSoup(r.text, 'lxml')\n",
    "    table = soup.table\n",
    "\n",
    "    for row in table.find_all('tr')[1:]: # Remove header\n",
    "        columns = row.find_all('td')\n",
    "        try:\n",
    "            _home = True if columns[1].li.text == 'vs' else False\n",
    "            _other_team = columns[1].find_all('a')[1].text\n",
    "            _score = columns[2].a.text.split(' ')[0].split('-')\n",
    "            _won = True if columns[2].span.text == 'W' else False\n",
    "\n",
    "            match_id.append(columns[2].a['href'].split('?id=')[1])\n",
    "            home_team.append(_team if _home else _other_team)\n",
    "            visit_team.append(_team if not _home else _other_team)\n",
    "            d = datetime.strptime(columns[0].text, '%a, %b %d')\n",
    "            dates.append(date(year, d.month, d.day))\n",
    "\n",
    "            if _home:\n",
    "                if _won:\n",
    "                    home_team_score.append(_score[0])\n",
    "                    visit_team_score.append(_score[1])\n",
    "                else:\n",
    "                    home_team_score.append(_score[1])\n",
    "                    visit_team_score.append(_score[0])\n",
    "            else:\n",
    "                if _won:\n",
    "                    home_team_score.append(_score[1])\n",
    "                    visit_team_score.append(_score[0])\n",
    "                else:\n",
    "                    home_team_score.append(_score[0])\n",
    "                    visit_team_score.append(_score[1])\n",
    "        except Exception as e:\n",
    "            pass # Not all columns row are a match, is OK\n",
    "            # print(e)\n",
    "\n",
    "dic = {'id': match_id, 'date': dates, 'home_team': home_team, 'visit_team': visit_team,\n",
    "        'home_team_score': home_team_score, 'visit_team_score': visit_team_score}\n",
    "dic.keys()"
   ]
  },
  {
   "cell_type": "code",
   "execution_count": 13,
   "metadata": {},
   "outputs": [
    {
     "name": "stdout",
     "output_type": "stream",
     "text": [
      "Empty DataFrame\n",
      "Columns: [date, home_team, home_team_score, id, visit_team, visit_team_score]\n",
      "Index: []\n"
     ]
    }
   ],
   "source": [
    "games = pandas.DataFrame(dic)\n",
    "print(games)"
   ]
  },
  {
   "cell_type": "code",
   "execution_count": null,
   "metadata": {},
   "outputs": [],
   "source": []
  }
 ],
 "metadata": {
  "kernelspec": {
   "display_name": "Python 3",
   "language": "python",
   "name": "python3"
  },
  "language_info": {
   "codemirror_mode": {
    "name": "ipython",
    "version": 3
   },
   "file_extension": ".py",
   "mimetype": "text/x-python",
   "name": "python",
   "nbconvert_exporter": "python",
   "pygments_lexer": "ipython3",
   "version": "3.6.3"
  }
 },
 "nbformat": 4,
 "nbformat_minor": 2
}
