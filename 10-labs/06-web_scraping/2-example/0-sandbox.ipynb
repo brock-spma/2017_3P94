{
 "cells": [
  {
   "cell_type": "markdown",
   "metadata": {},
   "source": [
    "# Sandbox: collect schedule"
   ]
  },
  {
   "cell_type": "code",
   "execution_count": 1,
   "metadata": {},
   "outputs": [],
   "source": [
    "import pandas \n",
    "import requests\n",
    "from bs4 import BeautifulSoup\n",
    "from urllib.request import urlopen"
   ]
  },
  {
   "cell_type": "code",
   "execution_count": 2,
   "metadata": {},
   "outputs": [
    {
     "data": {
      "text/html": [
       "<div>\n",
       "<style>\n",
       "    .dataframe thead tr:only-child th {\n",
       "        text-align: right;\n",
       "    }\n",
       "\n",
       "    .dataframe thead th {\n",
       "        text-align: left;\n",
       "    }\n",
       "\n",
       "    .dataframe tbody tr th {\n",
       "        vertical-align: top;\n",
       "    }\n",
       "</style>\n",
       "<table border=\"1\" class=\"dataframe\">\n",
       "  <thead>\n",
       "    <tr style=\"text-align: right;\">\n",
       "      <th></th>\n",
       "      <th>team</th>\n",
       "      <th>prefix_1</th>\n",
       "      <th>prefix_2</th>\n",
       "      <th>url</th>\n",
       "    </tr>\n",
       "  </thead>\n",
       "  <tbody>\n",
       "    <tr>\n",
       "      <th>0</th>\n",
       "      <td>Boston Celtics</td>\n",
       "      <td>bos</td>\n",
       "      <td>boston-celtics</td>\n",
       "      <td>http://www.espn.com/nba/team/_/name/bos/boston...</td>\n",
       "    </tr>\n",
       "    <tr>\n",
       "      <th>1</th>\n",
       "      <td>Brooklyn Nets</td>\n",
       "      <td>bkn</td>\n",
       "      <td>brooklyn-nets</td>\n",
       "      <td>http://www.espn.com/nba/team/_/name/bkn/brookl...</td>\n",
       "    </tr>\n",
       "    <tr>\n",
       "      <th>2</th>\n",
       "      <td>New York Knicks</td>\n",
       "      <td>ny</td>\n",
       "      <td>new-york-knicks</td>\n",
       "      <td>http://www.espn.com/nba/team/_/name/ny/new-yor...</td>\n",
       "    </tr>\n",
       "    <tr>\n",
       "      <th>3</th>\n",
       "      <td>Philadelphia 76ers</td>\n",
       "      <td>phi</td>\n",
       "      <td>philadelphia-76ers</td>\n",
       "      <td>http://www.espn.com/nba/team/_/name/phi/philad...</td>\n",
       "    </tr>\n",
       "    <tr>\n",
       "      <th>4</th>\n",
       "      <td>Toronto Raptors</td>\n",
       "      <td>tor</td>\n",
       "      <td>toronto-raptors</td>\n",
       "      <td>http://www.espn.com/nba/team/_/name/tor/toront...</td>\n",
       "    </tr>\n",
       "  </tbody>\n",
       "</table>\n",
       "</div>"
      ],
      "text/plain": [
       "                 team prefix_1            prefix_2  \\\n",
       "0      Boston Celtics      bos      boston-celtics   \n",
       "1       Brooklyn Nets      bkn       brooklyn-nets   \n",
       "2     New York Knicks       ny     new-york-knicks   \n",
       "3  Philadelphia 76ers      phi  philadelphia-76ers   \n",
       "4     Toronto Raptors      tor     toronto-raptors   \n",
       "\n",
       "                                                 url  \n",
       "0  http://www.espn.com/nba/team/_/name/bos/boston...  \n",
       "1  http://www.espn.com/nba/team/_/name/bkn/brookl...  \n",
       "2  http://www.espn.com/nba/team/_/name/ny/new-yor...  \n",
       "3  http://www.espn.com/nba/team/_/name/phi/philad...  \n",
       "4  http://www.espn.com/nba/team/_/name/tor/toront...  "
      ]
     },
     "execution_count": 2,
     "metadata": {},
     "output_type": "execute_result"
    }
   ],
   "source": [
    "%run 1-get_teams.ipynb\n",
    "teams  = pandas.read_csv('nba_teams.csv')\n",
    "teams.head()"
   ]
  },
  {
   "cell_type": "markdown",
   "metadata": {},
   "source": [
    "## Get one url from teams data"
   ]
  },
  {
   "cell_type": "code",
   "execution_count": 14,
   "metadata": {},
   "outputs": [
    {
     "data": {
      "text/plain": [
       "'http://www.espn.com/nba/team/_/name/bos/boston-celtics'"
      ]
     },
     "execution_count": 14,
     "metadata": {},
     "output_type": "execute_result"
    }
   ],
   "source": [
    "teams.url[0]"
   ]
  },
  {
   "cell_type": "markdown",
   "metadata": {},
   "source": [
    "### Manual url entry to soup"
   ]
  },
  {
   "cell_type": "code",
   "execution_count": 22,
   "metadata": {},
   "outputs": [
    {
     "name": "stdout",
     "output_type": "stream",
     "text": [
      "<!DOCTYPE html>\n",
      "<html class=\"no-icon-fonts\">\n",
      " <head>\n",
      "  <meta content=\"text/html; charset=utf-8\" http-equiv=\"content-type\"/>\n",
      "  <meta content=\"IE=edge,chrome=1\" http-equiv=\"x-ua-compatible\"/>\n",
      "  <meta content=\"initial-scale=1.0, maximum-scale=1.0, user-scalable=no\" name=\"viewport\"/>\n",
      "  <link href=\"http://www.espn.com/nba/team/_/name/bos/boston-celtics\" rel=\"canonical\"/>\n",
      "  <title>\n",
      "   Boston Celtics Basketball - Celtics News, Scores, Stats, Rumors &amp; More - ESPN\n",
      "  </title>\n",
      "  <meta content=\"Get the latest Boston Celtics news, scores, stats, standings, rumors, and more from ESPN.\" name=\"description\"/>\n",
      "  <meta content=\"boston celtics, nba, basketball, scores, news, schedule, highlights\" name=\"news_keywords\"/>\n",
      "  <meta content=\"boston celtics, nba, basketball, scores, news, schedule, highlights\" name=\"keywords\"/>\n",
      "  <meta content=\"116656161708917\" property=\"fb:app_id\"/>\n",
      "  <meta content=\"ESPN.com\" property=\"og:site_name\"/>\n",
      "  <meta content=\"http://www.espn.com/nba/team/_/name/bos\" property=\"og:ur\n"
     ]
    }
   ],
   "source": [
    "r = requests.get('http://www.espn.com/nba/team/_/name/bos/boston-celtics')\n",
    "soup = BeautifulSoup(r.text, 'lxml')\n",
    "print(soup.prettify()[0:1000])"
   ]
  },
  {
   "cell_type": "markdown",
   "metadata": {},
   "source": [
    "### One object entry to soup"
   ]
  },
  {
   "cell_type": "code",
   "execution_count": 23,
   "metadata": {},
   "outputs": [],
   "source": [
    "URL = teams.url[0]"
   ]
  },
  {
   "cell_type": "code",
   "execution_count": 24,
   "metadata": {},
   "outputs": [
    {
     "name": "stdout",
     "output_type": "stream",
     "text": [
      "<!DOCTYPE html>\n",
      "<html class=\"no-icon-fonts\">\n",
      " <head>\n",
      "  <meta content=\"text/html; charset=utf-8\" http-equiv=\"content-type\"/>\n",
      "  <meta content=\"IE=edge,chrome=1\" http-equiv=\"x-ua-compatible\"/>\n",
      "  <meta content=\"initial-scale=1.0, maximum-scale=1.0, user-scalable=no\" name=\"viewport\"/>\n",
      "  <link href=\"http://www.espn.com/nba/team/_/name/bos/boston-celtics\" rel=\"canonical\"/>\n",
      "  <title>\n",
      "   Boston Celtics Basketball - Celtics News, Scores, Stats, Rumors &amp; More - ESPN\n",
      "  </title>\n",
      "  <meta content=\"Get the latest Boston Celtics news, scores, stats, standings, rumors, and more from ESPN.\" name=\"description\"/>\n",
      "  <meta content=\"boston celtics, nba, basketball, scores, news, schedule, highlights\" name=\"news_keywords\"/>\n",
      "  <meta content=\"boston celtics, nba, basketball, scores, news, schedule, highlights\" name=\"keywords\"/>\n",
      "  <meta content=\"116656161708917\" property=\"fb:app_id\"/>\n",
      "  <meta content=\"ESPN.com\" property=\"og:site_name\"/>\n",
      "  <meta content=\"http://www.espn.com/nba/team/_/name/bos\" property=\"og:ur\n"
     ]
    }
   ],
   "source": [
    "r = requests.get(URL)\n",
    "soup = BeautifulSoup(r.text, 'lxml')\n",
    "print(soup.prettify()[0:1000])"
   ]
  },
  {
   "cell_type": "markdown",
   "metadata": {},
   "source": [
    "### For loop for all urls to soup\n",
    "* only first 5 objects"
   ]
  },
  {
   "cell_type": "code",
   "execution_count": 27,
   "metadata": {},
   "outputs": [],
   "source": [
    "BASE_URL = teams.url"
   ]
  },
  {
   "cell_type": "code",
   "execution_count": null,
   "metadata": {},
   "outputs": [
    {
     "name": "stdout",
     "output_type": "stream",
     "text": [
      "*********************\n",
      "<!DOCTYPE html>\n",
      "<html class=\"no-icon-fonts\">\n",
      " <head>\n",
      "  <meta content=\"text/html; charset=utf-8\" http\n",
      "---------------------\n",
      "*********************\n",
      "<!DOCTYPE html>\n",
      "<html class=\"no-icon-fonts\">\n",
      " <head>\n",
      "  <meta content=\"text/html; charset=utf-8\" http\n",
      "---------------------\n",
      "*********************\n",
      "<!DOCTYPE html>\n",
      "<html class=\"no-icon-fonts\">\n",
      " <head>\n",
      "  <meta content=\"text/html; charset=utf-8\" http\n",
      "---------------------\n"
     ]
    }
   ],
   "source": [
    "for URL in BASE_URL[0:4]:\n",
    "    r = requests.get(URL)\n",
    "    soup = BeautifulSoup(r.text, 'lxml')\n",
    "    print('*********************')\n",
    "    print(soup.prettify()[0:100])\n",
    "    print('---------------------')\n"
   ]
  }
 ],
 "metadata": {
  "kernelspec": {
   "display_name": "Python 3",
   "language": "python",
   "name": "python3"
  },
  "language_info": {
   "codemirror_mode": {
    "name": "ipython",
    "version": 3
   },
   "file_extension": ".py",
   "mimetype": "text/x-python",
   "name": "python",
   "nbconvert_exporter": "python",
   "pygments_lexer": "ipython3",
   "version": "3.6.3"
  }
 },
 "nbformat": 4,
 "nbformat_minor": 2
}
