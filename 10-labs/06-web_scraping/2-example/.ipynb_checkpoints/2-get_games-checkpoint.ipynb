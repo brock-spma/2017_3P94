{
 "cells": [
  {
   "cell_type": "markdown",
   "metadata": {},
   "source": [
    "# Collect NBA schedule information"
   ]
  },
  {
   "cell_type": "code",
   "execution_count": 1,
   "metadata": {},
   "outputs": [],
   "source": [
    "import pandas \n",
    "import requests\n",
    "from bs4 import BeautifulSoup\n",
    "from urllib.request import urlopen"
   ]
  },
  {
   "cell_type": "markdown",
   "metadata": {},
   "source": [
    "## Import team information"
   ]
  },
  {
   "cell_type": "code",
   "execution_count": 17,
   "metadata": {},
   "outputs": [],
   "source": [
    "%run 1-get_teams.ipynb"
   ]
  },
  {
   "cell_type": "code",
   "execution_count": 23,
   "metadata": {},
   "outputs": [
    {
     "data": {
      "text/html": [
       "<div>\n",
       "<style>\n",
       "    .dataframe thead tr:only-child th {\n",
       "        text-align: right;\n",
       "    }\n",
       "\n",
       "    .dataframe thead th {\n",
       "        text-align: left;\n",
       "    }\n",
       "\n",
       "    .dataframe tbody tr th {\n",
       "        vertical-align: top;\n",
       "    }\n",
       "</style>\n",
       "<table border=\"1\" class=\"dataframe\">\n",
       "  <thead>\n",
       "    <tr style=\"text-align: right;\">\n",
       "      <th></th>\n",
       "      <th>team</th>\n",
       "      <th>prefix_1</th>\n",
       "      <th>prefix_2</th>\n",
       "      <th>url</th>\n",
       "    </tr>\n",
       "  </thead>\n",
       "  <tbody>\n",
       "    <tr>\n",
       "      <th>0</th>\n",
       "      <td>Boston Celtics</td>\n",
       "      <td>bos</td>\n",
       "      <td>boston-celtics</td>\n",
       "      <td>http://www.espn.com/nba/team/_/name/bos/boston...</td>\n",
       "    </tr>\n",
       "    <tr>\n",
       "      <th>1</th>\n",
       "      <td>Brooklyn Nets</td>\n",
       "      <td>bkn</td>\n",
       "      <td>brooklyn-nets</td>\n",
       "      <td>http://www.espn.com/nba/team/_/name/bkn/brookl...</td>\n",
       "    </tr>\n",
       "    <tr>\n",
       "      <th>2</th>\n",
       "      <td>New York Knicks</td>\n",
       "      <td>ny</td>\n",
       "      <td>new-york-knicks</td>\n",
       "      <td>http://www.espn.com/nba/team/_/name/ny/new-yor...</td>\n",
       "    </tr>\n",
       "    <tr>\n",
       "      <th>3</th>\n",
       "      <td>Philadelphia 76ers</td>\n",
       "      <td>phi</td>\n",
       "      <td>philadelphia-76ers</td>\n",
       "      <td>http://www.espn.com/nba/team/_/name/phi/philad...</td>\n",
       "    </tr>\n",
       "    <tr>\n",
       "      <th>4</th>\n",
       "      <td>Toronto Raptors</td>\n",
       "      <td>tor</td>\n",
       "      <td>toronto-raptors</td>\n",
       "      <td>http://www.espn.com/nba/team/_/name/tor/toront...</td>\n",
       "    </tr>\n",
       "  </tbody>\n",
       "</table>\n",
       "</div>"
      ],
      "text/plain": [
       "                 team prefix_1            prefix_2  \\\n",
       "0      Boston Celtics      bos      boston-celtics   \n",
       "1       Brooklyn Nets      bkn       brooklyn-nets   \n",
       "2     New York Knicks       ny     new-york-knicks   \n",
       "3  Philadelphia 76ers      phi  philadelphia-76ers   \n",
       "4     Toronto Raptors      tor     toronto-raptors   \n",
       "\n",
       "                                                 url  \n",
       "0  http://www.espn.com/nba/team/_/name/bos/boston...  \n",
       "1  http://www.espn.com/nba/team/_/name/bkn/brookl...  \n",
       "2  http://www.espn.com/nba/team/_/name/ny/new-yor...  \n",
       "3  http://www.espn.com/nba/team/_/name/phi/philad...  \n",
       "4  http://www.espn.com/nba/team/_/name/tor/toront...  "
      ]
     },
     "execution_count": 23,
     "metadata": {},
     "output_type": "execute_result"
    }
   ],
   "source": [
    "teams  = pandas.read_csv('nba_teams.csv')\n",
    "teams .head()"
   ]
  },
  {
   "cell_type": "markdown",
   "metadata": {},
   "source": [
    "### Set url schema"
   ]
  },
  {
   "cell_type": "code",
   "execution_count": 24,
   "metadata": {},
   "outputs": [],
   "source": [
    "BASE_URL = 'http://espn.go.com/nba/team/schedule/_/name/{0}/year/{1}/{2}'"
   ]
  },
  {
   "cell_type": "markdown",
   "metadata": {},
   "source": [
    "### Data collection\n",
    "1. Set global variables\n",
    "* Set data architecture\n",
    "* Loop through teams\n",
    "* Append team url information to schedule url\n",
    "* Collect schedule information\n",
    "* Store information in dictionary\n",
    "* Convert dictionary to dataframe\n",
    "* Convert dataframe to csv\n",
    "* Save csv to file"
   ]
  },
  {
   "cell_type": "code",
   "execution_count": null,
   "metadata": {},
   "outputs": [],
   "source": [
    "match_id = []\n",
    "dates = []\n",
    "home_team = []\n",
    "home_team_score = []\n",
    "visit_team = []\n",
    "visit_team_score = []\n",
    "\n",
    "year = 2016\n",
    "\n",
    "for index, row in teams.iterrows():\n",
    "    _team, url = row['team'], row['url']\n",
    "    r = requests.get(BASE_URL.format(row['prefix_1'], year, row['prefix_2']))\n",
    "    soup = BeautifulSoup(r.text, 'lxml')\n",
    "    table = soup.table\n",
    "\n",
    "    for row in table.find_all('tr')[1:]: # Remove header\n",
    "        columns = row.find_all('td')\n",
    "        try:\n",
    "            _home = True if columns[1].li.text == 'vs' else False\n",
    "            _other_team = columns[1].find_all('a')[1].text\n",
    "            _score = columns[2].a.text.split(' ')[0].split('-')\n",
    "            _won = True if columns[2].span.text == 'W' else False\n",
    "\n",
    "            match_id.append(columns[2].a['href'].split('?id=')[1])\n",
    "            home_team.append(_team if _home else _other_team)\n",
    "            visit_team.append(_team if not _home else _other_team)\n",
    "            d = datetime.strptime(columns[0].text, '%a, %b %d')\n",
    "            dates.append(date(year, d.month, d.day))\n",
    "\n",
    "            if _home:\n",
    "                if _won:\n",
    "                    home_team_score.append(_score[0])\n",
    "                    visit_team_score.append(_score[1])\n",
    "                else:\n",
    "                    home_team_score.append(_score[1])\n",
    "                    visit_team_score.append(_score[0])\n",
    "            else:\n",
    "                if _won:\n",
    "                    home_team_score.append(_score[1])\n",
    "                    visit_team_score.append(_score[0])\n",
    "                else:\n",
    "                    home_team_score.append(_score[0])\n",
    "                    visit_team_score.append(_score[1])\n",
    "        except Exception as e:\n",
    "            pass # Not all columns row are a match, is OK\n",
    "            # print(e)\n",
    "\n",
    "dic = {'id': match_id, 'date': dates, 'home_team': home_team, 'visit_team': visit_team,\n",
    "        'home_team_score': home_team_score, 'visit_team_score': visit_team_score}\n"
   ]
  },
  {
   "cell_type": "code",
   "execution_count": null,
   "metadata": {},
   "outputs": [],
   "source": [
    "games = pandas.DataFrame(dic)\n",
    "print(games)"
   ]
  },
  {
   "cell_type": "code",
   "execution_count": null,
   "metadata": {},
   "outputs": [],
   "source": []
  }
 ],
 "metadata": {
  "kernelspec": {
   "display_name": "Python 3",
   "language": "python",
   "name": "python3"
  },
  "language_info": {
   "codemirror_mode": {
    "name": "ipython",
    "version": 3
   },
   "file_extension": ".py",
   "mimetype": "text/x-python",
   "name": "python",
   "nbconvert_exporter": "python",
   "pygments_lexer": "ipython3",
   "version": "3.6.3"
  }
 },
 "nbformat": 4,
 "nbformat_minor": 2
}
