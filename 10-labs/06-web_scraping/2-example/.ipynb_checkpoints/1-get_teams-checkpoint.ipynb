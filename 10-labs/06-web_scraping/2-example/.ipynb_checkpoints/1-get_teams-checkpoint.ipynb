{
 "cells": [
  {
   "cell_type": "markdown",
   "metadata": {},
   "source": [
    "# Collect NBA team information"
   ]
  },
  {
   "cell_type": "code",
   "execution_count": 1,
   "metadata": {},
   "outputs": [],
   "source": [
    "import pandas \n",
    "import requests\n",
    "from bs4 import BeautifulSoup\n",
    "from urllib.request import urlopen"
   ]
  },
  {
   "cell_type": "markdown",
   "metadata": {},
   "source": [
    "## Save relevant webpage information to dictionary"
   ]
  },
  {
   "cell_type": "code",
   "execution_count": 2,
   "metadata": {},
   "outputs": [],
   "source": [
    "url = 'http://espn.go.com/nba/teams'\n",
    "r = requests.get(url)\n",
    "\n",
    "soup = BeautifulSoup(r.text, 'lxml')\n",
    "tables = soup.find_all('ul', class_='medium-logos')\n",
    "\n",
    "teams = []\n",
    "prefix_1 = []\n",
    "prefix_2 = []\n",
    "teams_urls = []\n",
    "for table in tables:\n",
    "    lis = table.find_all('li')\n",
    "    for li in lis:\n",
    "        info = li.h5.a\n",
    "        teams.append(info.text)\n",
    "        url = info['href']\n",
    "        teams_urls.append(url)\n",
    "        prefix_1.append(url.split('/')[-2])\n",
    "        prefix_2.append(url.split('/')[-1])\n",
    "\n",
    "dic = {'url': teams_urls, 'prefix_2': prefix_2, 'prefix_1': prefix_1}"
   ]
  },
  {
   "cell_type": "markdown",
   "metadata": {},
   "source": [
    "### Convert dictionary to dataframe"
   ]
  },
  {
   "cell_type": "code",
   "execution_count": 3,
   "metadata": {},
   "outputs": [
    {
     "data": {
      "text/html": [
       "<div>\n",
       "<style>\n",
       "    .dataframe thead tr:only-child th {\n",
       "        text-align: right;\n",
       "    }\n",
       "\n",
       "    .dataframe thead th {\n",
       "        text-align: left;\n",
       "    }\n",
       "\n",
       "    .dataframe tbody tr th {\n",
       "        vertical-align: top;\n",
       "    }\n",
       "</style>\n",
       "<table border=\"1\" class=\"dataframe\">\n",
       "  <thead>\n",
       "    <tr style=\"text-align: right;\">\n",
       "      <th></th>\n",
       "      <th>prefix_1</th>\n",
       "      <th>prefix_2</th>\n",
       "      <th>url</th>\n",
       "    </tr>\n",
       "    <tr>\n",
       "      <th>team</th>\n",
       "      <th></th>\n",
       "      <th></th>\n",
       "      <th></th>\n",
       "    </tr>\n",
       "  </thead>\n",
       "  <tbody>\n",
       "    <tr>\n",
       "      <th>Boston Celtics</th>\n",
       "      <td>bos</td>\n",
       "      <td>boston-celtics</td>\n",
       "      <td>http://www.espn.com/nba/team/_/name/bos/boston...</td>\n",
       "    </tr>\n",
       "    <tr>\n",
       "      <th>Brooklyn Nets</th>\n",
       "      <td>bkn</td>\n",
       "      <td>brooklyn-nets</td>\n",
       "      <td>http://www.espn.com/nba/team/_/name/bkn/brookl...</td>\n",
       "    </tr>\n",
       "    <tr>\n",
       "      <th>New York Knicks</th>\n",
       "      <td>ny</td>\n",
       "      <td>new-york-knicks</td>\n",
       "      <td>http://www.espn.com/nba/team/_/name/ny/new-yor...</td>\n",
       "    </tr>\n",
       "    <tr>\n",
       "      <th>Philadelphia 76ers</th>\n",
       "      <td>phi</td>\n",
       "      <td>philadelphia-76ers</td>\n",
       "      <td>http://www.espn.com/nba/team/_/name/phi/philad...</td>\n",
       "    </tr>\n",
       "    <tr>\n",
       "      <th>Toronto Raptors</th>\n",
       "      <td>tor</td>\n",
       "      <td>toronto-raptors</td>\n",
       "      <td>http://www.espn.com/nba/team/_/name/tor/toront...</td>\n",
       "    </tr>\n",
       "  </tbody>\n",
       "</table>\n",
       "</div>"
      ],
      "text/plain": [
       "                   prefix_1            prefix_2  \\\n",
       "team                                              \n",
       "Boston Celtics          bos      boston-celtics   \n",
       "Brooklyn Nets           bkn       brooklyn-nets   \n",
       "New York Knicks          ny     new-york-knicks   \n",
       "Philadelphia 76ers      phi  philadelphia-76ers   \n",
       "Toronto Raptors         tor     toronto-raptors   \n",
       "\n",
       "                                                                  url  \n",
       "team                                                                   \n",
       "Boston Celtics      http://www.espn.com/nba/team/_/name/bos/boston...  \n",
       "Brooklyn Nets       http://www.espn.com/nba/team/_/name/bkn/brookl...  \n",
       "New York Knicks     http://www.espn.com/nba/team/_/name/ny/new-yor...  \n",
       "Philadelphia 76ers  http://www.espn.com/nba/team/_/name/phi/philad...  \n",
       "Toronto Raptors     http://www.espn.com/nba/team/_/name/tor/toront...  "
      ]
     },
     "execution_count": 3,
     "metadata": {},
     "output_type": "execute_result"
    }
   ],
   "source": [
    "dt = pandas.DataFrame(dic, index=teams)\n",
    "dt.index.name = 'team'\n",
    "dt.head()"
   ]
  },
  {
   "cell_type": "markdown",
   "metadata": {},
   "source": [
    "### Convert dataframe to csv"
   ]
  },
  {
   "cell_type": "code",
   "execution_count": 4,
   "metadata": {},
   "outputs": [],
   "source": [
    "dt.to_csv('nba_teams.csv')"
   ]
  }
 ],
 "metadata": {
  "kernelspec": {
   "display_name": "Python 3",
   "language": "python",
   "name": "python3"
  },
  "language_info": {
   "codemirror_mode": {
    "name": "ipython",
    "version": 3
   },
   "file_extension": ".py",
   "mimetype": "text/x-python",
   "name": "python",
   "nbconvert_exporter": "python",
   "pygments_lexer": "ipython3",
   "version": "3.6.3"
  }
 },
 "nbformat": 4,
 "nbformat_minor": 2
}
