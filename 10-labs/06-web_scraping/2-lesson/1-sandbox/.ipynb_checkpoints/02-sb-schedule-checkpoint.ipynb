{
 "cells": [
  {
   "cell_type": "markdown",
   "metadata": {},
   "source": [
    "# Collect NBA schedule data\n",
    "1. Collect team information\n",
    "* Examine url schema\n",
    "* Set url\n",
    "* Configure data architecture\n",
    "* Set global variables\n",
    "* Loop through teams\n",
    "* Examine webpage design\n",
    "* Develop functions to collect data\n",
    "* Collect data\n",
    "* Store data in dictionary\n",
    "* Save data\n",
    "\n",
    "Note: Collect schedule information for one team: bos"
   ]
  },
  {
   "cell_type": "markdown",
   "metadata": {},
   "source": [
    "## Collect team information"
   ]
  },
  {
   "cell_type": "code",
   "execution_count": 1,
   "metadata": {},
   "outputs": [],
   "source": [
    "%run ../1-teams.ipynb"
   ]
  },
  {
   "cell_type": "code",
   "execution_count": 2,
   "metadata": {},
   "outputs": [
    {
     "data": {
      "text/plain": [
       "dict_keys(['team', 'home', 'stats', 'schedule', 'roster', 'depth', 'abv'])"
      ]
     },
     "execution_count": 2,
     "metadata": {},
     "output_type": "execute_result"
    }
   ],
   "source": [
    "dic_team.keys()"
   ]
  },
  {
   "cell_type": "code",
   "execution_count": 3,
   "metadata": {},
   "outputs": [
    {
     "data": {
      "text/html": [
       "<div>\n",
       "<style>\n",
       "    .dataframe thead tr:only-child th {\n",
       "        text-align: right;\n",
       "    }\n",
       "\n",
       "    .dataframe thead th {\n",
       "        text-align: left;\n",
       "    }\n",
       "\n",
       "    .dataframe tbody tr th {\n",
       "        vertical-align: top;\n",
       "    }\n",
       "</style>\n",
       "<table border=\"1\" class=\"dataframe\">\n",
       "  <thead>\n",
       "    <tr style=\"text-align: right;\">\n",
       "      <th></th>\n",
       "      <th>team</th>\n",
       "      <th>abv</th>\n",
       "      <th>home</th>\n",
       "      <th>stats</th>\n",
       "      <th>schedule</th>\n",
       "      <th>roster</th>\n",
       "      <th>depth</th>\n",
       "    </tr>\n",
       "  </thead>\n",
       "  <tbody>\n",
       "    <tr>\n",
       "      <th>0</th>\n",
       "      <td>Boston Celtics</td>\n",
       "      <td>bos</td>\n",
       "      <td>http://www.espn.com/nba/team/_/name/bos/boston...</td>\n",
       "      <td>/nba/teams/stats?team=bos</td>\n",
       "      <td>/nba/teams/schedule?team=bos</td>\n",
       "      <td>/nba/teams/roster?team=bos</td>\n",
       "      <td>/nba/teams/depth?team=bos</td>\n",
       "    </tr>\n",
       "    <tr>\n",
       "      <th>1</th>\n",
       "      <td>Brooklyn Nets</td>\n",
       "      <td>bkn</td>\n",
       "      <td>http://www.espn.com/nba/team/_/name/bkn/brookl...</td>\n",
       "      <td>/nba/teams/stats?team=bkn</td>\n",
       "      <td>/nba/teams/schedule?team=bkn</td>\n",
       "      <td>/nba/teams/roster?team=bkn</td>\n",
       "      <td>/nba/teams/depth?team=bkn</td>\n",
       "    </tr>\n",
       "    <tr>\n",
       "      <th>2</th>\n",
       "      <td>New York Knicks</td>\n",
       "      <td>nyk</td>\n",
       "      <td>http://www.espn.com/nba/team/_/name/ny/new-yor...</td>\n",
       "      <td>/nba/teams/stats?team=nyk</td>\n",
       "      <td>/nba/teams/schedule?team=nyk</td>\n",
       "      <td>/nba/teams/roster?team=nyk</td>\n",
       "      <td>/nba/teams/depth?team=nyk</td>\n",
       "    </tr>\n",
       "    <tr>\n",
       "      <th>3</th>\n",
       "      <td>Philadelphia 76ers</td>\n",
       "      <td>phi</td>\n",
       "      <td>http://www.espn.com/nba/team/_/name/phi/philad...</td>\n",
       "      <td>/nba/teams/stats?team=phi</td>\n",
       "      <td>/nba/teams/schedule?team=phi</td>\n",
       "      <td>/nba/teams/roster?team=phi</td>\n",
       "      <td>/nba/teams/depth?team=phi</td>\n",
       "    </tr>\n",
       "    <tr>\n",
       "      <th>4</th>\n",
       "      <td>Toronto Raptors</td>\n",
       "      <td>tor</td>\n",
       "      <td>http://www.espn.com/nba/team/_/name/tor/toront...</td>\n",
       "      <td>/nba/teams/stats?team=tor</td>\n",
       "      <td>/nba/teams/schedule?team=tor</td>\n",
       "      <td>/nba/teams/roster?team=tor</td>\n",
       "      <td>/nba/teams/depth?team=tor</td>\n",
       "    </tr>\n",
       "  </tbody>\n",
       "</table>\n",
       "</div>"
      ],
      "text/plain": [
       "                 team  abv                                               home  \\\n",
       "0      Boston Celtics  bos  http://www.espn.com/nba/team/_/name/bos/boston...   \n",
       "1       Brooklyn Nets  bkn  http://www.espn.com/nba/team/_/name/bkn/brookl...   \n",
       "2     New York Knicks  nyk  http://www.espn.com/nba/team/_/name/ny/new-yor...   \n",
       "3  Philadelphia 76ers  phi  http://www.espn.com/nba/team/_/name/phi/philad...   \n",
       "4     Toronto Raptors  tor  http://www.espn.com/nba/team/_/name/tor/toront...   \n",
       "\n",
       "                       stats                      schedule  \\\n",
       "0  /nba/teams/stats?team=bos  /nba/teams/schedule?team=bos   \n",
       "1  /nba/teams/stats?team=bkn  /nba/teams/schedule?team=bkn   \n",
       "2  /nba/teams/stats?team=nyk  /nba/teams/schedule?team=nyk   \n",
       "3  /nba/teams/stats?team=phi  /nba/teams/schedule?team=phi   \n",
       "4  /nba/teams/stats?team=tor  /nba/teams/schedule?team=tor   \n",
       "\n",
       "                       roster                      depth  \n",
       "0  /nba/teams/roster?team=bos  /nba/teams/depth?team=bos  \n",
       "1  /nba/teams/roster?team=bkn  /nba/teams/depth?team=bkn  \n",
       "2  /nba/teams/roster?team=nyk  /nba/teams/depth?team=nyk  \n",
       "3  /nba/teams/roster?team=phi  /nba/teams/depth?team=phi  \n",
       "4  /nba/teams/roster?team=tor  /nba/teams/depth?team=tor  "
      ]
     },
     "execution_count": 3,
     "metadata": {},
     "output_type": "execute_result"
    }
   ],
   "source": [
    "dt.head()\n",
    "DT = dt.copy()\n",
    "DT.head()"
   ]
  },
  {
   "cell_type": "markdown",
   "metadata": {},
   "source": [
    "### Set url schema\n",
    "* http://www.espn.com/nba/team/schedule/_/name/bos/year/2016\n",
    "* http://www.espn.com/nba/team/schedule/_/name/bos/year/2017"
   ]
  },
  {
   "cell_type": "code",
   "execution_count": 57,
   "metadata": {},
   "outputs": [
    {
     "data": {
      "text/plain": [
       "'http://www.espn.com/nba/team/schedule/_/name/bos/year/2017'"
      ]
     },
     "execution_count": 57,
     "metadata": {},
     "output_type": "execute_result"
    }
   ],
   "source": [
    "BASE = 'http://www.espn.com/nba/team/schedule/_/name/'\n",
    "TEAM = 'bos'\n",
    "YEAR = str(2017)\n",
    "BASE_URL = BASE + TEAM + '/year/' + YEAR\n",
    "URL = BASE_URL\n",
    "URL"
   ]
  },
  {
   "cell_type": "code",
   "execution_count": 58,
   "metadata": {},
   "outputs": [
    {
     "name": "stdout",
     "output_type": "stream",
     "text": [
      "<table cellpadding=\"3\" cellspacing=\"1\" class=\"tablehead\">\n",
      " <tr class=\"stathead\">\n",
      "  <td colspan=\"9\">\n",
      "   2017 Regular Season Schedule\n",
      "  </td>\n",
      " </tr>\n",
      " <tr class=\"colhead\">\n",
      "  <td>\n",
      "   OCTOBER\n",
      "  </td>\n",
      "  <td\n"
     ]
    }
   ],
   "source": [
    "r = requests.get(URL)\n",
    "soup = BeautifulSoup(r.text, 'lxml')\n",
    "table = soup.table\n",
    "print(table.prettify()[0:200])"
   ]
  },
  {
   "cell_type": "markdown",
   "metadata": {},
   "source": [
    "### Examine table contents"
   ]
  },
  {
   "cell_type": "code",
   "execution_count": 59,
   "metadata": {},
   "outputs": [
    {
     "data": {
      "text/plain": [
       "90"
      ]
     },
     "execution_count": 59,
     "metadata": {},
     "output_type": "execute_result"
    }
   ],
   "source": [
    "row = table.find_all('tr')\n",
    "len(row)"
   ]
  },
  {
   "cell_type": "code",
   "execution_count": 60,
   "metadata": {},
   "outputs": [
    {
     "name": "stdout",
     "output_type": "stream",
     "text": [
      "<tr class=\"stathead\"><td colspan=\"9\">2017 Regular Season Schedule</td></tr>\n",
      "****************\n",
      "<tr class=\"colhead\"><td>OCTOBER</td><td>OPPONENT</td><td>RESULT</td><td>W-L</td><td align=\"left\" title=\"Points Leader\">HI POINTS</td><td align=\"left\" title=\"Rebounds Leader\">HI REBOUNDS</td><td align=\"left\" title=\"Assists Leader\">HI ASSISTS</td></tr>\n",
      "****************\n",
      "<tr class=\"oddrow team-46-17\"><td>Wed, Oct 26</td><td><ul class=\"game-schedule\"><li class=\"game-status\">vs</li><li class=\"team-logo-small logo-nba-small\"><a href=\"http://www.espn.com/nba/team/_/name/bkn/brooklyn-nets\"><img src=\"http://a.espncdn.com/combiner/i?img=/i/teamlogos/nba/500/scoreboard/BKN.png&amp;h=80&amp;w=80\"/></a></li><li class=\"team-name\"><a href=\"http://www.espn.com/nba/team/_/name/bkn/brooklyn-nets\">Brooklyn</a></li></ul></td><td><ul class=\"game-schedule\"><li class=\"game-status win\"><span class=\"greenfont\">W</span></li><li class=\"score\"><a href=\"//www.espn.com/nba/recap/_/id/400899380\">122-117</a></li></ul></td><td>1-0</td><td colspan=\"1\"><a href=\"http://www.espn.com/nba/player/_/id/6472/isaiah-thomas\">I. Thomas</a> 25</td><td colspan=\"1\"><a href=\"http://www.espn.com/nba/player/_/id/6590/justin-hamilton\">J. Hamilton</a> 10</td><td colspan=\"1\"><a href=\"http://www.espn.com/nba/player/_/id/6472/isaiah-thomas\">I. Thomas</a> 8</td></tr>\n",
      "****************\n",
      "<tr class=\"evenrow team-46-4\"><td>Thu, Oct 27</td><td><ul class=\"game-schedule\"><li class=\"game-status\">@</li><li class=\"team-logo-small logo-nba-small\"><a href=\"http://www.espn.com/nba/team/_/name/chi/chicago-bulls\"><img src=\"http://a.espncdn.com/combiner/i?img=/i/teamlogos/nba/500/scoreboard/Chi.png&amp;h=80&amp;w=80\"/></a></li><li class=\"team-name\"><a href=\"http://www.espn.com/nba/team/_/name/chi/chicago-bulls\">Chicago</a></li></ul></td><td><ul class=\"game-schedule\"><li class=\"game-status loss\"><span class=\"redfont\">L</span></li><li class=\"score\"><a href=\"//www.espn.com/nba/recap/_/id/400899422\">105-99</a></li></ul></td><td>1-1</td><td colspan=\"1\"><a href=\"http://www.espn.com/nba/player/_/id/6472/isaiah-thomas\">I. Thomas</a> 25</td><td colspan=\"1\"><a href=\"http://www.espn.com/nba/player/_/id/3986/taj-gibson\">T. Gibson</a> 10</td><td colspan=\"1\"><a href=\"http://www.espn.com/nba/player/_/id/3026/rajon-rondo\">R. Rondo</a> 9</td></tr>\n",
      "****************\n",
      "<tr class=\"oddrow team-46-30\"><td>Sat, Oct 29</td><td><ul class=\"game-schedule\"><li class=\"game-status\">@</li><li class=\"team-logo-small logo-nba-small\"><a href=\"http://www.espn.com/nba/team/_/name/cha/charlotte-hornets\"><img src=\"http://a.espncdn.com/combiner/i?img=/i/teamlogos/nba/500/scoreboard/Cha.png&amp;h=80&amp;w=80\"/></a></li><li class=\"team-name\"><a href=\"http://www.espn.com/nba/team/_/name/cha/charlotte-hornets\">Charlotte</a></li></ul></td><td><ul class=\"game-schedule\"><li class=\"game-status win\"><span class=\"greenfont\">W</span></li><li class=\"score\"><a href=\"//www.espn.com/nba/recap/_/id/400899477\">104-98</a></li></ul></td><td>2-1</td><td colspan=\"1\"><a href=\"http://www.espn.com/nba/player/_/id/4240/avery-bradley\">A. Bradley</a> 31</td><td colspan=\"1\"><a href=\"http://www.espn.com/nba/player/_/id/4240/avery-bradley\">A. Bradley</a> 11</td><td colspan=\"1\"><a href=\"http://www.espn.com/nba/player/_/id/6472/isaiah-thomas\">I. Thomas</a> 7</td></tr>\n",
      "****************\n"
     ]
    }
   ],
   "source": [
    "row = table.find_all('tr')\n",
    "for r in row[0:5]:\n",
    "    print (r)\n",
    "    print('****************')"
   ]
  },
  {
   "cell_type": "code",
   "execution_count": 61,
   "metadata": {},
   "outputs": [
    {
     "data": {
      "text/plain": [
       "<tr class=\"oddrow team-46-17\"><td>Wed, Oct 26</td><td><ul class=\"game-schedule\"><li class=\"game-status\">vs</li><li class=\"team-logo-small logo-nba-small\"><a href=\"http://www.espn.com/nba/team/_/name/bkn/brooklyn-nets\"><img src=\"http://a.espncdn.com/combiner/i?img=/i/teamlogos/nba/500/scoreboard/BKN.png&amp;h=80&amp;w=80\"/></a></li><li class=\"team-name\"><a href=\"http://www.espn.com/nba/team/_/name/bkn/brooklyn-nets\">Brooklyn</a></li></ul></td><td><ul class=\"game-schedule\"><li class=\"game-status win\"><span class=\"greenfont\">W</span></li><li class=\"score\"><a href=\"//www.espn.com/nba/recap/_/id/400899380\">122-117</a></li></ul></td><td>1-0</td><td colspan=\"1\"><a href=\"http://www.espn.com/nba/player/_/id/6472/isaiah-thomas\">I. Thomas</a> 25</td><td colspan=\"1\"><a href=\"http://www.espn.com/nba/player/_/id/6590/justin-hamilton\">J. Hamilton</a> 10</td><td colspan=\"1\"><a href=\"http://www.espn.com/nba/player/_/id/6472/isaiah-thomas\">I. Thomas</a> 8</td></tr>"
      ]
     },
     "execution_count": 61,
     "metadata": {},
     "output_type": "execute_result"
    }
   ],
   "source": [
    "row = table.find_all('tr')[2]\n",
    "row"
   ]
  },
  {
   "cell_type": "code",
   "execution_count": 62,
   "metadata": {},
   "outputs": [
    {
     "data": {
      "text/plain": [
       "[<td>Wed, Oct 26</td>,\n",
       " <td><ul class=\"game-schedule\"><li class=\"game-status\">vs</li><li class=\"team-logo-small logo-nba-small\"><a href=\"http://www.espn.com/nba/team/_/name/bkn/brooklyn-nets\"><img src=\"http://a.espncdn.com/combiner/i?img=/i/teamlogos/nba/500/scoreboard/BKN.png&amp;h=80&amp;w=80\"/></a></li><li class=\"team-name\"><a href=\"http://www.espn.com/nba/team/_/name/bkn/brooklyn-nets\">Brooklyn</a></li></ul></td>,\n",
       " <td><ul class=\"game-schedule\"><li class=\"game-status win\"><span class=\"greenfont\">W</span></li><li class=\"score\"><a href=\"//www.espn.com/nba/recap/_/id/400899380\">122-117</a></li></ul></td>,\n",
       " <td>1-0</td>,\n",
       " <td colspan=\"1\"><a href=\"http://www.espn.com/nba/player/_/id/6472/isaiah-thomas\">I. Thomas</a> 25</td>,\n",
       " <td colspan=\"1\"><a href=\"http://www.espn.com/nba/player/_/id/6590/justin-hamilton\">J. Hamilton</a> 10</td>,\n",
       " <td colspan=\"1\"><a href=\"http://www.espn.com/nba/player/_/id/6472/isaiah-thomas\">I. Thomas</a> 8</td>]"
      ]
     },
     "execution_count": 62,
     "metadata": {},
     "output_type": "execute_result"
    }
   ],
   "source": [
    "tds = row.find_all('td')\n",
    "tds"
   ]
  },
  {
   "cell_type": "markdown",
   "metadata": {},
   "source": [
    "### Extract data"
   ]
  },
  {
   "cell_type": "code",
   "execution_count": 63,
   "metadata": {},
   "outputs": [
    {
     "name": "stdout",
     "output_type": "stream",
     "text": [
      "Wed, Oct 26\n",
      "vsBrooklyn\n",
      "W122-117\n",
      "1-0\n",
      "I. Thomas 25\n",
      "J. Hamilton 10\n",
      "I. Thomas 8\n"
     ]
    }
   ],
   "source": [
    "for td in tds:\n",
    "    print(td.text)"
   ]
  },
  {
   "cell_type": "code",
   "execution_count": 64,
   "metadata": {},
   "outputs": [
    {
     "data": {
      "text/plain": [
       "<li class=\"score\"><a href=\"//www.espn.com/nba/recap/_/id/400899380\">122-117</a></li>"
      ]
     },
     "execution_count": 64,
     "metadata": {},
     "output_type": "execute_result"
    }
   ],
   "source": [
    "temp = row.find('li', class_=\"score\")\n",
    "temp"
   ]
  },
  {
   "cell_type": "code",
   "execution_count": 65,
   "metadata": {},
   "outputs": [
    {
     "data": {
      "text/plain": [
       "'122-117'"
      ]
     },
     "execution_count": 65,
     "metadata": {},
     "output_type": "execute_result"
    }
   ],
   "source": [
    "temp = row.find('li', class_=\"score\")\n",
    "temp.a.text"
   ]
  },
  {
   "cell_type": "code",
   "execution_count": 66,
   "metadata": {},
   "outputs": [
    {
     "data": {
      "text/plain": [
       "'Brooklyn'"
      ]
     },
     "execution_count": 66,
     "metadata": {},
     "output_type": "execute_result"
    }
   ],
   "source": [
    "temp = row.find('li', class_=\"team-name\")\n",
    "temp.a.text"
   ]
  },
  {
   "cell_type": "code",
   "execution_count": 67,
   "metadata": {},
   "outputs": [
    {
     "data": {
      "text/plain": [
       "<li class=\"game-status win\"><span class=\"greenfont\">W</span></li>"
      ]
     },
     "execution_count": 67,
     "metadata": {},
     "output_type": "execute_result"
    }
   ],
   "source": [
    "temp = row.find('li', class_=\"game-status win\")\n",
    "temp"
   ]
  },
  {
   "cell_type": "code",
   "execution_count": 68,
   "metadata": {},
   "outputs": [
    {
     "data": {
      "text/plain": [
       "[<li class=\"game-status\">vs</li>,\n",
       " <li class=\"team-logo-small logo-nba-small\"><a href=\"http://www.espn.com/nba/team/_/name/bkn/brooklyn-nets\"><img src=\"http://a.espncdn.com/combiner/i?img=/i/teamlogos/nba/500/scoreboard/BKN.png&amp;h=80&amp;w=80\"/></a></li>,\n",
       " <li class=\"team-name\"><a href=\"http://www.espn.com/nba/team/_/name/bkn/brooklyn-nets\">Brooklyn</a></li>,\n",
       " <li class=\"game-status win\"><span class=\"greenfont\">W</span></li>,\n",
       " <li class=\"score\"><a href=\"//www.espn.com/nba/recap/_/id/400899380\">122-117</a></li>]"
      ]
     },
     "execution_count": 68,
     "metadata": {},
     "output_type": "execute_result"
    }
   ],
   "source": [
    "li = row.find_all('li')\n",
    "li"
   ]
  },
  {
   "cell_type": "code",
   "execution_count": 69,
   "metadata": {},
   "outputs": [
    {
     "data": {
      "text/plain": [
       "<li class=\"game-status\">vs</li>"
      ]
     },
     "execution_count": 69,
     "metadata": {},
     "output_type": "execute_result"
    }
   ],
   "source": [
    "l = row.find('li')\n",
    "l"
   ]
  },
  {
   "cell_type": "code",
   "execution_count": 70,
   "metadata": {},
   "outputs": [
    {
     "data": {
      "text/plain": [
       "['game-status']"
      ]
     },
     "execution_count": 70,
     "metadata": {},
     "output_type": "execute_result"
    }
   ],
   "source": [
    "l.get('class')"
   ]
  },
  {
   "cell_type": "code",
   "execution_count": 71,
   "metadata": {},
   "outputs": [
    {
     "name": "stdout",
     "output_type": "stream",
     "text": [
      "['game-status']\n",
      "['team-logo-small', 'logo-nba-small']\n",
      "['team-name']\n",
      "['game-status', 'win']\n",
      "['score']\n"
     ]
    }
   ],
   "source": [
    "li = row.find_all('li')\n",
    "for l in li:\n",
    "    print(l.get('class'))"
   ]
  },
  {
   "cell_type": "code",
   "execution_count": 72,
   "metadata": {},
   "outputs": [
    {
     "data": {
      "text/plain": [
       "<li class=\"game-status\">vs</li>"
      ]
     },
     "execution_count": 72,
     "metadata": {},
     "output_type": "execute_result"
    }
   ],
   "source": [
    "row.find('li', class_=\"game-status\")"
   ]
  },
  {
   "cell_type": "code",
   "execution_count": 73,
   "metadata": {},
   "outputs": [
    {
     "data": {
      "text/plain": [
       "<li class=\"team-logo-small logo-nba-small\"><a href=\"http://www.espn.com/nba/team/_/name/bkn/brooklyn-nets\"><img src=\"http://a.espncdn.com/combiner/i?img=/i/teamlogos/nba/500/scoreboard/BKN.png&amp;h=80&amp;w=80\"/></a></li>"
      ]
     },
     "execution_count": 73,
     "metadata": {},
     "output_type": "execute_result"
    }
   ],
   "source": [
    "row.find('li', class_=\"team-logo-small\")"
   ]
  },
  {
   "cell_type": "code",
   "execution_count": 74,
   "metadata": {},
   "outputs": [
    {
     "data": {
      "text/plain": [
       "<li class=\"team-logo-small logo-nba-small\"><a href=\"http://www.espn.com/nba/team/_/name/bkn/brooklyn-nets\"><img src=\"http://a.espncdn.com/combiner/i?img=/i/teamlogos/nba/500/scoreboard/BKN.png&amp;h=80&amp;w=80\"/></a></li>"
      ]
     },
     "execution_count": 74,
     "metadata": {},
     "output_type": "execute_result"
    }
   ],
   "source": [
    "row.find('li', class_=\"logo-nba-small\")"
   ]
  },
  {
   "cell_type": "code",
   "execution_count": 75,
   "metadata": {},
   "outputs": [
    {
     "data": {
      "text/plain": [
       "'Brooklyn'"
      ]
     },
     "execution_count": 75,
     "metadata": {},
     "output_type": "execute_result"
    }
   ],
   "source": [
    "t = row.find('li', class_=\"team-name\")\n",
    "t.text"
   ]
  },
  {
   "cell_type": "code",
   "execution_count": 76,
   "metadata": {},
   "outputs": [
    {
     "data": {
      "text/plain": [
       "'W'"
      ]
     },
     "execution_count": 76,
     "metadata": {},
     "output_type": "execute_result"
    }
   ],
   "source": [
    "t = row.find('li', class_=\"game-status win\")\n",
    "t.text"
   ]
  },
  {
   "cell_type": "code",
   "execution_count": 77,
   "metadata": {},
   "outputs": [
    {
     "data": {
      "text/plain": [
       "'W'"
      ]
     },
     "execution_count": 77,
     "metadata": {},
     "output_type": "execute_result"
    }
   ],
   "source": [
    "t = row.find('li', class_=\"win\")\n",
    "t.text"
   ]
  },
  {
   "cell_type": "code",
   "execution_count": 78,
   "metadata": {},
   "outputs": [
    {
     "data": {
      "text/plain": [
       "'122-117'"
      ]
     },
     "execution_count": 78,
     "metadata": {},
     "output_type": "execute_result"
    }
   ],
   "source": [
    "t = row.find('li', class_=\"score\")\n",
    "t.text"
   ]
  },
  {
   "cell_type": "code",
   "execution_count": 79,
   "metadata": {},
   "outputs": [
    {
     "name": "stdout",
     "output_type": "stream",
     "text": [
      "Wed, Oct 26\n",
      "vsBrooklyn\n",
      "W122-117\n",
      "1-0\n",
      "I. Thomas 25\n",
      "J. Hamilton 10\n",
      "I. Thomas 8\n"
     ]
    }
   ],
   "source": [
    "t = row.find_all('td')\n",
    "for i in t:\n",
    "    print(i.text)"
   ]
  },
  {
   "cell_type": "code",
   "execution_count": 80,
   "metadata": {},
   "outputs": [
    {
     "data": {
      "text/plain": [
       "'Wed, Oct 26'"
      ]
     },
     "execution_count": 80,
     "metadata": {},
     "output_type": "execute_result"
    }
   ],
   "source": [
    "t = row.find_all('td')\n",
    "t[0].text"
   ]
  },
  {
   "cell_type": "code",
   "execution_count": 81,
   "metadata": {},
   "outputs": [
    {
     "data": {
      "text/plain": [
       "'I. Thomas 25'"
      ]
     },
     "execution_count": 81,
     "metadata": {},
     "output_type": "execute_result"
    }
   ],
   "source": [
    "t = row.find_all('td')\n",
    "t[4].text"
   ]
  },
  {
   "cell_type": "code",
   "execution_count": 82,
   "metadata": {},
   "outputs": [
    {
     "data": {
      "text/plain": [
       "'J. Hamilton 10'"
      ]
     },
     "execution_count": 82,
     "metadata": {},
     "output_type": "execute_result"
    }
   ],
   "source": [
    "t = row.find_all('td')\n",
    "t[5].text"
   ]
  },
  {
   "cell_type": "code",
   "execution_count": 83,
   "metadata": {},
   "outputs": [
    {
     "data": {
      "text/plain": [
       "'I. Thomas 8'"
      ]
     },
     "execution_count": 83,
     "metadata": {},
     "output_type": "execute_result"
    }
   ],
   "source": [
    "t = row.find_all('td')\n",
    "t[6].text"
   ]
  },
  {
   "cell_type": "markdown",
   "metadata": {},
   "source": [
    "## Collect data"
   ]
  },
  {
   "cell_type": "markdown",
   "metadata": {},
   "source": [
    "### One game"
   ]
  },
  {
   "cell_type": "code",
   "execution_count": 84,
   "metadata": {},
   "outputs": [
    {
     "data": {
      "text/plain": [
       "<tr class=\"oddrow team-46-17\"><td>Wed, Oct 26</td><td><ul class=\"game-schedule\"><li class=\"game-status\">vs</li><li class=\"team-logo-small logo-nba-small\"><a href=\"http://www.espn.com/nba/team/_/name/bkn/brooklyn-nets\"><img src=\"http://a.espncdn.com/combiner/i?img=/i/teamlogos/nba/500/scoreboard/BKN.png&amp;h=80&amp;w=80\"/></a></li><li class=\"team-name\"><a href=\"http://www.espn.com/nba/team/_/name/bkn/brooklyn-nets\">Brooklyn</a></li></ul></td><td><ul class=\"game-schedule\"><li class=\"game-status win\"><span class=\"greenfont\">W</span></li><li class=\"score\"><a href=\"//www.espn.com/nba/recap/_/id/400899380\">122-117</a></li></ul></td><td>1-0</td><td colspan=\"1\"><a href=\"http://www.espn.com/nba/player/_/id/6472/isaiah-thomas\">I. Thomas</a> 25</td><td colspan=\"1\"><a href=\"http://www.espn.com/nba/player/_/id/6590/justin-hamilton\">J. Hamilton</a> 10</td><td colspan=\"1\"><a href=\"http://www.espn.com/nba/player/_/id/6472/isaiah-thomas\">I. Thomas</a> 8</td></tr>"
      ]
     },
     "execution_count": 84,
     "metadata": {},
     "output_type": "execute_result"
    }
   ],
   "source": [
    "row = table.find_all('tr')[2]\n",
    "row"
   ]
  },
  {
   "cell_type": "markdown",
   "metadata": {},
   "source": [
    "### Data architecture"
   ]
  },
  {
   "cell_type": "code",
   "execution_count": 85,
   "metadata": {},
   "outputs": [],
   "source": [
    "date = []\n",
    "opponent = []\n",
    "outcome = []\n",
    "score = []\n",
    "points = []\n",
    "rebounds = []\n",
    "assists = []"
   ]
  },
  {
   "cell_type": "code",
   "execution_count": 86,
   "metadata": {},
   "outputs": [],
   "source": [
    "td = row.find_all('td')\n",
    "date.append(td[0].text)\n",
    "points.append(td[4].text)\n",
    "rebounds.append(td[5].text)\n",
    "assists.append(td[6].text)\n",
    "\n",
    "_opponent = row.find('li', class_=\"team-name\")\n",
    "opponent.append(_opponent.text)\n",
    "\n",
    "_score = row.find('li', class_=\"score\")\n",
    "score.append(_score.text)\n"
   ]
  },
  {
   "cell_type": "markdown",
   "metadata": {},
   "source": [
    "### Define dictionary"
   ]
  },
  {
   "cell_type": "code",
   "execution_count": 87,
   "metadata": {},
   "outputs": [
    {
     "data": {
      "text/plain": [
       "{'assists': ['I. Thomas 8'],\n",
       " 'date': ['Wed, Oct 26'],\n",
       " 'opponent': ['Brooklyn'],\n",
       " 'points': ['I. Thomas 25'],\n",
       " 'rebounds': ['J. Hamilton 10'],\n",
       " 'score': ['122-117']}"
      ]
     },
     "execution_count": 87,
     "metadata": {},
     "output_type": "execute_result"
    }
   ],
   "source": [
    "dic_schedule = {'date': date, \n",
    "       'opponent': opponent,\n",
    "       'score': score,\n",
    "       'points': points,\n",
    "       'rebounds': rebounds,\n",
    "       'assists': assists}\n",
    "\n",
    "dic_schedule "
   ]
  },
  {
   "cell_type": "code",
   "execution_count": 88,
   "metadata": {},
   "outputs": [
    {
     "data": {
      "text/html": [
       "<div>\n",
       "<style>\n",
       "    .dataframe thead tr:only-child th {\n",
       "        text-align: right;\n",
       "    }\n",
       "\n",
       "    .dataframe thead th {\n",
       "        text-align: left;\n",
       "    }\n",
       "\n",
       "    .dataframe tbody tr th {\n",
       "        vertical-align: top;\n",
       "    }\n",
       "</style>\n",
       "<table border=\"1\" class=\"dataframe\">\n",
       "  <thead>\n",
       "    <tr style=\"text-align: right;\">\n",
       "      <th></th>\n",
       "      <th>date</th>\n",
       "      <th>opponent</th>\n",
       "      <th>score</th>\n",
       "      <th>points</th>\n",
       "      <th>rebounds</th>\n",
       "      <th>assists</th>\n",
       "    </tr>\n",
       "  </thead>\n",
       "  <tbody>\n",
       "    <tr>\n",
       "      <th>0</th>\n",
       "      <td>Wed, Oct 26</td>\n",
       "      <td>Brooklyn</td>\n",
       "      <td>122-117</td>\n",
       "      <td>I. Thomas 25</td>\n",
       "      <td>J. Hamilton 10</td>\n",
       "      <td>I. Thomas 8</td>\n",
       "    </tr>\n",
       "  </tbody>\n",
       "</table>\n",
       "</div>"
      ],
      "text/plain": [
       "          date  opponent    score        points        rebounds      assists\n",
       "0  Wed, Oct 26  Brooklyn  122-117  I. Thomas 25  J. Hamilton 10  I. Thomas 8"
      ]
     },
     "execution_count": 88,
     "metadata": {},
     "output_type": "execute_result"
    }
   ],
   "source": [
    "ds = pandas.DataFrame(dic_schedule)\n",
    "ds = ds[['date', 'opponent', 'score', 'points', 'rebounds', 'assists']]\n",
    "ds.head()"
   ]
  },
  {
   "cell_type": "markdown",
   "metadata": {},
   "source": [
    "### Collect data: multiple games\n",
    "* Note: some rows contain column headers\n",
    "* Implement control flow: Try-except "
   ]
  },
  {
   "cell_type": "code",
   "execution_count": 89,
   "metadata": {},
   "outputs": [],
   "source": [
    "r = requests.get(URL)\n",
    "soup = BeautifulSoup(r.text, 'lxml')\n",
    "table = soup.table"
   ]
  },
  {
   "cell_type": "code",
   "execution_count": 90,
   "metadata": {},
   "outputs": [
    {
     "name": "stdout",
     "output_type": "stream",
     "text": [
      "<tr class=\"stathead\"><td colspan=\"9\">2017 Regular Season Schedule</td></tr>\n",
      "************\n",
      "<tr class=\"colhead\"><td>OCTOBER</td><td>OPPONENT</td><td>RESULT</td><td>W-L</td><td align=\"left\" title=\"Points Leader\">HI POINTS</td><td align=\"left\" title=\"Rebounds Leader\">HI REBOUNDS</td><td align=\"left\" title=\"Assists Leader\">HI ASSISTS</td></tr>\n",
      "************\n",
      "<tr class=\"oddrow team-46-17\"><td>Wed, Oct 26</td><td><ul class=\"game-schedule\"><li class=\"game-status\">vs</li><li class=\"team-logo-small logo-nba-small\"><a href=\"http://www.espn.com/nba/team/_/name/bkn/brooklyn-nets\"><img src=\"http://a.espncdn.com/combiner/i?img=/i/teamlogos/nba/500/scoreboard/BKN.png&amp;h=80&amp;w=80\"/></a></li><li class=\"team-name\"><a href=\"http://www.espn.com/nba/team/_/name/bkn/brooklyn-nets\">Brooklyn</a></li></ul></td><td><ul class=\"game-schedule\"><li class=\"game-status win\"><span class=\"greenfont\">W</span></li><li class=\"score\"><a href=\"//www.espn.com/nba/recap/_/id/400899380\">122-117</a></li></ul></td><td>1-0</td><td colspan=\"1\"><a href=\"http://www.espn.com/nba/player/_/id/6472/isaiah-thomas\">I. Thomas</a> 25</td><td colspan=\"1\"><a href=\"http://www.espn.com/nba/player/_/id/6590/justin-hamilton\">J. Hamilton</a> 10</td><td colspan=\"1\"><a href=\"http://www.espn.com/nba/player/_/id/6472/isaiah-thomas\">I. Thomas</a> 8</td></tr>\n",
      "************\n",
      "<tr class=\"evenrow team-46-4\"><td>Thu, Oct 27</td><td><ul class=\"game-schedule\"><li class=\"game-status\">@</li><li class=\"team-logo-small logo-nba-small\"><a href=\"http://www.espn.com/nba/team/_/name/chi/chicago-bulls\"><img src=\"http://a.espncdn.com/combiner/i?img=/i/teamlogos/nba/500/scoreboard/Chi.png&amp;h=80&amp;w=80\"/></a></li><li class=\"team-name\"><a href=\"http://www.espn.com/nba/team/_/name/chi/chicago-bulls\">Chicago</a></li></ul></td><td><ul class=\"game-schedule\"><li class=\"game-status loss\"><span class=\"redfont\">L</span></li><li class=\"score\"><a href=\"//www.espn.com/nba/recap/_/id/400899422\">105-99</a></li></ul></td><td>1-1</td><td colspan=\"1\"><a href=\"http://www.espn.com/nba/player/_/id/6472/isaiah-thomas\">I. Thomas</a> 25</td><td colspan=\"1\"><a href=\"http://www.espn.com/nba/player/_/id/3986/taj-gibson\">T. Gibson</a> 10</td><td colspan=\"1\"><a href=\"http://www.espn.com/nba/player/_/id/3026/rajon-rondo\">R. Rondo</a> 9</td></tr>\n",
      "************\n"
     ]
    }
   ],
   "source": [
    "rows = table.find_all('tr')[:4]\n",
    "for row in rows:\n",
    "    print(row)\n",
    "    print('************')"
   ]
  },
  {
   "cell_type": "code",
   "execution_count": 91,
   "metadata": {},
   "outputs": [],
   "source": [
    "date = []\n",
    "opponent = []\n",
    "score = []\n",
    "points = []\n",
    "rebounds = []\n",
    "assists = []\n",
    "r = requests.get(URL)\n",
    "soup = BeautifulSoup(r.text, 'lxml')\n",
    "table = soup.table\n",
    "\n",
    "rows = table.find_all('tr')[1:]\n",
    "for row in rows:\n",
    "    td = row.find_all('td')\n",
    "    date.append(td[0].text)\n",
    "    points.append(td[4].text)\n",
    "    rebounds.append(td[5].text)\n",
    "    assists.append(td[6].text)\n",
    "\n",
    "    try:\n",
    "        _opponent = row.find('li', class_=\"team-name\")\n",
    "        opponent.append(_opponent.text)\n",
    "    except:\n",
    "        opponent.append('Opponent')\n",
    "        \n",
    "    try:\n",
    "        _score = row.find('li', class_=\"score\")\n",
    "        score.append(_score.text)\n",
    "    except:\n",
    "        score.append('Score')\n",
    "\n",
    "\n",
    "dic_schedule = {'date': date, \n",
    "       'opponent': opponent,\n",
    "       'score': score,\n",
    "       'points': points,\n",
    "       'rebounds': rebounds,\n",
    "       'assists': assists}\n"
   ]
  },
  {
   "cell_type": "code",
   "execution_count": 92,
   "metadata": {},
   "outputs": [
    {
     "name": "stdout",
     "output_type": "stream",
     "text": [
      "82\n"
     ]
    },
    {
     "data": {
      "text/html": [
       "<div>\n",
       "<style>\n",
       "    .dataframe thead tr:only-child th {\n",
       "        text-align: right;\n",
       "    }\n",
       "\n",
       "    .dataframe thead th {\n",
       "        text-align: left;\n",
       "    }\n",
       "\n",
       "    .dataframe tbody tr th {\n",
       "        vertical-align: top;\n",
       "    }\n",
       "</style>\n",
       "<table border=\"1\" class=\"dataframe\">\n",
       "  <thead>\n",
       "    <tr style=\"text-align: right;\">\n",
       "      <th></th>\n",
       "      <th>season</th>\n",
       "      <th>date</th>\n",
       "      <th>opponent</th>\n",
       "      <th>score</th>\n",
       "      <th>points</th>\n",
       "      <th>rebounds</th>\n",
       "      <th>assists</th>\n",
       "    </tr>\n",
       "  </thead>\n",
       "  <tbody>\n",
       "    <tr>\n",
       "      <th>1</th>\n",
       "      <td>2017</td>\n",
       "      <td>Wed, Oct 26</td>\n",
       "      <td>Brooklyn</td>\n",
       "      <td>122-117</td>\n",
       "      <td>I. Thomas 25</td>\n",
       "      <td>J. Hamilton 10</td>\n",
       "      <td>I. Thomas 8</td>\n",
       "    </tr>\n",
       "    <tr>\n",
       "      <th>2</th>\n",
       "      <td>2017</td>\n",
       "      <td>Thu, Oct 27</td>\n",
       "      <td>Chicago</td>\n",
       "      <td>105-99</td>\n",
       "      <td>I. Thomas 25</td>\n",
       "      <td>T. Gibson 10</td>\n",
       "      <td>R. Rondo 9</td>\n",
       "    </tr>\n",
       "    <tr>\n",
       "      <th>3</th>\n",
       "      <td>2017</td>\n",
       "      <td>Sat, Oct 29</td>\n",
       "      <td>Charlotte</td>\n",
       "      <td>104-98</td>\n",
       "      <td>A. Bradley 31</td>\n",
       "      <td>A. Bradley 11</td>\n",
       "      <td>I. Thomas 7</td>\n",
       "    </tr>\n",
       "    <tr>\n",
       "      <th>5</th>\n",
       "      <td>2017</td>\n",
       "      <td>Wed, Nov 2</td>\n",
       "      <td>Chicago</td>\n",
       "      <td>107-100</td>\n",
       "      <td>A. Johnson 23</td>\n",
       "      <td>R. Rondo 9</td>\n",
       "      <td>I. Thomas 10</td>\n",
       "    </tr>\n",
       "    <tr>\n",
       "      <th>6</th>\n",
       "      <td>2017</td>\n",
       "      <td>Thu, Nov 3</td>\n",
       "      <td>Cleveland</td>\n",
       "      <td>128-122</td>\n",
       "      <td>L. James 30</td>\n",
       "      <td>T. Thompson 14</td>\n",
       "      <td>L. James 12</td>\n",
       "    </tr>\n",
       "  </tbody>\n",
       "</table>\n",
       "</div>"
      ],
      "text/plain": [
       "  season         date   opponent    score         points        rebounds  \\\n",
       "1   2017  Wed, Oct 26   Brooklyn  122-117   I. Thomas 25  J. Hamilton 10   \n",
       "2   2017  Thu, Oct 27    Chicago   105-99   I. Thomas 25    T. Gibson 10   \n",
       "3   2017  Sat, Oct 29  Charlotte   104-98  A. Bradley 31   A. Bradley 11   \n",
       "5   2017   Wed, Nov 2    Chicago  107-100  A. Johnson 23      R. Rondo 9   \n",
       "6   2017   Thu, Nov 3  Cleveland  128-122    L. James 30  T. Thompson 14   \n",
       "\n",
       "        assists  \n",
       "1   I. Thomas 8  \n",
       "2    R. Rondo 9  \n",
       "3   I. Thomas 7  \n",
       "5  I. Thomas 10  \n",
       "6   L. James 12  "
      ]
     },
     "execution_count": 92,
     "metadata": {},
     "output_type": "execute_result"
    }
   ],
   "source": [
    "ds = pandas.DataFrame(dic_schedule)\n",
    "ds['season'] = YEAR\n",
    "ds = ds[['season', 'date', 'opponent', 'score', 'points', 'rebounds', 'assists']]\n",
    "ds = ds[ds.opponent!='Opponent'] # drop column header observations\n",
    "print(len(ds))\n",
    "ds.head()"
   ]
  },
  {
   "cell_type": "markdown",
   "metadata": {},
   "source": [
    "### Collect data: multiple years\n",
    "* Added control-flow: if-else-pass to account for column headers"
   ]
  },
  {
   "cell_type": "code",
   "execution_count": 144,
   "metadata": {},
   "outputs": [
    {
     "name": "stdout",
     "output_type": "stream",
     "text": [
      "season:  2002\n",
      "season:  2003\n",
      "season:  2004\n",
      "season:  2005\n",
      "season:  2006\n",
      "season:  2007\n",
      "season:  2008\n",
      "season:  2009\n",
      "season:  2010\n",
      "season:  2011\n",
      "season:  2012\n",
      "season:  2013\n",
      "season:  2014\n",
      "season:  2015\n",
      "season:  2016\n",
      "season:  2017\n"
     ]
    }
   ],
   "source": [
    "BASE = 'http://www.espn.com/nba/team/schedule/_/name/'\n",
    "TEAM = 'bos'\n",
    "\n",
    "season = []\n",
    "date = []\n",
    "opponent = []\n",
    "score = []\n",
    "points = []\n",
    "rebounds = []\n",
    "assists = []\n",
    "\n",
    "# _year = [2015, 2016, 2017]\n",
    "_year = range(2002, 2018)\n",
    "for YEAR in _year:\n",
    "    \n",
    "    print('season: ', YEAR)\n",
    "    BASE_URL = BASE + TEAM + '/year/' + str(YEAR)\n",
    "    URL = BASE_URL\n",
    "\n",
    "    r = requests.get(URL)\n",
    "    soup = BeautifulSoup(r.text, 'lxml')\n",
    "    table = soup.table\n",
    "    rows = table.find_all('tr')\n",
    "    \n",
    "    for row in rows[1:]:\n",
    "        \n",
    "        if len(row)==7:\n",
    "            season.append(YEAR)\n",
    "\n",
    "            td = row.find_all('td')\n",
    "            date.append(td[0].text)\n",
    "            points.append(td[4].text)\n",
    "            rebounds.append(td[5].text)\n",
    "            assists.append(td[6].text)\n",
    "\n",
    "            try:\n",
    "                _opponent = row.find('li', class_=\"team-name\")\n",
    "                opponent.append(_opponent.text)\n",
    "            except:\n",
    "                opponent.append('Opponent')\n",
    "\n",
    "            try:\n",
    "                _score = row.find('li', class_=\"score\")\n",
    "                score.append(_score.text)\n",
    "            except:\n",
    "                score.append('Score')\n",
    "    \n",
    "        else:\n",
    "            pass\n",
    "        \n",
    "dic_schedule = {'season': season, \n",
    "                'date': date, \n",
    "                'opponent': opponent, \n",
    "                'score': score, \n",
    "                'points': points, \n",
    "                'rebounds': rebounds, \n",
    "                'assists': assists}\n",
    "\n"
   ]
  },
  {
   "cell_type": "code",
   "execution_count": 141,
   "metadata": {},
   "outputs": [
    {
     "name": "stdout",
     "output_type": "stream",
     "text": [
      "475\n"
     ]
    },
    {
     "data": {
      "text/html": [
       "<div>\n",
       "<style>\n",
       "    .dataframe thead tr:only-child th {\n",
       "        text-align: right;\n",
       "    }\n",
       "\n",
       "    .dataframe thead th {\n",
       "        text-align: left;\n",
       "    }\n",
       "\n",
       "    .dataframe tbody tr th {\n",
       "        vertical-align: top;\n",
       "    }\n",
       "</style>\n",
       "<table border=\"1\" class=\"dataframe\">\n",
       "  <thead>\n",
       "    <tr style=\"text-align: right;\">\n",
       "      <th></th>\n",
       "      <th>season</th>\n",
       "      <th>date</th>\n",
       "      <th>opponent</th>\n",
       "      <th>score</th>\n",
       "      <th>points</th>\n",
       "      <th>rebounds</th>\n",
       "      <th>assists</th>\n",
       "    </tr>\n",
       "  </thead>\n",
       "  <tbody>\n",
       "    <tr>\n",
       "      <th>1</th>\n",
       "      <td>2012</td>\n",
       "      <td>Sun, Dec 25</td>\n",
       "      <td>NY Knicks</td>\n",
       "      <td>106-104</td>\n",
       "      <td>C. Anthony 37</td>\n",
       "      <td>B. Bass 11</td>\n",
       "      <td>R. Rondo 13</td>\n",
       "    </tr>\n",
       "    <tr>\n",
       "      <th>2</th>\n",
       "      <td>2012</td>\n",
       "      <td>Tue, Dec 27</td>\n",
       "      <td>Miami</td>\n",
       "      <td>115-107</td>\n",
       "      <td>R. Allen 28</td>\n",
       "      <td>U. Haslem 12</td>\n",
       "      <td>R. Rondo 12</td>\n",
       "    </tr>\n",
       "    <tr>\n",
       "      <th>72</th>\n",
       "      <td>2013</td>\n",
       "      <td>Tue, Oct 30</td>\n",
       "      <td>Miami</td>\n",
       "      <td>120-107</td>\n",
       "      <td>D. Wade 29</td>\n",
       "      <td>K. Garnett 12</td>\n",
       "      <td>R. Rondo 13</td>\n",
       "    </tr>\n",
       "    <tr>\n",
       "      <th>74</th>\n",
       "      <td>2013</td>\n",
       "      <td>Fri, Nov 2</td>\n",
       "      <td>Milwaukee</td>\n",
       "      <td>99-88</td>\n",
       "      <td>B. Jennings 21</td>\n",
       "      <td>E. Ilyasova 11</td>\n",
       "      <td>B. Jennings 13</td>\n",
       "    </tr>\n",
       "    <tr>\n",
       "      <th>161</th>\n",
       "      <td>2014</td>\n",
       "      <td>Wed, Oct 30</td>\n",
       "      <td>Toronto</td>\n",
       "      <td>93-87</td>\n",
       "      <td>J. Green 25</td>\n",
       "      <td>T. Hansbrough 12</td>\n",
       "      <td>K. Lowry 8</td>\n",
       "    </tr>\n",
       "    <tr>\n",
       "      <th>163</th>\n",
       "      <td>2014</td>\n",
       "      <td>Fri, Nov 1</td>\n",
       "      <td>Milwaukee</td>\n",
       "      <td>105-98</td>\n",
       "      <td>Z. Pachulia 20</td>\n",
       "      <td>V. Faverani 18</td>\n",
       "      <td>N. Wolters 6</td>\n",
       "    </tr>\n",
       "    <tr>\n",
       "      <th>250</th>\n",
       "      <td>2015</td>\n",
       "      <td>Wed, Oct 29</td>\n",
       "      <td>Brooklyn</td>\n",
       "      <td>121-105</td>\n",
       "      <td>M. Teletovic 20</td>\n",
       "      <td>R. Rondo 7</td>\n",
       "      <td>R. Rondo 12</td>\n",
       "    </tr>\n",
       "    <tr>\n",
       "      <th>252</th>\n",
       "      <td>2015</td>\n",
       "      <td>Sat, Nov 1</td>\n",
       "      <td>Houston</td>\n",
       "      <td>104-90</td>\n",
       "      <td>J. Harden 26</td>\n",
       "      <td>R. Rondo 10</td>\n",
       "      <td>R. Rondo 8</td>\n",
       "    </tr>\n",
       "    <tr>\n",
       "      <th>339</th>\n",
       "      <td>2016</td>\n",
       "      <td>Wed, Oct 28</td>\n",
       "      <td>Philadelphia</td>\n",
       "      <td>112-95</td>\n",
       "      <td>I. Thomas 27</td>\n",
       "      <td>N. Noel 13</td>\n",
       "      <td>I. Thomas 7</td>\n",
       "    </tr>\n",
       "    <tr>\n",
       "      <th>340</th>\n",
       "      <td>2016</td>\n",
       "      <td>Fri, Oct 30</td>\n",
       "      <td>Toronto</td>\n",
       "      <td>113-103</td>\n",
       "      <td>I. Thomas 25</td>\n",
       "      <td>J. Valanciunas 10</td>\n",
       "      <td>K. Lowry 9</td>\n",
       "    </tr>\n",
       "    <tr>\n",
       "      <th>429</th>\n",
       "      <td>2017</td>\n",
       "      <td>Wed, Oct 26</td>\n",
       "      <td>Brooklyn</td>\n",
       "      <td>122-117</td>\n",
       "      <td>I. Thomas 25</td>\n",
       "      <td>J. Hamilton 10</td>\n",
       "      <td>I. Thomas 8</td>\n",
       "    </tr>\n",
       "    <tr>\n",
       "      <th>430</th>\n",
       "      <td>2017</td>\n",
       "      <td>Thu, Oct 27</td>\n",
       "      <td>Chicago</td>\n",
       "      <td>105-99</td>\n",
       "      <td>I. Thomas 25</td>\n",
       "      <td>T. Gibson 10</td>\n",
       "      <td>R. Rondo 9</td>\n",
       "    </tr>\n",
       "  </tbody>\n",
       "</table>\n",
       "</div>"
      ],
      "text/plain": [
       "     season         date      opponent    score           points  \\\n",
       "1      2012  Sun, Dec 25     NY Knicks  106-104    C. Anthony 37   \n",
       "2      2012  Tue, Dec 27         Miami  115-107      R. Allen 28   \n",
       "72     2013  Tue, Oct 30         Miami  120-107       D. Wade 29   \n",
       "74     2013   Fri, Nov 2     Milwaukee    99-88   B. Jennings 21   \n",
       "161    2014  Wed, Oct 30       Toronto    93-87      J. Green 25   \n",
       "163    2014   Fri, Nov 1     Milwaukee   105-98   Z. Pachulia 20   \n",
       "250    2015  Wed, Oct 29      Brooklyn  121-105  M. Teletovic 20   \n",
       "252    2015   Sat, Nov 1       Houston   104-90     J. Harden 26   \n",
       "339    2016  Wed, Oct 28  Philadelphia   112-95     I. Thomas 27   \n",
       "340    2016  Fri, Oct 30       Toronto  113-103     I. Thomas 25   \n",
       "429    2017  Wed, Oct 26      Brooklyn  122-117     I. Thomas 25   \n",
       "430    2017  Thu, Oct 27       Chicago   105-99     I. Thomas 25   \n",
       "\n",
       "              rebounds         assists  \n",
       "1           B. Bass 11     R. Rondo 13  \n",
       "2         U. Haslem 12     R. Rondo 12  \n",
       "72       K. Garnett 12     R. Rondo 13  \n",
       "74      E. Ilyasova 11  B. Jennings 13  \n",
       "161   T. Hansbrough 12      K. Lowry 8  \n",
       "163     V. Faverani 18    N. Wolters 6  \n",
       "250         R. Rondo 7     R. Rondo 12  \n",
       "252        R. Rondo 10      R. Rondo 8  \n",
       "339         N. Noel 13     I. Thomas 7  \n",
       "340  J. Valanciunas 10      K. Lowry 9  \n",
       "429     J. Hamilton 10     I. Thomas 8  \n",
       "430       T. Gibson 10      R. Rondo 9  "
      ]
     },
     "execution_count": 141,
     "metadata": {},
     "output_type": "execute_result"
    }
   ],
   "source": [
    "ds = pandas.DataFrame(dic_schedule)\n",
    "ds = ds[['season', 'date', 'opponent', 'score', 'points', 'rebounds', 'assists']]\n",
    "ds = ds[ds.opponent!='Opponent'] # drop column header observations\n",
    "print(len(ds))\n",
    "ds.groupby('season').head(2)"
   ]
  },
  {
   "cell_type": "code",
   "execution_count": null,
   "metadata": {},
   "outputs": [],
   "source": []
  },
  {
   "cell_type": "code",
   "execution_count": null,
   "metadata": {},
   "outputs": [],
   "source": []
  }
 ],
 "metadata": {
  "kernelspec": {
   "display_name": "Python 3",
   "language": "python",
   "name": "python3"
  },
  "language_info": {
   "codemirror_mode": {
    "name": "ipython",
    "version": 3
   },
   "file_extension": ".py",
   "mimetype": "text/x-python",
   "name": "python",
   "nbconvert_exporter": "python",
   "pygments_lexer": "ipython3",
   "version": "3.6.3"
  }
 },
 "nbformat": 4,
 "nbformat_minor": 2
}
