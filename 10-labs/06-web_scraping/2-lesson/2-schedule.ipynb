{
 "cells": [
  {
   "cell_type": "markdown",
   "metadata": {},
   "source": [
    "# Collect NBA schedule data\n",
    "1. Collect team information\n",
    "* Examine url schema\n",
    "* Set url\n",
    "* Configure data architecture\n",
    "* Set global variables\n",
    "* Loop through teams\n",
    "* Examine webpage design\n",
    "* Develop functions to collect data\n",
    "* Collect data\n",
    "* Store data in dictionary\n",
    "* Save data\n",
    "\n",
    "Note: Collect schedule information for one team: bos"
   ]
  },
  {
   "cell_type": "markdown",
   "metadata": {},
   "source": [
    "## Collect data\n",
    "### Teams"
   ]
  },
  {
   "cell_type": "code",
   "execution_count": 6,
   "metadata": {},
   "outputs": [],
   "source": [
    "%run 1-teams.ipynb"
   ]
  },
  {
   "cell_type": "markdown",
   "metadata": {},
   "source": [
    "### Schedules"
   ]
  },
  {
   "cell_type": "code",
   "execution_count": 7,
   "metadata": {},
   "outputs": [
    {
     "name": "stdout",
     "output_type": "stream",
     "text": [
      "season:  2002\n",
      "season:  2003\n",
      "season:  2004\n",
      "season:  2005\n",
      "season:  2006\n",
      "season:  2007\n",
      "season:  2008\n",
      "season:  2009\n",
      "season:  2010\n",
      "season:  2011\n",
      "season:  2012\n",
      "season:  2013\n",
      "season:  2014\n",
      "season:  2015\n",
      "season:  2016\n",
      "season:  2017\n"
     ]
    }
   ],
   "source": [
    "BASE = 'http://www.espn.com/nba/team/schedule/_/name/'\n",
    "TEAM = 'bos'\n",
    "\n",
    "season = []\n",
    "date = []\n",
    "opponent = []\n",
    "score = []\n",
    "points = []\n",
    "rebounds = []\n",
    "assists = []\n",
    "\n",
    "# _year = [2015, 2016, 2017]\n",
    "_year = range(2002, 2018)\n",
    "for YEAR in _year:\n",
    "    \n",
    "    print('season: ', YEAR)\n",
    "    BASE_URL = BASE + TEAM + '/year/' + str(YEAR)\n",
    "    URL = BASE_URL\n",
    "\n",
    "    r = requests.get(URL)\n",
    "    soup = BeautifulSoup(r.text, 'lxml')\n",
    "    table = soup.table\n",
    "    rows = table.find_all('tr')\n",
    "    \n",
    "    for row in rows[1:]:\n",
    "        \n",
    "        if len(row)==7:\n",
    "            season.append(YEAR)\n",
    "\n",
    "            td = row.find_all('td')\n",
    "            date.append(td[0].text)\n",
    "            points.append(td[4].text)\n",
    "            rebounds.append(td[5].text)\n",
    "            assists.append(td[6].text)\n",
    "\n",
    "            try:\n",
    "                _opponent = row.find('li', class_=\"team-name\")\n",
    "                opponent.append(_opponent.text)\n",
    "            except:\n",
    "                opponent.append('Opponent')\n",
    "\n",
    "            try:\n",
    "                _score = row.find('li', class_=\"score\")\n",
    "                score.append(_score.text)\n",
    "            except:\n",
    "                score.append('Score')\n",
    "    \n",
    "        else:\n",
    "            pass\n",
    "        \n",
    "dic_schedule = {'season': season, \n",
    "                'date': date, \n",
    "                'opponent': opponent, \n",
    "                'score': score, \n",
    "                'points': points, \n",
    "                'rebounds': rebounds, \n",
    "                'assists': assists}"
   ]
  },
  {
   "cell_type": "markdown",
   "metadata": {},
   "source": [
    "## Convert to dataframe"
   ]
  },
  {
   "cell_type": "code",
   "execution_count": 9,
   "metadata": {},
   "outputs": [
    {
     "name": "stdout",
     "output_type": "stream",
     "text": [
      "Number of game:  1284\n"
     ]
    },
    {
     "data": {
      "text/html": [
       "<div>\n",
       "<style>\n",
       "    .dataframe thead tr:only-child th {\n",
       "        text-align: right;\n",
       "    }\n",
       "\n",
       "    .dataframe thead th {\n",
       "        text-align: left;\n",
       "    }\n",
       "\n",
       "    .dataframe tbody tr th {\n",
       "        vertical-align: top;\n",
       "    }\n",
       "</style>\n",
       "<table border=\"1\" class=\"dataframe\">\n",
       "  <thead>\n",
       "    <tr style=\"text-align: right;\">\n",
       "      <th></th>\n",
       "      <th>season</th>\n",
       "      <th>date</th>\n",
       "      <th>opponent</th>\n",
       "      <th>score</th>\n",
       "      <th>points</th>\n",
       "      <th>rebounds</th>\n",
       "      <th>assists</th>\n",
       "    </tr>\n",
       "  </thead>\n",
       "  <tbody>\n",
       "    <tr>\n",
       "      <th>1</th>\n",
       "      <td>2002</td>\n",
       "      <td>Tue, Oct 17</td>\n",
       "      <td>Cleveland</td>\n",
       "      <td>102-99</td>\n",
       "      <td>L. James 29</td>\n",
       "      <td>L. James 16</td>\n",
       "      <td>K. Irving 10</td>\n",
       "    </tr>\n",
       "    <tr>\n",
       "      <th>2</th>\n",
       "      <td>2002</td>\n",
       "      <td>Wed, Oct 18</td>\n",
       "      <td>Milwaukee</td>\n",
       "      <td>108-100</td>\n",
       "      <td>G. Antetokounmpo 37</td>\n",
       "      <td>G. Antetokounmpo 13</td>\n",
       "      <td>K. Middleton 6</td>\n",
       "    </tr>\n",
       "    <tr>\n",
       "      <th>3</th>\n",
       "      <td>2002</td>\n",
       "      <td>Fri, Oct 20</td>\n",
       "      <td>Philadelphia</td>\n",
       "      <td>102-92</td>\n",
       "      <td>K. Irving 21</td>\n",
       "      <td>J. Embiid 14</td>\n",
       "      <td>B. Simmons 5</td>\n",
       "    </tr>\n",
       "    <tr>\n",
       "      <th>4</th>\n",
       "      <td>2002</td>\n",
       "      <td>Tue, Oct 24</td>\n",
       "      <td>NY Knicks</td>\n",
       "      <td>110-89</td>\n",
       "      <td>J. Brown 23</td>\n",
       "      <td>E. Kanter 19</td>\n",
       "      <td>R. Sessions 7</td>\n",
       "    </tr>\n",
       "    <tr>\n",
       "      <th>5</th>\n",
       "      <td>2002</td>\n",
       "      <td>Thu, Oct 26</td>\n",
       "      <td>Milwaukee</td>\n",
       "      <td>96-89</td>\n",
       "      <td>G. Antetokounmpo 28</td>\n",
       "      <td>G. Antetokounmpo 10</td>\n",
       "      <td>K. Irving 7</td>\n",
       "    </tr>\n",
       "  </tbody>\n",
       "</table>\n",
       "</div>"
      ],
      "text/plain": [
       "   season         date      opponent    score               points  \\\n",
       "1    2002  Tue, Oct 17     Cleveland   102-99          L. James 29   \n",
       "2    2002  Wed, Oct 18     Milwaukee  108-100  G. Antetokounmpo 37   \n",
       "3    2002  Fri, Oct 20  Philadelphia   102-92         K. Irving 21   \n",
       "4    2002  Tue, Oct 24     NY Knicks   110-89          J. Brown 23   \n",
       "5    2002  Thu, Oct 26     Milwaukee    96-89  G. Antetokounmpo 28   \n",
       "\n",
       "              rebounds         assists  \n",
       "1          L. James 16    K. Irving 10  \n",
       "2  G. Antetokounmpo 13  K. Middleton 6  \n",
       "3         J. Embiid 14    B. Simmons 5  \n",
       "4         E. Kanter 19   R. Sessions 7  \n",
       "5  G. Antetokounmpo 10     K. Irving 7  "
      ]
     },
     "execution_count": 9,
     "metadata": {},
     "output_type": "execute_result"
    }
   ],
   "source": [
    "ds = pandas.DataFrame(dic_schedule)\n",
    "ds = ds[['season', 'date', 'opponent', 'score', 'points', 'rebounds', 'assists']]\n",
    "ds = ds[ds.opponent!='Opponent'] # drop column header observations\n",
    "print('Number of game: ', len(ds))\n",
    "ds.head()"
   ]
  },
  {
   "cell_type": "code",
   "execution_count": null,
   "metadata": {},
   "outputs": [],
   "source": []
  }
 ],
 "metadata": {
  "kernelspec": {
   "display_name": "Python 3",
   "language": "python",
   "name": "python3"
  },
  "language_info": {
   "codemirror_mode": {
    "name": "ipython",
    "version": 3
   },
   "file_extension": ".py",
   "mimetype": "text/x-python",
   "name": "python",
   "nbconvert_exporter": "python",
   "pygments_lexer": "ipython3",
   "version": "3.6.3"
  }
 },
 "nbformat": 4,
 "nbformat_minor": 2
}
