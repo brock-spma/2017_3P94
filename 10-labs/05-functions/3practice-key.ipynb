{
 "cells": [
  {
   "cell_type": "markdown",
   "metadata": {},
   "source": [
    "# Functions: practice"
   ]
  },
  {
   "cell_type": "markdown",
   "metadata": {},
   "source": [
    "## Instructions\n",
    "* Develop functions to execute the following commands or calculate the following values\n",
    "* First, derive the require commands for a specific case\n",
    "* Then, create a function to generalize the commands\n",
    "* Use the both the dataframe and dictionary as input arguments "
   ]
  },
  {
   "cell_type": "markdown",
   "metadata": {},
   "source": [
    "### Practice question\n",
    "* Create a function that prints a team name and its winning percentage\n",
    "* Return the values to a dictionary\n",
    "* Write a for loop to execute the function for all teams"
   ]
  },
  {
   "cell_type": "code",
   "execution_count": 10,
   "metadata": {},
   "outputs": [],
   "source": [
    "import os\n",
    "import sys\n",
    "import pandas\n",
    "import numpy\n",
    "pandas.set_option('display.notebook_repr_html', True)\n",
    "pandas.set_option('display.max_columns', 30)\n",
    "pandas.set_option('display.max_rows', 25)"
   ]
  },
  {
   "cell_type": "markdown",
   "metadata": {},
   "source": [
    "## Source data: dataframe"
   ]
  },
  {
   "cell_type": "code",
   "execution_count": 11,
   "metadata": {},
   "outputs": [
    {
     "data": {
      "text/html": [
       "<div>\n",
       "<style>\n",
       "    .dataframe thead tr:only-child th {\n",
       "        text-align: right;\n",
       "    }\n",
       "\n",
       "    .dataframe thead th {\n",
       "        text-align: left;\n",
       "    }\n",
       "\n",
       "    .dataframe tbody tr th {\n",
       "        vertical-align: top;\n",
       "    }\n",
       "</style>\n",
       "<table border=\"1\" class=\"dataframe\">\n",
       "  <thead>\n",
       "    <tr style=\"text-align: right;\">\n",
       "      <th></th>\n",
       "      <th>Team</th>\n",
       "      <th>GamesPlayed</th>\n",
       "      <th>GoalsFor</th>\n",
       "      <th>GoalsAllowed</th>\n",
       "      <th>Wins</th>\n",
       "      <th>Losses</th>\n",
       "    </tr>\n",
       "  </thead>\n",
       "  <tbody>\n",
       "    <tr>\n",
       "      <th>0</th>\n",
       "      <td>ANA</td>\n",
       "      <td>82</td>\n",
       "      <td>235</td>\n",
       "      <td>233</td>\n",
       "      <td>47</td>\n",
       "      <td>35</td>\n",
       "    </tr>\n",
       "    <tr>\n",
       "      <th>1</th>\n",
       "      <td>ATL</td>\n",
       "      <td>82</td>\n",
       "      <td>218</td>\n",
       "      <td>262</td>\n",
       "      <td>34</td>\n",
       "      <td>48</td>\n",
       "    </tr>\n",
       "    <tr>\n",
       "      <th>2</th>\n",
       "      <td>BOS</td>\n",
       "      <td>82</td>\n",
       "      <td>244</td>\n",
       "      <td>189</td>\n",
       "      <td>46</td>\n",
       "      <td>36</td>\n",
       "    </tr>\n",
       "    <tr>\n",
       "      <th>3</th>\n",
       "      <td>BUF</td>\n",
       "      <td>82</td>\n",
       "      <td>240</td>\n",
       "      <td>228</td>\n",
       "      <td>43</td>\n",
       "      <td>39</td>\n",
       "    </tr>\n",
       "    <tr>\n",
       "      <th>4</th>\n",
       "      <td>CAR</td>\n",
       "      <td>82</td>\n",
       "      <td>231</td>\n",
       "      <td>234</td>\n",
       "      <td>40</td>\n",
       "      <td>42</td>\n",
       "    </tr>\n",
       "  </tbody>\n",
       "</table>\n",
       "</div>"
      ],
      "text/plain": [
       "  Team  GamesPlayed  GoalsFor  GoalsAllowed  Wins  Losses\n",
       "0  ANA           82       235           233    47      35\n",
       "1  ATL           82       218           262    34      48\n",
       "2  BOS           82       244           189    46      36\n",
       "3  BUF           82       240           228    43      39\n",
       "4  CAR           82       231           234    40      42"
      ]
     },
     "execution_count": 11,
     "metadata": {},
     "output_type": "execute_result"
    }
   ],
   "source": [
    "dm = pandas.read_csv('NHL_season_team_goals.csv')\n",
    "dm.head()"
   ]
  },
  {
   "cell_type": "markdown",
   "metadata": {},
   "source": [
    "## Source data: Dictionary"
   ]
  },
  {
   "cell_type": "code",
   "execution_count": 12,
   "metadata": {},
   "outputs": [
    {
     "name": "stdout",
     "output_type": "stream",
     "text": [
      "dict_keys(['ANA', 'ATL', 'BOS', 'BUF', 'CAR', 'CBJ', 'CGY', 'CHI', 'COL', 'DAL', 'DET', 'EDM', 'FLA', 'LA', 'MIN', 'MTL', 'NJ', 'NSH', 'NYI', 'NYR', 'OTT', 'PHI', 'PHX', 'PIT', 'SJ', 'STL', 'TB', 'TOR', 'VAN', 'WSH'])\n"
     ]
    },
    {
     "data": {
      "text/plain": [
       "{'GamesPlayed': 82,\n",
       " 'GoalsAllowed': 233,\n",
       " 'GoalsFor': 235,\n",
       " 'Losses': 35,\n",
       " 'Wins': 47}"
      ]
     },
     "execution_count": 12,
     "metadata": {},
     "output_type": "execute_result"
    }
   ],
   "source": [
    "dd = pandas.read_csv('NHL_season_team_goals.csv', index_col='Team')\n",
    "dd = dd.to_dict(orient='index')\n",
    "print(dd.keys())\n",
    "dd.get('ANA')"
   ]
  },
  {
   "cell_type": "code",
   "execution_count": 13,
   "metadata": {},
   "outputs": [],
   "source": [
    "# function prints and returns values\n",
    "def ga_game_return(_team, _ga, _gp):\n",
    "    team = _team\n",
    "    value = _ga / _gp\n",
    "    value = round(value, 2)\n",
    "    print('Team: ', team, 'Goals allowed: ', value)\n",
    "    return {team: {'GFGame': value}}"
   ]
  },
  {
   "cell_type": "code",
   "execution_count": 14,
   "metadata": {},
   "outputs": [
    {
     "name": "stdout",
     "output_type": "stream",
     "text": [
      "Team:  ANA Goals allowed:  2.84\n"
     ]
    }
   ],
   "source": [
    "# dataframe\n",
    "# convert dataframe objects to values\n",
    "dt = dm.copy()\n",
    "dt['name'] = dt.Team\n",
    "dt = dt.set_index('name')\n",
    "na = dt.get_value(index='ANA', col='Team')\n",
    "ga = dt.get_value(index='ANA', col='GoalsAllowed')\n",
    "gp = dt.get_value(index='ANA', col='GamesPlayed')\n",
    "\n",
    "# returned values are stored in object\n",
    "RF1 = ga_game_return(na, ga, gp)"
   ]
  },
  {
   "cell_type": "code",
   "execution_count": 15,
   "metadata": {},
   "outputs": [
    {
     "name": "stdout",
     "output_type": "stream",
     "text": [
      "Team:  ANA Goals allowed:  2.84\n"
     ]
    }
   ],
   "source": [
    "# dictionary\n",
    "# returned values are stored in object\n",
    "na = 'ANA'\n",
    "ga = dd[na]['GoalsAllowed']\n",
    "gp = dd[na]['GamesPlayed']\n",
    "\n",
    "# returned values are stored in object\n",
    "RD1 = ga_game_return(na, ga, gp)"
   ]
  },
  {
   "cell_type": "code",
   "execution_count": 16,
   "metadata": {},
   "outputs": [
    {
     "name": "stdout",
     "output_type": "stream",
     "text": [
      "Returned value from dataframe:  {'ANA': {'GFGame': 2.8399999999999999}}\n",
      "Returned value from dictionary:  {'ANA': {'GFGame': 2.8399999999999999}}\n"
     ]
    }
   ],
   "source": [
    "# display returned objects\n",
    "print('Returned value from dataframe: ', RF1)\n",
    "print('Returned value from dictionary: ', RD1)"
   ]
  },
  {
   "cell_type": "code",
   "execution_count": 17,
   "metadata": {},
   "outputs": [
    {
     "name": "stdout",
     "output_type": "stream",
     "text": [
      "Team:  ANA Goals allowed:  2.84\n",
      "Team:  ATL Goals allowed:  3.2\n",
      "Team:  BOS Goals allowed:  2.3\n",
      "Team:  BUF Goals allowed:  2.78\n",
      "Team:  CAR Goals allowed:  2.85\n",
      "Team:  CBJ Goals allowed:  3.05\n",
      "Team:  CGY Goals allowed:  2.8\n",
      "Team:  CHI Goals allowed:  2.68\n",
      "Team:  COL Goals allowed:  3.5\n",
      "Team:  DAL Goals allowed:  2.76\n",
      "Team:  DET Goals allowed:  2.89\n",
      "Team:  EDM Goals allowed:  3.17\n",
      "Team:  FLA Goals allowed:  2.71\n",
      "Team:  LA Goals allowed:  2.39\n",
      "Team:  MIN Goals allowed:  2.78\n",
      "Team:  MTL Goals allowed:  2.51\n",
      "Team:  NJ Goals allowed:  2.52\n",
      "Team:  NSH Goals allowed:  2.32\n",
      "Team:  NYI Goals allowed:  3.15\n",
      "Team:  NYR Goals allowed:  2.38\n",
      "Team:  OTT Goals allowed:  2.99\n",
      "Team:  PHI Goals allowed:  2.63\n",
      "Team:  PHX Goals allowed:  2.68\n",
      "Team:  PIT Goals allowed:  2.39\n",
      "Team:  SJ Goals allowed:  2.54\n",
      "Team:  STL Goals allowed:  2.78\n",
      "Team:  TB Goals allowed:  2.85\n",
      "Team:  TOR Goals allowed:  2.99\n",
      "Team:  VAN Goals allowed:  2.2\n",
      "Team:  WSH Goals allowed:  2.33\n"
     ]
    }
   ],
   "source": [
    "# For loop to execute function for all teams\n",
    "# from dataframe\n",
    "dt = dm.copy()\n",
    "dt['name'] = dt.Team\n",
    "dt = dt.set_index('name')\n",
    "\n",
    "teams = list(dm.Team)\n",
    "\n",
    "for team in teams:\n",
    "    \n",
    "    na = dt.get_value(index=team, col='Team')\n",
    "    ga = dt.get_value(index=team, col='GoalsAllowed')\n",
    "    gp = dt.get_value(index=team, col='GamesPlayed')\n",
    "\n",
    "    # returned values are stored in object\n",
    "    # however, values are continually written over by next iteration\n",
    "    RF2 = ga_game_return(na, ga, gp)"
   ]
  },
  {
   "cell_type": "code",
   "execution_count": 18,
   "metadata": {},
   "outputs": [
    {
     "name": "stdout",
     "output_type": "stream",
     "text": [
      "Team:  ANA Goals allowed:  2.84\n",
      "Team:  ATL Goals allowed:  3.2\n",
      "Team:  BOS Goals allowed:  2.3\n",
      "Team:  BUF Goals allowed:  2.78\n",
      "Team:  CAR Goals allowed:  2.85\n",
      "Team:  CBJ Goals allowed:  3.05\n",
      "Team:  CGY Goals allowed:  2.8\n",
      "Team:  CHI Goals allowed:  2.68\n",
      "Team:  COL Goals allowed:  3.5\n",
      "Team:  DAL Goals allowed:  2.76\n",
      "Team:  DET Goals allowed:  2.89\n",
      "Team:  EDM Goals allowed:  3.17\n",
      "Team:  FLA Goals allowed:  2.71\n",
      "Team:  LA Goals allowed:  2.39\n",
      "Team:  MIN Goals allowed:  2.78\n",
      "Team:  MTL Goals allowed:  2.51\n",
      "Team:  NJ Goals allowed:  2.52\n",
      "Team:  NSH Goals allowed:  2.32\n",
      "Team:  NYI Goals allowed:  3.15\n",
      "Team:  NYR Goals allowed:  2.38\n",
      "Team:  OTT Goals allowed:  2.99\n",
      "Team:  PHI Goals allowed:  2.63\n",
      "Team:  PHX Goals allowed:  2.68\n",
      "Team:  PIT Goals allowed:  2.39\n",
      "Team:  SJ Goals allowed:  2.54\n",
      "Team:  STL Goals allowed:  2.78\n",
      "Team:  TB Goals allowed:  2.85\n",
      "Team:  TOR Goals allowed:  2.99\n",
      "Team:  VAN Goals allowed:  2.2\n",
      "Team:  WSH Goals allowed:  2.33\n"
     ]
    }
   ],
   "source": [
    "# For loop to execute function for all teams\n",
    "# from dataframe\n",
    "dt = dm.copy()\n",
    "dt['name'] = dt.Team\n",
    "dt = dt.set_index('name')\n",
    "\n",
    "teams = list(dm.Team)\n",
    "\n",
    "for team in teams:\n",
    "\n",
    "    na = team\n",
    "    ga = dd[na]['GoalsAllowed']\n",
    "    gp = dd[na]['GamesPlayed']\n",
    "\n",
    "    # returned values are stored in object\n",
    "    # however, values are continually written over by next iteration\n",
    "    RD2 = ga_game_return(na, ga, gp)"
   ]
  },
  {
   "cell_type": "code",
   "execution_count": 19,
   "metadata": {},
   "outputs": [
    {
     "name": "stdout",
     "output_type": "stream",
     "text": [
      "Returned value from dataframe:  {'WSH': {'GFGame': 2.3300000000000001}}\n",
      "Returned value from dictionary:  {'WSH': {'GFGame': 2.3300000000000001}}\n"
     ]
    }
   ],
   "source": [
    "# display returned objects\n",
    "# however, values are continually written over by next iteration\n",
    "# The object only contains that last compute values\n",
    "print('Returned value from dataframe: ', RF2)\n",
    "print('Returned value from dictionary: ', RD2)"
   ]
  },
  {
   "cell_type": "code",
   "execution_count": null,
   "metadata": {},
   "outputs": [],
   "source": []
  }
 ],
 "metadata": {
  "kernelspec": {
   "display_name": "Python 3",
   "language": "python",
   "name": "python3"
  },
  "language_info": {
   "codemirror_mode": {
    "name": "ipython",
    "version": 3
   },
   "file_extension": ".py",
   "mimetype": "text/x-python",
   "name": "python",
   "nbconvert_exporter": "python",
   "pygments_lexer": "ipython3",
   "version": "3.6.3"
  }
 },
 "nbformat": 4,
 "nbformat_minor": 2
}
