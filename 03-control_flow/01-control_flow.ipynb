{
 "cells": [
  {
   "cell_type": "markdown",
   "metadata": {},
   "source": [
    "## Control Flow Statements\n",
    "\n",
    "* branching and conditionals\n",
    "* indentation\n",
    "* iteration and loops"
   ]
  },
  {
   "cell_type": "markdown",
   "metadata": {},
   "source": [
    "## The if Statement\n",
    "*  execute some statements only if some condition holds\n",
    "  * clauses: if, elif, else \n",
    "\n",
    "``\n",
    "if expression:\n",
    "    statement(s)\n",
    "elif expression:\n",
    "    statement(s)\n",
    "elif expression:\n",
    "    statement(s)\n",
    "...\n",
    "else:\n",
    "    statement(s)\n",
    "``"
   ]
  },
  {
   "cell_type": "markdown",
   "metadata": {},
   "source": [
    "## Examples"
   ]
  },
  {
   "cell_type": "code",
   "execution_count": 19,
   "metadata": {},
   "outputs": [],
   "source": [
    "x = 4\n",
    "if x < 0:\n",
    "    print(\"x is negative\")"
   ]
  },
  {
   "cell_type": "code",
   "execution_count": 20,
   "metadata": {},
   "outputs": [
    {
     "name": "stdout",
     "output_type": "stream",
     "text": [
      "x is positive and odd\n"
     ]
    }
   ],
   "source": [
    "x = 5\n",
    "if x < 0:\n",
    "    print(\"x is negative\")\n",
    "elif x % 2: \n",
    "    print(\"x is positive and odd\")"
   ]
  },
  {
   "cell_type": "code",
   "execution_count": 21,
   "metadata": {},
   "outputs": [
    {
     "name": "stdout",
     "output_type": "stream",
     "text": [
      "x is positive and odd\n"
     ]
    }
   ],
   "source": [
    "x = 5\n",
    "if x < 0:\n",
    "    print(\"x is negative\")\n",
    "elif x % 2: \n",
    "    print(\"x is positive and odd\")\n",
    "else:\n",
    "    print(\"x is even and non-negative\")"
   ]
  },
  {
   "cell_type": "code",
   "execution_count": 22,
   "metadata": {},
   "outputs": [
    {
     "name": "stdout",
     "output_type": "stream",
     "text": [
      "x is even and non-negative\n"
     ]
    }
   ],
   "source": [
    "x = 4\n",
    "if x < 0:\n",
    "    print(\"x is negative\")\n",
    "elif x % 2: \n",
    "    print(\"x is positive and odd\")\n",
    "else:\n",
    "    print(\"x is even and non-negative\")"
   ]
  },
  {
   "cell_type": "markdown",
   "metadata": {},
   "source": [
    "## The while Statement\n",
    "\n",
    "``\n",
    "while expression:\n",
    "    statement(s)\n",
    "``\n",
    "\n",
    "* expression, which is known as the loop condition, is evaluated\n",
    "* If the condition is false, the while statement ends. \n",
    "* If the loop condition is satisfied, the statement or statements that comprise the loop body are executed. \n",
    "* When the loop body finishes executing, the loop condition is evaluated again, to see if another iteration should be performed. \n",
    "* This process continues until the loop condition is false, at which point the while statement ends.\n",
    "* A while statement can also include an else clause and break and continue statements.\n",
    "\n"
   ]
  },
  {
   "cell_type": "code",
   "execution_count": 27,
   "metadata": {},
   "outputs": [
    {
     "name": "stdout",
     "output_type": "stream",
     "text": [
      "The count is: 0\n",
      "The count is: 1\n",
      "The count is: 2\n",
      "The count is: 3\n",
      "The count is: 4\n",
      "The count is: 5\n",
      "The count is: 6\n",
      "The count is: 7\n",
      "The count is: 8\n",
      "Good bye!\n"
     ]
    }
   ],
   "source": [
    "count = 0\n",
    "while (count < 9):\n",
    "   print('The count is:', count)\n",
    "   count = count + 1\n",
    "\n",
    "print(\"Good bye!\")"
   ]
  },
  {
   "cell_type": "markdown",
   "metadata": {},
   "source": [
    "## The for Statement\n",
    "``\n",
    "for target in iterable:\n",
    "    statement(s)\n",
    "``\n"
   ]
  },
  {
   "cell_type": "code",
   "execution_count": 29,
   "metadata": {},
   "outputs": [
    {
     "name": "stdout",
     "output_type": "stream",
     "text": [
      "give me a a ...\n",
      "give me a n ...\n",
      "give me a a ...\n",
      "give me a l ...\n",
      "give me a y ...\n",
      "give me a t ...\n",
      "give me a i ...\n",
      "give me a c ...\n",
      "give me a s ...\n"
     ]
    }
   ],
   "source": [
    "for letter in \"analytics\":\n",
    "    print(\"give me a\", letter, \"...\")"
   ]
  },
  {
   "cell_type": "code",
   "execution_count": 30,
   "metadata": {},
   "outputs": [
    {
     "name": "stdout",
     "output_type": "stream",
     "text": [
      "0\n",
      "1\n",
      "2\n",
      "3\n",
      "4\n"
     ]
    }
   ],
   "source": [
    "for i in range(0,5):\n",
    "    print(i)"
   ]
  },
  {
   "cell_type": "code",
   "execution_count": 35,
   "metadata": {},
   "outputs": [
    {
     "name": "stdout",
     "output_type": "stream",
     "text": [
      "x corresonds to  1\n",
      "y corresonds to  2\n",
      "z corresonds to  3\n"
     ]
    }
   ],
   "source": [
    "d = {'x': 1, 'y': 2, 'z': 3} \n",
    "for key, value in d.items( ):\n",
    "    print(key, 'corresonds to ', value)"
   ]
  },
  {
   "cell_type": "code",
   "execution_count": null,
   "metadata": {},
   "outputs": [],
   "source": []
  }
 ],
 "metadata": {
  "kernelspec": {
   "display_name": "Python 3",
   "language": "python",
   "name": "python3"
  },
  "language_info": {
   "codemirror_mode": {
    "name": "ipython",
    "version": 3
   },
   "file_extension": ".py",
   "mimetype": "text/x-python",
   "name": "python",
   "nbconvert_exporter": "python",
   "pygments_lexer": "ipython3",
   "version": "3.6.2"
  }
 },
 "nbformat": 4,
 "nbformat_minor": 2
}
