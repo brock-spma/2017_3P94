{
 "cells": [
  {
   "cell_type": "markdown",
   "metadata": {},
   "source": [
    "## Practice problem\n",
    "The code below loads a dictionary with 2010 NHL season-team information. Specifically, the number of games played, Goals scored for and allowed, and the number of wins and losses. Use for-loops statements to append the following values to the dictionary:\n",
    "* Winning percentage: WP\n",
    "* Goals for squared: GF2, $GF2 = GoalsFor^2$\n",
    "* Goals allowed squared: GA2,  $GA2 = GoalsAllowed^2$\n",
    "* Expected winning percentage: EWP, where $$EWP = \\frac{GoalsFor^2}{GoalsFor^2 + GoalsAllowed^2}$$\n",
    "* Sort the dictionary items in terms of expected winning percentage in descending order"
   ]
  },
  {
   "cell_type": "code",
   "execution_count": 1,
   "metadata": {},
   "outputs": [],
   "source": [
    "%reset -f \n",
    "import json\n",
    "with open('season_team_stats.json', 'r') as f:\n",
    "     teams_dict = json.load(f)\n"
   ]
  },
  {
   "cell_type": "code",
   "execution_count": 2,
   "metadata": {},
   "outputs": [],
   "source": [
    "# create a working dictionary with two teams"
   ]
  },
  {
   "cell_type": "code",
   "execution_count": 14,
   "metadata": {},
   "outputs": [
    {
     "data": {
      "text/plain": [
       "{'ANA': {'GamesPlayed': 82,\n",
       "  'GoalsAllowed': 233,\n",
       "  'GoalsFor': 235,\n",
       "  'Losses': 35,\n",
       "  'Wins': 47},\n",
       " 'BOS': {'GamesPlayed': 82,\n",
       "  'GoalsAllowed': 189,\n",
       "  'GoalsFor': 244,\n",
       "  'Losses': 36,\n",
       "  'Wins': 46}}"
      ]
     },
     "execution_count": 14,
     "metadata": {},
     "output_type": "execute_result"
    }
   ],
   "source": [
    "# copy teams dictioary\n",
    "work_dict = teams_dict.copy()\n",
    "# create empty dictionary\n",
    "two_dict = dict()\n",
    "\n",
    "# add ANA and BOS to empty dictionay\n",
    "two_dict['ANA'] = work_dict['ANA']\n",
    "two_dict['BOS'] = work_dict['BOS']\n",
    "two_dict\n"
   ]
  },
  {
   "cell_type": "markdown",
   "metadata": {},
   "source": [
    "## Loop procedures\n"
   ]
  },
  {
   "cell_type": "code",
   "execution_count": 15,
   "metadata": {},
   "outputs": [
    {
     "name": "stdout",
     "output_type": "stream",
     "text": [
      "ANA\n",
      "BOS\n"
     ]
    }
   ],
   "source": [
    "# print keys\n",
    "for team in two_dict.keys():\n",
    "    print(team)"
   ]
  },
  {
   "cell_type": "code",
   "execution_count": 16,
   "metadata": {},
   "outputs": [
    {
     "name": "stdout",
     "output_type": "stream",
     "text": [
      "{'GamesPlayed': 82, 'GoalsFor': 235, 'GoalsAllowed': 233, 'Wins': 47, 'Losses': 35}\n",
      "{'GamesPlayed': 82, 'GoalsFor': 244, 'GoalsAllowed': 189, 'Wins': 46, 'Losses': 36}\n"
     ]
    }
   ],
   "source": [
    "# print values\n",
    "for team in two_dict.values():\n",
    "    print(team)"
   ]
  },
  {
   "cell_type": "code",
   "execution_count": 17,
   "metadata": {},
   "outputs": [
    {
     "name": "stdout",
     "output_type": "stream",
     "text": [
      "('ANA', {'GamesPlayed': 82, 'GoalsFor': 235, 'GoalsAllowed': 233, 'Wins': 47, 'Losses': 35})\n",
      "('BOS', {'GamesPlayed': 82, 'GoalsFor': 244, 'GoalsAllowed': 189, 'Wins': 46, 'Losses': 36})\n"
     ]
    }
   ],
   "source": [
    "# print items: keys and values\n",
    "for team in two_dict.items():\n",
    "    print(team)"
   ]
  },
  {
   "cell_type": "code",
   "execution_count": 18,
   "metadata": {},
   "outputs": [
    {
     "name": "stdout",
     "output_type": "stream",
     "text": [
      "{'GamesPlayed': 82, 'GoalsFor': 235, 'GoalsAllowed': 233, 'Wins': 47, 'Losses': 35}\n",
      "{'GamesPlayed': 82, 'GoalsFor': 244, 'GoalsAllowed': 189, 'Wins': 46, 'Losses': 36}\n"
     ]
    }
   ],
   "source": [
    "# print items: keys and values\n",
    "for team in two_dict:\n",
    "     print(two_dict[team])"
   ]
  },
  {
   "cell_type": "code",
   "execution_count": 19,
   "metadata": {},
   "outputs": [
    {
     "name": "stdout",
     "output_type": "stream",
     "text": [
      "Line one\n",
      "ANA\n",
      "Line two\n",
      "{'GamesPlayed': 82, 'GoalsFor': 235, 'GoalsAllowed': 233, 'Wins': 47, 'Losses': 35}\n",
      "Line three\n",
      "ANA {'GamesPlayed': 82, 'GoalsFor': 235, 'GoalsAllowed': 233, 'Wins': 47, 'Losses': 35}\n",
      "Line one\n",
      "BOS\n",
      "Line two\n",
      "{'GamesPlayed': 82, 'GoalsFor': 244, 'GoalsAllowed': 189, 'Wins': 46, 'Losses': 36}\n",
      "Line three\n",
      "BOS {'GamesPlayed': 82, 'GoalsFor': 244, 'GoalsAllowed': 189, 'Wins': 46, 'Losses': 36}\n"
     ]
    }
   ],
   "source": [
    "for team in two_dict:\n",
    "    print('Line one')\n",
    "    print(team) \n",
    "    \n",
    "    print('Line two')\n",
    "    print(two_dict[team])\n",
    "    \n",
    "    print('Line three')\n",
    "    print(team, two_dict[team])"
   ]
  },
  {
   "cell_type": "code",
   "execution_count": null,
   "metadata": {},
   "outputs": [],
   "source": []
  },
  {
   "cell_type": "code",
   "execution_count": null,
   "metadata": {},
   "outputs": [],
   "source": []
  },
  {
   "cell_type": "code",
   "execution_count": null,
   "metadata": {},
   "outputs": [],
   "source": []
  },
  {
   "cell_type": "code",
   "execution_count": null,
   "metadata": {},
   "outputs": [],
   "source": []
  }
 ],
 "metadata": {
  "kernelspec": {
   "display_name": "Python 3",
   "language": "python",
   "name": "python3"
  },
  "language_info": {
   "codemirror_mode": {
    "name": "ipython",
    "version": 3
   },
   "file_extension": ".py",
   "mimetype": "text/x-python",
   "name": "python",
   "nbconvert_exporter": "python",
   "pygments_lexer": "ipython3",
   "version": "3.6.3"
  }
 },
 "nbformat": 4,
 "nbformat_minor": 2
}
