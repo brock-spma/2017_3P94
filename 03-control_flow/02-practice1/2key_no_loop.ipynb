{
 "cells": [
  {
   "cell_type": "code",
   "execution_count": 74,
   "metadata": {},
   "outputs": [],
   "source": [
    "%reset -f"
   ]
  },
  {
   "cell_type": "markdown",
   "metadata": {},
   "source": [
    "## Practice problem\n",
    "The code below loads a dictionary with 2010 NHL season-team information. Specifically, the number of games played, Goals scored for and allowed, and the number of wins and losses. Use for-loops statements to append the following values to the dictionary:\n",
    "* Winning percentage: WP\n",
    "* Goals for squared: GF2, $GF2 = GoalsFor^2$\n",
    "* Goals allowed squared: GA2,  $GA2 = GoalsAllowed^2$\n",
    "* Expected winning percentage: EWP, where $$EWP = \\frac{GoalsFor^2}{GoalsFor^2 + GoalsAllowed^2}$$\n",
    "* Sort the dictionary items in terms of expected winning percentage in descending order"
   ]
  },
  {
   "cell_type": "code",
   "execution_count": 75,
   "metadata": {},
   "outputs": [],
   "source": [
    "import json\n",
    "with open('season_team_stats.json', 'r') as f:\n",
    "     teams_dict = json.load(f)\n"
   ]
  },
  {
   "cell_type": "code",
   "execution_count": 76,
   "metadata": {},
   "outputs": [
    {
     "data": {
      "text/plain": [
       "{'GamesPlayed': 82,\n",
       " 'GoalsAllowed': 233,\n",
       " 'GoalsFor': 235,\n",
       " 'Losses': 35,\n",
       " 'Wins': 47}"
      ]
     },
     "execution_count": 76,
     "metadata": {},
     "output_type": "execute_result"
    }
   ],
   "source": [
    "# Teams_dict is a dictionary that contains season-team performance information\n",
    "# Dictionary that contains one team\n",
    "ANA_dict = teams_dict['ANA']\n",
    "ANA_dict"
   ]
  },
  {
   "cell_type": "code",
   "execution_count": 77,
   "metadata": {},
   "outputs": [
    {
     "name": "stdout",
     "output_type": "stream",
     "text": [
      "82 47\n"
     ]
    }
   ],
   "source": [
    "# Dictionary that contains ANA value data (GamesPlayed)\n",
    "ANA_gp = ANA_dict['GamesPlayed']\n",
    "ANA_wins = ANA_dict['Wins']\n",
    "print(ANA_gp, ANA_wins)"
   ]
  },
  {
   "cell_type": "code",
   "execution_count": 78,
   "metadata": {},
   "outputs": [
    {
     "data": {
      "text/plain": [
       "0.5732"
      ]
     },
     "execution_count": 78,
     "metadata": {},
     "output_type": "execute_result"
    }
   ],
   "source": [
    "# Calculate ANA winning percentage. Round to 4 decimal places\n",
    "ANA_wp = ANA_wins/ANA_gp\n",
    "ANA_wp = round(ANA_wp, 4)\n",
    "ANA_wp"
   ]
  },
  {
   "cell_type": "code",
   "execution_count": 79,
   "metadata": {},
   "outputs": [
    {
     "data": {
      "text/plain": [
       "0.5043"
      ]
     },
     "execution_count": 79,
     "metadata": {},
     "output_type": "execute_result"
    }
   ],
   "source": [
    "# ANA GF squared and GA squared\n",
    "ANA_GF2 = ANA_dict['GoalsFor']**2\n",
    "ANA_GA2 = ANA_dict['GoalsAllowed']**2\n",
    "ANA_EWP = ANA_GF2 / (ANA_GF2 + ANA_GA2)\n",
    "ANA_EWP = round(ANA_EWP, 4)\n",
    "ANA_EWP"
   ]
  },
  {
   "cell_type": "code",
   "execution_count": 80,
   "metadata": {},
   "outputs": [
    {
     "data": {
      "text/plain": [
       "{'EWP': 0.5043,\n",
       " 'GamesPlayed': 82,\n",
       " 'GoalsAllowed': 233,\n",
       " 'GoalsFor': 235,\n",
       " 'Losses': 35,\n",
       " 'Wins': 47}"
      ]
     },
     "execution_count": 80,
     "metadata": {},
     "output_type": "execute_result"
    }
   ],
   "source": [
    "# Include expected winning percentage into origonal dictionary\n",
    "ANA_dict['EWP'] = ANA_EWP\n",
    "ANA_dict"
   ]
  },
  {
   "cell_type": "code",
   "execution_count": null,
   "metadata": {},
   "outputs": [],
   "source": []
  },
  {
   "cell_type": "code",
   "execution_count": null,
   "metadata": {},
   "outputs": [],
   "source": []
  },
  {
   "cell_type": "code",
   "execution_count": null,
   "metadata": {},
   "outputs": [],
   "source": []
  }
 ],
 "metadata": {
  "kernelspec": {
   "display_name": "Python 3",
   "language": "python",
   "name": "python3"
  },
  "language_info": {
   "codemirror_mode": {
    "name": "ipython",
    "version": 3
   },
   "file_extension": ".py",
   "mimetype": "text/x-python",
   "name": "python",
   "nbconvert_exporter": "python",
   "pygments_lexer": "ipython3",
   "version": "3.6.3"
  }
 },
 "nbformat": 4,
 "nbformat_minor": 2
}
