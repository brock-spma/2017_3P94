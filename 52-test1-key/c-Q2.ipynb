{
 "cells": [
  {
   "cell_type": "markdown",
   "metadata": {},
   "source": [
    "## Question 2\n",
    "\n",
    "* Create a dictionary that contains the following NHL teams as keys: TOR, MTL, OTT\n",
    "* Display the dictionary keys\n",
    "* Add GF and GA to denote goals for and goals allowed as nested keys within teams\n",
    "* Obtain each team's 2016 regular season goals for and goals allowed from the Internet and update the GF and GA values across teams\n",
    "* Display the GF and GA dictionary values\n",
    "* Use the dictionary keys to display the number of MTL GF and GA\n",
    "* Use the dictionary update function to add the team VAN and the number of goals for and goals allowed\n",
    "* Write a for loop to update the dictionary with each team's computed goals differential (i.e., GD = GF - GA)\n",
    "* Display the entire dictionary keys (i.e., TOR, MTL, OTT, VAN) and values (i.e., GF, GA, GD)"
   ]
  },
  {
   "cell_type": "markdown",
   "metadata": {},
   "source": [
    "# Answers"
   ]
  },
  {
   "cell_type": "markdown",
   "metadata": {},
   "source": [
    "* Create a dictionary that contains the following NHL teams as keys: TOR, MTL, OTT\n",
    "* Display the dictionary keys"
   ]
  },
  {
   "cell_type": "code",
   "execution_count": 92,
   "metadata": {},
   "outputs": [
    {
     "data": {
      "text/plain": [
       "dict_keys(['TOR', 'MTL', 'OTT'])"
      ]
     },
     "execution_count": 92,
     "metadata": {},
     "output_type": "execute_result"
    }
   ],
   "source": [
    "d = {}\n",
    "d['TOR'] = {}\n",
    "d['MTL'] = {}\n",
    "d['OTT'] = {}\n",
    "d.keys()"
   ]
  },
  {
   "cell_type": "markdown",
   "metadata": {},
   "source": [
    "* Add GF and GA to denote goals for and goals allowed as nested keys within teams\n",
    "* Obtain each team's 2016 regular season goals for and goals allowed from the Internet and update the GF and GA values across teams\n",
    "* Display the GF and GA dictionary values"
   ]
  },
  {
   "cell_type": "code",
   "execution_count": 93,
   "metadata": {},
   "outputs": [
    {
     "data": {
      "text/plain": [
       "dict_values([{'GF': 251, 'GA': 242}, {'GF': 226, 'GA': 200}, {'GF': 212, 'GA': 214}])"
      ]
     },
     "execution_count": 93,
     "metadata": {},
     "output_type": "execute_result"
    }
   ],
   "source": [
    "d['TOR']['GF'] = 251\n",
    "d['MTL']['GF'] = 226\n",
    "d['OTT']['GF'] = 212\n",
    "\n",
    "d['TOR']['GA'] = 242\n",
    "d['MTL']['GA'] = 200\n",
    "d['OTT']['GA'] = 214\n",
    "\n",
    "d.values()"
   ]
  },
  {
   "cell_type": "markdown",
   "metadata": {},
   "source": [
    "Use the dictionary keys to display the number of MTL GF and GA"
   ]
  },
  {
   "cell_type": "code",
   "execution_count": 94,
   "metadata": {},
   "outputs": [
    {
     "data": {
      "text/plain": [
       "{'GA': 200, 'GF': 226}"
      ]
     },
     "execution_count": 94,
     "metadata": {},
     "output_type": "execute_result"
    }
   ],
   "source": [
    "d.get('MTL')"
   ]
  },
  {
   "cell_type": "markdown",
   "metadata": {},
   "source": [
    "Use the dictionary update function to add the team VAN and the number of goals for and goals allowed"
   ]
  },
  {
   "cell_type": "code",
   "execution_count": 95,
   "metadata": {},
   "outputs": [
    {
     "data": {
      "text/plain": [
       "{'VAN': {'GA': 243, 'GF': 182}}"
      ]
     },
     "execution_count": 95,
     "metadata": {},
     "output_type": "execute_result"
    }
   ],
   "source": [
    "# 1. create dictionary of Vancouver values\n",
    "v = {}\n",
    "v['VAN'] = {}\n",
    "v['VAN']['GF'] = 182\n",
    "v['VAN']['GA'] = 243\n",
    "v"
   ]
  },
  {
   "cell_type": "code",
   "execution_count": 96,
   "metadata": {},
   "outputs": [
    {
     "data": {
      "text/plain": [
       "{'MTL': {'GA': 200, 'GF': 226},\n",
       " 'OTT': {'GA': 214, 'GF': 212},\n",
       " 'TOR': {'GA': 242, 'GF': 251},\n",
       " 'VAN': {'GA': 243, 'GF': 182}}"
      ]
     },
     "execution_count": 96,
     "metadata": {},
     "output_type": "execute_result"
    }
   ],
   "source": [
    "# 2. update existing dictionary\n",
    "d.update(v)\n",
    "d"
   ]
  },
  {
   "cell_type": "markdown",
   "metadata": {},
   "source": [
    "Write a for loop to update the dictionary with each team's computed goals differential (i.e., GD = GF - GA)"
   ]
  },
  {
   "cell_type": "code",
   "execution_count": 99,
   "metadata": {},
   "outputs": [
    {
     "name": "stdout",
     "output_type": "stream",
     "text": [
      "TOR 9\n",
      "MTL 26\n",
      "OTT -2\n",
      "VAN -61\n"
     ]
    }
   ],
   "source": [
    "for k in d.keys():\n",
    "    d[k]['GD'] = d[k]['GF'] -  d[k]['GA']\n",
    "    print(k, d[k]['GD'])"
   ]
  },
  {
   "cell_type": "markdown",
   "metadata": {},
   "source": [
    "Display the entire dictionary keys (i.e., TOR, MTL, OTT, VAN) and values (i.e., GF, GA, GD)"
   ]
  },
  {
   "cell_type": "code",
   "execution_count": 100,
   "metadata": {},
   "outputs": [
    {
     "data": {
      "text/plain": [
       "{'MTL': {'GA': 200, 'GD': 26, 'GF': 226},\n",
       " 'OTT': {'GA': 214, 'GD': -2, 'GF': 212},\n",
       " 'TOR': {'GA': 242, 'GD': 9, 'GF': 251},\n",
       " 'VAN': {'GA': 243, 'GD': -61, 'GF': 182}}"
      ]
     },
     "execution_count": 100,
     "metadata": {},
     "output_type": "execute_result"
    }
   ],
   "source": [
    "d"
   ]
  }
 ],
 "metadata": {
  "kernelspec": {
   "display_name": "Python [default]",
   "language": "python",
   "name": "python3"
  },
  "language_info": {
   "codemirror_mode": {
    "name": "ipython",
    "version": 3
   },
   "file_extension": ".py",
   "mimetype": "text/x-python",
   "name": "python",
   "nbconvert_exporter": "python",
   "pygments_lexer": "ipython3",
   "version": "3.6.4"
  }
 },
 "nbformat": 4,
 "nbformat_minor": 2
}
